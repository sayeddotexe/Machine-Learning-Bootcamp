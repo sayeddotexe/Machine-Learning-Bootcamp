{
  "nbformat": 4,
  "nbformat_minor": 0,
  "metadata": {
    "colab": {
      "name": "01_NumPy_ Fundimentals.ipynb",
      "provenance": []
    },
    "kernelspec": {
      "name": "python3",
      "display_name": "Python 3"
    },
    "language_info": {
      "name": "python"
    }
  },
  "cells": [
    {
      "cell_type": "markdown",
      "source": [
        "#Why NumPy\n",
        "* Its faster than Python arrays\n",
        "* Behind the scenes optimisations written in C\n",
        "* Backbon of other Python scientific packages"
      ],
      "metadata": {
        "id": "QGL8W2qQRXa_"
      }
    },
    {
      "cell_type": "code",
      "source": [
        "import numpy as np\n"
      ],
      "metadata": {
        "id": "CuQHDhzPSI72"
      },
      "execution_count": 180,
      "outputs": []
    },
    {
      "cell_type": "markdown",
      "source": [
        "# DataTypes & Attributes\n",
        "* Numpy's main datatype is ndarray (n dimensional array)"
      ],
      "metadata": {
        "id": "jgKo4hXiSbA2"
      }
    },
    {
      "cell_type": "code",
      "source": [
        "a1 = np.array([1,2,3])\n",
        "type(a1)"
      ],
      "metadata": {
        "colab": {
          "base_uri": "https://localhost:8080/"
        },
        "id": "1sm4Iy8JShkW",
        "outputId": "5c07a87b-3bd1-4c0d-c215-37cd7b8e823f"
      },
      "execution_count": 181,
      "outputs": [
        {
          "output_type": "execute_result",
          "data": {
            "text/plain": [
              "numpy.ndarray"
            ]
          },
          "metadata": {},
          "execution_count": 181
        }
      ]
    },
    {
      "cell_type": "code",
      "source": [
        "a2 = np.array([[1,2,3.3],[4,5,6.5]])\n",
        "a3 = np.array ([[[1,2,3],\n",
        "                 [4,5,6]],\n",
        "                [[7,8,9],\n",
        "                 [10,11,12]],\n",
        "                [[13,14,15],\n",
        "                 [16,17,18]]])\n",
        "a2"
      ],
      "metadata": {
        "colab": {
          "base_uri": "https://localhost:8080/"
        },
        "id": "oHmK1ptUSpWu",
        "outputId": "6097c422-ddde-4191-d0db-be98b6527297"
      },
      "execution_count": 182,
      "outputs": [
        {
          "output_type": "execute_result",
          "data": {
            "text/plain": [
              "array([[1. , 2. , 3.3],\n",
              "       [4. , 5. , 6.5]])"
            ]
          },
          "metadata": {},
          "execution_count": 182
        }
      ]
    },
    {
      "cell_type": "code",
      "source": [
        "a3"
      ],
      "metadata": {
        "colab": {
          "base_uri": "https://localhost:8080/"
        },
        "id": "jtw47CN_Swy8",
        "outputId": "8a86cb72-ef2f-4d05-a7f3-8f68372dbbfe"
      },
      "execution_count": 183,
      "outputs": [
        {
          "output_type": "execute_result",
          "data": {
            "text/plain": [
              "array([[[ 1,  2,  3],\n",
              "        [ 4,  5,  6]],\n",
              "\n",
              "       [[ 7,  8,  9],\n",
              "        [10, 11, 12]],\n",
              "\n",
              "       [[13, 14, 15],\n",
              "        [16, 17, 18]]])"
            ]
          },
          "metadata": {},
          "execution_count": 183
        }
      ]
    },
    {
      "cell_type": "code",
      "source": [
        "a1.shape , a2.shape, a3.shape  # Shape of arrays\n"
      ],
      "metadata": {
        "colab": {
          "base_uri": "https://localhost:8080/"
        },
        "id": "QcPvoWHfTTL_",
        "outputId": "b5198c64-024f-4527-df5e-a897a5c30aa6"
      },
      "execution_count": 184,
      "outputs": [
        {
          "output_type": "execute_result",
          "data": {
            "text/plain": [
              "((3,), (2, 3), (3, 2, 3))"
            ]
          },
          "metadata": {},
          "execution_count": 184
        }
      ]
    },
    {
      "cell_type": "code",
      "source": [
        "a1.ndim , a2.ndim, a3.ndim  # Number of dimensions\n"
      ],
      "metadata": {
        "colab": {
          "base_uri": "https://localhost:8080/"
        },
        "id": "rirnZT52UTUw",
        "outputId": "a27b08ec-784c-4fc9-d275-590683696d9e"
      },
      "execution_count": 185,
      "outputs": [
        {
          "output_type": "execute_result",
          "data": {
            "text/plain": [
              "(1, 2, 3)"
            ]
          },
          "metadata": {},
          "execution_count": 185
        }
      ]
    },
    {
      "cell_type": "code",
      "source": [
        "a1.dtype , a2.dtype, a3.dtype  # Data type of elements\n",
        "\n"
      ],
      "metadata": {
        "colab": {
          "base_uri": "https://localhost:8080/"
        },
        "id": "i-huvtHCUaYE",
        "outputId": "7ae9e408-875e-470d-f076-eea91c7b8935"
      },
      "execution_count": 186,
      "outputs": [
        {
          "output_type": "execute_result",
          "data": {
            "text/plain": [
              "(dtype('int64'), dtype('float64'), dtype('int64'))"
            ]
          },
          "metadata": {},
          "execution_count": 186
        }
      ]
    },
    {
      "cell_type": "code",
      "source": [
        "a1.size , a2.size , a3.size  # Number of elements in the array\n"
      ],
      "metadata": {
        "colab": {
          "base_uri": "https://localhost:8080/"
        },
        "id": "xKPweyBWUigJ",
        "outputId": "39ed50da-4f4d-48cf-9bb4-bc89b9d242a9"
      },
      "execution_count": 187,
      "outputs": [
        {
          "output_type": "execute_result",
          "data": {
            "text/plain": [
              "(3, 6, 18)"
            ]
          },
          "metadata": {},
          "execution_count": 187
        }
      ]
    },
    {
      "cell_type": "code",
      "source": [
        "type(a1) , type(a2) , type(a3)   # Data Type of the array\n"
      ],
      "metadata": {
        "colab": {
          "base_uri": "https://localhost:8080/"
        },
        "id": "zEcKS6GZUo-D",
        "outputId": "845f1ebd-571e-4cdf-9c95-a75ca2784d7e"
      },
      "execution_count": 188,
      "outputs": [
        {
          "output_type": "execute_result",
          "data": {
            "text/plain": [
              "(numpy.ndarray, numpy.ndarray, numpy.ndarray)"
            ]
          },
          "metadata": {},
          "execution_count": 188
        }
      ]
    },
    {
      "cell_type": "markdown",
      "source": [
        "# Create a DataFrame from np array\n",
        "* We can create a dataframe from a NumPy Array"
      ],
      "metadata": {
        "id": "Mcny0-lLU663"
      }
    },
    {
      "cell_type": "code",
      "source": [
        "import pandas as pd\n",
        "df = pd.DataFrame(a2)\n",
        "df"
      ],
      "metadata": {
        "colab": {
          "base_uri": "https://localhost:8080/",
          "height": 112
        },
        "id": "4lEAT-3wUvnt",
        "outputId": "7d7d9c23-f004-44a9-ced4-8ac627ada6d1"
      },
      "execution_count": 189,
      "outputs": [
        {
          "output_type": "execute_result",
          "data": {
            "text/plain": [
              "     0    1    2\n",
              "0  1.0  2.0  3.3\n",
              "1  4.0  5.0  6.5"
            ],
            "text/html": [
              "\n",
              "  <div id=\"df-c29bdae6-88a7-406b-9668-0788eab4c297\">\n",
              "    <div class=\"colab-df-container\">\n",
              "      <div>\n",
              "<style scoped>\n",
              "    .dataframe tbody tr th:only-of-type {\n",
              "        vertical-align: middle;\n",
              "    }\n",
              "\n",
              "    .dataframe tbody tr th {\n",
              "        vertical-align: top;\n",
              "    }\n",
              "\n",
              "    .dataframe thead th {\n",
              "        text-align: right;\n",
              "    }\n",
              "</style>\n",
              "<table border=\"1\" class=\"dataframe\">\n",
              "  <thead>\n",
              "    <tr style=\"text-align: right;\">\n",
              "      <th></th>\n",
              "      <th>0</th>\n",
              "      <th>1</th>\n",
              "      <th>2</th>\n",
              "    </tr>\n",
              "  </thead>\n",
              "  <tbody>\n",
              "    <tr>\n",
              "      <th>0</th>\n",
              "      <td>1.0</td>\n",
              "      <td>2.0</td>\n",
              "      <td>3.3</td>\n",
              "    </tr>\n",
              "    <tr>\n",
              "      <th>1</th>\n",
              "      <td>4.0</td>\n",
              "      <td>5.0</td>\n",
              "      <td>6.5</td>\n",
              "    </tr>\n",
              "  </tbody>\n",
              "</table>\n",
              "</div>\n",
              "      <button class=\"colab-df-convert\" onclick=\"convertToInteractive('df-c29bdae6-88a7-406b-9668-0788eab4c297')\"\n",
              "              title=\"Convert this dataframe to an interactive table.\"\n",
              "              style=\"display:none;\">\n",
              "        \n",
              "  <svg xmlns=\"http://www.w3.org/2000/svg\" height=\"24px\"viewBox=\"0 0 24 24\"\n",
              "       width=\"24px\">\n",
              "    <path d=\"M0 0h24v24H0V0z\" fill=\"none\"/>\n",
              "    <path d=\"M18.56 5.44l.94 2.06.94-2.06 2.06-.94-2.06-.94-.94-2.06-.94 2.06-2.06.94zm-11 1L8.5 8.5l.94-2.06 2.06-.94-2.06-.94L8.5 2.5l-.94 2.06-2.06.94zm10 10l.94 2.06.94-2.06 2.06-.94-2.06-.94-.94-2.06-.94 2.06-2.06.94z\"/><path d=\"M17.41 7.96l-1.37-1.37c-.4-.4-.92-.59-1.43-.59-.52 0-1.04.2-1.43.59L10.3 9.45l-7.72 7.72c-.78.78-.78 2.05 0 2.83L4 21.41c.39.39.9.59 1.41.59.51 0 1.02-.2 1.41-.59l7.78-7.78 2.81-2.81c.8-.78.8-2.07 0-2.86zM5.41 20L4 18.59l7.72-7.72 1.47 1.35L5.41 20z\"/>\n",
              "  </svg>\n",
              "      </button>\n",
              "      \n",
              "  <style>\n",
              "    .colab-df-container {\n",
              "      display:flex;\n",
              "      flex-wrap:wrap;\n",
              "      gap: 12px;\n",
              "    }\n",
              "\n",
              "    .colab-df-convert {\n",
              "      background-color: #E8F0FE;\n",
              "      border: none;\n",
              "      border-radius: 50%;\n",
              "      cursor: pointer;\n",
              "      display: none;\n",
              "      fill: #1967D2;\n",
              "      height: 32px;\n",
              "      padding: 0 0 0 0;\n",
              "      width: 32px;\n",
              "    }\n",
              "\n",
              "    .colab-df-convert:hover {\n",
              "      background-color: #E2EBFA;\n",
              "      box-shadow: 0px 1px 2px rgba(60, 64, 67, 0.3), 0px 1px 3px 1px rgba(60, 64, 67, 0.15);\n",
              "      fill: #174EA6;\n",
              "    }\n",
              "\n",
              "    [theme=dark] .colab-df-convert {\n",
              "      background-color: #3B4455;\n",
              "      fill: #D2E3FC;\n",
              "    }\n",
              "\n",
              "    [theme=dark] .colab-df-convert:hover {\n",
              "      background-color: #434B5C;\n",
              "      box-shadow: 0px 1px 3px 1px rgba(0, 0, 0, 0.15);\n",
              "      filter: drop-shadow(0px 1px 2px rgba(0, 0, 0, 0.3));\n",
              "      fill: #FFFFFF;\n",
              "    }\n",
              "  </style>\n",
              "\n",
              "      <script>\n",
              "        const buttonEl =\n",
              "          document.querySelector('#df-c29bdae6-88a7-406b-9668-0788eab4c297 button.colab-df-convert');\n",
              "        buttonEl.style.display =\n",
              "          google.colab.kernel.accessAllowed ? 'block' : 'none';\n",
              "\n",
              "        async function convertToInteractive(key) {\n",
              "          const element = document.querySelector('#df-c29bdae6-88a7-406b-9668-0788eab4c297');\n",
              "          const dataTable =\n",
              "            await google.colab.kernel.invokeFunction('convertToInteractive',\n",
              "                                                     [key], {});\n",
              "          if (!dataTable) return;\n",
              "\n",
              "          const docLinkHtml = 'Like what you see? Visit the ' +\n",
              "            '<a target=\"_blank\" href=https://colab.research.google.com/notebooks/data_table.ipynb>data table notebook</a>'\n",
              "            + ' to learn more about interactive tables.';\n",
              "          element.innerHTML = '';\n",
              "          dataTable['output_type'] = 'display_data';\n",
              "          await google.colab.output.renderOutput(dataTable, element);\n",
              "          const docLink = document.createElement('div');\n",
              "          docLink.innerHTML = docLinkHtml;\n",
              "          element.appendChild(docLink);\n",
              "        }\n",
              "      </script>\n",
              "    </div>\n",
              "  </div>\n",
              "  "
            ]
          },
          "metadata": {},
          "execution_count": 189
        }
      ]
    },
    {
      "cell_type": "markdown",
      "source": [
        "# Create NumPy Arrays"
      ],
      "metadata": {
        "id": "DpKT0RZZU4TF"
      }
    },
    {
      "cell_type": "code",
      "source": [
        "sample_array = np.array([1,2,3])\n",
        "sample_array"
      ],
      "metadata": {
        "colab": {
          "base_uri": "https://localhost:8080/"
        },
        "id": "Nr9wnCf1VI3E",
        "outputId": "27915be2-5124-43a1-cfb6-b759eae41856"
      },
      "execution_count": 190,
      "outputs": [
        {
          "output_type": "execute_result",
          "data": {
            "text/plain": [
              "array([1, 2, 3])"
            ]
          },
          "metadata": {},
          "execution_count": 190
        }
      ]
    },
    {
      "cell_type": "markdown",
      "source": [
        "## Create NumPy array filled with values\n"
      ],
      "metadata": {
        "id": "zwDuH-_4VMxV"
      }
    },
    {
      "cell_type": "code",
      "source": [
        "ones = np.ones((2,3))  # Creates an numpy array shape 2,3 with ones\n",
        "ones"
      ],
      "metadata": {
        "colab": {
          "base_uri": "https://localhost:8080/"
        },
        "id": "EEbJDkIJVTKY",
        "outputId": "5e99c375-cc90-41b2-9588-aeb65bc4502b"
      },
      "execution_count": 191,
      "outputs": [
        {
          "output_type": "execute_result",
          "data": {
            "text/plain": [
              "array([[1., 1., 1.],\n",
              "       [1., 1., 1.]])"
            ]
          },
          "metadata": {},
          "execution_count": 191
        }
      ]
    },
    {
      "cell_type": "code",
      "source": [
        "ones.dtype # Float is default datatype of elements"
      ],
      "metadata": {
        "colab": {
          "base_uri": "https://localhost:8080/"
        },
        "id": "9apCNb1_VWJ2",
        "outputId": "1cd3454c-f200-453b-8972-e431ad2aa51a"
      },
      "execution_count": 192,
      "outputs": [
        {
          "output_type": "execute_result",
          "data": {
            "text/plain": [
              "dtype('float64')"
            ]
          },
          "metadata": {},
          "execution_count": 192
        }
      ]
    },
    {
      "cell_type": "code",
      "source": [
        "zeros = np.zeros((2,3)) # Creates an numpy array shape 2,3 with zeros\n",
        "zeros"
      ],
      "metadata": {
        "colab": {
          "base_uri": "https://localhost:8080/"
        },
        "id": "Dnb6BbIfVc-e",
        "outputId": "b04f42d5-b48d-4120-9be3-ad09ee6d41d8"
      },
      "execution_count": 193,
      "outputs": [
        {
          "output_type": "execute_result",
          "data": {
            "text/plain": [
              "array([[0., 0., 0.],\n",
              "       [0., 0., 0.]])"
            ]
          },
          "metadata": {},
          "execution_count": 193
        }
      ]
    },
    {
      "cell_type": "code",
      "source": [
        "range_array = np.arange(0,10,2) # Start , stop , step\n",
        "range_array "
      ],
      "metadata": {
        "colab": {
          "base_uri": "https://localhost:8080/"
        },
        "id": "VJK7FeFDVo75",
        "outputId": "7c908f66-b350-40b0-eb65-07746614c4aa"
      },
      "execution_count": 194,
      "outputs": [
        {
          "output_type": "execute_result",
          "data": {
            "text/plain": [
              "array([0, 2, 4, 6, 8])"
            ]
          },
          "metadata": {},
          "execution_count": 194
        }
      ]
    },
    {
      "cell_type": "code",
      "source": [
        "random_array = np.random.randint(0,10,size=(3,5)) # Low, high, size \n",
        "random_array"
      ],
      "metadata": {
        "colab": {
          "base_uri": "https://localhost:8080/"
        },
        "id": "js1qoYk0V9DS",
        "outputId": "28cd2b1e-8de1-4180-9e1d-3e3945fb10c6"
      },
      "execution_count": 195,
      "outputs": [
        {
          "output_type": "execute_result",
          "data": {
            "text/plain": [
              "array([[7, 8, 1, 5, 9],\n",
              "       [8, 9, 4, 3, 0],\n",
              "       [3, 5, 0, 2, 3]])"
            ]
          },
          "metadata": {},
          "execution_count": 195
        }
      ]
    },
    {
      "cell_type": "code",
      "source": [
        "random_array.size,random_array.shape"
      ],
      "metadata": {
        "colab": {
          "base_uri": "https://localhost:8080/"
        },
        "id": "GvyM18ThWCuG",
        "outputId": "d19d7f8f-ac5f-4b6e-82ce-aa16e438c847"
      },
      "execution_count": 196,
      "outputs": [
        {
          "output_type": "execute_result",
          "data": {
            "text/plain": [
              "(15, (3, 5))"
            ]
          },
          "metadata": {},
          "execution_count": 196
        }
      ]
    },
    {
      "cell_type": "code",
      "source": [
        "random_array_2 = np.random.random((5,3)) # random floats in the half open interval 0 to 1\n",
        "random_array_2"
      ],
      "metadata": {
        "colab": {
          "base_uri": "https://localhost:8080/"
        },
        "id": "-pOEY1hbWP7D",
        "outputId": "c6adf270-0609-488d-ef85-699e7584d289"
      },
      "execution_count": 197,
      "outputs": [
        {
          "output_type": "execute_result",
          "data": {
            "text/plain": [
              "array([[0.79915856, 0.46147936, 0.78052918],\n",
              "       [0.11827443, 0.63992102, 0.14335329],\n",
              "       [0.94466892, 0.52184832, 0.41466194],\n",
              "       [0.26455561, 0.77423369, 0.45615033],\n",
              "       [0.56843395, 0.0187898 , 0.6176355 ]])"
            ]
          },
          "metadata": {},
          "execution_count": 197
        }
      ]
    },
    {
      "cell_type": "code",
      "source": [
        "random_array_2.size,random_array_2.shape"
      ],
      "metadata": {
        "colab": {
          "base_uri": "https://localhost:8080/"
        },
        "id": "ziKBKzrhWWHJ",
        "outputId": "084a2f17-ade0-4cd1-b698-69f5e1aa06d4"
      },
      "execution_count": 198,
      "outputs": [
        {
          "output_type": "execute_result",
          "data": {
            "text/plain": [
              "(15, (5, 3))"
            ]
          },
          "metadata": {},
          "execution_count": 198
        }
      ]
    },
    {
      "cell_type": "code",
      "source": [
        "random_array_3 = np.random.rand(5,3) # return values in a given shape\n",
        "random_array_3"
      ],
      "metadata": {
        "colab": {
          "base_uri": "https://localhost:8080/"
        },
        "id": "Z9qr_ZUmWdyE",
        "outputId": "970b3515-2b9c-4727-d951-5601cf8b5171"
      },
      "execution_count": 199,
      "outputs": [
        {
          "output_type": "execute_result",
          "data": {
            "text/plain": [
              "array([[0.61209572, 0.616934  , 0.94374808],\n",
              "       [0.6818203 , 0.3595079 , 0.43703195],\n",
              "       [0.6976312 , 0.06022547, 0.66676672],\n",
              "       [0.67063787, 0.21038256, 0.1289263 ],\n",
              "       [0.31542835, 0.36371077, 0.57019677]])"
            ]
          },
          "metadata": {},
          "execution_count": 199
        }
      ]
    },
    {
      "cell_type": "markdown",
      "source": [
        "# Random seed\n",
        "* Values in numpy arent random\n",
        "* They are set py a random seed"
      ],
      "metadata": {
        "id": "DgvBiorwWjDP"
      }
    },
    {
      "cell_type": "code",
      "source": [
        "# Pseudo-random numbers\n",
        "np.random.seed(seed=99999) # Create random numbers but aligned with the seed\n",
        "random_array_4 = np.random.randint(10,size=(5,3))\n",
        "random_array_4\n"
      ],
      "metadata": {
        "colab": {
          "base_uri": "https://localhost:8080/"
        },
        "id": "Xao5QX0pWqd_",
        "outputId": "76844736-1c3a-4b09-caae-e95595a6986e"
      },
      "execution_count": 256,
      "outputs": [
        {
          "output_type": "execute_result",
          "data": {
            "text/plain": [
              "array([[0, 3, 1],\n",
              "       [8, 1, 3],\n",
              "       [8, 5, 6],\n",
              "       [0, 6, 0],\n",
              "       [4, 0, 9]])"
            ]
          },
          "metadata": {},
          "execution_count": 256
        }
      ]
    },
    {
      "cell_type": "code",
      "source": [
        "np.random.seed(seed=7)\n",
        "random_array_5 = np.random.random((5,3))\n",
        "random_array_5"
      ],
      "metadata": {
        "colab": {
          "base_uri": "https://localhost:8080/"
        },
        "id": "-hjoG5FrXR7T",
        "outputId": "d57ad884-04b9-438c-a2c8-ce061bf4725e"
      },
      "execution_count": 257,
      "outputs": [
        {
          "output_type": "execute_result",
          "data": {
            "text/plain": [
              "array([[0.07630829, 0.77991879, 0.43840923],\n",
              "       [0.72346518, 0.97798951, 0.53849587],\n",
              "       [0.50112046, 0.07205113, 0.26843898],\n",
              "       [0.4998825 , 0.67923   , 0.80373904],\n",
              "       [0.38094113, 0.06593635, 0.2881456 ]])"
            ]
          },
          "metadata": {},
          "execution_count": 257
        }
      ]
    },
    {
      "cell_type": "markdown",
      "source": [
        "# Viewing arrays and matrices"
      ],
      "metadata": {
        "id": "bcgsVcf9XnWw"
      }
    },
    {
      "cell_type": "code",
      "source": [
        "np.unique(random_array_4) # Find the unique values of an array"
      ],
      "metadata": {
        "colab": {
          "base_uri": "https://localhost:8080/"
        },
        "id": "2AXX_EhZ1cmw",
        "outputId": "da3104c3-fd8c-4f77-bd3d-551551f50333"
      },
      "execution_count": 202,
      "outputs": [
        {
          "output_type": "execute_result",
          "data": {
            "text/plain": [
              "array([0, 1, 3, 4, 5, 6, 8, 9])"
            ]
          },
          "metadata": {},
          "execution_count": 202
        }
      ]
    },
    {
      "cell_type": "code",
      "source": [
        "a1[0] # Find value at index 0\n"
      ],
      "metadata": {
        "colab": {
          "base_uri": "https://localhost:8080/"
        },
        "id": "UrQjnNut1hXr",
        "outputId": "413e9eff-61b0-4648-8902-3acabb9e0880"
      },
      "execution_count": 203,
      "outputs": [
        {
          "output_type": "execute_result",
          "data": {
            "text/plain": [
              "1"
            ]
          },
          "metadata": {},
          "execution_count": 203
        }
      ]
    },
    {
      "cell_type": "code",
      "source": [
        "a2[0] \n"
      ],
      "metadata": {
        "colab": {
          "base_uri": "https://localhost:8080/"
        },
        "id": "nrWUSZ4N1xeF",
        "outputId": "dd74d36c-7c5e-474c-ba18-dcfde5cfb4cf"
      },
      "execution_count": 204,
      "outputs": [
        {
          "output_type": "execute_result",
          "data": {
            "text/plain": [
              "array([1. , 2. , 3.3])"
            ]
          },
          "metadata": {},
          "execution_count": 204
        }
      ]
    },
    {
      "cell_type": "code",
      "source": [
        "a3"
      ],
      "metadata": {
        "colab": {
          "base_uri": "https://localhost:8080/"
        },
        "id": "XwvduQwt15sk",
        "outputId": "e9052828-2120-4c1c-f981-7bea78abaad2"
      },
      "execution_count": 205,
      "outputs": [
        {
          "output_type": "execute_result",
          "data": {
            "text/plain": [
              "array([[[ 1,  2,  3],\n",
              "        [ 4,  5,  6]],\n",
              "\n",
              "       [[ 7,  8,  9],\n",
              "        [10, 11, 12]],\n",
              "\n",
              "       [[13, 14, 15],\n",
              "        [16, 17, 18]]])"
            ]
          },
          "metadata": {},
          "execution_count": 205
        }
      ]
    },
    {
      "cell_type": "code",
      "source": [
        "a3[:2,:2,:2] # First 2 elements of each dimension"
      ],
      "metadata": {
        "colab": {
          "base_uri": "https://localhost:8080/"
        },
        "id": "zSBmYVH317ZX",
        "outputId": "181bc74c-a6d6-4653-8357-c2a53e81fac9"
      },
      "execution_count": 206,
      "outputs": [
        {
          "output_type": "execute_result",
          "data": {
            "text/plain": [
              "array([[[ 1,  2],\n",
              "        [ 4,  5]],\n",
              "\n",
              "       [[ 7,  8],\n",
              "        [10, 11]]])"
            ]
          },
          "metadata": {},
          "execution_count": 206
        }
      ]
    },
    {
      "cell_type": "code",
      "source": [
        "a4 = np.random.randint(10,size=(2,3,4,5))\n",
        "a4.shape,a4.ndim"
      ],
      "metadata": {
        "colab": {
          "base_uri": "https://localhost:8080/"
        },
        "id": "aLz5Zq-O2IOL",
        "outputId": "1c351b39-152a-499b-da1d-f588ccc374ee"
      },
      "execution_count": 207,
      "outputs": [
        {
          "output_type": "execute_result",
          "data": {
            "text/plain": [
              "((2, 3, 4, 5), 4)"
            ]
          },
          "metadata": {},
          "execution_count": 207
        }
      ]
    },
    {
      "cell_type": "code",
      "source": [
        "a4\n"
      ],
      "metadata": {
        "colab": {
          "base_uri": "https://localhost:8080/"
        },
        "id": "b1oUEgCa2fIN",
        "outputId": "4856d7f0-97dc-4dc6-c1eb-117437549a77"
      },
      "execution_count": 208,
      "outputs": [
        {
          "output_type": "execute_result",
          "data": {
            "text/plain": [
              "array([[[[3, 5, 8, 8, 7],\n",
              "         [5, 0, 0, 2, 8],\n",
              "         [9, 6, 4, 9, 7],\n",
              "         [3, 3, 8, 3, 0]],\n",
              "\n",
              "        [[1, 0, 0, 6, 7],\n",
              "         [7, 9, 3, 0, 7],\n",
              "         [7, 7, 0, 5, 4],\n",
              "         [3, 1, 3, 1, 3]],\n",
              "\n",
              "        [[4, 3, 1, 9, 5],\n",
              "         [9, 1, 2, 3, 2],\n",
              "         [2, 5, 7, 3, 0],\n",
              "         [9, 9, 3, 4, 5]]],\n",
              "\n",
              "\n",
              "       [[[3, 0, 4, 8, 6],\n",
              "         [7, 2, 7, 3, 8],\n",
              "         [6, 6, 5, 6, 5],\n",
              "         [7, 1, 5, 4, 4]],\n",
              "\n",
              "        [[9, 9, 0, 6, 2],\n",
              "         [6, 8, 2, 4, 1],\n",
              "         [6, 1, 5, 1, 6],\n",
              "         [9, 8, 6, 5, 9]],\n",
              "\n",
              "        [[7, 5, 4, 9, 6],\n",
              "         [8, 1, 5, 5, 8],\n",
              "         [3, 7, 7, 9, 4],\n",
              "         [7, 5, 9, 6, 2]]]])"
            ]
          },
          "metadata": {},
          "execution_count": 208
        }
      ]
    },
    {
      "cell_type": "code",
      "source": [
        "a4[1,1,0] # We want row \"array([5, 8, 5, 2, 0])\""
      ],
      "metadata": {
        "colab": {
          "base_uri": "https://localhost:8080/"
        },
        "id": "no0nCs8L2o2N",
        "outputId": "50000cae-d2dc-4504-a597-c9702f089bfb"
      },
      "execution_count": 209,
      "outputs": [
        {
          "output_type": "execute_result",
          "data": {
            "text/plain": [
              "array([9, 9, 0, 6, 2])"
            ]
          },
          "metadata": {},
          "execution_count": 209
        }
      ]
    },
    {
      "cell_type": "code",
      "source": [
        "a4[:,:,:,:4] # get first 4 numbers of inner array"
      ],
      "metadata": {
        "colab": {
          "base_uri": "https://localhost:8080/"
        },
        "id": "CaPyRjan2zGe",
        "outputId": "27e7f1c2-8e09-4097-c331-fdd0e56d9000"
      },
      "execution_count": 210,
      "outputs": [
        {
          "output_type": "execute_result",
          "data": {
            "text/plain": [
              "array([[[[3, 5, 8, 8],\n",
              "         [5, 0, 0, 2],\n",
              "         [9, 6, 4, 9],\n",
              "         [3, 3, 8, 3]],\n",
              "\n",
              "        [[1, 0, 0, 6],\n",
              "         [7, 9, 3, 0],\n",
              "         [7, 7, 0, 5],\n",
              "         [3, 1, 3, 1]],\n",
              "\n",
              "        [[4, 3, 1, 9],\n",
              "         [9, 1, 2, 3],\n",
              "         [2, 5, 7, 3],\n",
              "         [9, 9, 3, 4]]],\n",
              "\n",
              "\n",
              "       [[[3, 0, 4, 8],\n",
              "         [7, 2, 7, 3],\n",
              "         [6, 6, 5, 6],\n",
              "         [7, 1, 5, 4]],\n",
              "\n",
              "        [[9, 9, 0, 6],\n",
              "         [6, 8, 2, 4],\n",
              "         [6, 1, 5, 1],\n",
              "         [9, 8, 6, 5]],\n",
              "\n",
              "        [[7, 5, 4, 9],\n",
              "         [8, 1, 5, 5],\n",
              "         [3, 7, 7, 9],\n",
              "         [7, 5, 9, 6]]]])"
            ]
          },
          "metadata": {},
          "execution_count": 210
        }
      ]
    },
    {
      "cell_type": "markdown",
      "source": [
        "# Manipulating & Companring arrays"
      ],
      "metadata": {
        "id": "W-w1Q4KR3eQN"
      }
    },
    {
      "cell_type": "markdown",
      "source": [
        "## Arithmetic"
      ],
      "metadata": {
        "id": "NZFyIAr34Nrl"
      }
    },
    {
      "cell_type": "code",
      "source": [
        "a1,ones"
      ],
      "metadata": {
        "colab": {
          "base_uri": "https://localhost:8080/"
        },
        "id": "OS_mRx7h4Qz6",
        "outputId": "9e48d0e5-c384-49a1-d6f1-af35c73b029c"
      },
      "execution_count": 211,
      "outputs": [
        {
          "output_type": "execute_result",
          "data": {
            "text/plain": [
              "(array([1, 2, 3]), array([[1., 1., 1.],\n",
              "        [1., 1., 1.]]))"
            ]
          },
          "metadata": {},
          "execution_count": 211
        }
      ]
    },
    {
      "cell_type": "code",
      "source": [
        "a1 + ones #  Addition"
      ],
      "metadata": {
        "colab": {
          "base_uri": "https://localhost:8080/"
        },
        "id": "zS_oMbQZ4SZt",
        "outputId": "82b96515-305a-4cb5-8e20-f892952bfed3"
      },
      "execution_count": 212,
      "outputs": [
        {
          "output_type": "execute_result",
          "data": {
            "text/plain": [
              "array([[2., 3., 4.],\n",
              "       [2., 3., 4.]])"
            ]
          },
          "metadata": {},
          "execution_count": 212
        }
      ]
    },
    {
      "cell_type": "code",
      "source": [
        "a1 * ones # multiplication\n"
      ],
      "metadata": {
        "colab": {
          "base_uri": "https://localhost:8080/"
        },
        "id": "vUeuVrVi4V23",
        "outputId": "782bd290-ad69-4fc0-ad53-66b20e17a0f5"
      },
      "execution_count": 213,
      "outputs": [
        {
          "output_type": "execute_result",
          "data": {
            "text/plain": [
              "array([[1., 2., 3.],\n",
              "       [1., 2., 3.]])"
            ]
          },
          "metadata": {},
          "execution_count": 213
        }
      ]
    },
    {
      "cell_type": "markdown",
      "source": [
        "Cannot multiply matrices with shapes that dont match i.e\n",
        "* 2 x |3| ,  |3| x 2 = Okay    \n",
        "* 1 x 5 , 4 x 2 = Not okay\n",
        "\n",
        " |x| <- element must match\n",
        "\n"
      ],
      "metadata": {
        "id": "18RV0Thz4jsh"
      }
    },
    {
      "cell_type": "markdown",
      "source": [
        "## Aggregation\n",
        "* Use pythons methods on python data types \n",
        "* use numpys methods on numpy arrays\n"
      ],
      "metadata": {
        "id": "zh5HLnIU4fSc"
      }
    },
    {
      "cell_type": "code",
      "source": [
        "listy_list = [1,2,3]\n",
        "type(listy_list)"
      ],
      "metadata": {
        "colab": {
          "base_uri": "https://localhost:8080/"
        },
        "id": "oK5dcAau5LGm",
        "outputId": "786b73b2-21b5-4a51-cff7-e4cbc4a6c099"
      },
      "execution_count": 214,
      "outputs": [
        {
          "output_type": "execute_result",
          "data": {
            "text/plain": [
              "list"
            ]
          },
          "metadata": {},
          "execution_count": 214
        }
      ]
    },
    {
      "cell_type": "code",
      "source": [
        "sum(listy_list) # Can get sum of array"
      ],
      "metadata": {
        "colab": {
          "base_uri": "https://localhost:8080/"
        },
        "id": "VlQdDJBe5NcM",
        "outputId": "ace1ae62-cc6e-4e1f-e833-a9980ce7eb96"
      },
      "execution_count": 215,
      "outputs": [
        {
          "output_type": "execute_result",
          "data": {
            "text/plain": [
              "6"
            ]
          },
          "metadata": {},
          "execution_count": 215
        }
      ]
    },
    {
      "cell_type": "code",
      "source": [
        "a1,a1.sum() # Can get sum of Numpy array"
      ],
      "metadata": {
        "colab": {
          "base_uri": "https://localhost:8080/"
        },
        "id": "67W8vpqv5P2X",
        "outputId": "50aaac41-b5cf-46c0-c5e8-ca3cd3e04fe8"
      },
      "execution_count": 216,
      "outputs": [
        {
          "output_type": "execute_result",
          "data": {
            "text/plain": [
              "(array([1, 2, 3]), 6)"
            ]
          },
          "metadata": {},
          "execution_count": 216
        }
      ]
    },
    {
      "cell_type": "code",
      "source": [
        "a2"
      ],
      "metadata": {
        "colab": {
          "base_uri": "https://localhost:8080/"
        },
        "id": "I12O6Q7y5Rin",
        "outputId": "2be7da9a-1979-4f72-bf4a-4771059153d5"
      },
      "execution_count": 217,
      "outputs": [
        {
          "output_type": "execute_result",
          "data": {
            "text/plain": [
              "array([[1. , 2. , 3.3],\n",
              "       [4. , 5. , 6.5]])"
            ]
          },
          "metadata": {},
          "execution_count": 217
        }
      ]
    },
    {
      "cell_type": "code",
      "source": [
        "np.mean(a2) # mean of a2"
      ],
      "metadata": {
        "colab": {
          "base_uri": "https://localhost:8080/"
        },
        "id": "K5CUyCRm5sB0",
        "outputId": "c7964b23-f9be-4f3e-9fc7-f1e52ba7c448"
      },
      "execution_count": 218,
      "outputs": [
        {
          "output_type": "execute_result",
          "data": {
            "text/plain": [
              "3.6333333333333333"
            ]
          },
          "metadata": {},
          "execution_count": 218
        }
      ]
    },
    {
      "cell_type": "code",
      "source": [
        "np.max(a2) # Max of a2"
      ],
      "metadata": {
        "colab": {
          "base_uri": "https://localhost:8080/"
        },
        "id": "HNNN0C2b5tC7",
        "outputId": "b1150e66-4e01-4f77-88a4-40bca1856850"
      },
      "execution_count": 219,
      "outputs": [
        {
          "output_type": "execute_result",
          "data": {
            "text/plain": [
              "6.5"
            ]
          },
          "metadata": {},
          "execution_count": 219
        }
      ]
    },
    {
      "cell_type": "code",
      "source": [
        "# standard deviation = a measure of how spread out a group of numbers is from the mean\n",
        "np.std(a2) # Standard deviation of a2"
      ],
      "metadata": {
        "colab": {
          "base_uri": "https://localhost:8080/"
        },
        "id": "Yps_CqmO5u4B",
        "outputId": "80a28956-5eee-4106-e440-94f223494987"
      },
      "execution_count": 220,
      "outputs": [
        {
          "output_type": "execute_result",
          "data": {
            "text/plain": [
              "1.8226964152656422"
            ]
          },
          "metadata": {},
          "execution_count": 220
        }
      ]
    },
    {
      "cell_type": "code",
      "source": [
        "# varience = measure of the average degree to which each number is different to the mean\n",
        "# Higher varience = wider range of numbers\n",
        "# lower varience = lower range of numbers\n",
        "\n",
        "np.var(a2)"
      ],
      "metadata": {
        "colab": {
          "base_uri": "https://localhost:8080/"
        },
        "id": "JLoUp2Vm5zNC",
        "outputId": "57f1812d-f5c4-428c-e13b-771a5d95fbd7"
      },
      "execution_count": 221,
      "outputs": [
        {
          "output_type": "execute_result",
          "data": {
            "text/plain": [
              "3.3222222222222224"
            ]
          },
          "metadata": {},
          "execution_count": 221
        }
      ]
    },
    {
      "cell_type": "code",
      "source": [
        "# Demo of std and var\n",
        "high_var_array = np.array([1,100,200,300,4000,5000])\n",
        "low_var_array = np.array([2,4,6,8,10])\n",
        "\n",
        "high_var_array.var(),low_var_array.var()"
      ],
      "metadata": {
        "colab": {
          "base_uri": "https://localhost:8080/"
        },
        "id": "cUHNQLE9571B",
        "outputId": "711ce456-a548-4b83-b326-8bea4c3b38f5"
      },
      "execution_count": 222,
      "outputs": [
        {
          "output_type": "execute_result",
          "data": {
            "text/plain": [
              "(4296133.472222221, 8.0)"
            ]
          },
          "metadata": {},
          "execution_count": 222
        }
      ]
    },
    {
      "cell_type": "code",
      "source": [
        "high_var = np.square(high_var_array - high_var_array.mean()).sum()/len(high_var_array)-1 # Varience caluclated manually\n",
        "high_var"
      ],
      "metadata": {
        "id": "rQyRdIhT64g2",
        "colab": {
          "base_uri": "https://localhost:8080/"
        },
        "outputId": "7081e7c3-7e3f-43f0-eb2f-0032ff01fa56"
      },
      "execution_count": 223,
      "outputs": [
        {
          "output_type": "execute_result",
          "data": {
            "text/plain": [
              "4296132.472222221"
            ]
          },
          "metadata": {},
          "execution_count": 223
        }
      ]
    },
    {
      "cell_type": "code",
      "source": [
        "np.sqrt(high_var) # Standard deviation = sqrt varience"
      ],
      "metadata": {
        "colab": {
          "base_uri": "https://localhost:8080/"
        },
        "id": "g-W8xhtJ7TcJ",
        "outputId": "7ce65632-3166-4d0d-aac2-cfa8e9c3e47a"
      },
      "execution_count": 224,
      "outputs": [
        {
          "output_type": "execute_result",
          "data": {
            "text/plain": [
              "2072.7113817949235"
            ]
          },
          "metadata": {},
          "execution_count": 224
        }
      ]
    },
    {
      "cell_type": "code",
      "source": [
        "np.std(high_var_array)"
      ],
      "metadata": {
        "colab": {
          "base_uri": "https://localhost:8080/"
        },
        "id": "iec9kapr8j3x",
        "outputId": "ac9d84d4-a1a2-49dd-ee4c-bed0ebf1dc74"
      },
      "execution_count": 225,
      "outputs": [
        {
          "output_type": "execute_result",
          "data": {
            "text/plain": [
              "2072.711623024829"
            ]
          },
          "metadata": {},
          "execution_count": 225
        }
      ]
    },
    {
      "cell_type": "code",
      "source": [
        "import matplotlib.pyplot as plt\n",
        "plt.hist(high_var_array)"
      ],
      "metadata": {
        "colab": {
          "base_uri": "https://localhost:8080/",
          "height": 0
        },
        "id": "paVnpko28xFu",
        "outputId": "8cf2bb5d-e8d1-4f0b-90b9-170f18b063a9"
      },
      "execution_count": 226,
      "outputs": [
        {
          "output_type": "execute_result",
          "data": {
            "text/plain": [
              "(array([4., 0., 0., 0., 0., 0., 0., 1., 0., 1.]),\n",
              " array([1.0000e+00, 5.0090e+02, 1.0008e+03, 1.5007e+03, 2.0006e+03,\n",
              "        2.5005e+03, 3.0004e+03, 3.5003e+03, 4.0002e+03, 4.5001e+03,\n",
              "        5.0000e+03]),\n",
              " <a list of 10 Patch objects>)"
            ]
          },
          "metadata": {},
          "execution_count": 226
        },
        {
          "output_type": "display_data",
          "data": {
            "text/plain": [
              "<Figure size 432x288 with 1 Axes>"
            ],
            "image/png": "[encoded data removed]"
          },
          "metadata": {
            "needs_background": "light"
          }
        }
      ]
    },
    {
      "cell_type": "code",
      "source": [
        "plt.hist(low_var_array)"
      ],
      "metadata": {
        "colab": {
          "base_uri": "https://localhost:8080/",
          "height": 0
        },
        "id": "qbrh6kzx9BEN",
        "outputId": "543a35de-693b-4caa-b7c7-6a5a7ca3df97"
      },
      "execution_count": 227,
      "outputs": [
        {
          "output_type": "execute_result",
          "data": {
            "text/plain": [
              "(array([1., 0., 1., 0., 0., 1., 0., 1., 0., 1.]),\n",
              " array([ 2. ,  2.8,  3.6,  4.4,  5.2,  6. ,  6.8,  7.6,  8.4,  9.2, 10. ]),\n",
              " <a list of 10 Patch objects>)"
            ]
          },
          "metadata": {},
          "execution_count": 227
        },
        {
          "output_type": "display_data",
          "data": {
            "text/plain": [
              "<Figure size 432x288 with 1 Axes>"
            ],
            "image/png": "[encoded data removed]"
          },
          "metadata": {
            "needs_background": "light"
          }
        }
      ]
    },
    {
      "cell_type": "markdown",
      "source": [
        "# Reshaping and Transposing"
      ],
      "metadata": {
        "id": "prHU5P-h9EZF"
      }
    },
    {
      "cell_type": "code",
      "source": [
        "a2.shape"
      ],
      "metadata": {
        "colab": {
          "base_uri": "https://localhost:8080/"
        },
        "id": "dXT3m5L09ZD2",
        "outputId": "26c4d5b4-081d-4781-d962-b5dda96df3d1"
      },
      "execution_count": 228,
      "outputs": [
        {
          "output_type": "execute_result",
          "data": {
            "text/plain": [
              "(2, 3)"
            ]
          },
          "metadata": {},
          "execution_count": 228
        }
      ]
    },
    {
      "cell_type": "code",
      "source": [
        "a3.shape"
      ],
      "metadata": {
        "colab": {
          "base_uri": "https://localhost:8080/"
        },
        "id": "v3X83deI9Zk5",
        "outputId": "93f9f387-94e6-47c5-86a9-c2c113d4c85f"
      },
      "execution_count": 229,
      "outputs": [
        {
          "output_type": "execute_result",
          "data": {
            "text/plain": [
              "(3, 2, 3)"
            ]
          },
          "metadata": {},
          "execution_count": 229
        }
      ]
    },
    {
      "cell_type": "code",
      "source": [
        "a2_reshape = a2.reshape(2,3,1) # Use reshape to change shape, added extra dimensions"
      ],
      "metadata": {
        "id": "OrO97WJc9fIt"
      },
      "execution_count": 230,
      "outputs": []
    },
    {
      "cell_type": "code",
      "source": [
        "a2_reshape.shape"
      ],
      "metadata": {
        "colab": {
          "base_uri": "https://localhost:8080/"
        },
        "id": "OKJtrWGp9iEJ",
        "outputId": "615dfd7b-3eaf-43f2-c691-7af3c91001eb"
      },
      "execution_count": 231,
      "outputs": [
        {
          "output_type": "execute_result",
          "data": {
            "text/plain": [
              "(2, 3, 1)"
            ]
          },
          "metadata": {},
          "execution_count": 231
        }
      ]
    },
    {
      "cell_type": "code",
      "source": [
        "a2*a3"
      ],
      "metadata": {
        "colab": {
          "base_uri": "https://localhost:8080/"
        },
        "id": "GfNJXf7B9xVx",
        "outputId": "1a150fc4-14ed-46a4-b988-19d230b85be7"
      },
      "execution_count": 232,
      "outputs": [
        {
          "output_type": "execute_result",
          "data": {
            "text/plain": [
              "array([[[  1. ,   4. ,   9.9],\n",
              "        [ 16. ,  25. ,  39. ]],\n",
              "\n",
              "       [[  7. ,  16. ,  29.7],\n",
              "        [ 40. ,  55. ,  78. ]],\n",
              "\n",
              "       [[ 13. ,  28. ,  49.5],\n",
              "        [ 64. ,  85. , 117. ]]])"
            ]
          },
          "metadata": {},
          "execution_count": 232
        }
      ]
    },
    {
      "cell_type": "code",
      "source": [
        "a2"
      ],
      "metadata": {
        "colab": {
          "base_uri": "https://localhost:8080/"
        },
        "id": "LkQxzhXm-RHZ",
        "outputId": "ce30c95e-af2a-4a0a-ddbb-de0f84d8ddf8"
      },
      "execution_count": 233,
      "outputs": [
        {
          "output_type": "execute_result",
          "data": {
            "text/plain": [
              "array([[1. , 2. , 3.3],\n",
              "       [4. , 5. , 6.5]])"
            ]
          },
          "metadata": {},
          "execution_count": 233
        }
      ]
    },
    {
      "cell_type": "code",
      "source": [
        "a2.transpose() # switches the shape"
      ],
      "metadata": {
        "colab": {
          "base_uri": "https://localhost:8080/"
        },
        "id": "Es-EtgD_9yvo",
        "outputId": "1889b79c-4983-4b55-8eb6-070890cfacae"
      },
      "execution_count": 234,
      "outputs": [
        {
          "output_type": "execute_result",
          "data": {
            "text/plain": [
              "array([[1. , 4. ],\n",
              "       [2. , 5. ],\n",
              "       [3.3, 6.5]])"
            ]
          },
          "metadata": {},
          "execution_count": 234
        }
      ]
    },
    {
      "cell_type": "markdown",
      "source": [
        "# Matrix Multiplication\n",
        "* Matrix Multiplication and dot product are same, require transpose of first array\n",
        "* Element wise multiplication = a2*a3"
      ],
      "metadata": {
        "id": "ARhzTbHy-biP"
      }
    },
    {
      "cell_type": "markdown",
      "source": [
        "![a73cf9efced3b81ec548605dc4e9ded6.png](data:image/png;base64,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)"
      ],
      "metadata": {
        "id": "UJ_V2qH5_Ld0"
      }
    },
    {
      "cell_type": "code",
      "source": [
        "np.matmul(a2.transpose(),a3)  "
      ],
      "metadata": {
        "colab": {
          "base_uri": "https://localhost:8080/"
        },
        "id": "teAxK6o0-N6d",
        "outputId": "5bfd8849-724a-4f6e-ea21-ce0a3290c0b4"
      },
      "execution_count": 235,
      "outputs": [
        {
          "output_type": "execute_result",
          "data": {
            "text/plain": [
              "array([[[ 17. ,  22. ,  27. ],\n",
              "        [ 22. ,  29. ,  36. ],\n",
              "        [ 29.3,  39.1,  48.9]],\n",
              "\n",
              "       [[ 47. ,  52. ,  57. ],\n",
              "        [ 64. ,  71. ,  78. ],\n",
              "        [ 88.1,  97.9, 107.7]],\n",
              "\n",
              "       [[ 77. ,  82. ,  87. ],\n",
              "        [106. , 113. , 120. ],\n",
              "        [146.9, 156.7, 166.5]]])"
            ]
          },
          "metadata": {},
          "execution_count": 235
        }
      ]
    },
    {
      "cell_type": "code",
      "source": [
        "a2.transpose().dot(a3)"
      ],
      "metadata": {
        "colab": {
          "base_uri": "https://localhost:8080/"
        },
        "id": "c2eWwH5_-XN4",
        "outputId": "86f253dc-a03e-411b-cc74-99d36fe97df6"
      },
      "execution_count": 236,
      "outputs": [
        {
          "output_type": "execute_result",
          "data": {
            "text/plain": [
              "array([[[ 17. ,  22. ,  27. ],\n",
              "        [ 47. ,  52. ,  57. ],\n",
              "        [ 77. ,  82. ,  87. ]],\n",
              "\n",
              "       [[ 22. ,  29. ,  36. ],\n",
              "        [ 64. ,  71. ,  78. ],\n",
              "        [106. , 113. , 120. ]],\n",
              "\n",
              "       [[ 29.3,  39.1,  48.9],\n",
              "        [ 88.1,  97.9, 107.7],\n",
              "        [146.9, 156.7, 166.5]]])"
            ]
          },
          "metadata": {},
          "execution_count": 236
        }
      ]
    },
    {
      "cell_type": "markdown",
      "source": [
        "#Real world Example\n",
        "![7069d85ee2b6aadb233b202ff95c3e20.png](data:image/png;base64,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)"
      ],
      "metadata": {
        "id": "3YdfdeMV-gaa"
      }
    },
    {
      "cell_type": "code",
      "source": [
        "np.random.seed(0)\n",
        "# number of jars sold\n",
        "sales_amounts = np.random.randint(20,size=(5,3))\n",
        "sales_amounts"
      ],
      "metadata": {
        "colab": {
          "base_uri": "https://localhost:8080/"
        },
        "id": "cdTL0n6ihAfo",
        "outputId": "d818d610-ad98-42df-b1f4-dd321839ebe6"
      },
      "execution_count": 237,
      "outputs": [
        {
          "output_type": "execute_result",
          "data": {
            "text/plain": [
              "array([[12, 15,  0],\n",
              "       [ 3,  3,  7],\n",
              "       [ 9, 19, 18],\n",
              "       [ 4,  6, 12],\n",
              "       [ 1,  6,  7]])"
            ]
          },
          "metadata": {},
          "execution_count": 237
        }
      ]
    },
    {
      "cell_type": "code",
      "source": [
        "# Create a dataframe\n",
        "weekly_sales = pd.DataFrame(sales_amounts,\n",
        "                            index=[\"Mon\",\"Tues\",\"Wed\",\"Thurs\",\"Fri\"],columns=[\"Almond butter\",\"Peanut butter\",\"Cashew butter\"])\n",
        "weekly_sales\n"
      ],
      "metadata": {
        "colab": {
          "base_uri": "https://localhost:8080/",
          "height": 206
        },
        "id": "CXMsbsGDhGMw",
        "outputId": "d98b23e6-a581-4316-d59e-daf0cfba3977"
      },
      "execution_count": 238,
      "outputs": [
        {
          "output_type": "execute_result",
          "data": {
            "text/plain": [
              "       Almond butter  Peanut butter  Cashew butter\n",
              "Mon               12             15              0\n",
              "Tues               3              3              7\n",
              "Wed                9             19             18\n",
              "Thurs              4              6             12\n",
              "Fri                1              6              7"
            ],
            "text/html": [
              "\n",
              "  <div id=\"df-8e97046f-e681-44df-a0b3-35e5054c75d8\">\n",
              "    <div class=\"colab-df-container\">\n",
              "      <div>\n",
              "<style scoped>\n",
              "    .dataframe tbody tr th:only-of-type {\n",
              "        vertical-align: middle;\n",
              "    }\n",
              "\n",
              "    .dataframe tbody tr th {\n",
              "        vertical-align: top;\n",
              "    }\n",
              "\n",
              "    .dataframe thead th {\n",
              "        text-align: right;\n",
              "    }\n",
              "</style>\n",
              "<table border=\"1\" class=\"dataframe\">\n",
              "  <thead>\n",
              "    <tr style=\"text-align: right;\">\n",
              "      <th></th>\n",
              "      <th>Almond butter</th>\n",
              "      <th>Peanut butter</th>\n",
              "      <th>Cashew butter</th>\n",
              "    </tr>\n",
              "  </thead>\n",
              "  <tbody>\n",
              "    <tr>\n",
              "      <th>Mon</th>\n",
              "      <td>12</td>\n",
              "      <td>15</td>\n",
              "      <td>0</td>\n",
              "    </tr>\n",
              "    <tr>\n",
              "      <th>Tues</th>\n",
              "      <td>3</td>\n",
              "      <td>3</td>\n",
              "      <td>7</td>\n",
              "    </tr>\n",
              "    <tr>\n",
              "      <th>Wed</th>\n",
              "      <td>9</td>\n",
              "      <td>19</td>\n",
              "      <td>18</td>\n",
              "    </tr>\n",
              "    <tr>\n",
              "      <th>Thurs</th>\n",
              "      <td>4</td>\n",
              "      <td>6</td>\n",
              "      <td>12</td>\n",
              "    </tr>\n",
              "    <tr>\n",
              "      <th>Fri</th>\n",
              "      <td>1</td>\n",
              "      <td>6</td>\n",
              "      <td>7</td>\n",
              "    </tr>\n",
              "  </tbody>\n",
              "</table>\n",
              "</div>\n",
              "      <button class=\"colab-df-convert\" onclick=\"convertToInteractive('df-8e97046f-e681-44df-a0b3-35e5054c75d8')\"\n",
              "              title=\"Convert this dataframe to an interactive table.\"\n",
              "              style=\"display:none;\">\n",
              "        \n",
              "  <svg xmlns=\"http://www.w3.org/2000/svg\" height=\"24px\"viewBox=\"0 0 24 24\"\n",
              "       width=\"24px\">\n",
              "    <path d=\"M0 0h24v24H0V0z\" fill=\"none\"/>\n",
              "    <path d=\"M18.56 5.44l.94 2.06.94-2.06 2.06-.94-2.06-.94-.94-2.06-.94 2.06-2.06.94zm-11 1L8.5 8.5l.94-2.06 2.06-.94-2.06-.94L8.5 2.5l-.94 2.06-2.06.94zm10 10l.94 2.06.94-2.06 2.06-.94-2.06-.94-.94-2.06-.94 2.06-2.06.94z\"/><path d=\"M17.41 7.96l-1.37-1.37c-.4-.4-.92-.59-1.43-.59-.52 0-1.04.2-1.43.59L10.3 9.45l-7.72 7.72c-.78.78-.78 2.05 0 2.83L4 21.41c.39.39.9.59 1.41.59.51 0 1.02-.2 1.41-.59l7.78-7.78 2.81-2.81c.8-.78.8-2.07 0-2.86zM5.41 20L4 18.59l7.72-7.72 1.47 1.35L5.41 20z\"/>\n",
              "  </svg>\n",
              "      </button>\n",
              "      \n",
              "  <style>\n",
              "    .colab-df-container {\n",
              "      display:flex;\n",
              "      flex-wrap:wrap;\n",
              "      gap: 12px;\n",
              "    }\n",
              "\n",
              "    .colab-df-convert {\n",
              "      background-color: #E8F0FE;\n",
              "      border: none;\n",
              "      border-radius: 50%;\n",
              "      cursor: pointer;\n",
              "      display: none;\n",
              "      fill: #1967D2;\n",
              "      height: 32px;\n",
              "      padding: 0 0 0 0;\n",
              "      width: 32px;\n",
              "    }\n",
              "\n",
              "    .colab-df-convert:hover {\n",
              "      background-color: #E2EBFA;\n",
              "      box-shadow: 0px 1px 2px rgba(60, 64, 67, 0.3), 0px 1px 3px 1px rgba(60, 64, 67, 0.15);\n",
              "      fill: #174EA6;\n",
              "    }\n",
              "\n",
              "    [theme=dark] .colab-df-convert {\n",
              "      background-color: #3B4455;\n",
              "      fill: #D2E3FC;\n",
              "    }\n",
              "\n",
              "    [theme=dark] .colab-df-convert:hover {\n",
              "      background-color: #434B5C;\n",
              "      box-shadow: 0px 1px 3px 1px rgba(0, 0, 0, 0.15);\n",
              "      filter: drop-shadow(0px 1px 2px rgba(0, 0, 0, 0.3));\n",
              "      fill: #FFFFFF;\n",
              "    }\n",
              "  </style>\n",
              "\n",
              "      <script>\n",
              "        const buttonEl =\n",
              "          document.querySelector('#df-8e97046f-e681-44df-a0b3-35e5054c75d8 button.colab-df-convert');\n",
              "        buttonEl.style.display =\n",
              "          google.colab.kernel.accessAllowed ? 'block' : 'none';\n",
              "\n",
              "        async function convertToInteractive(key) {\n",
              "          const element = document.querySelector('#df-8e97046f-e681-44df-a0b3-35e5054c75d8');\n",
              "          const dataTable =\n",
              "            await google.colab.kernel.invokeFunction('convertToInteractive',\n",
              "                                                     [key], {});\n",
              "          if (!dataTable) return;\n",
              "\n",
              "          const docLinkHtml = 'Like what you see? Visit the ' +\n",
              "            '<a target=\"_blank\" href=https://colab.research.google.com/notebooks/data_table.ipynb>data table notebook</a>'\n",
              "            + ' to learn more about interactive tables.';\n",
              "          element.innerHTML = '';\n",
              "          dataTable['output_type'] = 'display_data';\n",
              "          await google.colab.output.renderOutput(dataTable, element);\n",
              "          const docLink = document.createElement('div');\n",
              "          docLink.innerHTML = docLinkHtml;\n",
              "          element.appendChild(docLink);\n",
              "        }\n",
              "      </script>\n",
              "    </div>\n",
              "  </div>\n",
              "  "
            ]
          },
          "metadata": {},
          "execution_count": 238
        }
      ]
    },
    {
      "cell_type": "code",
      "source": [
        "# Create Price index\n",
        "prices = np.array([10,8,12])\n",
        "prices.shape"
      ],
      "metadata": {
        "colab": {
          "base_uri": "https://localhost:8080/"
        },
        "id": "MYcO9MLrimJL",
        "outputId": "a4eb9078-91b3-45a6-c974-a11dd9beabee"
      },
      "execution_count": 239,
      "outputs": [
        {
          "output_type": "execute_result",
          "data": {
            "text/plain": [
              "(3,)"
            ]
          },
          "metadata": {},
          "execution_count": 239
        }
      ]
    },
    {
      "cell_type": "markdown",
      "source": [
        "We have to reshape to 1,3 as pandas doesnt accept it as 3,1"
      ],
      "metadata": {
        "id": "-JJwFV8Gi4-K"
      }
    },
    {
      "cell_type": "code",
      "source": [
        "# Create Butter_prices DataFrame\n",
        "butter_prices = pd.DataFrame(Prices.reshape((1,3)),index=[\"Price\"],columns=[\"Almond butter\",\"Peanut butter\",\"Cashew butter\"])\n",
        "butter_prices"
      ],
      "metadata": {
        "colab": {
          "base_uri": "https://localhost:8080/",
          "height": 81
        },
        "id": "1wT-R67vhmIL",
        "outputId": "ba34b2ce-f8fa-4392-b751-81823cb4aa60"
      },
      "execution_count": 240,
      "outputs": [
        {
          "output_type": "execute_result",
          "data": {
            "text/plain": [
              "       Almond butter  Peanut butter  Cashew butter\n",
              "Price             10              8             12"
            ],
            "text/html": [
              "\n",
              "  <div id=\"df-571f7576-7960-405e-9dd2-da3e75276824\">\n",
              "    <div class=\"colab-df-container\">\n",
              "      <div>\n",
              "<style scoped>\n",
              "    .dataframe tbody tr th:only-of-type {\n",
              "        vertical-align: middle;\n",
              "    }\n",
              "\n",
              "    .dataframe tbody tr th {\n",
              "        vertical-align: top;\n",
              "    }\n",
              "\n",
              "    .dataframe thead th {\n",
              "        text-align: right;\n",
              "    }\n",
              "</style>\n",
              "<table border=\"1\" class=\"dataframe\">\n",
              "  <thead>\n",
              "    <tr style=\"text-align: right;\">\n",
              "      <th></th>\n",
              "      <th>Almond butter</th>\n",
              "      <th>Peanut butter</th>\n",
              "      <th>Cashew butter</th>\n",
              "    </tr>\n",
              "  </thead>\n",
              "  <tbody>\n",
              "    <tr>\n",
              "      <th>Price</th>\n",
              "      <td>10</td>\n",
              "      <td>8</td>\n",
              "      <td>12</td>\n",
              "    </tr>\n",
              "  </tbody>\n",
              "</table>\n",
              "</div>\n",
              "      <button class=\"colab-df-convert\" onclick=\"convertToInteractive('df-571f7576-7960-405e-9dd2-da3e75276824')\"\n",
              "              title=\"Convert this dataframe to an interactive table.\"\n",
              "              style=\"display:none;\">\n",
              "        \n",
              "  <svg xmlns=\"http://www.w3.org/2000/svg\" height=\"24px\"viewBox=\"0 0 24 24\"\n",
              "       width=\"24px\">\n",
              "    <path d=\"M0 0h24v24H0V0z\" fill=\"none\"/>\n",
              "    <path d=\"M18.56 5.44l.94 2.06.94-2.06 2.06-.94-2.06-.94-.94-2.06-.94 2.06-2.06.94zm-11 1L8.5 8.5l.94-2.06 2.06-.94-2.06-.94L8.5 2.5l-.94 2.06-2.06.94zm10 10l.94 2.06.94-2.06 2.06-.94-2.06-.94-.94-2.06-.94 2.06-2.06.94z\"/><path d=\"M17.41 7.96l-1.37-1.37c-.4-.4-.92-.59-1.43-.59-.52 0-1.04.2-1.43.59L10.3 9.45l-7.72 7.72c-.78.78-.78 2.05 0 2.83L4 21.41c.39.39.9.59 1.41.59.51 0 1.02-.2 1.41-.59l7.78-7.78 2.81-2.81c.8-.78.8-2.07 0-2.86zM5.41 20L4 18.59l7.72-7.72 1.47 1.35L5.41 20z\"/>\n",
              "  </svg>\n",
              "      </button>\n",
              "      \n",
              "  <style>\n",
              "    .colab-df-container {\n",
              "      display:flex;\n",
              "      flex-wrap:wrap;\n",
              "      gap: 12px;\n",
              "    }\n",
              "\n",
              "    .colab-df-convert {\n",
              "      background-color: #E8F0FE;\n",
              "      border: none;\n",
              "      border-radius: 50%;\n",
              "      cursor: pointer;\n",
              "      display: none;\n",
              "      fill: #1967D2;\n",
              "      height: 32px;\n",
              "      padding: 0 0 0 0;\n",
              "      width: 32px;\n",
              "    }\n",
              "\n",
              "    .colab-df-convert:hover {\n",
              "      background-color: #E2EBFA;\n",
              "      box-shadow: 0px 1px 2px rgba(60, 64, 67, 0.3), 0px 1px 3px 1px rgba(60, 64, 67, 0.15);\n",
              "      fill: #174EA6;\n",
              "    }\n",
              "\n",
              "    [theme=dark] .colab-df-convert {\n",
              "      background-color: #3B4455;\n",
              "      fill: #D2E3FC;\n",
              "    }\n",
              "\n",
              "    [theme=dark] .colab-df-convert:hover {\n",
              "      background-color: #434B5C;\n",
              "      box-shadow: 0px 1px 3px 1px rgba(0, 0, 0, 0.15);\n",
              "      filter: drop-shadow(0px 1px 2px rgba(0, 0, 0, 0.3));\n",
              "      fill: #FFFFFF;\n",
              "    }\n",
              "  </style>\n",
              "\n",
              "      <script>\n",
              "        const buttonEl =\n",
              "          document.querySelector('#df-571f7576-7960-405e-9dd2-da3e75276824 button.colab-df-convert');\n",
              "        buttonEl.style.display =\n",
              "          google.colab.kernel.accessAllowed ? 'block' : 'none';\n",
              "\n",
              "        async function convertToInteractive(key) {\n",
              "          const element = document.querySelector('#df-571f7576-7960-405e-9dd2-da3e75276824');\n",
              "          const dataTable =\n",
              "            await google.colab.kernel.invokeFunction('convertToInteractive',\n",
              "                                                     [key], {});\n",
              "          if (!dataTable) return;\n",
              "\n",
              "          const docLinkHtml = 'Like what you see? Visit the ' +\n",
              "            '<a target=\"_blank\" href=https://colab.research.google.com/notebooks/data_table.ipynb>data table notebook</a>'\n",
              "            + ' to learn more about interactive tables.';\n",
              "          element.innerHTML = '';\n",
              "          dataTable['output_type'] = 'display_data';\n",
              "          await google.colab.output.renderOutput(dataTable, element);\n",
              "          const docLink = document.createElement('div');\n",
              "          docLink.innerHTML = docLinkHtml;\n",
              "          element.appendChild(docLink);\n",
              "        }\n",
              "      </script>\n",
              "    </div>\n",
              "  </div>\n",
              "  "
            ]
          },
          "metadata": {},
          "execution_count": 240
        }
      ]
    },
    {
      "cell_type": "code",
      "source": [
        "weekly_sales.shape,prices.shape"
      ],
      "metadata": {
        "colab": {
          "base_uri": "https://localhost:8080/"
        },
        "id": "wOxZlecfjOpe",
        "outputId": "2c7dcc43-5b61-4558-9a18-d70adeb46726"
      },
      "execution_count": 241,
      "outputs": [
        {
          "output_type": "execute_result",
          "data": {
            "text/plain": [
              "((5, 3), (3,))"
            ]
          },
          "metadata": {},
          "execution_count": 241
        }
      ]
    },
    {
      "cell_type": "code",
      "source": [
        "# Dot product\n",
        "total_sales = prices.dot(sales_amounts.transpose())\n",
        "total_sales"
      ],
      "metadata": {
        "colab": {
          "base_uri": "https://localhost:8080/"
        },
        "id": "E3KSFKgjiB69",
        "outputId": "94b92213-70e5-45b9-905c-22417c6e0946"
      },
      "execution_count": 242,
      "outputs": [
        {
          "output_type": "execute_result",
          "data": {
            "text/plain": [
              "array([240, 138, 458, 232, 142])"
            ]
          },
          "metadata": {},
          "execution_count": 242
        }
      ]
    },
    {
      "cell_type": "code",
      "source": [
        "daily_sales = butter_prices.dot(weekly_sales.transpose())\n",
        "daily_sales"
      ],
      "metadata": {
        "colab": {
          "base_uri": "https://localhost:8080/",
          "height": 81
        },
        "id": "h1sFhwaDjMJ1",
        "outputId": "be83ae03-7766-4aa4-bedf-a7e005cbc476"
      },
      "execution_count": 243,
      "outputs": [
        {
          "output_type": "execute_result",
          "data": {
            "text/plain": [
              "       Mon  Tues  Wed  Thurs  Fri\n",
              "Price  240   138  458    232  142"
            ],
            "text/html": [
              "\n",
              "  <div id=\"df-02c27feb-0b46-473d-9293-dc93cfd08bb7\">\n",
              "    <div class=\"colab-df-container\">\n",
              "      <div>\n",
              "<style scoped>\n",
              "    .dataframe tbody tr th:only-of-type {\n",
              "        vertical-align: middle;\n",
              "    }\n",
              "\n",
              "    .dataframe tbody tr th {\n",
              "        vertical-align: top;\n",
              "    }\n",
              "\n",
              "    .dataframe thead th {\n",
              "        text-align: right;\n",
              "    }\n",
              "</style>\n",
              "<table border=\"1\" class=\"dataframe\">\n",
              "  <thead>\n",
              "    <tr style=\"text-align: right;\">\n",
              "      <th></th>\n",
              "      <th>Mon</th>\n",
              "      <th>Tues</th>\n",
              "      <th>Wed</th>\n",
              "      <th>Thurs</th>\n",
              "      <th>Fri</th>\n",
              "    </tr>\n",
              "  </thead>\n",
              "  <tbody>\n",
              "    <tr>\n",
              "      <th>Price</th>\n",
              "      <td>240</td>\n",
              "      <td>138</td>\n",
              "      <td>458</td>\n",
              "      <td>232</td>\n",
              "      <td>142</td>\n",
              "    </tr>\n",
              "  </tbody>\n",
              "</table>\n",
              "</div>\n",
              "      <button class=\"colab-df-convert\" onclick=\"convertToInteractive('df-02c27feb-0b46-473d-9293-dc93cfd08bb7')\"\n",
              "              title=\"Convert this dataframe to an interactive table.\"\n",
              "              style=\"display:none;\">\n",
              "        \n",
              "  <svg xmlns=\"http://www.w3.org/2000/svg\" height=\"24px\"viewBox=\"0 0 24 24\"\n",
              "       width=\"24px\">\n",
              "    <path d=\"M0 0h24v24H0V0z\" fill=\"none\"/>\n",
              "    <path d=\"M18.56 5.44l.94 2.06.94-2.06 2.06-.94-2.06-.94-.94-2.06-.94 2.06-2.06.94zm-11 1L8.5 8.5l.94-2.06 2.06-.94-2.06-.94L8.5 2.5l-.94 2.06-2.06.94zm10 10l.94 2.06.94-2.06 2.06-.94-2.06-.94-.94-2.06-.94 2.06-2.06.94z\"/><path d=\"M17.41 7.96l-1.37-1.37c-.4-.4-.92-.59-1.43-.59-.52 0-1.04.2-1.43.59L10.3 9.45l-7.72 7.72c-.78.78-.78 2.05 0 2.83L4 21.41c.39.39.9.59 1.41.59.51 0 1.02-.2 1.41-.59l7.78-7.78 2.81-2.81c.8-.78.8-2.07 0-2.86zM5.41 20L4 18.59l7.72-7.72 1.47 1.35L5.41 20z\"/>\n",
              "  </svg>\n",
              "      </button>\n",
              "      \n",
              "  <style>\n",
              "    .colab-df-container {\n",
              "      display:flex;\n",
              "      flex-wrap:wrap;\n",
              "      gap: 12px;\n",
              "    }\n",
              "\n",
              "    .colab-df-convert {\n",
              "      background-color: #E8F0FE;\n",
              "      border: none;\n",
              "      border-radius: 50%;\n",
              "      cursor: pointer;\n",
              "      display: none;\n",
              "      fill: #1967D2;\n",
              "      height: 32px;\n",
              "      padding: 0 0 0 0;\n",
              "      width: 32px;\n",
              "    }\n",
              "\n",
              "    .colab-df-convert:hover {\n",
              "      background-color: #E2EBFA;\n",
              "      box-shadow: 0px 1px 2px rgba(60, 64, 67, 0.3), 0px 1px 3px 1px rgba(60, 64, 67, 0.15);\n",
              "      fill: #174EA6;\n",
              "    }\n",
              "\n",
              "    [theme=dark] .colab-df-convert {\n",
              "      background-color: #3B4455;\n",
              "      fill: #D2E3FC;\n",
              "    }\n",
              "\n",
              "    [theme=dark] .colab-df-convert:hover {\n",
              "      background-color: #434B5C;\n",
              "      box-shadow: 0px 1px 3px 1px rgba(0, 0, 0, 0.15);\n",
              "      filter: drop-shadow(0px 1px 2px rgba(0, 0, 0, 0.3));\n",
              "      fill: #FFFFFF;\n",
              "    }\n",
              "  </style>\n",
              "\n",
              "      <script>\n",
              "        const buttonEl =\n",
              "          document.querySelector('#df-02c27feb-0b46-473d-9293-dc93cfd08bb7 button.colab-df-convert');\n",
              "        buttonEl.style.display =\n",
              "          google.colab.kernel.accessAllowed ? 'block' : 'none';\n",
              "\n",
              "        async function convertToInteractive(key) {\n",
              "          const element = document.querySelector('#df-02c27feb-0b46-473d-9293-dc93cfd08bb7');\n",
              "          const dataTable =\n",
              "            await google.colab.kernel.invokeFunction('convertToInteractive',\n",
              "                                                     [key], {});\n",
              "          if (!dataTable) return;\n",
              "\n",
              "          const docLinkHtml = 'Like what you see? Visit the ' +\n",
              "            '<a target=\"_blank\" href=https://colab.research.google.com/notebooks/data_table.ipynb>data table notebook</a>'\n",
              "            + ' to learn more about interactive tables.';\n",
              "          element.innerHTML = '';\n",
              "          dataTable['output_type'] = 'display_data';\n",
              "          await google.colab.output.renderOutput(dataTable, element);\n",
              "          const docLink = document.createElement('div');\n",
              "          docLink.innerHTML = docLinkHtml;\n",
              "          element.appendChild(docLink);\n",
              "        }\n",
              "      </script>\n",
              "    </div>\n",
              "  </div>\n",
              "  "
            ]
          },
          "metadata": {},
          "execution_count": 243
        }
      ]
    },
    {
      "cell_type": "code",
      "source": [
        "weekly_sales[\"Total ($)\"] = daily_sales.transpose()\n",
        "weekly_sales"
      ],
      "metadata": {
        "colab": {
          "base_uri": "https://localhost:8080/",
          "height": 206
        },
        "id": "MS0Os9TIknmE",
        "outputId": "24f639b4-b7e9-475e-91c7-5eb429951285"
      },
      "execution_count": 244,
      "outputs": [
        {
          "output_type": "execute_result",
          "data": {
            "text/plain": [
              "       Almond butter  Peanut butter  Cashew butter  Total ($)\n",
              "Mon               12             15              0        240\n",
              "Tues               3              3              7        138\n",
              "Wed                9             19             18        458\n",
              "Thurs              4              6             12        232\n",
              "Fri                1              6              7        142"
            ],
            "text/html": [
              "\n",
              "  <div id=\"df-677d6995-01d2-4a31-8bc7-71fb1133e7fe\">\n",
              "    <div class=\"colab-df-container\">\n",
              "      <div>\n",
              "<style scoped>\n",
              "    .dataframe tbody tr th:only-of-type {\n",
              "        vertical-align: middle;\n",
              "    }\n",
              "\n",
              "    .dataframe tbody tr th {\n",
              "        vertical-align: top;\n",
              "    }\n",
              "\n",
              "    .dataframe thead th {\n",
              "        text-align: right;\n",
              "    }\n",
              "</style>\n",
              "<table border=\"1\" class=\"dataframe\">\n",
              "  <thead>\n",
              "    <tr style=\"text-align: right;\">\n",
              "      <th></th>\n",
              "      <th>Almond butter</th>\n",
              "      <th>Peanut butter</th>\n",
              "      <th>Cashew butter</th>\n",
              "      <th>Total ($)</th>\n",
              "    </tr>\n",
              "  </thead>\n",
              "  <tbody>\n",
              "    <tr>\n",
              "      <th>Mon</th>\n",
              "      <td>12</td>\n",
              "      <td>15</td>\n",
              "      <td>0</td>\n",
              "      <td>240</td>\n",
              "    </tr>\n",
              "    <tr>\n",
              "      <th>Tues</th>\n",
              "      <td>3</td>\n",
              "      <td>3</td>\n",
              "      <td>7</td>\n",
              "      <td>138</td>\n",
              "    </tr>\n",
              "    <tr>\n",
              "      <th>Wed</th>\n",
              "      <td>9</td>\n",
              "      <td>19</td>\n",
              "      <td>18</td>\n",
              "      <td>458</td>\n",
              "    </tr>\n",
              "    <tr>\n",
              "      <th>Thurs</th>\n",
              "      <td>4</td>\n",
              "      <td>6</td>\n",
              "      <td>12</td>\n",
              "      <td>232</td>\n",
              "    </tr>\n",
              "    <tr>\n",
              "      <th>Fri</th>\n",
              "      <td>1</td>\n",
              "      <td>6</td>\n",
              "      <td>7</td>\n",
              "      <td>142</td>\n",
              "    </tr>\n",
              "  </tbody>\n",
              "</table>\n",
              "</div>\n",
              "      <button class=\"colab-df-convert\" onclick=\"convertToInteractive('df-677d6995-01d2-4a31-8bc7-71fb1133e7fe')\"\n",
              "              title=\"Convert this dataframe to an interactive table.\"\n",
              "              style=\"display:none;\">\n",
              "        \n",
              "  <svg xmlns=\"http://www.w3.org/2000/svg\" height=\"24px\"viewBox=\"0 0 24 24\"\n",
              "       width=\"24px\">\n",
              "    <path d=\"M0 0h24v24H0V0z\" fill=\"none\"/>\n",
              "    <path d=\"M18.56 5.44l.94 2.06.94-2.06 2.06-.94-2.06-.94-.94-2.06-.94 2.06-2.06.94zm-11 1L8.5 8.5l.94-2.06 2.06-.94-2.06-.94L8.5 2.5l-.94 2.06-2.06.94zm10 10l.94 2.06.94-2.06 2.06-.94-2.06-.94-.94-2.06-.94 2.06-2.06.94z\"/><path d=\"M17.41 7.96l-1.37-1.37c-.4-.4-.92-.59-1.43-.59-.52 0-1.04.2-1.43.59L10.3 9.45l-7.72 7.72c-.78.78-.78 2.05 0 2.83L4 21.41c.39.39.9.59 1.41.59.51 0 1.02-.2 1.41-.59l7.78-7.78 2.81-2.81c.8-.78.8-2.07 0-2.86zM5.41 20L4 18.59l7.72-7.72 1.47 1.35L5.41 20z\"/>\n",
              "  </svg>\n",
              "      </button>\n",
              "      \n",
              "  <style>\n",
              "    .colab-df-container {\n",
              "      display:flex;\n",
              "      flex-wrap:wrap;\n",
              "      gap: 12px;\n",
              "    }\n",
              "\n",
              "    .colab-df-convert {\n",
              "      background-color: #E8F0FE;\n",
              "      border: none;\n",
              "      border-radius: 50%;\n",
              "      cursor: pointer;\n",
              "      display: none;\n",
              "      fill: #1967D2;\n",
              "      height: 32px;\n",
              "      padding: 0 0 0 0;\n",
              "      width: 32px;\n",
              "    }\n",
              "\n",
              "    .colab-df-convert:hover {\n",
              "      background-color: #E2EBFA;\n",
              "      box-shadow: 0px 1px 2px rgba(60, 64, 67, 0.3), 0px 1px 3px 1px rgba(60, 64, 67, 0.15);\n",
              "      fill: #174EA6;\n",
              "    }\n",
              "\n",
              "    [theme=dark] .colab-df-convert {\n",
              "      background-color: #3B4455;\n",
              "      fill: #D2E3FC;\n",
              "    }\n",
              "\n",
              "    [theme=dark] .colab-df-convert:hover {\n",
              "      background-color: #434B5C;\n",
              "      box-shadow: 0px 1px 3px 1px rgba(0, 0, 0, 0.15);\n",
              "      filter: drop-shadow(0px 1px 2px rgba(0, 0, 0, 0.3));\n",
              "      fill: #FFFFFF;\n",
              "    }\n",
              "  </style>\n",
              "\n",
              "      <script>\n",
              "        const buttonEl =\n",
              "          document.querySelector('#df-677d6995-01d2-4a31-8bc7-71fb1133e7fe button.colab-df-convert');\n",
              "        buttonEl.style.display =\n",
              "          google.colab.kernel.accessAllowed ? 'block' : 'none';\n",
              "\n",
              "        async function convertToInteractive(key) {\n",
              "          const element = document.querySelector('#df-677d6995-01d2-4a31-8bc7-71fb1133e7fe');\n",
              "          const dataTable =\n",
              "            await google.colab.kernel.invokeFunction('convertToInteractive',\n",
              "                                                     [key], {});\n",
              "          if (!dataTable) return;\n",
              "\n",
              "          const docLinkHtml = 'Like what you see? Visit the ' +\n",
              "            '<a target=\"_blank\" href=https://colab.research.google.com/notebooks/data_table.ipynb>data table notebook</a>'\n",
              "            + ' to learn more about interactive tables.';\n",
              "          element.innerHTML = '';\n",
              "          dataTable['output_type'] = 'display_data';\n",
              "          await google.colab.output.renderOutput(dataTable, element);\n",
              "          const docLink = document.createElement('div');\n",
              "          docLink.innerHTML = docLinkHtml;\n",
              "          element.appendChild(docLink);\n",
              "        }\n",
              "      </script>\n",
              "    </div>\n",
              "  </div>\n",
              "  "
            ]
          },
          "metadata": {},
          "execution_count": 244
        }
      ]
    },
    {
      "cell_type": "markdown",
      "source": [
        "# Comparison Operators"
      ],
      "metadata": {
        "id": "a1g1H0Dxk0x7"
      }
    },
    {
      "cell_type": "code",
      "source": [
        "a1, a2"
      ],
      "metadata": {
        "colab": {
          "base_uri": "https://localhost:8080/"
        },
        "id": "Sk70t5dalFDf",
        "outputId": "002f8716-dfbd-40bb-b459-8ee8f7f89b25"
      },
      "execution_count": 245,
      "outputs": [
        {
          "output_type": "execute_result",
          "data": {
            "text/plain": [
              "(array([1, 2, 3]), array([[1. , 2. , 3.3],\n",
              "        [4. , 5. , 6.5]]))"
            ]
          },
          "metadata": {},
          "execution_count": 245
        }
      ]
    },
    {
      "cell_type": "code",
      "source": [
        "a1 > a2"
      ],
      "metadata": {
        "colab": {
          "base_uri": "https://localhost:8080/"
        },
        "id": "3booaO5FlHh2",
        "outputId": "ba995d86-6ec2-4fcd-bf45-f3a5fc62e594"
      },
      "execution_count": 246,
      "outputs": [
        {
          "output_type": "execute_result",
          "data": {
            "text/plain": [
              "array([[False, False, False],\n",
              "       [False, False, False]])"
            ]
          },
          "metadata": {},
          "execution_count": 246
        }
      ]
    },
    {
      "cell_type": "code",
      "source": [
        "a1 == a2"
      ],
      "metadata": {
        "colab": {
          "base_uri": "https://localhost:8080/"
        },
        "id": "UFdtZIHelIHE",
        "outputId": "3004adb1-9023-432d-9530-550591ed6c79"
      },
      "execution_count": 247,
      "outputs": [
        {
          "output_type": "execute_result",
          "data": {
            "text/plain": [
              "array([[ True,  True, False],\n",
              "       [False, False, False]])"
            ]
          },
          "metadata": {},
          "execution_count": 247
        }
      ]
    },
    {
      "cell_type": "markdown",
      "source": [
        "# Sorting Arrays"
      ],
      "metadata": {
        "id": "FebFbcEblP_K"
      }
    },
    {
      "cell_type": "code",
      "source": [
        "random_array"
      ],
      "metadata": {
        "colab": {
          "base_uri": "https://localhost:8080/"
        },
        "id": "ZQuqYjPDlXFT",
        "outputId": "0689c85b-b253-4139-c98e-e89451785d87"
      },
      "execution_count": 248,
      "outputs": [
        {
          "output_type": "execute_result",
          "data": {
            "text/plain": [
              "array([[7, 8, 1, 5, 9],\n",
              "       [8, 9, 4, 3, 0],\n",
              "       [3, 5, 0, 2, 3]])"
            ]
          },
          "metadata": {},
          "execution_count": 248
        }
      ]
    },
    {
      "cell_type": "code",
      "source": [
        "np.sort(random_array) # Sorts the array on each axis"
      ],
      "metadata": {
        "colab": {
          "base_uri": "https://localhost:8080/"
        },
        "id": "KgYDmVnUlX1A",
        "outputId": "a62d7d63-7901-4277-c0a7-4a6cb11d16c9"
      },
      "execution_count": 249,
      "outputs": [
        {
          "output_type": "execute_result",
          "data": {
            "text/plain": [
              "array([[1, 5, 7, 8, 9],\n",
              "       [0, 3, 4, 8, 9],\n",
              "       [0, 2, 3, 3, 5]])"
            ]
          },
          "metadata": {},
          "execution_count": 249
        }
      ]
    },
    {
      "cell_type": "code",
      "source": [
        "a1"
      ],
      "metadata": {
        "colab": {
          "base_uri": "https://localhost:8080/"
        },
        "id": "XYh3hZrVlza6",
        "outputId": "a367007b-f4e2-45bb-cdee-d8538e55eada"
      },
      "execution_count": 250,
      "outputs": [
        {
          "output_type": "execute_result",
          "data": {
            "text/plain": [
              "array([1, 2, 3])"
            ]
          },
          "metadata": {},
          "execution_count": 250
        }
      ]
    },
    {
      "cell_type": "code",
      "source": [
        "random_array"
      ],
      "metadata": {
        "colab": {
          "base_uri": "https://localhost:8080/"
        },
        "id": "AR2q2VqVl-W2",
        "outputId": "5970eb63-70fe-47ee-d77e-c54bf4bed9db"
      },
      "execution_count": 251,
      "outputs": [
        {
          "output_type": "execute_result",
          "data": {
            "text/plain": [
              "array([[7, 8, 1, 5, 9],\n",
              "       [8, 9, 4, 3, 0],\n",
              "       [3, 5, 0, 2, 3]])"
            ]
          },
          "metadata": {},
          "execution_count": 251
        }
      ]
    },
    {
      "cell_type": "code",
      "source": [
        "np.argsort(random_array) # returns the indeices that sort the array"
      ],
      "metadata": {
        "colab": {
          "base_uri": "https://localhost:8080/"
        },
        "id": "Eyj8AZwVlgmN",
        "outputId": "9ce60800-e687-4ef5-8443-d6fc6a937682"
      },
      "execution_count": 252,
      "outputs": [
        {
          "output_type": "execute_result",
          "data": {
            "text/plain": [
              "array([[2, 3, 0, 1, 4],\n",
              "       [4, 3, 2, 0, 1],\n",
              "       [2, 3, 0, 4, 1]])"
            ]
          },
          "metadata": {},
          "execution_count": 252
        }
      ]
    },
    {
      "cell_type": "code",
      "source": [
        "np.argmin(random_array,axis=0) # index with maximum value Axis 0 = vertically"
      ],
      "metadata": {
        "colab": {
          "base_uri": "https://localhost:8080/"
        },
        "id": "vODWsHR4loHX",
        "outputId": "5aa17019-78c1-49d2-f9ca-e69c0df4f92e"
      },
      "execution_count": 261,
      "outputs": [
        {
          "output_type": "execute_result",
          "data": {
            "text/plain": [
              "array([2, 2, 2, 2, 1])"
            ]
          },
          "metadata": {},
          "execution_count": 261
        }
      ]
    },
    {
      "cell_type": "code",
      "source": [
        "random_array"
      ],
      "metadata": {
        "colab": {
          "base_uri": "https://localhost:8080/"
        },
        "id": "oQokC30zn5vV",
        "outputId": "f282cbbd-9517-46a7-b87f-f6c29e5a431c"
      },
      "execution_count": 258,
      "outputs": [
        {
          "output_type": "execute_result",
          "data": {
            "text/plain": [
              "array([[7, 8, 1, 5, 9],\n",
              "       [8, 9, 4, 3, 0],\n",
              "       [3, 5, 0, 2, 3]])"
            ]
          },
          "metadata": {},
          "execution_count": 258
        }
      ]
    },
    {
      "cell_type": "code",
      "source": [
        "np.argmax(random_array,axis=0) # index with maximum value Axis 0 = vertically"
      ],
      "metadata": {
        "colab": {
          "base_uri": "https://localhost:8080/"
        },
        "id": "K8btHIVDnH24",
        "outputId": "87bcd26e-3302-4072-b5ef-76c41de802ad"
      },
      "execution_count": 254,
      "outputs": [
        {
          "output_type": "execute_result",
          "data": {
            "text/plain": [
              "array([1, 1, 1, 0, 0])"
            ]
          },
          "metadata": {},
          "execution_count": 254
        }
      ]
    },
    {
      "cell_type": "code",
      "source": [
        "np.argmax(random_array,axis=1) # index with maximum value Axis 0 = horrisontally"
      ],
      "metadata": {
        "colab": {
          "base_uri": "https://localhost:8080/"
        },
        "id": "8YiQ4BHvnL6J",
        "outputId": "172b70d3-cc36-40d4-8935-81fcefc0de8b"
      },
      "execution_count": 259,
      "outputs": [
        {
          "output_type": "execute_result",
          "data": {
            "text/plain": [
              "array([4, 1, 1])"
            ]
          },
          "metadata": {},
          "execution_count": 259
        }
      ]
    },
    {
      "cell_type": "markdown",
      "source": [
        "# Images to Numpy Arrays"
      ],
      "metadata": {
        "id": "sarV_rEGntLv"
      }
    },
    {
      "cell_type": "code",
      "source": [
        "# Turn an image into a numpy array\n",
        "from matplotlib.image import imread\n",
        "panda = imread(\"panda.png\")\n",
        "# 3 dimension array for RGB values\n",
        "type(panda) , panda.size, panda.shape,panda.ndim"
      ],
      "metadata": {
        "colab": {
          "base_uri": "https://localhost:8080/"
        },
        "id": "W6v-b5ZBoLRv",
        "outputId": "edc50da4-128b-4d98-f6b7-92c41347c8bb"
      },
      "execution_count": 269,
      "outputs": [
        {
          "output_type": "execute_result",
          "data": {
            "text/plain": [
              "(numpy.ndarray, 24465000, (2330, 3500, 3), 3)"
            ]
          },
          "metadata": {},
          "execution_count": 269
        }
      ]
    },
    {
      "cell_type": "code",
      "source": [
        "panda = imread(\"car-photo.png\")\n",
        "# 3 dimension array for RGB values\n",
        "type(panda) , panda.size, panda.shape,panda.ndim"
      ],
      "metadata": {
        "colab": {
          "base_uri": "https://localhost:8080/"
        },
        "id": "07I5fZIeoZCS",
        "outputId": "0adf99bd-7442-4b61-b168-77c9c452093b"
      },
      "execution_count": 270,
      "outputs": [
        {
          "output_type": "execute_result",
          "data": {
            "text/plain": [
              "(numpy.ndarray, 991300, (431, 575, 4), 3)"
            ]
          },
          "metadata": {},
          "execution_count": 270
        }
      ]
    }
  ]
}