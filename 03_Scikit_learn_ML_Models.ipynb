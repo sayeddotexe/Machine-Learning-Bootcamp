{
  "nbformat": 4,
  "nbformat_minor": 0,
  "metadata": {
    "colab": {
      "name": "03_Scikit-learn_ML_Models.ipynb",
      "provenance": [],
      "collapsed_sections": []
    },
    "kernelspec": {
      "name": "python3",
      "display_name": "Python 3"
    },
    "language_info": {
      "name": "python"
    }
  },
  "cells": [
    {
      "cell_type": "markdown",
      "source": [
        "#Why Scikit-learn?\n",
        "* Built on NumPy and Matplotlib (and python)\n",
        "* Has many in built machine learning models\n",
        "* Methods to evaluate your machine learning models\n",
        "* Well designed API\n",
        "\n",
        "Workflow:\n",
        "1. Get data ready\n",
        "2. Pick a model\n",
        "3. Fit the model\n",
        "4. Evaluate the model\n",
        "5. Improve through experimentation"
      ],
      "metadata": {
        "id": "XZsCaExIfG7J"
      }
    },
    {
      "cell_type": "markdown",
      "source": [
        "# Introduction to Scikit-learn"
      ],
      "metadata": {
        "id": "IhoXupyygANR"
      }
    },
    {
      "cell_type": "code",
      "source": [
        "import pandas as pd\n",
        "import numpy as np\n",
        "import matplotlib.pyplot as plt\n",
        "heart_disease = pd.read_csv(\"heart-disease.csv\")\n",
        "heart_disease.head()"
      ],
      "metadata": {
        "colab": {
          "base_uri": "https://localhost:8080/",
          "height": 206
        },
        "id": "I806_Eoigt7Q",
        "outputId": "7688735d-47d1-4cf1-eb61-9f571db82f13"
      },
      "execution_count": null,
      "outputs": [
        {
          "output_type": "execute_result",
          "data": {
            "text/plain": [
              "   age  sex  cp  trestbps  chol  fbs  restecg  thalach  exang  oldpeak  slope  \\\n",
              "0   63    1   3       145   233    1        0      150      0      2.3      0   \n",
              "1   37    1   2       130   250    0        1      187      0      3.5      0   \n",
              "2   41    0   1       130   204    0        0      172      0      1.4      2   \n",
              "3   56    1   1       120   236    0        1      178      0      0.8      2   \n",
              "4   57    0   0       120   354    0        1      163      1      0.6      2   \n",
              "\n",
              "   ca  thal  target  \n",
              "0   0     1       1  \n",
              "1   0     2       1  \n",
              "2   0     2       1  \n",
              "3   0     2       1  \n",
              "4   0     2       1  "
            ],
            "text/html": [
              "\n",
              "  <div id=\"df-59a1322f-63fd-4d3f-b087-56fc3f3ce829\">\n",
              "    <div class=\"colab-df-container\">\n",
              "      <div>\n",
              "<style scoped>\n",
              "    .dataframe tbody tr th:only-of-type {\n",
              "        vertical-align: middle;\n",
              "    }\n",
              "\n",
              "    .dataframe tbody tr th {\n",
              "        vertical-align: top;\n",
              "    }\n",
              "\n",
              "    .dataframe thead th {\n",
              "        text-align: right;\n",
              "    }\n",
              "</style>\n",
              "<table border=\"1\" class=\"dataframe\">\n",
              "  <thead>\n",
              "    <tr style=\"text-align: right;\">\n",
              "      <th></th>\n",
              "      <th>age</th>\n",
              "      <th>sex</th>\n",
              "      <th>cp</th>\n",
              "      <th>trestbps</th>\n",
              "      <th>chol</th>\n",
              "      <th>fbs</th>\n",
              "      <th>restecg</th>\n",
              "      <th>thalach</th>\n",
              "      <th>exang</th>\n",
              "      <th>oldpeak</th>\n",
              "      <th>slope</th>\n",
              "      <th>ca</th>\n",
              "      <th>thal</th>\n",
              "      <th>target</th>\n",
              "    </tr>\n",
              "  </thead>\n",
              "  <tbody>\n",
              "    <tr>\n",
              "      <th>0</th>\n",
              "      <td>63</td>\n",
              "      <td>1</td>\n",
              "      <td>3</td>\n",
              "      <td>145</td>\n",
              "      <td>233</td>\n",
              "      <td>1</td>\n",
              "      <td>0</td>\n",
              "      <td>150</td>\n",
              "      <td>0</td>\n",
              "      <td>2.3</td>\n",
              "      <td>0</td>\n",
              "      <td>0</td>\n",
              "      <td>1</td>\n",
              "      <td>1</td>\n",
              "    </tr>\n",
              "    <tr>\n",
              "      <th>1</th>\n",
              "      <td>37</td>\n",
              "      <td>1</td>\n",
              "      <td>2</td>\n",
              "      <td>130</td>\n",
              "      <td>250</td>\n",
              "      <td>0</td>\n",
              "      <td>1</td>\n",
              "      <td>187</td>\n",
              "      <td>0</td>\n",
              "      <td>3.5</td>\n",
              "      <td>0</td>\n",
              "      <td>0</td>\n",
              "      <td>2</td>\n",
              "      <td>1</td>\n",
              "    </tr>\n",
              "    <tr>\n",
              "      <th>2</th>\n",
              "      <td>41</td>\n",
              "      <td>0</td>\n",
              "      <td>1</td>\n",
              "      <td>130</td>\n",
              "      <td>204</td>\n",
              "      <td>0</td>\n",
              "      <td>0</td>\n",
              "      <td>172</td>\n",
              "      <td>0</td>\n",
              "      <td>1.4</td>\n",
              "      <td>2</td>\n",
              "      <td>0</td>\n",
              "      <td>2</td>\n",
              "      <td>1</td>\n",
              "    </tr>\n",
              "    <tr>\n",
              "      <th>3</th>\n",
              "      <td>56</td>\n",
              "      <td>1</td>\n",
              "      <td>1</td>\n",
              "      <td>120</td>\n",
              "      <td>236</td>\n",
              "      <td>0</td>\n",
              "      <td>1</td>\n",
              "      <td>178</td>\n",
              "      <td>0</td>\n",
              "      <td>0.8</td>\n",
              "      <td>2</td>\n",
              "      <td>0</td>\n",
              "      <td>2</td>\n",
              "      <td>1</td>\n",
              "    </tr>\n",
              "    <tr>\n",
              "      <th>4</th>\n",
              "      <td>57</td>\n",
              "      <td>0</td>\n",
              "      <td>0</td>\n",
              "      <td>120</td>\n",
              "      <td>354</td>\n",
              "      <td>0</td>\n",
              "      <td>1</td>\n",
              "      <td>163</td>\n",
              "      <td>1</td>\n",
              "      <td>0.6</td>\n",
              "      <td>2</td>\n",
              "      <td>0</td>\n",
              "      <td>2</td>\n",
              "      <td>1</td>\n",
              "    </tr>\n",
              "  </tbody>\n",
              "</table>\n",
              "</div>\n",
              "      <button class=\"colab-df-convert\" onclick=\"convertToInteractive('df-59a1322f-63fd-4d3f-b087-56fc3f3ce829')\"\n",
              "              title=\"Convert this dataframe to an interactive table.\"\n",
              "              style=\"display:none;\">\n",
              "        \n",
              "  <svg xmlns=\"http://www.w3.org/2000/svg\" height=\"24px\"viewBox=\"0 0 24 24\"\n",
              "       width=\"24px\">\n",
              "    <path d=\"M0 0h24v24H0V0z\" fill=\"none\"/>\n",
              "    <path d=\"M18.56 5.44l.94 2.06.94-2.06 2.06-.94-2.06-.94-.94-2.06-.94 2.06-2.06.94zm-11 1L8.5 8.5l.94-2.06 2.06-.94-2.06-.94L8.5 2.5l-.94 2.06-2.06.94zm10 10l.94 2.06.94-2.06 2.06-.94-2.06-.94-.94-2.06-.94 2.06-2.06.94z\"/><path d=\"M17.41 7.96l-1.37-1.37c-.4-.4-.92-.59-1.43-.59-.52 0-1.04.2-1.43.59L10.3 9.45l-7.72 7.72c-.78.78-.78 2.05 0 2.83L4 21.41c.39.39.9.59 1.41.59.51 0 1.02-.2 1.41-.59l7.78-7.78 2.81-2.81c.8-.78.8-2.07 0-2.86zM5.41 20L4 18.59l7.72-7.72 1.47 1.35L5.41 20z\"/>\n",
              "  </svg>\n",
              "      </button>\n",
              "      \n",
              "  <style>\n",
              "    .colab-df-container {\n",
              "      display:flex;\n",
              "      flex-wrap:wrap;\n",
              "      gap: 12px;\n",
              "    }\n",
              "\n",
              "    .colab-df-convert {\n",
              "      background-color: #E8F0FE;\n",
              "      border: none;\n",
              "      border-radius: 50%;\n",
              "      cursor: pointer;\n",
              "      display: none;\n",
              "      fill: #1967D2;\n",
              "      height: 32px;\n",
              "      padding: 0 0 0 0;\n",
              "      width: 32px;\n",
              "    }\n",
              "\n",
              "    .colab-df-convert:hover {\n",
              "      background-color: #E2EBFA;\n",
              "      box-shadow: 0px 1px 2px rgba(60, 64, 67, 0.3), 0px 1px 3px 1px rgba(60, 64, 67, 0.15);\n",
              "      fill: #174EA6;\n",
              "    }\n",
              "\n",
              "    [theme=dark] .colab-df-convert {\n",
              "      background-color: #3B4455;\n",
              "      fill: #D2E3FC;\n",
              "    }\n",
              "\n",
              "    [theme=dark] .colab-df-convert:hover {\n",
              "      background-color: #434B5C;\n",
              "      box-shadow: 0px 1px 3px 1px rgba(0, 0, 0, 0.15);\n",
              "      filter: drop-shadow(0px 1px 2px rgba(0, 0, 0, 0.3));\n",
              "      fill: #FFFFFF;\n",
              "    }\n",
              "  </style>\n",
              "\n",
              "      <script>\n",
              "        const buttonEl =\n",
              "          document.querySelector('#df-59a1322f-63fd-4d3f-b087-56fc3f3ce829 button.colab-df-convert');\n",
              "        buttonEl.style.display =\n",
              "          google.colab.kernel.accessAllowed ? 'block' : 'none';\n",
              "\n",
              "        async function convertToInteractive(key) {\n",
              "          const element = document.querySelector('#df-59a1322f-63fd-4d3f-b087-56fc3f3ce829');\n",
              "          const dataTable =\n",
              "            await google.colab.kernel.invokeFunction('convertToInteractive',\n",
              "                                                     [key], {});\n",
              "          if (!dataTable) return;\n",
              "\n",
              "          const docLinkHtml = 'Like what you see? Visit the ' +\n",
              "            '<a target=\"_blank\" href=https://colab.research.google.com/notebooks/data_table.ipynb>data table notebook</a>'\n",
              "            + ' to learn more about interactive tables.';\n",
              "          element.innerHTML = '';\n",
              "          dataTable['output_type'] = 'display_data';\n",
              "          await google.colab.output.renderOutput(dataTable, element);\n",
              "          const docLink = document.createElement('div');\n",
              "          docLink.innerHTML = docLinkHtml;\n",
              "          element.appendChild(docLink);\n",
              "        }\n",
              "      </script>\n",
              "    </div>\n",
              "  </div>\n",
              "  "
            ]
          },
          "metadata": {},
          "execution_count": 21
        }
      ]
    },
    {
      "cell_type": "code",
      "source": [
        "# 1. Getting the data  ready\n",
        "# Create X - features Matrix\n",
        "X = heart_disease.drop(\"target\",axis=1)\n",
        "\n",
        "# Create y - Labels Matrix\n",
        "y = heart_disease[\"target\"]\n"
      ],
      "metadata": {
        "id": "92ShXmAVg8Qq"
      },
      "execution_count": null,
      "outputs": []
    },
    {
      "cell_type": "code",
      "source": [
        "# 2. Chose the right model and hyper paramaters\n",
        "from sklearn.ensemble import RandomForestClassifier\n",
        "clf = RandomForestClassifier(n_estimators=100) # n estimators: The number of trees in the forest.\n",
        "\n",
        "# keep default hyperpermaters\n",
        "clf.get_params()"
      ],
      "metadata": {
        "colab": {
          "base_uri": "https://localhost:8080/"
        },
        "id": "-gHyYHoVhT3Y",
        "outputId": "bcf976fa-8a8b-4a8b-a32c-672c94d77dc5"
      },
      "execution_count": null,
      "outputs": [
        {
          "output_type": "execute_result",
          "data": {
            "text/plain": [
              "{'bootstrap': True,\n",
              " 'ccp_alpha': 0.0,\n",
              " 'class_weight': None,\n",
              " 'criterion': 'gini',\n",
              " 'max_depth': None,\n",
              " 'max_features': 'auto',\n",
              " 'max_leaf_nodes': None,\n",
              " 'max_samples': None,\n",
              " 'min_impurity_decrease': 0.0,\n",
              " 'min_samples_leaf': 1,\n",
              " 'min_samples_split': 2,\n",
              " 'min_weight_fraction_leaf': 0.0,\n",
              " 'n_estimators': 100,\n",
              " 'n_jobs': None,\n",
              " 'oob_score': False,\n",
              " 'random_state': None,\n",
              " 'verbose': 0,\n",
              " 'warm_start': False}"
            ]
          },
          "metadata": {},
          "execution_count": 23
        }
      ]
    },
    {
      "cell_type": "code",
      "source": [
        "# 3. fit the model to the training data\n",
        "from sklearn.model_selection import train_test_split\n",
        "X_train,X_test,y_train,y_test = train_test_split(X,y,test_size=(0.2))\n"
      ],
      "metadata": {
        "id": "ux_lvOvMhk-6"
      },
      "execution_count": null,
      "outputs": []
    },
    {
      "cell_type": "code",
      "source": [
        "clf.fit(X_train,y_train);"
      ],
      "metadata": {
        "id": "pWS1nrixh_Dz"
      },
      "execution_count": null,
      "outputs": []
    },
    {
      "cell_type": "code",
      "source": [
        "y_preds = clf.predict(X_test)\n",
        "y_preds"
      ],
      "metadata": {
        "colab": {
          "base_uri": "https://localhost:8080/"
        },
        "id": "S9VyUrD5iILI",
        "outputId": "3e56cf34-3510-4dfb-a968-a9fe393c2955"
      },
      "execution_count": null,
      "outputs": [
        {
          "output_type": "execute_result",
          "data": {
            "text/plain": [
              "array([0, 0, 1, 0, 1, 1, 0, 0, 1, 0, 1, 1, 0, 1, 0, 1, 1, 0, 1, 1, 0, 0,\n",
              "       0, 0, 0, 1, 1, 1, 1, 0, 1, 0, 1, 1, 0, 0, 1, 0, 0, 0, 1, 1, 1, 0,\n",
              "       1, 0, 1, 1, 0, 0, 1, 1, 1, 0, 1, 1, 1, 1, 1, 1, 1])"
            ]
          },
          "metadata": {},
          "execution_count": 26
        }
      ]
    },
    {
      "cell_type": "code",
      "source": [
        "# 4. evaluate the model\n",
        "clf.score(X_train,y_train)"
      ],
      "metadata": {
        "colab": {
          "base_uri": "https://localhost:8080/"
        },
        "id": "1kcM1-IKiuaX",
        "outputId": "76342380-ebca-42dd-fa67-846191078cf7"
      },
      "execution_count": null,
      "outputs": [
        {
          "output_type": "execute_result",
          "data": {
            "text/plain": [
              "1.0"
            ]
          },
          "metadata": {},
          "execution_count": 27
        }
      ]
    },
    {
      "cell_type": "code",
      "source": [
        "clf.score(X_test,y_test)"
      ],
      "metadata": {
        "colab": {
          "base_uri": "https://localhost:8080/"
        },
        "id": "JiiwDwjwi08T",
        "outputId": "783851bc-ac2b-4c7e-9c6d-2fb0eaf894c6"
      },
      "execution_count": null,
      "outputs": [
        {
          "output_type": "execute_result",
          "data": {
            "text/plain": [
              "0.7868852459016393"
            ]
          },
          "metadata": {},
          "execution_count": 28
        }
      ]
    },
    {
      "cell_type": "code",
      "source": [
        "from sklearn.metrics import classification_report, confusion_matrix, accuracy_score\n",
        "\n",
        "print(classification_report(y_test,y_preds))"
      ],
      "metadata": {
        "colab": {
          "base_uri": "https://localhost:8080/"
        },
        "id": "atvUlRdDi84T",
        "outputId": "a88ab17c-6552-4692-87dc-aae85a5dee01"
      },
      "execution_count": null,
      "outputs": [
        {
          "output_type": "stream",
          "name": "stdout",
          "text": [
            "              precision    recall  f1-score   support\n",
            "\n",
            "           0       0.69      0.78      0.73        23\n",
            "           1       0.86      0.79      0.82        38\n",
            "\n",
            "    accuracy                           0.79        61\n",
            "   macro avg       0.77      0.79      0.78        61\n",
            "weighted avg       0.79      0.79      0.79        61\n",
            "\n"
          ]
        }
      ]
    },
    {
      "cell_type": "code",
      "source": [
        "confusion_matrix(y_test,y_preds)"
      ],
      "metadata": {
        "colab": {
          "base_uri": "https://localhost:8080/"
        },
        "id": "bngGP-WGjGkc",
        "outputId": "f96919f0-4a33-4783-fe32-9ed0e63acd5a"
      },
      "execution_count": null,
      "outputs": [
        {
          "output_type": "execute_result",
          "data": {
            "text/plain": [
              "array([[18,  5],\n",
              "       [ 8, 30]])"
            ]
          },
          "metadata": {},
          "execution_count": 30
        }
      ]
    },
    {
      "cell_type": "code",
      "source": [
        "accuracy_score(y_test,y_preds)"
      ],
      "metadata": {
        "colab": {
          "base_uri": "https://localhost:8080/"
        },
        "id": "HqHROfUWjLg9",
        "outputId": "8516491d-7c12-41e6-b1fc-58e4244833dc"
      },
      "execution_count": null,
      "outputs": [
        {
          "output_type": "execute_result",
          "data": {
            "text/plain": [
              "0.7868852459016393"
            ]
          },
          "metadata": {},
          "execution_count": 31
        }
      ]
    },
    {
      "cell_type": "code",
      "source": [
        "#5. Imporve a model\n",
        "# Try differeent ammount of n_estimators\n",
        "np.random.seed(42)\n",
        "for i in range(10,100,10):\n",
        "  print(\"Trying model with\",i,\"Estimators\")\n",
        "  clf=RandomForestClassifier(n_estimators=i).fit(X_train,y_train)\n",
        "  print(\"Model accuracy on test set:\",clf.score(X_test,y_test)*100)\n",
        "  print(\"\")"
      ],
      "metadata": {
        "colab": {
          "base_uri": "https://localhost:8080/"
        },
        "id": "xmXPJA1BjNbs",
        "outputId": "048bd84d-bd15-452f-c7bc-8cafdff72f0a"
      },
      "execution_count": null,
      "outputs": [
        {
          "output_type": "stream",
          "name": "stdout",
          "text": [
            "Trying model with 10 Estimators\n",
            "Model accuracy on test set: 77.04918032786885\n",
            "\n",
            "Trying model with 20 Estimators\n",
            "Model accuracy on test set: 75.40983606557377\n",
            "\n",
            "Trying model with 30 Estimators\n",
            "Model accuracy on test set: 80.32786885245902\n",
            "\n",
            "Trying model with 40 Estimators\n",
            "Model accuracy on test set: 85.24590163934425\n",
            "\n",
            "Trying model with 50 Estimators\n",
            "Model accuracy on test set: 80.32786885245902\n",
            "\n",
            "Trying model with 60 Estimators\n",
            "Model accuracy on test set: 77.04918032786885\n",
            "\n",
            "Trying model with 70 Estimators\n",
            "Model accuracy on test set: 80.32786885245902\n",
            "\n",
            "Trying model with 80 Estimators\n",
            "Model accuracy on test set: 83.60655737704919\n",
            "\n",
            "Trying model with 90 Estimators\n",
            "Model accuracy on test set: 78.68852459016394\n",
            "\n"
          ]
        }
      ]
    },
    {
      "cell_type": "markdown",
      "source": [
        "# 1. Getting our data ready to be used with machine learning\n",
        "\n",
        "Three main things we have to do:\n",
        "1. Split the data into features and labels (usually `X` and `y`)\n",
        "2. Filling (also called imputing) or disregarding missing values\n",
        "3. converting non numerical values to numerical values (called feature encoding)"
      ],
      "metadata": {
        "id": "GHM72UOQjd9o"
      }
    },
    {
      "cell_type": "code",
      "source": [
        "heart_disease.head()"
      ],
      "metadata": {
        "colab": {
          "base_uri": "https://localhost:8080/",
          "height": 206
        },
        "id": "-PoSL6rv07l6",
        "outputId": "79cfa3bf-0576-44e8-ce7a-9270ab735091"
      },
      "execution_count": null,
      "outputs": [
        {
          "output_type": "execute_result",
          "data": {
            "text/plain": [
              "   age  sex  cp  trestbps  chol  fbs  restecg  thalach  exang  oldpeak  slope  \\\n",
              "0   63    1   3       145   233    1        0      150      0      2.3      0   \n",
              "1   37    1   2       130   250    0        1      187      0      3.5      0   \n",
              "2   41    0   1       130   204    0        0      172      0      1.4      2   \n",
              "3   56    1   1       120   236    0        1      178      0      0.8      2   \n",
              "4   57    0   0       120   354    0        1      163      1      0.6      2   \n",
              "\n",
              "   ca  thal  target  \n",
              "0   0     1       1  \n",
              "1   0     2       1  \n",
              "2   0     2       1  \n",
              "3   0     2       1  \n",
              "4   0     2       1  "
            ],
            "text/html": [
              "\n",
              "  <div id=\"df-46f5da41-b15a-4769-a494-7ce7d71b3363\">\n",
              "    <div class=\"colab-df-container\">\n",
              "      <div>\n",
              "<style scoped>\n",
              "    .dataframe tbody tr th:only-of-type {\n",
              "        vertical-align: middle;\n",
              "    }\n",
              "\n",
              "    .dataframe tbody tr th {\n",
              "        vertical-align: top;\n",
              "    }\n",
              "\n",
              "    .dataframe thead th {\n",
              "        text-align: right;\n",
              "    }\n",
              "</style>\n",
              "<table border=\"1\" class=\"dataframe\">\n",
              "  <thead>\n",
              "    <tr style=\"text-align: right;\">\n",
              "      <th></th>\n",
              "      <th>age</th>\n",
              "      <th>sex</th>\n",
              "      <th>cp</th>\n",
              "      <th>trestbps</th>\n",
              "      <th>chol</th>\n",
              "      <th>fbs</th>\n",
              "      <th>restecg</th>\n",
              "      <th>thalach</th>\n",
              "      <th>exang</th>\n",
              "      <th>oldpeak</th>\n",
              "      <th>slope</th>\n",
              "      <th>ca</th>\n",
              "      <th>thal</th>\n",
              "      <th>target</th>\n",
              "    </tr>\n",
              "  </thead>\n",
              "  <tbody>\n",
              "    <tr>\n",
              "      <th>0</th>\n",
              "      <td>63</td>\n",
              "      <td>1</td>\n",
              "      <td>3</td>\n",
              "      <td>145</td>\n",
              "      <td>233</td>\n",
              "      <td>1</td>\n",
              "      <td>0</td>\n",
              "      <td>150</td>\n",
              "      <td>0</td>\n",
              "      <td>2.3</td>\n",
              "      <td>0</td>\n",
              "      <td>0</td>\n",
              "      <td>1</td>\n",
              "      <td>1</td>\n",
              "    </tr>\n",
              "    <tr>\n",
              "      <th>1</th>\n",
              "      <td>37</td>\n",
              "      <td>1</td>\n",
              "      <td>2</td>\n",
              "      <td>130</td>\n",
              "      <td>250</td>\n",
              "      <td>0</td>\n",
              "      <td>1</td>\n",
              "      <td>187</td>\n",
              "      <td>0</td>\n",
              "      <td>3.5</td>\n",
              "      <td>0</td>\n",
              "      <td>0</td>\n",
              "      <td>2</td>\n",
              "      <td>1</td>\n",
              "    </tr>\n",
              "    <tr>\n",
              "      <th>2</th>\n",
              "      <td>41</td>\n",
              "      <td>0</td>\n",
              "      <td>1</td>\n",
              "      <td>130</td>\n",
              "      <td>204</td>\n",
              "      <td>0</td>\n",
              "      <td>0</td>\n",
              "      <td>172</td>\n",
              "      <td>0</td>\n",
              "      <td>1.4</td>\n",
              "      <td>2</td>\n",
              "      <td>0</td>\n",
              "      <td>2</td>\n",
              "      <td>1</td>\n",
              "    </tr>\n",
              "    <tr>\n",
              "      <th>3</th>\n",
              "      <td>56</td>\n",
              "      <td>1</td>\n",
              "      <td>1</td>\n",
              "      <td>120</td>\n",
              "      <td>236</td>\n",
              "      <td>0</td>\n",
              "      <td>1</td>\n",
              "      <td>178</td>\n",
              "      <td>0</td>\n",
              "      <td>0.8</td>\n",
              "      <td>2</td>\n",
              "      <td>0</td>\n",
              "      <td>2</td>\n",
              "      <td>1</td>\n",
              "    </tr>\n",
              "    <tr>\n",
              "      <th>4</th>\n",
              "      <td>57</td>\n",
              "      <td>0</td>\n",
              "      <td>0</td>\n",
              "      <td>120</td>\n",
              "      <td>354</td>\n",
              "      <td>0</td>\n",
              "      <td>1</td>\n",
              "      <td>163</td>\n",
              "      <td>1</td>\n",
              "      <td>0.6</td>\n",
              "      <td>2</td>\n",
              "      <td>0</td>\n",
              "      <td>2</td>\n",
              "      <td>1</td>\n",
              "    </tr>\n",
              "  </tbody>\n",
              "</table>\n",
              "</div>\n",
              "      <button class=\"colab-df-convert\" onclick=\"convertToInteractive('df-46f5da41-b15a-4769-a494-7ce7d71b3363')\"\n",
              "              title=\"Convert this dataframe to an interactive table.\"\n",
              "              style=\"display:none;\">\n",
              "        \n",
              "  <svg xmlns=\"http://www.w3.org/2000/svg\" height=\"24px\"viewBox=\"0 0 24 24\"\n",
              "       width=\"24px\">\n",
              "    <path d=\"M0 0h24v24H0V0z\" fill=\"none\"/>\n",
              "    <path d=\"M18.56 5.44l.94 2.06.94-2.06 2.06-.94-2.06-.94-.94-2.06-.94 2.06-2.06.94zm-11 1L8.5 8.5l.94-2.06 2.06-.94-2.06-.94L8.5 2.5l-.94 2.06-2.06.94zm10 10l.94 2.06.94-2.06 2.06-.94-2.06-.94-.94-2.06-.94 2.06-2.06.94z\"/><path d=\"M17.41 7.96l-1.37-1.37c-.4-.4-.92-.59-1.43-.59-.52 0-1.04.2-1.43.59L10.3 9.45l-7.72 7.72c-.78.78-.78 2.05 0 2.83L4 21.41c.39.39.9.59 1.41.59.51 0 1.02-.2 1.41-.59l7.78-7.78 2.81-2.81c.8-.78.8-2.07 0-2.86zM5.41 20L4 18.59l7.72-7.72 1.47 1.35L5.41 20z\"/>\n",
              "  </svg>\n",
              "      </button>\n",
              "      \n",
              "  <style>\n",
              "    .colab-df-container {\n",
              "      display:flex;\n",
              "      flex-wrap:wrap;\n",
              "      gap: 12px;\n",
              "    }\n",
              "\n",
              "    .colab-df-convert {\n",
              "      background-color: #E8F0FE;\n",
              "      border: none;\n",
              "      border-radius: 50%;\n",
              "      cursor: pointer;\n",
              "      display: none;\n",
              "      fill: #1967D2;\n",
              "      height: 32px;\n",
              "      padding: 0 0 0 0;\n",
              "      width: 32px;\n",
              "    }\n",
              "\n",
              "    .colab-df-convert:hover {\n",
              "      background-color: #E2EBFA;\n",
              "      box-shadow: 0px 1px 2px rgba(60, 64, 67, 0.3), 0px 1px 3px 1px rgba(60, 64, 67, 0.15);\n",
              "      fill: #174EA6;\n",
              "    }\n",
              "\n",
              "    [theme=dark] .colab-df-convert {\n",
              "      background-color: #3B4455;\n",
              "      fill: #D2E3FC;\n",
              "    }\n",
              "\n",
              "    [theme=dark] .colab-df-convert:hover {\n",
              "      background-color: #434B5C;\n",
              "      box-shadow: 0px 1px 3px 1px rgba(0, 0, 0, 0.15);\n",
              "      filter: drop-shadow(0px 1px 2px rgba(0, 0, 0, 0.3));\n",
              "      fill: #FFFFFF;\n",
              "    }\n",
              "  </style>\n",
              "\n",
              "      <script>\n",
              "        const buttonEl =\n",
              "          document.querySelector('#df-46f5da41-b15a-4769-a494-7ce7d71b3363 button.colab-df-convert');\n",
              "        buttonEl.style.display =\n",
              "          google.colab.kernel.accessAllowed ? 'block' : 'none';\n",
              "\n",
              "        async function convertToInteractive(key) {\n",
              "          const element = document.querySelector('#df-46f5da41-b15a-4769-a494-7ce7d71b3363');\n",
              "          const dataTable =\n",
              "            await google.colab.kernel.invokeFunction('convertToInteractive',\n",
              "                                                     [key], {});\n",
              "          if (!dataTable) return;\n",
              "\n",
              "          const docLinkHtml = 'Like what you see? Visit the ' +\n",
              "            '<a target=\"_blank\" href=https://colab.research.google.com/notebooks/data_table.ipynb>data table notebook</a>'\n",
              "            + ' to learn more about interactive tables.';\n",
              "          element.innerHTML = '';\n",
              "          dataTable['output_type'] = 'display_data';\n",
              "          await google.colab.output.renderOutput(dataTable, element);\n",
              "          const docLink = document.createElement('div');\n",
              "          docLink.innerHTML = docLinkHtml;\n",
              "          element.appendChild(docLink);\n",
              "        }\n",
              "      </script>\n",
              "    </div>\n",
              "  </div>\n",
              "  "
            ]
          },
          "metadata": {},
          "execution_count": 33
        }
      ]
    },
    {
      "cell_type": "code",
      "source": [
        "X = heart_disease.drop(\"target\",axis=1)\n",
        "X.head(1)"
      ],
      "metadata": {
        "colab": {
          "base_uri": "https://localhost:8080/",
          "height": 81
        },
        "id": "oXWbaP3I086w",
        "outputId": "e65cc5a5-5838-4ac9-b78a-43a48a58cc84"
      },
      "execution_count": null,
      "outputs": [
        {
          "output_type": "execute_result",
          "data": {
            "text/plain": [
              "   age  sex  cp  trestbps  chol  fbs  restecg  thalach  exang  oldpeak  slope  \\\n",
              "0   63    1   3       145   233    1        0      150      0      2.3      0   \n",
              "\n",
              "   ca  thal  \n",
              "0   0     1  "
            ],
            "text/html": [
              "\n",
              "  <div id=\"df-10bcb354-1d40-4e2b-be57-fa8c2f715086\">\n",
              "    <div class=\"colab-df-container\">\n",
              "      <div>\n",
              "<style scoped>\n",
              "    .dataframe tbody tr th:only-of-type {\n",
              "        vertical-align: middle;\n",
              "    }\n",
              "\n",
              "    .dataframe tbody tr th {\n",
              "        vertical-align: top;\n",
              "    }\n",
              "\n",
              "    .dataframe thead th {\n",
              "        text-align: right;\n",
              "    }\n",
              "</style>\n",
              "<table border=\"1\" class=\"dataframe\">\n",
              "  <thead>\n",
              "    <tr style=\"text-align: right;\">\n",
              "      <th></th>\n",
              "      <th>age</th>\n",
              "      <th>sex</th>\n",
              "      <th>cp</th>\n",
              "      <th>trestbps</th>\n",
              "      <th>chol</th>\n",
              "      <th>fbs</th>\n",
              "      <th>restecg</th>\n",
              "      <th>thalach</th>\n",
              "      <th>exang</th>\n",
              "      <th>oldpeak</th>\n",
              "      <th>slope</th>\n",
              "      <th>ca</th>\n",
              "      <th>thal</th>\n",
              "    </tr>\n",
              "  </thead>\n",
              "  <tbody>\n",
              "    <tr>\n",
              "      <th>0</th>\n",
              "      <td>63</td>\n",
              "      <td>1</td>\n",
              "      <td>3</td>\n",
              "      <td>145</td>\n",
              "      <td>233</td>\n",
              "      <td>1</td>\n",
              "      <td>0</td>\n",
              "      <td>150</td>\n",
              "      <td>0</td>\n",
              "      <td>2.3</td>\n",
              "      <td>0</td>\n",
              "      <td>0</td>\n",
              "      <td>1</td>\n",
              "    </tr>\n",
              "  </tbody>\n",
              "</table>\n",
              "</div>\n",
              "      <button class=\"colab-df-convert\" onclick=\"convertToInteractive('df-10bcb354-1d40-4e2b-be57-fa8c2f715086')\"\n",
              "              title=\"Convert this dataframe to an interactive table.\"\n",
              "              style=\"display:none;\">\n",
              "        \n",
              "  <svg xmlns=\"http://www.w3.org/2000/svg\" height=\"24px\"viewBox=\"0 0 24 24\"\n",
              "       width=\"24px\">\n",
              "    <path d=\"M0 0h24v24H0V0z\" fill=\"none\"/>\n",
              "    <path d=\"M18.56 5.44l.94 2.06.94-2.06 2.06-.94-2.06-.94-.94-2.06-.94 2.06-2.06.94zm-11 1L8.5 8.5l.94-2.06 2.06-.94-2.06-.94L8.5 2.5l-.94 2.06-2.06.94zm10 10l.94 2.06.94-2.06 2.06-.94-2.06-.94-.94-2.06-.94 2.06-2.06.94z\"/><path d=\"M17.41 7.96l-1.37-1.37c-.4-.4-.92-.59-1.43-.59-.52 0-1.04.2-1.43.59L10.3 9.45l-7.72 7.72c-.78.78-.78 2.05 0 2.83L4 21.41c.39.39.9.59 1.41.59.51 0 1.02-.2 1.41-.59l7.78-7.78 2.81-2.81c.8-.78.8-2.07 0-2.86zM5.41 20L4 18.59l7.72-7.72 1.47 1.35L5.41 20z\"/>\n",
              "  </svg>\n",
              "      </button>\n",
              "      \n",
              "  <style>\n",
              "    .colab-df-container {\n",
              "      display:flex;\n",
              "      flex-wrap:wrap;\n",
              "      gap: 12px;\n",
              "    }\n",
              "\n",
              "    .colab-df-convert {\n",
              "      background-color: #E8F0FE;\n",
              "      border: none;\n",
              "      border-radius: 50%;\n",
              "      cursor: pointer;\n",
              "      display: none;\n",
              "      fill: #1967D2;\n",
              "      height: 32px;\n",
              "      padding: 0 0 0 0;\n",
              "      width: 32px;\n",
              "    }\n",
              "\n",
              "    .colab-df-convert:hover {\n",
              "      background-color: #E2EBFA;\n",
              "      box-shadow: 0px 1px 2px rgba(60, 64, 67, 0.3), 0px 1px 3px 1px rgba(60, 64, 67, 0.15);\n",
              "      fill: #174EA6;\n",
              "    }\n",
              "\n",
              "    [theme=dark] .colab-df-convert {\n",
              "      background-color: #3B4455;\n",
              "      fill: #D2E3FC;\n",
              "    }\n",
              "\n",
              "    [theme=dark] .colab-df-convert:hover {\n",
              "      background-color: #434B5C;\n",
              "      box-shadow: 0px 1px 3px 1px rgba(0, 0, 0, 0.15);\n",
              "      filter: drop-shadow(0px 1px 2px rgba(0, 0, 0, 0.3));\n",
              "      fill: #FFFFFF;\n",
              "    }\n",
              "  </style>\n",
              "\n",
              "      <script>\n",
              "        const buttonEl =\n",
              "          document.querySelector('#df-10bcb354-1d40-4e2b-be57-fa8c2f715086 button.colab-df-convert');\n",
              "        buttonEl.style.display =\n",
              "          google.colab.kernel.accessAllowed ? 'block' : 'none';\n",
              "\n",
              "        async function convertToInteractive(key) {\n",
              "          const element = document.querySelector('#df-10bcb354-1d40-4e2b-be57-fa8c2f715086');\n",
              "          const dataTable =\n",
              "            await google.colab.kernel.invokeFunction('convertToInteractive',\n",
              "                                                     [key], {});\n",
              "          if (!dataTable) return;\n",
              "\n",
              "          const docLinkHtml = 'Like what you see? Visit the ' +\n",
              "            '<a target=\"_blank\" href=https://colab.research.google.com/notebooks/data_table.ipynb>data table notebook</a>'\n",
              "            + ' to learn more about interactive tables.';\n",
              "          element.innerHTML = '';\n",
              "          dataTable['output_type'] = 'display_data';\n",
              "          await google.colab.output.renderOutput(dataTable, element);\n",
              "          const docLink = document.createElement('div');\n",
              "          docLink.innerHTML = docLinkHtml;\n",
              "          element.appendChild(docLink);\n",
              "        }\n",
              "      </script>\n",
              "    </div>\n",
              "  </div>\n",
              "  "
            ]
          },
          "metadata": {},
          "execution_count": 34
        }
      ]
    },
    {
      "cell_type": "code",
      "source": [
        "y = heart_disease[\"target\"]\n",
        "y.head(1)"
      ],
      "metadata": {
        "colab": {
          "base_uri": "https://localhost:8080/"
        },
        "id": "fxTrG6WH1LsC",
        "outputId": "bb6acd07-aaef-481a-a218-9c0cad513706"
      },
      "execution_count": null,
      "outputs": [
        {
          "output_type": "execute_result",
          "data": {
            "text/plain": [
              "0    1\n",
              "Name: target, dtype: int64"
            ]
          },
          "metadata": {},
          "execution_count": 35
        }
      ]
    },
    {
      "cell_type": "code",
      "source": [
        "# Split the data into training and test sets\n",
        "from sklearn.model_selection import train_test_split\n",
        "X_train,X_test,y_train,y_test = train_test_split(X,y,test_size=(0.2))"
      ],
      "metadata": {
        "id": "ND3Hzlyv1pDu"
      },
      "execution_count": null,
      "outputs": []
    },
    {
      "cell_type": "code",
      "source": [
        "X_train.shape,X_test.shape,y_train.shape,y_test.shape"
      ],
      "metadata": {
        "colab": {
          "base_uri": "https://localhost:8080/"
        },
        "id": "hTsmk5-g3HGE",
        "outputId": "2d08fe32-a637-411d-fc0f-4ead71e8b7a3"
      },
      "execution_count": null,
      "outputs": [
        {
          "output_type": "execute_result",
          "data": {
            "text/plain": [
              "((242, 13), (61, 13), (242,), (61,))"
            ]
          },
          "metadata": {},
          "execution_count": 37
        }
      ]
    },
    {
      "cell_type": "code",
      "source": [
        "X.shape"
      ],
      "metadata": {
        "colab": {
          "base_uri": "https://localhost:8080/"
        },
        "id": "lnpOgod03L_r",
        "outputId": "cbd2822a-6fab-48be-d4d2-97d77506a781"
      },
      "execution_count": null,
      "outputs": [
        {
          "output_type": "execute_result",
          "data": {
            "text/plain": [
              "(303, 13)"
            ]
          },
          "metadata": {},
          "execution_count": 38
        }
      ]
    },
    {
      "cell_type": "markdown",
      "source": [
        "## 1.1 make sure data is numerical"
      ],
      "metadata": {
        "id": "Ni6OLJAl3RAg"
      }
    },
    {
      "cell_type": "code",
      "source": [
        "car_sales = pd.read_csv(\"car-sales.csv\")\n",
        "car_sales.head()"
      ],
      "metadata": {
        "colab": {
          "base_uri": "https://localhost:8080/",
          "height": 206
        },
        "id": "mhg9OQm24Uua",
        "outputId": "446fa31e-ad8b-4e0d-fb03-e8fefa69dec8"
      },
      "execution_count": null,
      "outputs": [
        {
          "output_type": "execute_result",
          "data": {
            "text/plain": [
              "     Make Colour  Odometer (KM)  Doors  Price\n",
              "0   Honda  White          35431      4  15323\n",
              "1     BMW   Blue         192714      5  19943\n",
              "2   Honda  White          84714      4  28343\n",
              "3  Toyota  White         154365      4  13434\n",
              "4  Nissan   Blue         181577      3  14043"
            ],
            "text/html": [
              "\n",
              "  <div id=\"df-52092518-8660-4541-acce-99c5e85e4907\">\n",
              "    <div class=\"colab-df-container\">\n",
              "      <div>\n",
              "<style scoped>\n",
              "    .dataframe tbody tr th:only-of-type {\n",
              "        vertical-align: middle;\n",
              "    }\n",
              "\n",
              "    .dataframe tbody tr th {\n",
              "        vertical-align: top;\n",
              "    }\n",
              "\n",
              "    .dataframe thead th {\n",
              "        text-align: right;\n",
              "    }\n",
              "</style>\n",
              "<table border=\"1\" class=\"dataframe\">\n",
              "  <thead>\n",
              "    <tr style=\"text-align: right;\">\n",
              "      <th></th>\n",
              "      <th>Make</th>\n",
              "      <th>Colour</th>\n",
              "      <th>Odometer (KM)</th>\n",
              "      <th>Doors</th>\n",
              "      <th>Price</th>\n",
              "    </tr>\n",
              "  </thead>\n",
              "  <tbody>\n",
              "    <tr>\n",
              "      <th>0</th>\n",
              "      <td>Honda</td>\n",
              "      <td>White</td>\n",
              "      <td>35431</td>\n",
              "      <td>4</td>\n",
              "      <td>15323</td>\n",
              "    </tr>\n",
              "    <tr>\n",
              "      <th>1</th>\n",
              "      <td>BMW</td>\n",
              "      <td>Blue</td>\n",
              "      <td>192714</td>\n",
              "      <td>5</td>\n",
              "      <td>19943</td>\n",
              "    </tr>\n",
              "    <tr>\n",
              "      <th>2</th>\n",
              "      <td>Honda</td>\n",
              "      <td>White</td>\n",
              "      <td>84714</td>\n",
              "      <td>4</td>\n",
              "      <td>28343</td>\n",
              "    </tr>\n",
              "    <tr>\n",
              "      <th>3</th>\n",
              "      <td>Toyota</td>\n",
              "      <td>White</td>\n",
              "      <td>154365</td>\n",
              "      <td>4</td>\n",
              "      <td>13434</td>\n",
              "    </tr>\n",
              "    <tr>\n",
              "      <th>4</th>\n",
              "      <td>Nissan</td>\n",
              "      <td>Blue</td>\n",
              "      <td>181577</td>\n",
              "      <td>3</td>\n",
              "      <td>14043</td>\n",
              "    </tr>\n",
              "  </tbody>\n",
              "</table>\n",
              "</div>\n",
              "      <button class=\"colab-df-convert\" onclick=\"convertToInteractive('df-52092518-8660-4541-acce-99c5e85e4907')\"\n",
              "              title=\"Convert this dataframe to an interactive table.\"\n",
              "              style=\"display:none;\">\n",
              "        \n",
              "  <svg xmlns=\"http://www.w3.org/2000/svg\" height=\"24px\"viewBox=\"0 0 24 24\"\n",
              "       width=\"24px\">\n",
              "    <path d=\"M0 0h24v24H0V0z\" fill=\"none\"/>\n",
              "    <path d=\"M18.56 5.44l.94 2.06.94-2.06 2.06-.94-2.06-.94-.94-2.06-.94 2.06-2.06.94zm-11 1L8.5 8.5l.94-2.06 2.06-.94-2.06-.94L8.5 2.5l-.94 2.06-2.06.94zm10 10l.94 2.06.94-2.06 2.06-.94-2.06-.94-.94-2.06-.94 2.06-2.06.94z\"/><path d=\"M17.41 7.96l-1.37-1.37c-.4-.4-.92-.59-1.43-.59-.52 0-1.04.2-1.43.59L10.3 9.45l-7.72 7.72c-.78.78-.78 2.05 0 2.83L4 21.41c.39.39.9.59 1.41.59.51 0 1.02-.2 1.41-.59l7.78-7.78 2.81-2.81c.8-.78.8-2.07 0-2.86zM5.41 20L4 18.59l7.72-7.72 1.47 1.35L5.41 20z\"/>\n",
              "  </svg>\n",
              "      </button>\n",
              "      \n",
              "  <style>\n",
              "    .colab-df-container {\n",
              "      display:flex;\n",
              "      flex-wrap:wrap;\n",
              "      gap: 12px;\n",
              "    }\n",
              "\n",
              "    .colab-df-convert {\n",
              "      background-color: #E8F0FE;\n",
              "      border: none;\n",
              "      border-radius: 50%;\n",
              "      cursor: pointer;\n",
              "      display: none;\n",
              "      fill: #1967D2;\n",
              "      height: 32px;\n",
              "      padding: 0 0 0 0;\n",
              "      width: 32px;\n",
              "    }\n",
              "\n",
              "    .colab-df-convert:hover {\n",
              "      background-color: #E2EBFA;\n",
              "      box-shadow: 0px 1px 2px rgba(60, 64, 67, 0.3), 0px 1px 3px 1px rgba(60, 64, 67, 0.15);\n",
              "      fill: #174EA6;\n",
              "    }\n",
              "\n",
              "    [theme=dark] .colab-df-convert {\n",
              "      background-color: #3B4455;\n",
              "      fill: #D2E3FC;\n",
              "    }\n",
              "\n",
              "    [theme=dark] .colab-df-convert:hover {\n",
              "      background-color: #434B5C;\n",
              "      box-shadow: 0px 1px 3px 1px rgba(0, 0, 0, 0.15);\n",
              "      filter: drop-shadow(0px 1px 2px rgba(0, 0, 0, 0.3));\n",
              "      fill: #FFFFFF;\n",
              "    }\n",
              "  </style>\n",
              "\n",
              "      <script>\n",
              "        const buttonEl =\n",
              "          document.querySelector('#df-52092518-8660-4541-acce-99c5e85e4907 button.colab-df-convert');\n",
              "        buttonEl.style.display =\n",
              "          google.colab.kernel.accessAllowed ? 'block' : 'none';\n",
              "\n",
              "        async function convertToInteractive(key) {\n",
              "          const element = document.querySelector('#df-52092518-8660-4541-acce-99c5e85e4907');\n",
              "          const dataTable =\n",
              "            await google.colab.kernel.invokeFunction('convertToInteractive',\n",
              "                                                     [key], {});\n",
              "          if (!dataTable) return;\n",
              "\n",
              "          const docLinkHtml = 'Like what you see? Visit the ' +\n",
              "            '<a target=\"_blank\" href=https://colab.research.google.com/notebooks/data_table.ipynb>data table notebook</a>'\n",
              "            + ' to learn more about interactive tables.';\n",
              "          element.innerHTML = '';\n",
              "          dataTable['output_type'] = 'display_data';\n",
              "          await google.colab.output.renderOutput(dataTable, element);\n",
              "          const docLink = document.createElement('div');\n",
              "          docLink.innerHTML = docLinkHtml;\n",
              "          element.appendChild(docLink);\n",
              "        }\n",
              "      </script>\n",
              "    </div>\n",
              "  </div>\n",
              "  "
            ]
          },
          "metadata": {},
          "execution_count": 39
        }
      ]
    },
    {
      "cell_type": "code",
      "source": [
        "X = car_sales.drop(\"Price\",axis=1)\n",
        "X.head(1)"
      ],
      "metadata": {
        "colab": {
          "base_uri": "https://localhost:8080/",
          "height": 81
        },
        "id": "5mHZC8j04bVo",
        "outputId": "4e810f2c-ef6a-404c-9a4f-ab876f4c9844"
      },
      "execution_count": null,
      "outputs": [
        {
          "output_type": "execute_result",
          "data": {
            "text/plain": [
              "    Make Colour  Odometer (KM)  Doors\n",
              "0  Honda  White          35431      4"
            ],
            "text/html": [
              "\n",
              "  <div id=\"df-9ce65960-ba85-435a-8bc9-c58f0e6e40ac\">\n",
              "    <div class=\"colab-df-container\">\n",
              "      <div>\n",
              "<style scoped>\n",
              "    .dataframe tbody tr th:only-of-type {\n",
              "        vertical-align: middle;\n",
              "    }\n",
              "\n",
              "    .dataframe tbody tr th {\n",
              "        vertical-align: top;\n",
              "    }\n",
              "\n",
              "    .dataframe thead th {\n",
              "        text-align: right;\n",
              "    }\n",
              "</style>\n",
              "<table border=\"1\" class=\"dataframe\">\n",
              "  <thead>\n",
              "    <tr style=\"text-align: right;\">\n",
              "      <th></th>\n",
              "      <th>Make</th>\n",
              "      <th>Colour</th>\n",
              "      <th>Odometer (KM)</th>\n",
              "      <th>Doors</th>\n",
              "    </tr>\n",
              "  </thead>\n",
              "  <tbody>\n",
              "    <tr>\n",
              "      <th>0</th>\n",
              "      <td>Honda</td>\n",
              "      <td>White</td>\n",
              "      <td>35431</td>\n",
              "      <td>4</td>\n",
              "    </tr>\n",
              "  </tbody>\n",
              "</table>\n",
              "</div>\n",
              "      <button class=\"colab-df-convert\" onclick=\"convertToInteractive('df-9ce65960-ba85-435a-8bc9-c58f0e6e40ac')\"\n",
              "              title=\"Convert this dataframe to an interactive table.\"\n",
              "              style=\"display:none;\">\n",
              "        \n",
              "  <svg xmlns=\"http://www.w3.org/2000/svg\" height=\"24px\"viewBox=\"0 0 24 24\"\n",
              "       width=\"24px\">\n",
              "    <path d=\"M0 0h24v24H0V0z\" fill=\"none\"/>\n",
              "    <path d=\"M18.56 5.44l.94 2.06.94-2.06 2.06-.94-2.06-.94-.94-2.06-.94 2.06-2.06.94zm-11 1L8.5 8.5l.94-2.06 2.06-.94-2.06-.94L8.5 2.5l-.94 2.06-2.06.94zm10 10l.94 2.06.94-2.06 2.06-.94-2.06-.94-.94-2.06-.94 2.06-2.06.94z\"/><path d=\"M17.41 7.96l-1.37-1.37c-.4-.4-.92-.59-1.43-.59-.52 0-1.04.2-1.43.59L10.3 9.45l-7.72 7.72c-.78.78-.78 2.05 0 2.83L4 21.41c.39.39.9.59 1.41.59.51 0 1.02-.2 1.41-.59l7.78-7.78 2.81-2.81c.8-.78.8-2.07 0-2.86zM5.41 20L4 18.59l7.72-7.72 1.47 1.35L5.41 20z\"/>\n",
              "  </svg>\n",
              "      </button>\n",
              "      \n",
              "  <style>\n",
              "    .colab-df-container {\n",
              "      display:flex;\n",
              "      flex-wrap:wrap;\n",
              "      gap: 12px;\n",
              "    }\n",
              "\n",
              "    .colab-df-convert {\n",
              "      background-color: #E8F0FE;\n",
              "      border: none;\n",
              "      border-radius: 50%;\n",
              "      cursor: pointer;\n",
              "      display: none;\n",
              "      fill: #1967D2;\n",
              "      height: 32px;\n",
              "      padding: 0 0 0 0;\n",
              "      width: 32px;\n",
              "    }\n",
              "\n",
              "    .colab-df-convert:hover {\n",
              "      background-color: #E2EBFA;\n",
              "      box-shadow: 0px 1px 2px rgba(60, 64, 67, 0.3), 0px 1px 3px 1px rgba(60, 64, 67, 0.15);\n",
              "      fill: #174EA6;\n",
              "    }\n",
              "\n",
              "    [theme=dark] .colab-df-convert {\n",
              "      background-color: #3B4455;\n",
              "      fill: #D2E3FC;\n",
              "    }\n",
              "\n",
              "    [theme=dark] .colab-df-convert:hover {\n",
              "      background-color: #434B5C;\n",
              "      box-shadow: 0px 1px 3px 1px rgba(0, 0, 0, 0.15);\n",
              "      filter: drop-shadow(0px 1px 2px rgba(0, 0, 0, 0.3));\n",
              "      fill: #FFFFFF;\n",
              "    }\n",
              "  </style>\n",
              "\n",
              "      <script>\n",
              "        const buttonEl =\n",
              "          document.querySelector('#df-9ce65960-ba85-435a-8bc9-c58f0e6e40ac button.colab-df-convert');\n",
              "        buttonEl.style.display =\n",
              "          google.colab.kernel.accessAllowed ? 'block' : 'none';\n",
              "\n",
              "        async function convertToInteractive(key) {\n",
              "          const element = document.querySelector('#df-9ce65960-ba85-435a-8bc9-c58f0e6e40ac');\n",
              "          const dataTable =\n",
              "            await google.colab.kernel.invokeFunction('convertToInteractive',\n",
              "                                                     [key], {});\n",
              "          if (!dataTable) return;\n",
              "\n",
              "          const docLinkHtml = 'Like what you see? Visit the ' +\n",
              "            '<a target=\"_blank\" href=https://colab.research.google.com/notebooks/data_table.ipynb>data table notebook</a>'\n",
              "            + ' to learn more about interactive tables.';\n",
              "          element.innerHTML = '';\n",
              "          dataTable['output_type'] = 'display_data';\n",
              "          await google.colab.output.renderOutput(dataTable, element);\n",
              "          const docLink = document.createElement('div');\n",
              "          docLink.innerHTML = docLinkHtml;\n",
              "          element.appendChild(docLink);\n",
              "        }\n",
              "      </script>\n",
              "    </div>\n",
              "  </div>\n",
              "  "
            ]
          },
          "metadata": {},
          "execution_count": 40
        }
      ]
    },
    {
      "cell_type": "code",
      "source": [
        "y= car_sales[\"Price\"]\n",
        "y.head(1)"
      ],
      "metadata": {
        "colab": {
          "base_uri": "https://localhost:8080/"
        },
        "id": "Wmg6RW1W4e3z",
        "outputId": "23305e2e-5ef5-4ec3-f530-44f3a5e61e4d"
      },
      "execution_count": null,
      "outputs": [
        {
          "output_type": "execute_result",
          "data": {
            "text/plain": [
              "0    15323\n",
              "Name: Price, dtype: int64"
            ]
          },
          "metadata": {},
          "execution_count": 41
        }
      ]
    },
    {
      "cell_type": "code",
      "source": [
        "# Split into test and training\n",
        "X_train,X_test,y_train,y_test = train_test_split(X,y,test_size=(0.2))\n",
        "len(X_train)"
      ],
      "metadata": {
        "colab": {
          "base_uri": "https://localhost:8080/"
        },
        "id": "G0vl35vd4v6b",
        "outputId": "82143e2e-3171-42cf-c4c7-4bc62019b26a"
      },
      "execution_count": null,
      "outputs": [
        {
          "output_type": "execute_result",
          "data": {
            "text/plain": [
              "800"
            ]
          },
          "metadata": {},
          "execution_count": 42
        }
      ]
    },
    {
      "cell_type": "code",
      "source": [
        "# Build machine learning model      [ FAILS - STRING VALUES]\n",
        "from sklearn.ensemble import RandomForestRegressor\n",
        "\n",
        "model = RandomForestRegressor()\n",
        "model.fit(X_train,y_train)\n",
        "model.score(X_test,y_test)"
      ],
      "metadata": {
        "colab": {
          "base_uri": "https://localhost:8080/",
          "height": 364
        },
        "id": "N30WjfCj5H4Y",
        "outputId": "d076e9fc-71ce-4b96-8868-190c7ddf2506"
      },
      "execution_count": null,
      "outputs": [
        {
          "output_type": "error",
          "ename": "ValueError",
          "evalue": "ignored",
          "traceback": [
            "\u001b[0;31m---------------------------------------------------------------------------\u001b[0m",
            "\u001b[0;31mValueError\u001b[0m                                Traceback (most recent call last)",
            "\u001b[0;32m<ipython-input-44-f840ad694a6d>\u001b[0m in \u001b[0;36m<module>\u001b[0;34m()\u001b[0m\n\u001b[1;32m      3\u001b[0m \u001b[0;34m\u001b[0m\u001b[0m\n\u001b[1;32m      4\u001b[0m \u001b[0mmodel\u001b[0m \u001b[0;34m=\u001b[0m \u001b[0mRandomForestRegressor\u001b[0m\u001b[0;34m(\u001b[0m\u001b[0;34m)\u001b[0m\u001b[0;34m\u001b[0m\u001b[0;34m\u001b[0m\u001b[0m\n\u001b[0;32m----> 5\u001b[0;31m \u001b[0mmodel\u001b[0m\u001b[0;34m.\u001b[0m\u001b[0mfit\u001b[0m\u001b[0;34m(\u001b[0m\u001b[0mX_train\u001b[0m\u001b[0;34m,\u001b[0m\u001b[0my_train\u001b[0m\u001b[0;34m)\u001b[0m\u001b[0;34m\u001b[0m\u001b[0;34m\u001b[0m\u001b[0m\n\u001b[0m\u001b[1;32m      6\u001b[0m \u001b[0mmodel\u001b[0m\u001b[0;34m.\u001b[0m\u001b[0mscore\u001b[0m\u001b[0;34m(\u001b[0m\u001b[0mX_test\u001b[0m\u001b[0;34m,\u001b[0m\u001b[0my_test\u001b[0m\u001b[0;34m)\u001b[0m\u001b[0;34m\u001b[0m\u001b[0;34m\u001b[0m\u001b[0m\n",
            "\u001b[0;32m/usr/local/lib/python3.7/dist-packages/sklearn/ensemble/_forest.py\u001b[0m in \u001b[0;36mfit\u001b[0;34m(self, X, y, sample_weight)\u001b[0m\n\u001b[1;32m    326\u001b[0m             \u001b[0;32mraise\u001b[0m \u001b[0mValueError\u001b[0m\u001b[0;34m(\u001b[0m\u001b[0;34m\"sparse multilabel-indicator for y is not supported.\"\u001b[0m\u001b[0;34m)\u001b[0m\u001b[0;34m\u001b[0m\u001b[0;34m\u001b[0m\u001b[0m\n\u001b[1;32m    327\u001b[0m         X, y = self._validate_data(\n\u001b[0;32m--> 328\u001b[0;31m             \u001b[0mX\u001b[0m\u001b[0;34m,\u001b[0m \u001b[0my\u001b[0m\u001b[0;34m,\u001b[0m \u001b[0mmulti_output\u001b[0m\u001b[0;34m=\u001b[0m\u001b[0;32mTrue\u001b[0m\u001b[0;34m,\u001b[0m \u001b[0maccept_sparse\u001b[0m\u001b[0;34m=\u001b[0m\u001b[0;34m\"csc\"\u001b[0m\u001b[0;34m,\u001b[0m \u001b[0mdtype\u001b[0m\u001b[0;34m=\u001b[0m\u001b[0mDTYPE\u001b[0m\u001b[0;34m\u001b[0m\u001b[0;34m\u001b[0m\u001b[0m\n\u001b[0m\u001b[1;32m    329\u001b[0m         )\n\u001b[1;32m    330\u001b[0m         \u001b[0;32mif\u001b[0m \u001b[0msample_weight\u001b[0m \u001b[0;32mis\u001b[0m \u001b[0;32mnot\u001b[0m \u001b[0;32mNone\u001b[0m\u001b[0;34m:\u001b[0m\u001b[0;34m\u001b[0m\u001b[0;34m\u001b[0m\u001b[0m\n",
            "\u001b[0;32m/usr/local/lib/python3.7/dist-packages/sklearn/base.py\u001b[0m in \u001b[0;36m_validate_data\u001b[0;34m(self, X, y, reset, validate_separately, **check_params)\u001b[0m\n\u001b[1;32m    579\u001b[0m                 \u001b[0my\u001b[0m \u001b[0;34m=\u001b[0m \u001b[0mcheck_array\u001b[0m\u001b[0;34m(\u001b[0m\u001b[0my\u001b[0m\u001b[0;34m,\u001b[0m \u001b[0;34m**\u001b[0m\u001b[0mcheck_y_params\u001b[0m\u001b[0;34m)\u001b[0m\u001b[0;34m\u001b[0m\u001b[0;34m\u001b[0m\u001b[0m\n\u001b[1;32m    580\u001b[0m             \u001b[0;32melse\u001b[0m\u001b[0;34m:\u001b[0m\u001b[0;34m\u001b[0m\u001b[0;34m\u001b[0m\u001b[0m\n\u001b[0;32m--> 581\u001b[0;31m                 \u001b[0mX\u001b[0m\u001b[0;34m,\u001b[0m \u001b[0my\u001b[0m \u001b[0;34m=\u001b[0m \u001b[0mcheck_X_y\u001b[0m\u001b[0;34m(\u001b[0m\u001b[0mX\u001b[0m\u001b[0;34m,\u001b[0m \u001b[0my\u001b[0m\u001b[0;34m,\u001b[0m \u001b[0;34m**\u001b[0m\u001b[0mcheck_params\u001b[0m\u001b[0;34m)\u001b[0m\u001b[0;34m\u001b[0m\u001b[0;34m\u001b[0m\u001b[0m\n\u001b[0m\u001b[1;32m    582\u001b[0m             \u001b[0mout\u001b[0m \u001b[0;34m=\u001b[0m \u001b[0mX\u001b[0m\u001b[0;34m,\u001b[0m \u001b[0my\u001b[0m\u001b[0;34m\u001b[0m\u001b[0;34m\u001b[0m\u001b[0m\n\u001b[1;32m    583\u001b[0m \u001b[0;34m\u001b[0m\u001b[0m\n",
            "\u001b[0;32m/usr/local/lib/python3.7/dist-packages/sklearn/utils/validation.py\u001b[0m in \u001b[0;36mcheck_X_y\u001b[0;34m(X, y, accept_sparse, accept_large_sparse, dtype, order, copy, force_all_finite, ensure_2d, allow_nd, multi_output, ensure_min_samples, ensure_min_features, y_numeric, estimator)\u001b[0m\n\u001b[1;32m    974\u001b[0m         \u001b[0mensure_min_samples\u001b[0m\u001b[0;34m=\u001b[0m\u001b[0mensure_min_samples\u001b[0m\u001b[0;34m,\u001b[0m\u001b[0;34m\u001b[0m\u001b[0;34m\u001b[0m\u001b[0m\n\u001b[1;32m    975\u001b[0m         \u001b[0mensure_min_features\u001b[0m\u001b[0;34m=\u001b[0m\u001b[0mensure_min_features\u001b[0m\u001b[0;34m,\u001b[0m\u001b[0;34m\u001b[0m\u001b[0;34m\u001b[0m\u001b[0m\n\u001b[0;32m--> 976\u001b[0;31m         \u001b[0mestimator\u001b[0m\u001b[0;34m=\u001b[0m\u001b[0mestimator\u001b[0m\u001b[0;34m,\u001b[0m\u001b[0;34m\u001b[0m\u001b[0;34m\u001b[0m\u001b[0m\n\u001b[0m\u001b[1;32m    977\u001b[0m     )\n\u001b[1;32m    978\u001b[0m \u001b[0;34m\u001b[0m\u001b[0m\n",
            "\u001b[0;32m/usr/local/lib/python3.7/dist-packages/sklearn/utils/validation.py\u001b[0m in \u001b[0;36mcheck_array\u001b[0;34m(array, accept_sparse, accept_large_sparse, dtype, order, copy, force_all_finite, ensure_2d, allow_nd, ensure_min_samples, ensure_min_features, estimator)\u001b[0m\n\u001b[1;32m    744\u001b[0m                     \u001b[0marray\u001b[0m \u001b[0;34m=\u001b[0m \u001b[0marray\u001b[0m\u001b[0;34m.\u001b[0m\u001b[0mastype\u001b[0m\u001b[0;34m(\u001b[0m\u001b[0mdtype\u001b[0m\u001b[0;34m,\u001b[0m \u001b[0mcasting\u001b[0m\u001b[0;34m=\u001b[0m\u001b[0;34m\"unsafe\"\u001b[0m\u001b[0;34m,\u001b[0m \u001b[0mcopy\u001b[0m\u001b[0;34m=\u001b[0m\u001b[0;32mFalse\u001b[0m\u001b[0;34m)\u001b[0m\u001b[0;34m\u001b[0m\u001b[0;34m\u001b[0m\u001b[0m\n\u001b[1;32m    745\u001b[0m                 \u001b[0;32melse\u001b[0m\u001b[0;34m:\u001b[0m\u001b[0;34m\u001b[0m\u001b[0;34m\u001b[0m\u001b[0m\n\u001b[0;32m--> 746\u001b[0;31m                     \u001b[0marray\u001b[0m \u001b[0;34m=\u001b[0m \u001b[0mnp\u001b[0m\u001b[0;34m.\u001b[0m\u001b[0masarray\u001b[0m\u001b[0;34m(\u001b[0m\u001b[0marray\u001b[0m\u001b[0;34m,\u001b[0m \u001b[0morder\u001b[0m\u001b[0;34m=\u001b[0m\u001b[0morder\u001b[0m\u001b[0;34m,\u001b[0m \u001b[0mdtype\u001b[0m\u001b[0;34m=\u001b[0m\u001b[0mdtype\u001b[0m\u001b[0;34m)\u001b[0m\u001b[0;34m\u001b[0m\u001b[0;34m\u001b[0m\u001b[0m\n\u001b[0m\u001b[1;32m    747\u001b[0m             \u001b[0;32mexcept\u001b[0m \u001b[0mComplexWarning\u001b[0m \u001b[0;32mas\u001b[0m \u001b[0mcomplex_warning\u001b[0m\u001b[0;34m:\u001b[0m\u001b[0;34m\u001b[0m\u001b[0;34m\u001b[0m\u001b[0m\n\u001b[1;32m    748\u001b[0m                 raise ValueError(\n",
            "\u001b[0;32m/usr/local/lib/python3.7/dist-packages/pandas/core/generic.py\u001b[0m in \u001b[0;36m__array__\u001b[0;34m(self, dtype)\u001b[0m\n\u001b[1;32m   1991\u001b[0m \u001b[0;34m\u001b[0m\u001b[0m\n\u001b[1;32m   1992\u001b[0m     \u001b[0;32mdef\u001b[0m \u001b[0m__array__\u001b[0m\u001b[0;34m(\u001b[0m\u001b[0mself\u001b[0m\u001b[0;34m,\u001b[0m \u001b[0mdtype\u001b[0m\u001b[0;34m:\u001b[0m \u001b[0mNpDtype\u001b[0m \u001b[0;34m|\u001b[0m \u001b[0;32mNone\u001b[0m \u001b[0;34m=\u001b[0m \u001b[0;32mNone\u001b[0m\u001b[0;34m)\u001b[0m \u001b[0;34m->\u001b[0m \u001b[0mnp\u001b[0m\u001b[0;34m.\u001b[0m\u001b[0mndarray\u001b[0m\u001b[0;34m:\u001b[0m\u001b[0;34m\u001b[0m\u001b[0;34m\u001b[0m\u001b[0m\n\u001b[0;32m-> 1993\u001b[0;31m         \u001b[0;32mreturn\u001b[0m \u001b[0mnp\u001b[0m\u001b[0;34m.\u001b[0m\u001b[0masarray\u001b[0m\u001b[0;34m(\u001b[0m\u001b[0mself\u001b[0m\u001b[0;34m.\u001b[0m\u001b[0m_values\u001b[0m\u001b[0;34m,\u001b[0m \u001b[0mdtype\u001b[0m\u001b[0;34m=\u001b[0m\u001b[0mdtype\u001b[0m\u001b[0;34m)\u001b[0m\u001b[0;34m\u001b[0m\u001b[0;34m\u001b[0m\u001b[0m\n\u001b[0m\u001b[1;32m   1994\u001b[0m \u001b[0;34m\u001b[0m\u001b[0m\n\u001b[1;32m   1995\u001b[0m     def __array_wrap__(\n",
            "\u001b[0;31mValueError\u001b[0m: could not convert string to float: 'Toyota'"
          ]
        }
      ]
    },
    {
      "cell_type": "code",
      "source": [
        "# Turn categories into numbers\n",
        "from sklearn.preprocessing import OneHotEncoder\n",
        "from sklearn.compose import ColumnTransformer\n",
        "\n",
        "categorical_features = [\"Make\",\"Colour\",\"Doors\"]\n",
        "one_hot = OneHotEncoder()\n",
        "transformer = ColumnTransformer([(\"one_hot\",one_hot,categorical_features)],remainder=\"passthrough\")\n",
        "\n",
        "transformed_X = transformer.fit_transform(X)\n"
      ],
      "metadata": {
        "id": "46cvfEvh5dJc"
      },
      "execution_count": null,
      "outputs": []
    },
    {
      "cell_type": "code",
      "source": [
        "pd.DataFrame(transformed_X)"
      ],
      "metadata": {
        "colab": {
          "base_uri": "https://localhost:8080/",
          "height": 424
        },
        "id": "P_p3kZw-7zle",
        "outputId": "d1930b95-d592-4f39-aaeb-ba282670aaf3"
      },
      "execution_count": null,
      "outputs": [
        {
          "output_type": "execute_result",
          "data": {
            "text/plain": [
              "      0    1    2    3    4    5    6    7    8    9    10   11        12\n",
              "0    0.0  1.0  0.0  0.0  0.0  0.0  0.0  0.0  1.0  0.0  1.0  0.0   35431.0\n",
              "1    1.0  0.0  0.0  0.0  0.0  1.0  0.0  0.0  0.0  0.0  0.0  1.0  192714.0\n",
              "2    0.0  1.0  0.0  0.0  0.0  0.0  0.0  0.0  1.0  0.0  1.0  0.0   84714.0\n",
              "3    0.0  0.0  0.0  1.0  0.0  0.0  0.0  0.0  1.0  0.0  1.0  0.0  154365.0\n",
              "4    0.0  0.0  1.0  0.0  0.0  1.0  0.0  0.0  0.0  1.0  0.0  0.0  181577.0\n",
              "..   ...  ...  ...  ...  ...  ...  ...  ...  ...  ...  ...  ...       ...\n",
              "995  0.0  0.0  0.0  1.0  1.0  0.0  0.0  0.0  0.0  0.0  1.0  0.0   35820.0\n",
              "996  0.0  0.0  1.0  0.0  0.0  0.0  0.0  0.0  1.0  1.0  0.0  0.0  155144.0\n",
              "997  0.0  0.0  1.0  0.0  0.0  1.0  0.0  0.0  0.0  0.0  1.0  0.0   66604.0\n",
              "998  0.0  1.0  0.0  0.0  0.0  0.0  0.0  0.0  1.0  0.0  1.0  0.0  215883.0\n",
              "999  0.0  0.0  0.0  1.0  0.0  1.0  0.0  0.0  0.0  0.0  1.0  0.0  248360.0\n",
              "\n",
              "[1000 rows x 13 columns]"
            ],
            "text/html": [
              "\n",
              "  <div id=\"df-85c63a8d-cd33-42d8-8e97-4d521df5e386\">\n",
              "    <div class=\"colab-df-container\">\n",
              "      <div>\n",
              "<style scoped>\n",
              "    .dataframe tbody tr th:only-of-type {\n",
              "        vertical-align: middle;\n",
              "    }\n",
              "\n",
              "    .dataframe tbody tr th {\n",
              "        vertical-align: top;\n",
              "    }\n",
              "\n",
              "    .dataframe thead th {\n",
              "        text-align: right;\n",
              "    }\n",
              "</style>\n",
              "<table border=\"1\" class=\"dataframe\">\n",
              "  <thead>\n",
              "    <tr style=\"text-align: right;\">\n",
              "      <th></th>\n",
              "      <th>0</th>\n",
              "      <th>1</th>\n",
              "      <th>2</th>\n",
              "      <th>3</th>\n",
              "      <th>4</th>\n",
              "      <th>5</th>\n",
              "      <th>6</th>\n",
              "      <th>7</th>\n",
              "      <th>8</th>\n",
              "      <th>9</th>\n",
              "      <th>10</th>\n",
              "      <th>11</th>\n",
              "      <th>12</th>\n",
              "    </tr>\n",
              "  </thead>\n",
              "  <tbody>\n",
              "    <tr>\n",
              "      <th>0</th>\n",
              "      <td>0.0</td>\n",
              "      <td>1.0</td>\n",
              "      <td>0.0</td>\n",
              "      <td>0.0</td>\n",
              "      <td>0.0</td>\n",
              "      <td>0.0</td>\n",
              "      <td>0.0</td>\n",
              "      <td>0.0</td>\n",
              "      <td>1.0</td>\n",
              "      <td>0.0</td>\n",
              "      <td>1.0</td>\n",
              "      <td>0.0</td>\n",
              "      <td>35431.0</td>\n",
              "    </tr>\n",
              "    <tr>\n",
              "      <th>1</th>\n",
              "      <td>1.0</td>\n",
              "      <td>0.0</td>\n",
              "      <td>0.0</td>\n",
              "      <td>0.0</td>\n",
              "      <td>0.0</td>\n",
              "      <td>1.0</td>\n",
              "      <td>0.0</td>\n",
              "      <td>0.0</td>\n",
              "      <td>0.0</td>\n",
              "      <td>0.0</td>\n",
              "      <td>0.0</td>\n",
              "      <td>1.0</td>\n",
              "      <td>192714.0</td>\n",
              "    </tr>\n",
              "    <tr>\n",
              "      <th>2</th>\n",
              "      <td>0.0</td>\n",
              "      <td>1.0</td>\n",
              "      <td>0.0</td>\n",
              "      <td>0.0</td>\n",
              "      <td>0.0</td>\n",
              "      <td>0.0</td>\n",
              "      <td>0.0</td>\n",
              "      <td>0.0</td>\n",
              "      <td>1.0</td>\n",
              "      <td>0.0</td>\n",
              "      <td>1.0</td>\n",
              "      <td>0.0</td>\n",
              "      <td>84714.0</td>\n",
              "    </tr>\n",
              "    <tr>\n",
              "      <th>3</th>\n",
              "      <td>0.0</td>\n",
              "      <td>0.0</td>\n",
              "      <td>0.0</td>\n",
              "      <td>1.0</td>\n",
              "      <td>0.0</td>\n",
              "      <td>0.0</td>\n",
              "      <td>0.0</td>\n",
              "      <td>0.0</td>\n",
              "      <td>1.0</td>\n",
              "      <td>0.0</td>\n",
              "      <td>1.0</td>\n",
              "      <td>0.0</td>\n",
              "      <td>154365.0</td>\n",
              "    </tr>\n",
              "    <tr>\n",
              "      <th>4</th>\n",
              "      <td>0.0</td>\n",
              "      <td>0.0</td>\n",
              "      <td>1.0</td>\n",
              "      <td>0.0</td>\n",
              "      <td>0.0</td>\n",
              "      <td>1.0</td>\n",
              "      <td>0.0</td>\n",
              "      <td>0.0</td>\n",
              "      <td>0.0</td>\n",
              "      <td>1.0</td>\n",
              "      <td>0.0</td>\n",
              "      <td>0.0</td>\n",
              "      <td>181577.0</td>\n",
              "    </tr>\n",
              "    <tr>\n",
              "      <th>...</th>\n",
              "      <td>...</td>\n",
              "      <td>...</td>\n",
              "      <td>...</td>\n",
              "      <td>...</td>\n",
              "      <td>...</td>\n",
              "      <td>...</td>\n",
              "      <td>...</td>\n",
              "      <td>...</td>\n",
              "      <td>...</td>\n",
              "      <td>...</td>\n",
              "      <td>...</td>\n",
              "      <td>...</td>\n",
              "      <td>...</td>\n",
              "    </tr>\n",
              "    <tr>\n",
              "      <th>995</th>\n",
              "      <td>0.0</td>\n",
              "      <td>0.0</td>\n",
              "      <td>0.0</td>\n",
              "      <td>1.0</td>\n",
              "      <td>1.0</td>\n",
              "      <td>0.0</td>\n",
              "      <td>0.0</td>\n",
              "      <td>0.0</td>\n",
              "      <td>0.0</td>\n",
              "      <td>0.0</td>\n",
              "      <td>1.0</td>\n",
              "      <td>0.0</td>\n",
              "      <td>35820.0</td>\n",
              "    </tr>\n",
              "    <tr>\n",
              "      <th>996</th>\n",
              "      <td>0.0</td>\n",
              "      <td>0.0</td>\n",
              "      <td>1.0</td>\n",
              "      <td>0.0</td>\n",
              "      <td>0.0</td>\n",
              "      <td>0.0</td>\n",
              "      <td>0.0</td>\n",
              "      <td>0.0</td>\n",
              "      <td>1.0</td>\n",
              "      <td>1.0</td>\n",
              "      <td>0.0</td>\n",
              "      <td>0.0</td>\n",
              "      <td>155144.0</td>\n",
              "    </tr>\n",
              "    <tr>\n",
              "      <th>997</th>\n",
              "      <td>0.0</td>\n",
              "      <td>0.0</td>\n",
              "      <td>1.0</td>\n",
              "      <td>0.0</td>\n",
              "      <td>0.0</td>\n",
              "      <td>1.0</td>\n",
              "      <td>0.0</td>\n",
              "      <td>0.0</td>\n",
              "      <td>0.0</td>\n",
              "      <td>0.0</td>\n",
              "      <td>1.0</td>\n",
              "      <td>0.0</td>\n",
              "      <td>66604.0</td>\n",
              "    </tr>\n",
              "    <tr>\n",
              "      <th>998</th>\n",
              "      <td>0.0</td>\n",
              "      <td>1.0</td>\n",
              "      <td>0.0</td>\n",
              "      <td>0.0</td>\n",
              "      <td>0.0</td>\n",
              "      <td>0.0</td>\n",
              "      <td>0.0</td>\n",
              "      <td>0.0</td>\n",
              "      <td>1.0</td>\n",
              "      <td>0.0</td>\n",
              "      <td>1.0</td>\n",
              "      <td>0.0</td>\n",
              "      <td>215883.0</td>\n",
              "    </tr>\n",
              "    <tr>\n",
              "      <th>999</th>\n",
              "      <td>0.0</td>\n",
              "      <td>0.0</td>\n",
              "      <td>0.0</td>\n",
              "      <td>1.0</td>\n",
              "      <td>0.0</td>\n",
              "      <td>1.0</td>\n",
              "      <td>0.0</td>\n",
              "      <td>0.0</td>\n",
              "      <td>0.0</td>\n",
              "      <td>0.0</td>\n",
              "      <td>1.0</td>\n",
              "      <td>0.0</td>\n",
              "      <td>248360.0</td>\n",
              "    </tr>\n",
              "  </tbody>\n",
              "</table>\n",
              "<p>1000 rows × 13 columns</p>\n",
              "</div>\n",
              "      <button class=\"colab-df-convert\" onclick=\"convertToInteractive('df-85c63a8d-cd33-42d8-8e97-4d521df5e386')\"\n",
              "              title=\"Convert this dataframe to an interactive table.\"\n",
              "              style=\"display:none;\">\n",
              "        \n",
              "  <svg xmlns=\"http://www.w3.org/2000/svg\" height=\"24px\"viewBox=\"0 0 24 24\"\n",
              "       width=\"24px\">\n",
              "    <path d=\"M0 0h24v24H0V0z\" fill=\"none\"/>\n",
              "    <path d=\"M18.56 5.44l.94 2.06.94-2.06 2.06-.94-2.06-.94-.94-2.06-.94 2.06-2.06.94zm-11 1L8.5 8.5l.94-2.06 2.06-.94-2.06-.94L8.5 2.5l-.94 2.06-2.06.94zm10 10l.94 2.06.94-2.06 2.06-.94-2.06-.94-.94-2.06-.94 2.06-2.06.94z\"/><path d=\"M17.41 7.96l-1.37-1.37c-.4-.4-.92-.59-1.43-.59-.52 0-1.04.2-1.43.59L10.3 9.45l-7.72 7.72c-.78.78-.78 2.05 0 2.83L4 21.41c.39.39.9.59 1.41.59.51 0 1.02-.2 1.41-.59l7.78-7.78 2.81-2.81c.8-.78.8-2.07 0-2.86zM5.41 20L4 18.59l7.72-7.72 1.47 1.35L5.41 20z\"/>\n",
              "  </svg>\n",
              "      </button>\n",
              "      \n",
              "  <style>\n",
              "    .colab-df-container {\n",
              "      display:flex;\n",
              "      flex-wrap:wrap;\n",
              "      gap: 12px;\n",
              "    }\n",
              "\n",
              "    .colab-df-convert {\n",
              "      background-color: #E8F0FE;\n",
              "      border: none;\n",
              "      border-radius: 50%;\n",
              "      cursor: pointer;\n",
              "      display: none;\n",
              "      fill: #1967D2;\n",
              "      height: 32px;\n",
              "      padding: 0 0 0 0;\n",
              "      width: 32px;\n",
              "    }\n",
              "\n",
              "    .colab-df-convert:hover {\n",
              "      background-color: #E2EBFA;\n",
              "      box-shadow: 0px 1px 2px rgba(60, 64, 67, 0.3), 0px 1px 3px 1px rgba(60, 64, 67, 0.15);\n",
              "      fill: #174EA6;\n",
              "    }\n",
              "\n",
              "    [theme=dark] .colab-df-convert {\n",
              "      background-color: #3B4455;\n",
              "      fill: #D2E3FC;\n",
              "    }\n",
              "\n",
              "    [theme=dark] .colab-df-convert:hover {\n",
              "      background-color: #434B5C;\n",
              "      box-shadow: 0px 1px 3px 1px rgba(0, 0, 0, 0.15);\n",
              "      filter: drop-shadow(0px 1px 2px rgba(0, 0, 0, 0.3));\n",
              "      fill: #FFFFFF;\n",
              "    }\n",
              "  </style>\n",
              "\n",
              "      <script>\n",
              "        const buttonEl =\n",
              "          document.querySelector('#df-85c63a8d-cd33-42d8-8e97-4d521df5e386 button.colab-df-convert');\n",
              "        buttonEl.style.display =\n",
              "          google.colab.kernel.accessAllowed ? 'block' : 'none';\n",
              "\n",
              "        async function convertToInteractive(key) {\n",
              "          const element = document.querySelector('#df-85c63a8d-cd33-42d8-8e97-4d521df5e386');\n",
              "          const dataTable =\n",
              "            await google.colab.kernel.invokeFunction('convertToInteractive',\n",
              "                                                     [key], {});\n",
              "          if (!dataTable) return;\n",
              "\n",
              "          const docLinkHtml = 'Like what you see? Visit the ' +\n",
              "            '<a target=\"_blank\" href=https://colab.research.google.com/notebooks/data_table.ipynb>data table notebook</a>'\n",
              "            + ' to learn more about interactive tables.';\n",
              "          element.innerHTML = '';\n",
              "          dataTable['output_type'] = 'display_data';\n",
              "          await google.colab.output.renderOutput(dataTable, element);\n",
              "          const docLink = document.createElement('div');\n",
              "          docLink.innerHTML = docLinkHtml;\n",
              "          element.appendChild(docLink);\n",
              "        }\n",
              "      </script>\n",
              "    </div>\n",
              "  </div>\n",
              "  "
            ]
          },
          "metadata": {},
          "execution_count": 46
        }
      ]
    },
    {
      "cell_type": "code",
      "source": [
        "dummies = pd.get_dummies(car_sales[[\"Make\",\"Colour\",\"Doors\"]])\n",
        "dummies"
      ],
      "metadata": {
        "colab": {
          "base_uri": "https://localhost:8080/",
          "height": 424
        },
        "id": "G0R193VI76s0",
        "outputId": "5d3b4da6-61ad-43a6-807a-cbe6edd0e782"
      },
      "execution_count": null,
      "outputs": [
        {
          "output_type": "execute_result",
          "data": {
            "text/plain": [
              "     Doors  Make_BMW  Make_Honda  Make_Nissan  Make_Toyota  Colour_Black  \\\n",
              "0        4         0           1            0            0             0   \n",
              "1        5         1           0            0            0             0   \n",
              "2        4         0           1            0            0             0   \n",
              "3        4         0           0            0            1             0   \n",
              "4        3         0           0            1            0             0   \n",
              "..     ...       ...         ...          ...          ...           ...   \n",
              "995      4         0           0            0            1             1   \n",
              "996      3         0           0            1            0             0   \n",
              "997      4         0           0            1            0             0   \n",
              "998      4         0           1            0            0             0   \n",
              "999      4         0           0            0            1             0   \n",
              "\n",
              "     Colour_Blue  Colour_Green  Colour_Red  Colour_White  \n",
              "0              0             0           0             1  \n",
              "1              1             0           0             0  \n",
              "2              0             0           0             1  \n",
              "3              0             0           0             1  \n",
              "4              1             0           0             0  \n",
              "..           ...           ...         ...           ...  \n",
              "995            0             0           0             0  \n",
              "996            0             0           0             1  \n",
              "997            1             0           0             0  \n",
              "998            0             0           0             1  \n",
              "999            1             0           0             0  \n",
              "\n",
              "[1000 rows x 10 columns]"
            ],
            "text/html": [
              "\n",
              "  <div id=\"df-67740786-334f-46f8-8028-7d95ca870271\">\n",
              "    <div class=\"colab-df-container\">\n",
              "      <div>\n",
              "<style scoped>\n",
              "    .dataframe tbody tr th:only-of-type {\n",
              "        vertical-align: middle;\n",
              "    }\n",
              "\n",
              "    .dataframe tbody tr th {\n",
              "        vertical-align: top;\n",
              "    }\n",
              "\n",
              "    .dataframe thead th {\n",
              "        text-align: right;\n",
              "    }\n",
              "</style>\n",
              "<table border=\"1\" class=\"dataframe\">\n",
              "  <thead>\n",
              "    <tr style=\"text-align: right;\">\n",
              "      <th></th>\n",
              "      <th>Doors</th>\n",
              "      <th>Make_BMW</th>\n",
              "      <th>Make_Honda</th>\n",
              "      <th>Make_Nissan</th>\n",
              "      <th>Make_Toyota</th>\n",
              "      <th>Colour_Black</th>\n",
              "      <th>Colour_Blue</th>\n",
              "      <th>Colour_Green</th>\n",
              "      <th>Colour_Red</th>\n",
              "      <th>Colour_White</th>\n",
              "    </tr>\n",
              "  </thead>\n",
              "  <tbody>\n",
              "    <tr>\n",
              "      <th>0</th>\n",
              "      <td>4</td>\n",
              "      <td>0</td>\n",
              "      <td>1</td>\n",
              "      <td>0</td>\n",
              "      <td>0</td>\n",
              "      <td>0</td>\n",
              "      <td>0</td>\n",
              "      <td>0</td>\n",
              "      <td>0</td>\n",
              "      <td>1</td>\n",
              "    </tr>\n",
              "    <tr>\n",
              "      <th>1</th>\n",
              "      <td>5</td>\n",
              "      <td>1</td>\n",
              "      <td>0</td>\n",
              "      <td>0</td>\n",
              "      <td>0</td>\n",
              "      <td>0</td>\n",
              "      <td>1</td>\n",
              "      <td>0</td>\n",
              "      <td>0</td>\n",
              "      <td>0</td>\n",
              "    </tr>\n",
              "    <tr>\n",
              "      <th>2</th>\n",
              "      <td>4</td>\n",
              "      <td>0</td>\n",
              "      <td>1</td>\n",
              "      <td>0</td>\n",
              "      <td>0</td>\n",
              "      <td>0</td>\n",
              "      <td>0</td>\n",
              "      <td>0</td>\n",
              "      <td>0</td>\n",
              "      <td>1</td>\n",
              "    </tr>\n",
              "    <tr>\n",
              "      <th>3</th>\n",
              "      <td>4</td>\n",
              "      <td>0</td>\n",
              "      <td>0</td>\n",
              "      <td>0</td>\n",
              "      <td>1</td>\n",
              "      <td>0</td>\n",
              "      <td>0</td>\n",
              "      <td>0</td>\n",
              "      <td>0</td>\n",
              "      <td>1</td>\n",
              "    </tr>\n",
              "    <tr>\n",
              "      <th>4</th>\n",
              "      <td>3</td>\n",
              "      <td>0</td>\n",
              "      <td>0</td>\n",
              "      <td>1</td>\n",
              "      <td>0</td>\n",
              "      <td>0</td>\n",
              "      <td>1</td>\n",
              "      <td>0</td>\n",
              "      <td>0</td>\n",
              "      <td>0</td>\n",
              "    </tr>\n",
              "    <tr>\n",
              "      <th>...</th>\n",
              "      <td>...</td>\n",
              "      <td>...</td>\n",
              "      <td>...</td>\n",
              "      <td>...</td>\n",
              "      <td>...</td>\n",
              "      <td>...</td>\n",
              "      <td>...</td>\n",
              "      <td>...</td>\n",
              "      <td>...</td>\n",
              "      <td>...</td>\n",
              "    </tr>\n",
              "    <tr>\n",
              "      <th>995</th>\n",
              "      <td>4</td>\n",
              "      <td>0</td>\n",
              "      <td>0</td>\n",
              "      <td>0</td>\n",
              "      <td>1</td>\n",
              "      <td>1</td>\n",
              "      <td>0</td>\n",
              "      <td>0</td>\n",
              "      <td>0</td>\n",
              "      <td>0</td>\n",
              "    </tr>\n",
              "    <tr>\n",
              "      <th>996</th>\n",
              "      <td>3</td>\n",
              "      <td>0</td>\n",
              "      <td>0</td>\n",
              "      <td>1</td>\n",
              "      <td>0</td>\n",
              "      <td>0</td>\n",
              "      <td>0</td>\n",
              "      <td>0</td>\n",
              "      <td>0</td>\n",
              "      <td>1</td>\n",
              "    </tr>\n",
              "    <tr>\n",
              "      <th>997</th>\n",
              "      <td>4</td>\n",
              "      <td>0</td>\n",
              "      <td>0</td>\n",
              "      <td>1</td>\n",
              "      <td>0</td>\n",
              "      <td>0</td>\n",
              "      <td>1</td>\n",
              "      <td>0</td>\n",
              "      <td>0</td>\n",
              "      <td>0</td>\n",
              "    </tr>\n",
              "    <tr>\n",
              "      <th>998</th>\n",
              "      <td>4</td>\n",
              "      <td>0</td>\n",
              "      <td>1</td>\n",
              "      <td>0</td>\n",
              "      <td>0</td>\n",
              "      <td>0</td>\n",
              "      <td>0</td>\n",
              "      <td>0</td>\n",
              "      <td>0</td>\n",
              "      <td>1</td>\n",
              "    </tr>\n",
              "    <tr>\n",
              "      <th>999</th>\n",
              "      <td>4</td>\n",
              "      <td>0</td>\n",
              "      <td>0</td>\n",
              "      <td>0</td>\n",
              "      <td>1</td>\n",
              "      <td>0</td>\n",
              "      <td>1</td>\n",
              "      <td>0</td>\n",
              "      <td>0</td>\n",
              "      <td>0</td>\n",
              "    </tr>\n",
              "  </tbody>\n",
              "</table>\n",
              "<p>1000 rows × 10 columns</p>\n",
              "</div>\n",
              "      <button class=\"colab-df-convert\" onclick=\"convertToInteractive('df-67740786-334f-46f8-8028-7d95ca870271')\"\n",
              "              title=\"Convert this dataframe to an interactive table.\"\n",
              "              style=\"display:none;\">\n",
              "        \n",
              "  <svg xmlns=\"http://www.w3.org/2000/svg\" height=\"24px\"viewBox=\"0 0 24 24\"\n",
              "       width=\"24px\">\n",
              "    <path d=\"M0 0h24v24H0V0z\" fill=\"none\"/>\n",
              "    <path d=\"M18.56 5.44l.94 2.06.94-2.06 2.06-.94-2.06-.94-.94-2.06-.94 2.06-2.06.94zm-11 1L8.5 8.5l.94-2.06 2.06-.94-2.06-.94L8.5 2.5l-.94 2.06-2.06.94zm10 10l.94 2.06.94-2.06 2.06-.94-2.06-.94-.94-2.06-.94 2.06-2.06.94z\"/><path d=\"M17.41 7.96l-1.37-1.37c-.4-.4-.92-.59-1.43-.59-.52 0-1.04.2-1.43.59L10.3 9.45l-7.72 7.72c-.78.78-.78 2.05 0 2.83L4 21.41c.39.39.9.59 1.41.59.51 0 1.02-.2 1.41-.59l7.78-7.78 2.81-2.81c.8-.78.8-2.07 0-2.86zM5.41 20L4 18.59l7.72-7.72 1.47 1.35L5.41 20z\"/>\n",
              "  </svg>\n",
              "      </button>\n",
              "      \n",
              "  <style>\n",
              "    .colab-df-container {\n",
              "      display:flex;\n",
              "      flex-wrap:wrap;\n",
              "      gap: 12px;\n",
              "    }\n",
              "\n",
              "    .colab-df-convert {\n",
              "      background-color: #E8F0FE;\n",
              "      border: none;\n",
              "      border-radius: 50%;\n",
              "      cursor: pointer;\n",
              "      display: none;\n",
              "      fill: #1967D2;\n",
              "      height: 32px;\n",
              "      padding: 0 0 0 0;\n",
              "      width: 32px;\n",
              "    }\n",
              "\n",
              "    .colab-df-convert:hover {\n",
              "      background-color: #E2EBFA;\n",
              "      box-shadow: 0px 1px 2px rgba(60, 64, 67, 0.3), 0px 1px 3px 1px rgba(60, 64, 67, 0.15);\n",
              "      fill: #174EA6;\n",
              "    }\n",
              "\n",
              "    [theme=dark] .colab-df-convert {\n",
              "      background-color: #3B4455;\n",
              "      fill: #D2E3FC;\n",
              "    }\n",
              "\n",
              "    [theme=dark] .colab-df-convert:hover {\n",
              "      background-color: #434B5C;\n",
              "      box-shadow: 0px 1px 3px 1px rgba(0, 0, 0, 0.15);\n",
              "      filter: drop-shadow(0px 1px 2px rgba(0, 0, 0, 0.3));\n",
              "      fill: #FFFFFF;\n",
              "    }\n",
              "  </style>\n",
              "\n",
              "      <script>\n",
              "        const buttonEl =\n",
              "          document.querySelector('#df-67740786-334f-46f8-8028-7d95ca870271 button.colab-df-convert');\n",
              "        buttonEl.style.display =\n",
              "          google.colab.kernel.accessAllowed ? 'block' : 'none';\n",
              "\n",
              "        async function convertToInteractive(key) {\n",
              "          const element = document.querySelector('#df-67740786-334f-46f8-8028-7d95ca870271');\n",
              "          const dataTable =\n",
              "            await google.colab.kernel.invokeFunction('convertToInteractive',\n",
              "                                                     [key], {});\n",
              "          if (!dataTable) return;\n",
              "\n",
              "          const docLinkHtml = 'Like what you see? Visit the ' +\n",
              "            '<a target=\"_blank\" href=https://colab.research.google.com/notebooks/data_table.ipynb>data table notebook</a>'\n",
              "            + ' to learn more about interactive tables.';\n",
              "          element.innerHTML = '';\n",
              "          dataTable['output_type'] = 'display_data';\n",
              "          await google.colab.output.renderOutput(dataTable, element);\n",
              "          const docLink = document.createElement('div');\n",
              "          docLink.innerHTML = docLinkHtml;\n",
              "          element.appendChild(docLink);\n",
              "        }\n",
              "      </script>\n",
              "    </div>\n",
              "  </div>\n",
              "  "
            ]
          },
          "metadata": {},
          "execution_count": 47
        }
      ]
    },
    {
      "cell_type": "code",
      "source": [
        "# Lets refit the model\n",
        "np.random.seed(42)\n",
        "X_train, X_test, y_train, y_test = train_test_split(transformed_X,y,test_size=0.2)\n",
        "\n",
        "model.fit(X_train,y_train)\n",
        "model.score(X_test,y_test)"
      ],
      "metadata": {
        "colab": {
          "base_uri": "https://localhost:8080/"
        },
        "id": "I9Fv1L6b8hfi",
        "outputId": "f4e956ff-da8a-4195-aa6a-19591dd32d20"
      },
      "execution_count": null,
      "outputs": [
        {
          "output_type": "execute_result",
          "data": {
            "text/plain": [
              "0.3235867221569877"
            ]
          },
          "metadata": {},
          "execution_count": 48
        }
      ]
    },
    {
      "cell_type": "markdown",
      "source": [
        "## 1.2 What if there were missing values?\n",
        "1. Fill them with some value (known as imputation)\n",
        "2. remove the samples with missing data altogether"
      ],
      "metadata": {
        "id": "kHbo0fvy8xfe"
      }
    },
    {
      "cell_type": "code",
      "source": [
        "# import car sales missing data\n",
        "car_sales_missing = pd.read_csv(\"car-sales-missing-data.csv\")\n",
        "car_sales_missing.head()"
      ],
      "metadata": {
        "colab": {
          "base_uri": "https://localhost:8080/",
          "height": 206
        },
        "id": "hdrjHmkYfkWl",
        "outputId": "0c566f53-8d08-4683-f5cf-3e7927f36be1"
      },
      "execution_count": null,
      "outputs": [
        {
          "output_type": "execute_result",
          "data": {
            "text/plain": [
              "     Make Colour  Odometer (KM)  Doors    Price\n",
              "0   Honda  White        35431.0    4.0  15323.0\n",
              "1     BMW   Blue       192714.0    5.0  19943.0\n",
              "2   Honda  White        84714.0    4.0  28343.0\n",
              "3  Toyota  White       154365.0    4.0  13434.0\n",
              "4  Nissan   Blue       181577.0    3.0  14043.0"
            ],
            "text/html": [
              "\n",
              "  <div id=\"df-b90bf094-689a-43cb-a61b-1ac177287516\">\n",
              "    <div class=\"colab-df-container\">\n",
              "      <div>\n",
              "<style scoped>\n",
              "    .dataframe tbody tr th:only-of-type {\n",
              "        vertical-align: middle;\n",
              "    }\n",
              "\n",
              "    .dataframe tbody tr th {\n",
              "        vertical-align: top;\n",
              "    }\n",
              "\n",
              "    .dataframe thead th {\n",
              "        text-align: right;\n",
              "    }\n",
              "</style>\n",
              "<table border=\"1\" class=\"dataframe\">\n",
              "  <thead>\n",
              "    <tr style=\"text-align: right;\">\n",
              "      <th></th>\n",
              "      <th>Make</th>\n",
              "      <th>Colour</th>\n",
              "      <th>Odometer (KM)</th>\n",
              "      <th>Doors</th>\n",
              "      <th>Price</th>\n",
              "    </tr>\n",
              "  </thead>\n",
              "  <tbody>\n",
              "    <tr>\n",
              "      <th>0</th>\n",
              "      <td>Honda</td>\n",
              "      <td>White</td>\n",
              "      <td>35431.0</td>\n",
              "      <td>4.0</td>\n",
              "      <td>15323.0</td>\n",
              "    </tr>\n",
              "    <tr>\n",
              "      <th>1</th>\n",
              "      <td>BMW</td>\n",
              "      <td>Blue</td>\n",
              "      <td>192714.0</td>\n",
              "      <td>5.0</td>\n",
              "      <td>19943.0</td>\n",
              "    </tr>\n",
              "    <tr>\n",
              "      <th>2</th>\n",
              "      <td>Honda</td>\n",
              "      <td>White</td>\n",
              "      <td>84714.0</td>\n",
              "      <td>4.0</td>\n",
              "      <td>28343.0</td>\n",
              "    </tr>\n",
              "    <tr>\n",
              "      <th>3</th>\n",
              "      <td>Toyota</td>\n",
              "      <td>White</td>\n",
              "      <td>154365.0</td>\n",
              "      <td>4.0</td>\n",
              "      <td>13434.0</td>\n",
              "    </tr>\n",
              "    <tr>\n",
              "      <th>4</th>\n",
              "      <td>Nissan</td>\n",
              "      <td>Blue</td>\n",
              "      <td>181577.0</td>\n",
              "      <td>3.0</td>\n",
              "      <td>14043.0</td>\n",
              "    </tr>\n",
              "  </tbody>\n",
              "</table>\n",
              "</div>\n",
              "      <button class=\"colab-df-convert\" onclick=\"convertToInteractive('df-b90bf094-689a-43cb-a61b-1ac177287516')\"\n",
              "              title=\"Convert this dataframe to an interactive table.\"\n",
              "              style=\"display:none;\">\n",
              "        \n",
              "  <svg xmlns=\"http://www.w3.org/2000/svg\" height=\"24px\"viewBox=\"0 0 24 24\"\n",
              "       width=\"24px\">\n",
              "    <path d=\"M0 0h24v24H0V0z\" fill=\"none\"/>\n",
              "    <path d=\"M18.56 5.44l.94 2.06.94-2.06 2.06-.94-2.06-.94-.94-2.06-.94 2.06-2.06.94zm-11 1L8.5 8.5l.94-2.06 2.06-.94-2.06-.94L8.5 2.5l-.94 2.06-2.06.94zm10 10l.94 2.06.94-2.06 2.06-.94-2.06-.94-.94-2.06-.94 2.06-2.06.94z\"/><path d=\"M17.41 7.96l-1.37-1.37c-.4-.4-.92-.59-1.43-.59-.52 0-1.04.2-1.43.59L10.3 9.45l-7.72 7.72c-.78.78-.78 2.05 0 2.83L4 21.41c.39.39.9.59 1.41.59.51 0 1.02-.2 1.41-.59l7.78-7.78 2.81-2.81c.8-.78.8-2.07 0-2.86zM5.41 20L4 18.59l7.72-7.72 1.47 1.35L5.41 20z\"/>\n",
              "  </svg>\n",
              "      </button>\n",
              "      \n",
              "  <style>\n",
              "    .colab-df-container {\n",
              "      display:flex;\n",
              "      flex-wrap:wrap;\n",
              "      gap: 12px;\n",
              "    }\n",
              "\n",
              "    .colab-df-convert {\n",
              "      background-color: #E8F0FE;\n",
              "      border: none;\n",
              "      border-radius: 50%;\n",
              "      cursor: pointer;\n",
              "      display: none;\n",
              "      fill: #1967D2;\n",
              "      height: 32px;\n",
              "      padding: 0 0 0 0;\n",
              "      width: 32px;\n",
              "    }\n",
              "\n",
              "    .colab-df-convert:hover {\n",
              "      background-color: #E2EBFA;\n",
              "      box-shadow: 0px 1px 2px rgba(60, 64, 67, 0.3), 0px 1px 3px 1px rgba(60, 64, 67, 0.15);\n",
              "      fill: #174EA6;\n",
              "    }\n",
              "\n",
              "    [theme=dark] .colab-df-convert {\n",
              "      background-color: #3B4455;\n",
              "      fill: #D2E3FC;\n",
              "    }\n",
              "\n",
              "    [theme=dark] .colab-df-convert:hover {\n",
              "      background-color: #434B5C;\n",
              "      box-shadow: 0px 1px 3px 1px rgba(0, 0, 0, 0.15);\n",
              "      filter: drop-shadow(0px 1px 2px rgba(0, 0, 0, 0.3));\n",
              "      fill: #FFFFFF;\n",
              "    }\n",
              "  </style>\n",
              "\n",
              "      <script>\n",
              "        const buttonEl =\n",
              "          document.querySelector('#df-b90bf094-689a-43cb-a61b-1ac177287516 button.colab-df-convert');\n",
              "        buttonEl.style.display =\n",
              "          google.colab.kernel.accessAllowed ? 'block' : 'none';\n",
              "\n",
              "        async function convertToInteractive(key) {\n",
              "          const element = document.querySelector('#df-b90bf094-689a-43cb-a61b-1ac177287516');\n",
              "          const dataTable =\n",
              "            await google.colab.kernel.invokeFunction('convertToInteractive',\n",
              "                                                     [key], {});\n",
              "          if (!dataTable) return;\n",
              "\n",
              "          const docLinkHtml = 'Like what you see? Visit the ' +\n",
              "            '<a target=\"_blank\" href=https://colab.research.google.com/notebooks/data_table.ipynb>data table notebook</a>'\n",
              "            + ' to learn more about interactive tables.';\n",
              "          element.innerHTML = '';\n",
              "          dataTable['output_type'] = 'display_data';\n",
              "          await google.colab.output.renderOutput(dataTable, element);\n",
              "          const docLink = document.createElement('div');\n",
              "          docLink.innerHTML = docLinkHtml;\n",
              "          element.appendChild(docLink);\n",
              "        }\n",
              "      </script>\n",
              "    </div>\n",
              "  </div>\n",
              "  "
            ]
          },
          "metadata": {},
          "execution_count": 49
        }
      ]
    },
    {
      "cell_type": "code",
      "source": [
        "car_sales_missing.isna().sum() # shows us how many missing values there is"
      ],
      "metadata": {
        "colab": {
          "base_uri": "https://localhost:8080/"
        },
        "id": "EpkfBMCQgSYW",
        "outputId": "5334f7e1-8a77-45b9-c83f-874f37cc10d9"
      },
      "execution_count": null,
      "outputs": [
        {
          "output_type": "execute_result",
          "data": {
            "text/plain": [
              "Make             49\n",
              "Colour           50\n",
              "Odometer (KM)    50\n",
              "Doors            50\n",
              "Price            50\n",
              "dtype: int64"
            ]
          },
          "metadata": {},
          "execution_count": 50
        }
      ]
    },
    {
      "cell_type": "code",
      "source": [
        "# Create X and y\n",
        "X = car_sales_missing.drop(\"Price\",axis=1)\n",
        "y = car_sales_missing[\"Price\"]"
      ],
      "metadata": {
        "id": "-GrYu9lFglmP"
      },
      "execution_count": null,
      "outputs": []
    },
    {
      "cell_type": "code",
      "source": [
        "# lets try convert our data to numbers\n",
        "# Turn categories into numbers\n",
        "from sklearn.preprocessing import OneHotEncoder\n",
        "from sklearn.compose import ColumnTransformer\n",
        "\n",
        "categorical_features = [\"Make\",\"Colour\",\"Doors\"]\n",
        "one_hot = OneHotEncoder()\n",
        "transformer = ColumnTransformer([(\"one_hot\",one_hot,categorical_features)],remainder=\"passthrough\")\n",
        "\n",
        "transformed_X = transformer.fit_transform(X)\n"
      ],
      "metadata": {
        "id": "xkENfSTKgYYU"
      },
      "execution_count": null,
      "outputs": []
    },
    {
      "cell_type": "markdown",
      "source": [
        "## Option 1: Fill missing data with pandas\n"
      ],
      "metadata": {
        "id": "2cKlY0-fgvJh"
      }
    },
    {
      "cell_type": "code",
      "source": [
        "# # Fill the Make column\n",
        "# car_sales_missing[\"Make\"].fillna(\"missing\",inplace=True)\n",
        "# # Fill the Colour column\n",
        "# car_sales_missing[\"Colour\"].fillna(\"missing\",inplace=True)\n",
        "# # Fill the Odometer column\n",
        "# car_sales_missing[\"Odometer (KM)\"].fillna(15,inplace=True)\n",
        "\n",
        "# # Fill the dOORS column\n",
        "# car_sales_missing[\"Doors\"].fillna(4,inplace=True)"
      ],
      "metadata": {
        "id": "TfN1RMB5g13q"
      },
      "execution_count": null,
      "outputs": []
    },
    {
      "cell_type": "code",
      "source": [
        "# # Remove rows with missing price value\n",
        "# car_sales_missing.dropna(inplace=True)"
      ],
      "metadata": {
        "id": "4XrV8qZ9ihXW"
      },
      "execution_count": null,
      "outputs": []
    },
    {
      "cell_type": "code",
      "source": [
        "car_sales_missing.isna().sum()"
      ],
      "metadata": {
        "colab": {
          "base_uri": "https://localhost:8080/"
        },
        "id": "9w0NbieTim2Z",
        "outputId": "825d0135-46b1-4a7f-caa3-50c41454fd7d"
      },
      "execution_count": null,
      "outputs": [
        {
          "output_type": "execute_result",
          "data": {
            "text/plain": [
              "Make             49\n",
              "Colour           50\n",
              "Odometer (KM)    50\n",
              "Doors            50\n",
              "Price            50\n",
              "dtype: int64"
            ]
          },
          "metadata": {},
          "execution_count": 55
        }
      ]
    },
    {
      "cell_type": "markdown",
      "source": [
        "## Option 2: Filling missing values with scikit learn"
      ],
      "metadata": {
        "id": "L79qj9USixKq"
      }
    },
    {
      "cell_type": "code",
      "source": [
        "car_sales_missing.isna().sum()"
      ],
      "metadata": {
        "colab": {
          "base_uri": "https://localhost:8080/"
        },
        "id": "uVU05OpjjMDz",
        "outputId": "3a4ffdba-4ef2-432c-e4f5-8a30cb20a2f7"
      },
      "execution_count": null,
      "outputs": [
        {
          "output_type": "execute_result",
          "data": {
            "text/plain": [
              "Make             49\n",
              "Colour           50\n",
              "Odometer (KM)    50\n",
              "Doors            50\n",
              "Price            50\n",
              "dtype: int64"
            ]
          },
          "metadata": {},
          "execution_count": 56
        }
      ]
    },
    {
      "cell_type": "code",
      "source": [
        "# Drop rows with no labels\n",
        "car_sales_missing.dropna(subset=[\"Price\"], inplace=True)\n",
        "car_sales_missing.isna().sum()"
      ],
      "metadata": {
        "colab": {
          "base_uri": "https://localhost:8080/"
        },
        "id": "Cb17mDgAjxco",
        "outputId": "192c01fd-7c82-4d76-9090-6ca5954657ad"
      },
      "execution_count": null,
      "outputs": [
        {
          "output_type": "execute_result",
          "data": {
            "text/plain": [
              "Make             47\n",
              "Colour           46\n",
              "Odometer (KM)    48\n",
              "Doors            47\n",
              "Price             0\n",
              "dtype: int64"
            ]
          },
          "metadata": {},
          "execution_count": 57
        }
      ]
    },
    {
      "cell_type": "code",
      "source": [
        "# Split into X and y\n",
        "X= car_sales_missing.drop(\"Price\", axis=1)\n",
        "y = car_sales_missing[\"Price\"]"
      ],
      "metadata": {
        "id": "FU2LI09sj8Ng"
      },
      "execution_count": null,
      "outputs": []
    },
    {
      "cell_type": "code",
      "source": [
        "# Fill missing values with Scikit-Learn\n",
        "from sklearn.impute import SimpleImputer\n",
        "from sklearn.compose import ColumnTransformer\n",
        "\n",
        "# Fill categorical values with \"missing\" and numerical values with mean\n",
        "cat_imputer = SimpleImputer(strategy=\"constant\",fill_value=\"missing\")\n",
        "door_imputer = SimpleImputer(strategy=\"constant\",fill_value=4)\n",
        "num_imputer = SimpleImputer(strategy=\"mean\")\n",
        "\n",
        "# Define columns\n",
        "cat_features=[\"Make\",\"Colour\"]\n",
        "door_features=[\"Doors\"]\n",
        "num_features=[\"Odometer (KM)\"]\n",
        "\n",
        "# Create an imputer (something that fills missing data)\n",
        "imputer = ColumnTransformer([\n",
        "                             (\"cat_imputer\",cat_imputer,cat_features),\n",
        "                             (\"door_imputer\",door_imputer,door_features),\n",
        "                             (\"num_imputer\",num_imputer,num_features),\n",
        "])\n",
        "\n",
        "# transform the data\n",
        "filled_X = imputer.fit_transform(X)\n",
        "filled_X"
      ],
      "metadata": {
        "colab": {
          "base_uri": "https://localhost:8080/"
        },
        "id": "LYAOJ3l5kHTL",
        "outputId": "afa93060-fa66-400c-deb9-d87d6f7b2aad"
      },
      "execution_count": null,
      "outputs": [
        {
          "output_type": "execute_result",
          "data": {
            "text/plain": [
              "array([['Honda', 'White', 4.0, 35431.0],\n",
              "       ['BMW', 'Blue', 5.0, 192714.0],\n",
              "       ['Honda', 'White', 4.0, 84714.0],\n",
              "       ...,\n",
              "       ['Nissan', 'Blue', 4.0, 66604.0],\n",
              "       ['Honda', 'White', 4.0, 215883.0],\n",
              "       ['Toyota', 'Blue', 4.0, 248360.0]], dtype=object)"
            ]
          },
          "metadata": {},
          "execution_count": 59
        }
      ]
    },
    {
      "cell_type": "code",
      "source": [
        "car_sales_filled = pd.DataFrame(filled_X,columns=[\"Make\",\"Colour\",\"Doors\",\"Odometer (KM)\"])\n",
        "car_sales_filled.isna().sum()"
      ],
      "metadata": {
        "colab": {
          "base_uri": "https://localhost:8080/"
        },
        "id": "yLeVFQxMlAFW",
        "outputId": "05c64a61-040d-4593-b817-366cd13a623b"
      },
      "execution_count": null,
      "outputs": [
        {
          "output_type": "execute_result",
          "data": {
            "text/plain": [
              "Make             0\n",
              "Colour           0\n",
              "Doors            0\n",
              "Odometer (KM)    0\n",
              "dtype: int64"
            ]
          },
          "metadata": {},
          "execution_count": 60
        }
      ]
    },
    {
      "cell_type": "code",
      "source": [
        "# lets try convert our data to numbers\n",
        "# Turn categories into numbers\n",
        "from sklearn.preprocessing import OneHotEncoder\n",
        "from sklearn.compose import ColumnTransformer\n",
        "\n",
        "categorical_features = [\"Make\",\"Colour\",\"Doors\"]\n",
        "one_hot = OneHotEncoder()\n",
        "transformer = ColumnTransformer([(\"one_hot\",one_hot,categorical_features)],remainder=\"passthrough\")\n",
        "\n",
        "transformed_X = transformer.fit_transform(car_sales_filled)\n",
        "transformed_X"
      ],
      "metadata": {
        "colab": {
          "base_uri": "https://localhost:8080/"
        },
        "id": "_SBPDRh3lfAq",
        "outputId": "43655fc7-dff9-45bc-e8b7-6c3fae3962b3"
      },
      "execution_count": null,
      "outputs": [
        {
          "output_type": "execute_result",
          "data": {
            "text/plain": [
              "<950x15 sparse matrix of type '<class 'numpy.float64'>'\n",
              "\twith 3800 stored elements in Compressed Sparse Row format>"
            ]
          },
          "metadata": {},
          "execution_count": 61
        }
      ]
    },
    {
      "cell_type": "code",
      "source": [
        "# Now we got our data as numbers and filled (no missing data)\n",
        "# lets fit a model\n",
        "\n",
        "np.random.seed(42)\n",
        "from sklearn.ensemble import RandomForestRegressor\n",
        "from sklearn.model_selection import train_test_split\n",
        "\n",
        "X_train,X_test,y_train,y_test = train_test_split(transformed_X,y,test_size=0.2)\n",
        "\n",
        "model = RandomForestRegressor(n_estimators=100)\n",
        "model.fit(X_train,y_train)\n",
        "model.score(X_test,y_test)"
      ],
      "metadata": {
        "colab": {
          "base_uri": "https://localhost:8080/"
        },
        "id": "h00pQXqgl9zF",
        "outputId": "a43e8cc2-53d1-4203-bda6-015551bd2be5"
      },
      "execution_count": null,
      "outputs": [
        {
          "output_type": "execute_result",
          "data": {
            "text/plain": [
              "0.21990196728583944"
            ]
          },
          "metadata": {},
          "execution_count": 62
        }
      ]
    },
    {
      "cell_type": "markdown",
      "source": [
        "# 2. Chosing the right estimator/algorithm for your problem\n",
        "Things to note:\n",
        "* Sk-learn refers to machine learning models, algorithms as estimators\n",
        "* classification problem - predictiing a category (heart disease or not)\n",
        "  * sometimes `clf` (short for classifier) used as classification estimator\n",
        "* regression problem - predicting a number (selling price of a car)\n",
        "\n",
        "if your working on a machine learning problem and looking to use Sklearn and not sure what model to use, refere to sklearn machine learning map"
      ],
      "metadata": {
        "id": "M1-hsTIImbjS"
      }
    },
    {
      "cell_type": "markdown",
      "source": [
        "![c5c10edd0baf26759b195a794415b76d.png](data:image/png;base64,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)"
      ],
      "metadata": {
        "id": "BjPbn507jITO"
      }
    },
    {
      "cell_type": "markdown",
      "source": [
        "## 2.1 Picking a machine learning model for a regression problem\n",
        "Lets use the california house dataset"
      ],
      "metadata": {
        "id": "D4txLDChfbSH"
      }
    },
    {
      "cell_type": "code",
      "source": [
        "# get california housing dataset\n",
        "from sklearn.datasets import fetch_california_housing\n",
        "housing = fetch_california_housing()\n",
        "housing"
      ],
      "metadata": {
        "colab": {
          "base_uri": "https://localhost:8080/"
        },
        "id": "8JqtARxXgHht",
        "outputId": "4aa9c9d0-dec7-4b72-f5c3-336ffab36774"
      },
      "execution_count": null,
      "outputs": [
        {
          "output_type": "execute_result",
          "data": {
            "text/plain": [
              "{'DESCR': '.. _california_housing_dataset:\\n\\nCalifornia Housing dataset\\n--------------------------\\n\\n**Data Set Characteristics:**\\n\\n    :Number of Instances: 20640\\n\\n    :Number of Attributes: 8 numeric, predictive attributes and the target\\n\\n    :Attribute Information:\\n        - MedInc        median income in block group\\n        - HouseAge      median house age in block group\\n        - AveRooms      average number of rooms per household\\n        - AveBedrms     average number of bedrooms per household\\n        - Population    block group population\\n        - AveOccup      average number of household members\\n        - Latitude      block group latitude\\n        - Longitude     block group longitude\\n\\n    :Missing Attribute Values: None\\n\\nThis dataset was obtained from the StatLib repository.\\nhttps://www.dcc.fc.up.pt/~ltorgo/Regression/cal_housing.html\\n\\nThe target variable is the median house value for California districts,\\nexpressed in hundreds of thousands of dollars ($100,000).\\n\\nThis dataset was derived from the 1990 U.S. census, using one row per census\\nblock group. A block group is the smallest geographical unit for which the U.S.\\nCensus Bureau publishes sample data (a block group typically has a population\\nof 600 to 3,000 people).\\n\\nAn household is a group of people residing within a home. Since the average\\nnumber of rooms and bedrooms in this dataset are provided per household, these\\ncolumns may take surpinsingly large values for block groups with few households\\nand many empty houses, such as vacation resorts.\\n\\nIt can be downloaded/loaded using the\\n:func:`sklearn.datasets.fetch_california_housing` function.\\n\\n.. topic:: References\\n\\n    - Pace, R. Kelley and Ronald Barry, Sparse Spatial Autoregressions,\\n      Statistics and Probability Letters, 33 (1997) 291-297\\n',\n",
              " 'data': array([[   8.3252    ,   41.        ,    6.98412698, ...,    2.55555556,\n",
              "           37.88      , -122.23      ],\n",
              "        [   8.3014    ,   21.        ,    6.23813708, ...,    2.10984183,\n",
              "           37.86      , -122.22      ],\n",
              "        [   7.2574    ,   52.        ,    8.28813559, ...,    2.80225989,\n",
              "           37.85      , -122.24      ],\n",
              "        ...,\n",
              "        [   1.7       ,   17.        ,    5.20554273, ...,    2.3256351 ,\n",
              "           39.43      , -121.22      ],\n",
              "        [   1.8672    ,   18.        ,    5.32951289, ...,    2.12320917,\n",
              "           39.43      , -121.32      ],\n",
              "        [   2.3886    ,   16.        ,    5.25471698, ...,    2.61698113,\n",
              "           39.37      , -121.24      ]]),\n",
              " 'feature_names': ['MedInc',\n",
              "  'HouseAge',\n",
              "  'AveRooms',\n",
              "  'AveBedrms',\n",
              "  'Population',\n",
              "  'AveOccup',\n",
              "  'Latitude',\n",
              "  'Longitude'],\n",
              " 'frame': None,\n",
              " 'target': array([4.526, 3.585, 3.521, ..., 0.923, 0.847, 0.894]),\n",
              " 'target_names': ['MedHouseVal']}"
            ]
          },
          "metadata": {},
          "execution_count": 63
        }
      ]
    },
    {
      "cell_type": "code",
      "source": [
        "housing_df = pd.DataFrame(housing[\"data\"],columns=housing[\"feature_names\"])\n",
        "housing_df.head(1)"
      ],
      "metadata": {
        "colab": {
          "base_uri": "https://localhost:8080/",
          "height": 81
        },
        "id": "velbrnnNgn76",
        "outputId": "f0426853-c2ef-4f6e-f26b-9300f50cfa2f"
      },
      "execution_count": null,
      "outputs": [
        {
          "output_type": "execute_result",
          "data": {
            "text/plain": [
              "   MedInc  HouseAge  AveRooms  AveBedrms  Population  AveOccup  Latitude  \\\n",
              "0  8.3252      41.0  6.984127    1.02381       322.0  2.555556     37.88   \n",
              "\n",
              "   Longitude  \n",
              "0    -122.23  "
            ],
            "text/html": [
              "\n",
              "  <div id=\"df-94c18578-a807-4699-9ada-bf2596124bdb\">\n",
              "    <div class=\"colab-df-container\">\n",
              "      <div>\n",
              "<style scoped>\n",
              "    .dataframe tbody tr th:only-of-type {\n",
              "        vertical-align: middle;\n",
              "    }\n",
              "\n",
              "    .dataframe tbody tr th {\n",
              "        vertical-align: top;\n",
              "    }\n",
              "\n",
              "    .dataframe thead th {\n",
              "        text-align: right;\n",
              "    }\n",
              "</style>\n",
              "<table border=\"1\" class=\"dataframe\">\n",
              "  <thead>\n",
              "    <tr style=\"text-align: right;\">\n",
              "      <th></th>\n",
              "      <th>MedInc</th>\n",
              "      <th>HouseAge</th>\n",
              "      <th>AveRooms</th>\n",
              "      <th>AveBedrms</th>\n",
              "      <th>Population</th>\n",
              "      <th>AveOccup</th>\n",
              "      <th>Latitude</th>\n",
              "      <th>Longitude</th>\n",
              "    </tr>\n",
              "  </thead>\n",
              "  <tbody>\n",
              "    <tr>\n",
              "      <th>0</th>\n",
              "      <td>8.3252</td>\n",
              "      <td>41.0</td>\n",
              "      <td>6.984127</td>\n",
              "      <td>1.02381</td>\n",
              "      <td>322.0</td>\n",
              "      <td>2.555556</td>\n",
              "      <td>37.88</td>\n",
              "      <td>-122.23</td>\n",
              "    </tr>\n",
              "  </tbody>\n",
              "</table>\n",
              "</div>\n",
              "      <button class=\"colab-df-convert\" onclick=\"convertToInteractive('df-94c18578-a807-4699-9ada-bf2596124bdb')\"\n",
              "              title=\"Convert this dataframe to an interactive table.\"\n",
              "              style=\"display:none;\">\n",
              "        \n",
              "  <svg xmlns=\"http://www.w3.org/2000/svg\" height=\"24px\"viewBox=\"0 0 24 24\"\n",
              "       width=\"24px\">\n",
              "    <path d=\"M0 0h24v24H0V0z\" fill=\"none\"/>\n",
              "    <path d=\"M18.56 5.44l.94 2.06.94-2.06 2.06-.94-2.06-.94-.94-2.06-.94 2.06-2.06.94zm-11 1L8.5 8.5l.94-2.06 2.06-.94-2.06-.94L8.5 2.5l-.94 2.06-2.06.94zm10 10l.94 2.06.94-2.06 2.06-.94-2.06-.94-.94-2.06-.94 2.06-2.06.94z\"/><path d=\"M17.41 7.96l-1.37-1.37c-.4-.4-.92-.59-1.43-.59-.52 0-1.04.2-1.43.59L10.3 9.45l-7.72 7.72c-.78.78-.78 2.05 0 2.83L4 21.41c.39.39.9.59 1.41.59.51 0 1.02-.2 1.41-.59l7.78-7.78 2.81-2.81c.8-.78.8-2.07 0-2.86zM5.41 20L4 18.59l7.72-7.72 1.47 1.35L5.41 20z\"/>\n",
              "  </svg>\n",
              "      </button>\n",
              "      \n",
              "  <style>\n",
              "    .colab-df-container {\n",
              "      display:flex;\n",
              "      flex-wrap:wrap;\n",
              "      gap: 12px;\n",
              "    }\n",
              "\n",
              "    .colab-df-convert {\n",
              "      background-color: #E8F0FE;\n",
              "      border: none;\n",
              "      border-radius: 50%;\n",
              "      cursor: pointer;\n",
              "      display: none;\n",
              "      fill: #1967D2;\n",
              "      height: 32px;\n",
              "      padding: 0 0 0 0;\n",
              "      width: 32px;\n",
              "    }\n",
              "\n",
              "    .colab-df-convert:hover {\n",
              "      background-color: #E2EBFA;\n",
              "      box-shadow: 0px 1px 2px rgba(60, 64, 67, 0.3), 0px 1px 3px 1px rgba(60, 64, 67, 0.15);\n",
              "      fill: #174EA6;\n",
              "    }\n",
              "\n",
              "    [theme=dark] .colab-df-convert {\n",
              "      background-color: #3B4455;\n",
              "      fill: #D2E3FC;\n",
              "    }\n",
              "\n",
              "    [theme=dark] .colab-df-convert:hover {\n",
              "      background-color: #434B5C;\n",
              "      box-shadow: 0px 1px 3px 1px rgba(0, 0, 0, 0.15);\n",
              "      filter: drop-shadow(0px 1px 2px rgba(0, 0, 0, 0.3));\n",
              "      fill: #FFFFFF;\n",
              "    }\n",
              "  </style>\n",
              "\n",
              "      <script>\n",
              "        const buttonEl =\n",
              "          document.querySelector('#df-94c18578-a807-4699-9ada-bf2596124bdb button.colab-df-convert');\n",
              "        buttonEl.style.display =\n",
              "          google.colab.kernel.accessAllowed ? 'block' : 'none';\n",
              "\n",
              "        async function convertToInteractive(key) {\n",
              "          const element = document.querySelector('#df-94c18578-a807-4699-9ada-bf2596124bdb');\n",
              "          const dataTable =\n",
              "            await google.colab.kernel.invokeFunction('convertToInteractive',\n",
              "                                                     [key], {});\n",
              "          if (!dataTable) return;\n",
              "\n",
              "          const docLinkHtml = 'Like what you see? Visit the ' +\n",
              "            '<a target=\"_blank\" href=https://colab.research.google.com/notebooks/data_table.ipynb>data table notebook</a>'\n",
              "            + ' to learn more about interactive tables.';\n",
              "          element.innerHTML = '';\n",
              "          dataTable['output_type'] = 'display_data';\n",
              "          await google.colab.output.renderOutput(dataTable, element);\n",
              "          const docLink = document.createElement('div');\n",
              "          docLink.innerHTML = docLinkHtml;\n",
              "          element.appendChild(docLink);\n",
              "        }\n",
              "      </script>\n",
              "    </div>\n",
              "  </div>\n",
              "  "
            ]
          },
          "metadata": {},
          "execution_count": 64
        }
      ]
    },
    {
      "cell_type": "code",
      "source": [
        "housing_df[\"target\"] = housing[\"target\"]\n",
        "housing_df.head(1)"
      ],
      "metadata": {
        "colab": {
          "base_uri": "https://localhost:8080/",
          "height": 81
        },
        "id": "2TEO6u16hD2e",
        "outputId": "76c49b26-82a1-4665-f5eb-a9ce2e2b70a3"
      },
      "execution_count": null,
      "outputs": [
        {
          "output_type": "execute_result",
          "data": {
            "text/plain": [
              "   MedInc  HouseAge  AveRooms  AveBedrms  Population  AveOccup  Latitude  \\\n",
              "0  8.3252      41.0  6.984127    1.02381       322.0  2.555556     37.88   \n",
              "\n",
              "   Longitude  target  \n",
              "0    -122.23   4.526  "
            ],
            "text/html": [
              "\n",
              "  <div id=\"df-c75449c8-3902-42fb-ae5c-4a9a4db777aa\">\n",
              "    <div class=\"colab-df-container\">\n",
              "      <div>\n",
              "<style scoped>\n",
              "    .dataframe tbody tr th:only-of-type {\n",
              "        vertical-align: middle;\n",
              "    }\n",
              "\n",
              "    .dataframe tbody tr th {\n",
              "        vertical-align: top;\n",
              "    }\n",
              "\n",
              "    .dataframe thead th {\n",
              "        text-align: right;\n",
              "    }\n",
              "</style>\n",
              "<table border=\"1\" class=\"dataframe\">\n",
              "  <thead>\n",
              "    <tr style=\"text-align: right;\">\n",
              "      <th></th>\n",
              "      <th>MedInc</th>\n",
              "      <th>HouseAge</th>\n",
              "      <th>AveRooms</th>\n",
              "      <th>AveBedrms</th>\n",
              "      <th>Population</th>\n",
              "      <th>AveOccup</th>\n",
              "      <th>Latitude</th>\n",
              "      <th>Longitude</th>\n",
              "      <th>target</th>\n",
              "    </tr>\n",
              "  </thead>\n",
              "  <tbody>\n",
              "    <tr>\n",
              "      <th>0</th>\n",
              "      <td>8.3252</td>\n",
              "      <td>41.0</td>\n",
              "      <td>6.984127</td>\n",
              "      <td>1.02381</td>\n",
              "      <td>322.0</td>\n",
              "      <td>2.555556</td>\n",
              "      <td>37.88</td>\n",
              "      <td>-122.23</td>\n",
              "      <td>4.526</td>\n",
              "    </tr>\n",
              "  </tbody>\n",
              "</table>\n",
              "</div>\n",
              "      <button class=\"colab-df-convert\" onclick=\"convertToInteractive('df-c75449c8-3902-42fb-ae5c-4a9a4db777aa')\"\n",
              "              title=\"Convert this dataframe to an interactive table.\"\n",
              "              style=\"display:none;\">\n",
              "        \n",
              "  <svg xmlns=\"http://www.w3.org/2000/svg\" height=\"24px\"viewBox=\"0 0 24 24\"\n",
              "       width=\"24px\">\n",
              "    <path d=\"M0 0h24v24H0V0z\" fill=\"none\"/>\n",
              "    <path d=\"M18.56 5.44l.94 2.06.94-2.06 2.06-.94-2.06-.94-.94-2.06-.94 2.06-2.06.94zm-11 1L8.5 8.5l.94-2.06 2.06-.94-2.06-.94L8.5 2.5l-.94 2.06-2.06.94zm10 10l.94 2.06.94-2.06 2.06-.94-2.06-.94-.94-2.06-.94 2.06-2.06.94z\"/><path d=\"M17.41 7.96l-1.37-1.37c-.4-.4-.92-.59-1.43-.59-.52 0-1.04.2-1.43.59L10.3 9.45l-7.72 7.72c-.78.78-.78 2.05 0 2.83L4 21.41c.39.39.9.59 1.41.59.51 0 1.02-.2 1.41-.59l7.78-7.78 2.81-2.81c.8-.78.8-2.07 0-2.86zM5.41 20L4 18.59l7.72-7.72 1.47 1.35L5.41 20z\"/>\n",
              "  </svg>\n",
              "      </button>\n",
              "      \n",
              "  <style>\n",
              "    .colab-df-container {\n",
              "      display:flex;\n",
              "      flex-wrap:wrap;\n",
              "      gap: 12px;\n",
              "    }\n",
              "\n",
              "    .colab-df-convert {\n",
              "      background-color: #E8F0FE;\n",
              "      border: none;\n",
              "      border-radius: 50%;\n",
              "      cursor: pointer;\n",
              "      display: none;\n",
              "      fill: #1967D2;\n",
              "      height: 32px;\n",
              "      padding: 0 0 0 0;\n",
              "      width: 32px;\n",
              "    }\n",
              "\n",
              "    .colab-df-convert:hover {\n",
              "      background-color: #E2EBFA;\n",
              "      box-shadow: 0px 1px 2px rgba(60, 64, 67, 0.3), 0px 1px 3px 1px rgba(60, 64, 67, 0.15);\n",
              "      fill: #174EA6;\n",
              "    }\n",
              "\n",
              "    [theme=dark] .colab-df-convert {\n",
              "      background-color: #3B4455;\n",
              "      fill: #D2E3FC;\n",
              "    }\n",
              "\n",
              "    [theme=dark] .colab-df-convert:hover {\n",
              "      background-color: #434B5C;\n",
              "      box-shadow: 0px 1px 3px 1px rgba(0, 0, 0, 0.15);\n",
              "      filter: drop-shadow(0px 1px 2px rgba(0, 0, 0, 0.3));\n",
              "      fill: #FFFFFF;\n",
              "    }\n",
              "  </style>\n",
              "\n",
              "      <script>\n",
              "        const buttonEl =\n",
              "          document.querySelector('#df-c75449c8-3902-42fb-ae5c-4a9a4db777aa button.colab-df-convert');\n",
              "        buttonEl.style.display =\n",
              "          google.colab.kernel.accessAllowed ? 'block' : 'none';\n",
              "\n",
              "        async function convertToInteractive(key) {\n",
              "          const element = document.querySelector('#df-c75449c8-3902-42fb-ae5c-4a9a4db777aa');\n",
              "          const dataTable =\n",
              "            await google.colab.kernel.invokeFunction('convertToInteractive',\n",
              "                                                     [key], {});\n",
              "          if (!dataTable) return;\n",
              "\n",
              "          const docLinkHtml = 'Like what you see? Visit the ' +\n",
              "            '<a target=\"_blank\" href=https://colab.research.google.com/notebooks/data_table.ipynb>data table notebook</a>'\n",
              "            + ' to learn more about interactive tables.';\n",
              "          element.innerHTML = '';\n",
              "          dataTable['output_type'] = 'display_data';\n",
              "          await google.colab.output.renderOutput(dataTable, element);\n",
              "          const docLink = document.createElement('div');\n",
              "          docLink.innerHTML = docLinkHtml;\n",
              "          element.appendChild(docLink);\n",
              "        }\n",
              "      </script>\n",
              "    </div>\n",
              "  </div>\n",
              "  "
            ]
          },
          "metadata": {},
          "execution_count": 65
        }
      ]
    },
    {
      "cell_type": "code",
      "source": [
        "from sklearn.linear_model import Ridge\n",
        "\n",
        "# Setup random seed\n",
        "np.random.seed(42)\n",
        "\n",
        "# Split data into X and y\n",
        "X = housing_df.drop(\"target\",axis=1)\n",
        "y = housing_df[\"target\"] # median house  price in $100,000\n",
        "\n",
        "# split into train test\n",
        "X_train,X_test,y_train,y_test = train_test_split(X,y,test_size=0.2)\n",
        "\n",
        "# Instantiate and fit the model (on training set)\n",
        "model = Ridge()\n",
        "model.fit(X_train,y_train)\n",
        "\n",
        "# Check model score on test data\n",
        "model.score(X_test,y_test) # measure linear relationship between 2 variables, how much is our model able to predict the target variable\n",
        " \n"
      ],
      "metadata": {
        "colab": {
          "base_uri": "https://localhost:8080/"
        },
        "id": "60aId-1phkt9",
        "outputId": "ee56564d-4d75-4df4-aaba-3734c2b8c5e2"
      },
      "execution_count": null,
      "outputs": [
        {
          "output_type": "execute_result",
          "data": {
            "text/plain": [
              "0.5758549611440126"
            ]
          },
          "metadata": {},
          "execution_count": 66
        }
      ]
    },
    {
      "cell_type": "markdown",
      "source": [
        "What if `ridge` didnt work or the score didnt fit our needs?\n",
        "we can always try a different model"
      ],
      "metadata": {
        "id": "62jyvYrTilnG"
      }
    },
    {
      "cell_type": "code",
      "source": [
        "# Import the randomforestregressor model class from the nsemble module\n",
        "from sklearn.ensemble import RandomForestRegressor\n",
        "\n",
        "# Setup random seed\n",
        "np.random.seed(42)\n",
        "\n",
        "# Split data into X and y\n",
        "X = housing_df.drop(\"target\",axis=1)\n",
        "y = housing_df[\"target\"] # median house  price in $100,000\n",
        "\n",
        "# split into train test\n",
        "X_train,X_test,y_train,y_test = train_test_split(X,y,test_size=0.2)\n",
        "\n",
        "# Instantiate and fit the model (on training set)\n",
        "model = RandomForestRegressor()\n",
        "model.fit(X_train,y_train)\n",
        "\n",
        "# Check model score on test data\n",
        "model.score(X_test,y_test) # measure linear relationship between 2 variables, how much is our model able to predict the target variable\n",
        " "
      ],
      "metadata": {
        "colab": {
          "base_uri": "https://localhost:8080/"
        },
        "id": "zuk-6mABjdll",
        "outputId": "0bcdb254-5b75-4718-ea0c-2a537ae99b76"
      },
      "execution_count": null,
      "outputs": [
        {
          "output_type": "execute_result",
          "data": {
            "text/plain": [
              "0.8066196804802649"
            ]
          },
          "metadata": {},
          "execution_count": 67
        }
      ]
    },
    {
      "cell_type": "markdown",
      "source": [
        "## 2.2 Picking a machine learning model for a classification model"
      ],
      "metadata": {
        "id": "d0RMI3Z4jwKK"
      }
    },
    {
      "cell_type": "code",
      "source": [
        "heart_disease = pd.read_csv(\"heart-disease.csv\")\n",
        "heart_disease.head()"
      ],
      "metadata": {
        "colab": {
          "base_uri": "https://localhost:8080/",
          "height": 206
        },
        "id": "UuizmhfQk8no",
        "outputId": "4f16390a-f142-473e-8be0-f6cc6c7d6311"
      },
      "execution_count": null,
      "outputs": [
        {
          "output_type": "execute_result",
          "data": {
            "text/plain": [
              "   age  sex  cp  trestbps  chol  fbs  restecg  thalach  exang  oldpeak  slope  \\\n",
              "0   63    1   3       145   233    1        0      150      0      2.3      0   \n",
              "1   37    1   2       130   250    0        1      187      0      3.5      0   \n",
              "2   41    0   1       130   204    0        0      172      0      1.4      2   \n",
              "3   56    1   1       120   236    0        1      178      0      0.8      2   \n",
              "4   57    0   0       120   354    0        1      163      1      0.6      2   \n",
              "\n",
              "   ca  thal  target  \n",
              "0   0     1       1  \n",
              "1   0     2       1  \n",
              "2   0     2       1  \n",
              "3   0     2       1  \n",
              "4   0     2       1  "
            ],
            "text/html": [
              "\n",
              "  <div id=\"df-ab6132a1-b08d-4c22-ae2d-0346f26062c2\">\n",
              "    <div class=\"colab-df-container\">\n",
              "      <div>\n",
              "<style scoped>\n",
              "    .dataframe tbody tr th:only-of-type {\n",
              "        vertical-align: middle;\n",
              "    }\n",
              "\n",
              "    .dataframe tbody tr th {\n",
              "        vertical-align: top;\n",
              "    }\n",
              "\n",
              "    .dataframe thead th {\n",
              "        text-align: right;\n",
              "    }\n",
              "</style>\n",
              "<table border=\"1\" class=\"dataframe\">\n",
              "  <thead>\n",
              "    <tr style=\"text-align: right;\">\n",
              "      <th></th>\n",
              "      <th>age</th>\n",
              "      <th>sex</th>\n",
              "      <th>cp</th>\n",
              "      <th>trestbps</th>\n",
              "      <th>chol</th>\n",
              "      <th>fbs</th>\n",
              "      <th>restecg</th>\n",
              "      <th>thalach</th>\n",
              "      <th>exang</th>\n",
              "      <th>oldpeak</th>\n",
              "      <th>slope</th>\n",
              "      <th>ca</th>\n",
              "      <th>thal</th>\n",
              "      <th>target</th>\n",
              "    </tr>\n",
              "  </thead>\n",
              "  <tbody>\n",
              "    <tr>\n",
              "      <th>0</th>\n",
              "      <td>63</td>\n",
              "      <td>1</td>\n",
              "      <td>3</td>\n",
              "      <td>145</td>\n",
              "      <td>233</td>\n",
              "      <td>1</td>\n",
              "      <td>0</td>\n",
              "      <td>150</td>\n",
              "      <td>0</td>\n",
              "      <td>2.3</td>\n",
              "      <td>0</td>\n",
              "      <td>0</td>\n",
              "      <td>1</td>\n",
              "      <td>1</td>\n",
              "    </tr>\n",
              "    <tr>\n",
              "      <th>1</th>\n",
              "      <td>37</td>\n",
              "      <td>1</td>\n",
              "      <td>2</td>\n",
              "      <td>130</td>\n",
              "      <td>250</td>\n",
              "      <td>0</td>\n",
              "      <td>1</td>\n",
              "      <td>187</td>\n",
              "      <td>0</td>\n",
              "      <td>3.5</td>\n",
              "      <td>0</td>\n",
              "      <td>0</td>\n",
              "      <td>2</td>\n",
              "      <td>1</td>\n",
              "    </tr>\n",
              "    <tr>\n",
              "      <th>2</th>\n",
              "      <td>41</td>\n",
              "      <td>0</td>\n",
              "      <td>1</td>\n",
              "      <td>130</td>\n",
              "      <td>204</td>\n",
              "      <td>0</td>\n",
              "      <td>0</td>\n",
              "      <td>172</td>\n",
              "      <td>0</td>\n",
              "      <td>1.4</td>\n",
              "      <td>2</td>\n",
              "      <td>0</td>\n",
              "      <td>2</td>\n",
              "      <td>1</td>\n",
              "    </tr>\n",
              "    <tr>\n",
              "      <th>3</th>\n",
              "      <td>56</td>\n",
              "      <td>1</td>\n",
              "      <td>1</td>\n",
              "      <td>120</td>\n",
              "      <td>236</td>\n",
              "      <td>0</td>\n",
              "      <td>1</td>\n",
              "      <td>178</td>\n",
              "      <td>0</td>\n",
              "      <td>0.8</td>\n",
              "      <td>2</td>\n",
              "      <td>0</td>\n",
              "      <td>2</td>\n",
              "      <td>1</td>\n",
              "    </tr>\n",
              "    <tr>\n",
              "      <th>4</th>\n",
              "      <td>57</td>\n",
              "      <td>0</td>\n",
              "      <td>0</td>\n",
              "      <td>120</td>\n",
              "      <td>354</td>\n",
              "      <td>0</td>\n",
              "      <td>1</td>\n",
              "      <td>163</td>\n",
              "      <td>1</td>\n",
              "      <td>0.6</td>\n",
              "      <td>2</td>\n",
              "      <td>0</td>\n",
              "      <td>2</td>\n",
              "      <td>1</td>\n",
              "    </tr>\n",
              "  </tbody>\n",
              "</table>\n",
              "</div>\n",
              "      <button class=\"colab-df-convert\" onclick=\"convertToInteractive('df-ab6132a1-b08d-4c22-ae2d-0346f26062c2')\"\n",
              "              title=\"Convert this dataframe to an interactive table.\"\n",
              "              style=\"display:none;\">\n",
              "        \n",
              "  <svg xmlns=\"http://www.w3.org/2000/svg\" height=\"24px\"viewBox=\"0 0 24 24\"\n",
              "       width=\"24px\">\n",
              "    <path d=\"M0 0h24v24H0V0z\" fill=\"none\"/>\n",
              "    <path d=\"M18.56 5.44l.94 2.06.94-2.06 2.06-.94-2.06-.94-.94-2.06-.94 2.06-2.06.94zm-11 1L8.5 8.5l.94-2.06 2.06-.94-2.06-.94L8.5 2.5l-.94 2.06-2.06.94zm10 10l.94 2.06.94-2.06 2.06-.94-2.06-.94-.94-2.06-.94 2.06-2.06.94z\"/><path d=\"M17.41 7.96l-1.37-1.37c-.4-.4-.92-.59-1.43-.59-.52 0-1.04.2-1.43.59L10.3 9.45l-7.72 7.72c-.78.78-.78 2.05 0 2.83L4 21.41c.39.39.9.59 1.41.59.51 0 1.02-.2 1.41-.59l7.78-7.78 2.81-2.81c.8-.78.8-2.07 0-2.86zM5.41 20L4 18.59l7.72-7.72 1.47 1.35L5.41 20z\"/>\n",
              "  </svg>\n",
              "      </button>\n",
              "      \n",
              "  <style>\n",
              "    .colab-df-container {\n",
              "      display:flex;\n",
              "      flex-wrap:wrap;\n",
              "      gap: 12px;\n",
              "    }\n",
              "\n",
              "    .colab-df-convert {\n",
              "      background-color: #E8F0FE;\n",
              "      border: none;\n",
              "      border-radius: 50%;\n",
              "      cursor: pointer;\n",
              "      display: none;\n",
              "      fill: #1967D2;\n",
              "      height: 32px;\n",
              "      padding: 0 0 0 0;\n",
              "      width: 32px;\n",
              "    }\n",
              "\n",
              "    .colab-df-convert:hover {\n",
              "      background-color: #E2EBFA;\n",
              "      box-shadow: 0px 1px 2px rgba(60, 64, 67, 0.3), 0px 1px 3px 1px rgba(60, 64, 67, 0.15);\n",
              "      fill: #174EA6;\n",
              "    }\n",
              "\n",
              "    [theme=dark] .colab-df-convert {\n",
              "      background-color: #3B4455;\n",
              "      fill: #D2E3FC;\n",
              "    }\n",
              "\n",
              "    [theme=dark] .colab-df-convert:hover {\n",
              "      background-color: #434B5C;\n",
              "      box-shadow: 0px 1px 3px 1px rgba(0, 0, 0, 0.15);\n",
              "      filter: drop-shadow(0px 1px 2px rgba(0, 0, 0, 0.3));\n",
              "      fill: #FFFFFF;\n",
              "    }\n",
              "  </style>\n",
              "\n",
              "      <script>\n",
              "        const buttonEl =\n",
              "          document.querySelector('#df-ab6132a1-b08d-4c22-ae2d-0346f26062c2 button.colab-df-convert');\n",
              "        buttonEl.style.display =\n",
              "          google.colab.kernel.accessAllowed ? 'block' : 'none';\n",
              "\n",
              "        async function convertToInteractive(key) {\n",
              "          const element = document.querySelector('#df-ab6132a1-b08d-4c22-ae2d-0346f26062c2');\n",
              "          const dataTable =\n",
              "            await google.colab.kernel.invokeFunction('convertToInteractive',\n",
              "                                                     [key], {});\n",
              "          if (!dataTable) return;\n",
              "\n",
              "          const docLinkHtml = 'Like what you see? Visit the ' +\n",
              "            '<a target=\"_blank\" href=https://colab.research.google.com/notebooks/data_table.ipynb>data table notebook</a>'\n",
              "            + ' to learn more about interactive tables.';\n",
              "          element.innerHTML = '';\n",
              "          dataTable['output_type'] = 'display_data';\n",
              "          await google.colab.output.renderOutput(dataTable, element);\n",
              "          const docLink = document.createElement('div');\n",
              "          docLink.innerHTML = docLinkHtml;\n",
              "          element.appendChild(docLink);\n",
              "        }\n",
              "      </script>\n",
              "    </div>\n",
              "  </div>\n",
              "  "
            ]
          },
          "metadata": {},
          "execution_count": 68
        }
      ]
    },
    {
      "cell_type": "code",
      "source": [
        "len(heart_disease)"
      ],
      "metadata": {
        "colab": {
          "base_uri": "https://localhost:8080/"
        },
        "id": "fG-_OnshlNA4",
        "outputId": "15d1d555-6187-460f-b600-265bc74b5a6a"
      },
      "execution_count": null,
      "outputs": [
        {
          "output_type": "execute_result",
          "data": {
            "text/plain": [
              "303"
            ]
          },
          "metadata": {},
          "execution_count": 69
        }
      ]
    },
    {
      "cell_type": "markdown",
      "source": [
        "Consulted map and it says to try `linearSVC`"
      ],
      "metadata": {
        "id": "SQWCrpxblkUQ"
      }
    },
    {
      "cell_type": "code",
      "source": [
        "from sklearn.svm import LinearSVC\n",
        "\n",
        "#setup random seed\n",
        "np.random.seed(42)\n",
        "\n",
        "# make the data\n",
        "X = heart_disease.drop(\"target\",axis=1)\n",
        "y= heart_disease[\"target\"]\n",
        "\n",
        "# split data into train and test\n",
        "X_train,X_test,y_train,y_test = train_test_split(X,y,test_size=0.2)\n",
        "\n",
        "# make the model\n",
        "clf = LinearSVC(max_iter=1000)\n",
        "clf.fit(X_train,y_train)\n",
        "\n",
        "# Check model on our test data\n",
        "clf.score(X_test,y_test)"
      ],
      "metadata": {
        "colab": {
          "base_uri": "https://localhost:8080/"
        },
        "id": "trw6Bvx-lcfW",
        "outputId": "c887df91-23bc-48e3-ba23-66f16d59e604"
      },
      "execution_count": null,
      "outputs": [
        {
          "output_type": "stream",
          "name": "stderr",
          "text": [
            "/usr/local/lib/python3.7/dist-packages/sklearn/svm/_base.py:1208: ConvergenceWarning: Liblinear failed to converge, increase the number of iterations.\n",
            "  ConvergenceWarning,\n"
          ]
        },
        {
          "output_type": "execute_result",
          "data": {
            "text/plain": [
              "0.8688524590163934"
            ]
          },
          "metadata": {},
          "execution_count": 70
        }
      ]
    },
    {
      "cell_type": "code",
      "source": [
        "# Compare it to random forest classifier\n",
        "\n",
        "from sklearn.ensemble import RandomForestClassifier\n",
        "\n",
        "#setup random seed\n",
        "np.random.seed(42)\n",
        "\n",
        "# make the data\n",
        "X = heart_disease.drop(\"target\",axis=1)\n",
        "y= heart_disease[\"target\"]\n",
        "\n",
        "# split data into train and test\n",
        "X_train,X_test,y_train,y_test = train_test_split(X,y,test_size=0.2)\n",
        "\n",
        "# make the model\n",
        "clf = RandomForestClassifier()\n",
        "clf.fit(X_train,y_train)\n",
        "\n",
        "# Check model on our test data\n",
        "clf.score(X_test,y_test)"
      ],
      "metadata": {
        "colab": {
          "base_uri": "https://localhost:8080/"
        },
        "id": "Hwy6A23dmCxu",
        "outputId": "dd73de83-cd5f-471f-aede-65ee70ebe242"
      },
      "execution_count": null,
      "outputs": [
        {
          "output_type": "execute_result",
          "data": {
            "text/plain": [
              "0.8524590163934426"
            ]
          },
          "metadata": {},
          "execution_count": 71
        }
      ]
    },
    {
      "cell_type": "markdown",
      "source": [
        "### Note: \n",
        "* If you have structured data i.e tables , use ensemble methods i.e RandomForestClassifier/regressor\n",
        "* If unstrucuted data, use deep learning / transfer learning"
      ],
      "metadata": {
        "id": "hhGTvZlNmx9d"
      }
    },
    {
      "cell_type": "markdown",
      "source": [
        "## 3. Fit the model / algorithm on our data and use it to make predtictions\n",
        "### 3.1 Fitting the model to the data\n",
        "\n",
        "* X = features, feature variables, data\n",
        "* y = labels, targets, target variables"
      ],
      "metadata": {
        "id": "VTI1E9agnJS9"
      }
    },
    {
      "cell_type": "code",
      "source": [
        "# Compare it to random forest classifier\n",
        "\n",
        "from sklearn.ensemble import RandomForestClassifier\n",
        "\n",
        "#setup random seed\n",
        "np.random.seed(42)\n",
        "\n",
        "# make the data\n",
        "X = heart_disease.drop(\"target\",axis=1)\n",
        "y= heart_disease[\"target\"]\n",
        "\n",
        "# split data into train and test\n",
        "X_train,X_test,y_train,y_test = train_test_split(X,y,test_size=0.2)\n",
        "\n",
        "# Fit the model to the data (training the ML Model)\n",
        "clf = RandomForestClassifier()\n",
        "clf.fit(X_train,y_train)\n",
        "\n",
        "# Check model on our test data (use the patterns the model has learned)\n",
        "clf.score(X_test,y_test)"
      ],
      "metadata": {
        "colab": {
          "base_uri": "https://localhost:8080/"
        },
        "id": "kCGR5pZ5q_bs",
        "outputId": "b2142cae-e0ed-4ad7-994e-bcc964fb1c31"
      },
      "execution_count": null,
      "outputs": [
        {
          "output_type": "execute_result",
          "data": {
            "text/plain": [
              "0.8524590163934426"
            ]
          },
          "metadata": {},
          "execution_count": 72
        }
      ]
    },
    {
      "cell_type": "markdown",
      "source": [
        "### 3.2 make predictions using a ml model\n",
        "2 ways to make predictions:\n",
        "1. `predict()`\n",
        "2. `predict_proba()`"
      ],
      "metadata": {
        "id": "KEywgqpfrNLp"
      }
    },
    {
      "cell_type": "code",
      "source": [
        "# use a trained model to make predictions\n",
        "clf.predict(np.array([1,7,8,3,4])) #  [FAILS]"
      ],
      "metadata": {
        "colab": {
          "base_uri": "https://localhost:8080/",
          "height": 416
        },
        "id": "rMo1EZiMrxpo",
        "outputId": "f2567b97-ef64-4f4b-8f1b-ae6cb382d165"
      },
      "execution_count": null,
      "outputs": [
        {
          "output_type": "stream",
          "name": "stderr",
          "text": [
            "/usr/local/lib/python3.7/dist-packages/sklearn/base.py:451: UserWarning: X does not have valid feature names, but RandomForestClassifier was fitted with feature names\n",
            "  \"X does not have valid feature names, but\"\n"
          ]
        },
        {
          "output_type": "error",
          "ename": "ValueError",
          "evalue": "ignored",
          "traceback": [
            "\u001b[0;31m---------------------------------------------------------------------------\u001b[0m",
            "\u001b[0;31mValueError\u001b[0m                                Traceback (most recent call last)",
            "\u001b[0;32m<ipython-input-73-2667d2b98d79>\u001b[0m in \u001b[0;36m<module>\u001b[0;34m()\u001b[0m\n\u001b[1;32m      1\u001b[0m \u001b[0;31m# use a trained model to make predictions\u001b[0m\u001b[0;34m\u001b[0m\u001b[0;34m\u001b[0m\u001b[0;34m\u001b[0m\u001b[0m\n\u001b[0;32m----> 2\u001b[0;31m \u001b[0mclf\u001b[0m\u001b[0;34m.\u001b[0m\u001b[0mpredict\u001b[0m\u001b[0;34m(\u001b[0m\u001b[0mnp\u001b[0m\u001b[0;34m.\u001b[0m\u001b[0marray\u001b[0m\u001b[0;34m(\u001b[0m\u001b[0;34m[\u001b[0m\u001b[0;36m1\u001b[0m\u001b[0;34m,\u001b[0m\u001b[0;36m7\u001b[0m\u001b[0;34m,\u001b[0m\u001b[0;36m8\u001b[0m\u001b[0;34m,\u001b[0m\u001b[0;36m3\u001b[0m\u001b[0;34m,\u001b[0m\u001b[0;36m4\u001b[0m\u001b[0;34m]\u001b[0m\u001b[0;34m)\u001b[0m\u001b[0;34m)\u001b[0m \u001b[0;31m#  [FAILS]\u001b[0m\u001b[0;34m\u001b[0m\u001b[0;34m\u001b[0m\u001b[0m\n\u001b[0m",
            "\u001b[0;32m/usr/local/lib/python3.7/dist-packages/sklearn/ensemble/_forest.py\u001b[0m in \u001b[0;36mpredict\u001b[0;34m(self, X)\u001b[0m\n\u001b[1;32m    806\u001b[0m             \u001b[0mThe\u001b[0m \u001b[0mpredicted\u001b[0m \u001b[0mclasses\u001b[0m\u001b[0;34m.\u001b[0m\u001b[0;34m\u001b[0m\u001b[0;34m\u001b[0m\u001b[0m\n\u001b[1;32m    807\u001b[0m         \"\"\"\n\u001b[0;32m--> 808\u001b[0;31m         \u001b[0mproba\u001b[0m \u001b[0;34m=\u001b[0m \u001b[0mself\u001b[0m\u001b[0;34m.\u001b[0m\u001b[0mpredict_proba\u001b[0m\u001b[0;34m(\u001b[0m\u001b[0mX\u001b[0m\u001b[0;34m)\u001b[0m\u001b[0;34m\u001b[0m\u001b[0;34m\u001b[0m\u001b[0m\n\u001b[0m\u001b[1;32m    809\u001b[0m \u001b[0;34m\u001b[0m\u001b[0m\n\u001b[1;32m    810\u001b[0m         \u001b[0;32mif\u001b[0m \u001b[0mself\u001b[0m\u001b[0;34m.\u001b[0m\u001b[0mn_outputs_\u001b[0m \u001b[0;34m==\u001b[0m \u001b[0;36m1\u001b[0m\u001b[0;34m:\u001b[0m\u001b[0;34m\u001b[0m\u001b[0;34m\u001b[0m\u001b[0m\n",
            "\u001b[0;32m/usr/local/lib/python3.7/dist-packages/sklearn/ensemble/_forest.py\u001b[0m in \u001b[0;36mpredict_proba\u001b[0;34m(self, X)\u001b[0m\n\u001b[1;32m    848\u001b[0m         \u001b[0mcheck_is_fitted\u001b[0m\u001b[0;34m(\u001b[0m\u001b[0mself\u001b[0m\u001b[0;34m)\u001b[0m\u001b[0;34m\u001b[0m\u001b[0;34m\u001b[0m\u001b[0m\n\u001b[1;32m    849\u001b[0m         \u001b[0;31m# Check data\u001b[0m\u001b[0;34m\u001b[0m\u001b[0;34m\u001b[0m\u001b[0;34m\u001b[0m\u001b[0m\n\u001b[0;32m--> 850\u001b[0;31m         \u001b[0mX\u001b[0m \u001b[0;34m=\u001b[0m \u001b[0mself\u001b[0m\u001b[0;34m.\u001b[0m\u001b[0m_validate_X_predict\u001b[0m\u001b[0;34m(\u001b[0m\u001b[0mX\u001b[0m\u001b[0;34m)\u001b[0m\u001b[0;34m\u001b[0m\u001b[0;34m\u001b[0m\u001b[0m\n\u001b[0m\u001b[1;32m    851\u001b[0m \u001b[0;34m\u001b[0m\u001b[0m\n\u001b[1;32m    852\u001b[0m         \u001b[0;31m# Assign chunk of trees to jobs\u001b[0m\u001b[0;34m\u001b[0m\u001b[0;34m\u001b[0m\u001b[0;34m\u001b[0m\u001b[0m\n",
            "\u001b[0;32m/usr/local/lib/python3.7/dist-packages/sklearn/ensemble/_forest.py\u001b[0m in \u001b[0;36m_validate_X_predict\u001b[0;34m(self, X)\u001b[0m\n\u001b[1;32m    577\u001b[0m         Validate X whenever one tries to predict, apply, predict_proba.\"\"\"\n\u001b[1;32m    578\u001b[0m         \u001b[0mcheck_is_fitted\u001b[0m\u001b[0;34m(\u001b[0m\u001b[0mself\u001b[0m\u001b[0;34m)\u001b[0m\u001b[0;34m\u001b[0m\u001b[0;34m\u001b[0m\u001b[0m\n\u001b[0;32m--> 579\u001b[0;31m         \u001b[0mX\u001b[0m \u001b[0;34m=\u001b[0m \u001b[0mself\u001b[0m\u001b[0;34m.\u001b[0m\u001b[0m_validate_data\u001b[0m\u001b[0;34m(\u001b[0m\u001b[0mX\u001b[0m\u001b[0;34m,\u001b[0m \u001b[0mdtype\u001b[0m\u001b[0;34m=\u001b[0m\u001b[0mDTYPE\u001b[0m\u001b[0;34m,\u001b[0m \u001b[0maccept_sparse\u001b[0m\u001b[0;34m=\u001b[0m\u001b[0;34m\"csr\"\u001b[0m\u001b[0;34m,\u001b[0m \u001b[0mreset\u001b[0m\u001b[0;34m=\u001b[0m\u001b[0;32mFalse\u001b[0m\u001b[0;34m)\u001b[0m\u001b[0;34m\u001b[0m\u001b[0;34m\u001b[0m\u001b[0m\n\u001b[0m\u001b[1;32m    580\u001b[0m         \u001b[0;32mif\u001b[0m \u001b[0missparse\u001b[0m\u001b[0;34m(\u001b[0m\u001b[0mX\u001b[0m\u001b[0;34m)\u001b[0m \u001b[0;32mand\u001b[0m \u001b[0;34m(\u001b[0m\u001b[0mX\u001b[0m\u001b[0;34m.\u001b[0m\u001b[0mindices\u001b[0m\u001b[0;34m.\u001b[0m\u001b[0mdtype\u001b[0m \u001b[0;34m!=\u001b[0m \u001b[0mnp\u001b[0m\u001b[0;34m.\u001b[0m\u001b[0mintc\u001b[0m \u001b[0;32mor\u001b[0m \u001b[0mX\u001b[0m\u001b[0;34m.\u001b[0m\u001b[0mindptr\u001b[0m\u001b[0;34m.\u001b[0m\u001b[0mdtype\u001b[0m \u001b[0;34m!=\u001b[0m \u001b[0mnp\u001b[0m\u001b[0;34m.\u001b[0m\u001b[0mintc\u001b[0m\u001b[0;34m)\u001b[0m\u001b[0;34m:\u001b[0m\u001b[0;34m\u001b[0m\u001b[0;34m\u001b[0m\u001b[0m\n\u001b[1;32m    581\u001b[0m             \u001b[0;32mraise\u001b[0m \u001b[0mValueError\u001b[0m\u001b[0;34m(\u001b[0m\u001b[0;34m\"No support for np.int64 index based sparse matrices\"\u001b[0m\u001b[0;34m)\u001b[0m\u001b[0;34m\u001b[0m\u001b[0;34m\u001b[0m\u001b[0m\n",
            "\u001b[0;32m/usr/local/lib/python3.7/dist-packages/sklearn/base.py\u001b[0m in \u001b[0;36m_validate_data\u001b[0;34m(self, X, y, reset, validate_separately, **check_params)\u001b[0m\n\u001b[1;32m    564\u001b[0m             \u001b[0;32mraise\u001b[0m \u001b[0mValueError\u001b[0m\u001b[0;34m(\u001b[0m\u001b[0;34m\"Validation should be done on X, y or both.\"\u001b[0m\u001b[0;34m)\u001b[0m\u001b[0;34m\u001b[0m\u001b[0;34m\u001b[0m\u001b[0m\n\u001b[1;32m    565\u001b[0m         \u001b[0;32melif\u001b[0m \u001b[0;32mnot\u001b[0m \u001b[0mno_val_X\u001b[0m \u001b[0;32mand\u001b[0m \u001b[0mno_val_y\u001b[0m\u001b[0;34m:\u001b[0m\u001b[0;34m\u001b[0m\u001b[0;34m\u001b[0m\u001b[0m\n\u001b[0;32m--> 566\u001b[0;31m             \u001b[0mX\u001b[0m \u001b[0;34m=\u001b[0m \u001b[0mcheck_array\u001b[0m\u001b[0;34m(\u001b[0m\u001b[0mX\u001b[0m\u001b[0;34m,\u001b[0m \u001b[0;34m**\u001b[0m\u001b[0mcheck_params\u001b[0m\u001b[0;34m)\u001b[0m\u001b[0;34m\u001b[0m\u001b[0;34m\u001b[0m\u001b[0m\n\u001b[0m\u001b[1;32m    567\u001b[0m             \u001b[0mout\u001b[0m \u001b[0;34m=\u001b[0m \u001b[0mX\u001b[0m\u001b[0;34m\u001b[0m\u001b[0;34m\u001b[0m\u001b[0m\n\u001b[1;32m    568\u001b[0m         \u001b[0;32melif\u001b[0m \u001b[0mno_val_X\u001b[0m \u001b[0;32mand\u001b[0m \u001b[0;32mnot\u001b[0m \u001b[0mno_val_y\u001b[0m\u001b[0;34m:\u001b[0m\u001b[0;34m\u001b[0m\u001b[0;34m\u001b[0m\u001b[0m\n",
            "\u001b[0;32m/usr/local/lib/python3.7/dist-packages/sklearn/utils/validation.py\u001b[0m in \u001b[0;36mcheck_array\u001b[0;34m(array, accept_sparse, accept_large_sparse, dtype, order, copy, force_all_finite, ensure_2d, allow_nd, ensure_min_samples, ensure_min_features, estimator)\u001b[0m\n\u001b[1;32m    771\u001b[0m                     \u001b[0;34m\"Reshape your data either using array.reshape(-1, 1) if \"\u001b[0m\u001b[0;34m\u001b[0m\u001b[0;34m\u001b[0m\u001b[0m\n\u001b[1;32m    772\u001b[0m                     \u001b[0;34m\"your data has a single feature or array.reshape(1, -1) \"\u001b[0m\u001b[0;34m\u001b[0m\u001b[0;34m\u001b[0m\u001b[0m\n\u001b[0;32m--> 773\u001b[0;31m                     \u001b[0;34m\"if it contains a single sample.\"\u001b[0m\u001b[0;34m.\u001b[0m\u001b[0mformat\u001b[0m\u001b[0;34m(\u001b[0m\u001b[0marray\u001b[0m\u001b[0;34m)\u001b[0m\u001b[0;34m\u001b[0m\u001b[0;34m\u001b[0m\u001b[0m\n\u001b[0m\u001b[1;32m    774\u001b[0m                 )\n\u001b[1;32m    775\u001b[0m \u001b[0;34m\u001b[0m\u001b[0m\n",
            "\u001b[0;31mValueError\u001b[0m: Expected 2D array, got 1D array instead:\narray=[1. 7. 8. 3. 4.].\nReshape your data either using array.reshape(-1, 1) if your data has a single feature or array.reshape(1, -1) if it contains a single sample."
          ]
        }
      ]
    },
    {
      "cell_type": "code",
      "source": [
        "y_preds = clf.predict(X_test)\n",
        "y_preds"
      ],
      "metadata": {
        "colab": {
          "base_uri": "https://localhost:8080/"
        },
        "id": "2oX3gI8SsL3t",
        "outputId": "43794ec2-286a-445e-d3ee-c00f71e542d6"
      },
      "execution_count": null,
      "outputs": [
        {
          "output_type": "execute_result",
          "data": {
            "text/plain": [
              "array([0, 1, 1, 0, 1, 1, 1, 0, 0, 1, 1, 0, 1, 0, 1, 1, 1, 0, 0, 0, 0, 0,\n",
              "       1, 1, 1, 1, 1, 1, 0, 1, 0, 0, 0, 0, 1, 0, 1, 1, 1, 1, 1, 1, 1, 1,\n",
              "       1, 0, 1, 1, 0, 0, 0, 0, 1, 1, 0, 0, 0, 1, 0, 0, 0])"
            ]
          },
          "metadata": {},
          "execution_count": 74
        }
      ]
    },
    {
      "cell_type": "code",
      "source": [
        "np.array([y_test])"
      ],
      "metadata": {
        "colab": {
          "base_uri": "https://localhost:8080/"
        },
        "id": "WAdz5MpZslDA",
        "outputId": "01c707cc-348c-43fd-96f1-f489eb9e4bca"
      },
      "execution_count": null,
      "outputs": [
        {
          "output_type": "execute_result",
          "data": {
            "text/plain": [
              "array([[0, 0, 1, 0, 1, 1, 1, 0, 0, 1, 1, 1, 1, 0, 1, 1, 1, 0, 0, 0, 1, 0,\n",
              "        0, 1, 1, 0, 0, 1, 0, 1, 1, 0, 0, 1, 1, 0, 1, 1, 1, 1, 1, 1, 1, 1,\n",
              "        1, 0, 0, 1, 0, 0, 0, 0, 1, 1, 0, 0, 0, 1, 0, 0, 0]])"
            ]
          },
          "metadata": {},
          "execution_count": 75
        }
      ]
    },
    {
      "cell_type": "code",
      "source": [
        "# Compare predictions to truth labels to evaluate the model\n",
        "np.mean(y_preds == y_test)"
      ],
      "metadata": {
        "colab": {
          "base_uri": "https://localhost:8080/"
        },
        "id": "42tX40T_spYs",
        "outputId": "d4ee3242-f730-4b00-c2a1-677de64236fb"
      },
      "execution_count": null,
      "outputs": [
        {
          "output_type": "execute_result",
          "data": {
            "text/plain": [
              "0.8524590163934426"
            ]
          },
          "metadata": {},
          "execution_count": 76
        }
      ]
    },
    {
      "cell_type": "code",
      "source": [
        "clf.score(X_test,y_test)"
      ],
      "metadata": {
        "colab": {
          "base_uri": "https://localhost:8080/"
        },
        "id": "Ml4qRDYks2FL",
        "outputId": "5c9e4567-d085-4a18-c685-b6d886c9687c"
      },
      "execution_count": null,
      "outputs": [
        {
          "output_type": "execute_result",
          "data": {
            "text/plain": [
              "0.8524590163934426"
            ]
          },
          "metadata": {},
          "execution_count": 77
        }
      ]
    },
    {
      "cell_type": "code",
      "source": [
        "from sklearn.metrics import accuracy_score\n",
        "accuracy_score(y_test,y_preds)"
      ],
      "metadata": {
        "colab": {
          "base_uri": "https://localhost:8080/"
        },
        "id": "B1LNxUHJs-zk",
        "outputId": "73b1f29c-958e-4083-d99b-a1efe2d376d2"
      },
      "execution_count": null,
      "outputs": [
        {
          "output_type": "execute_result",
          "data": {
            "text/plain": [
              "0.8524590163934426"
            ]
          },
          "metadata": {},
          "execution_count": 78
        }
      ]
    },
    {
      "cell_type": "markdown",
      "source": [
        "### Make predictions with predict_proba()\n"
      ],
      "metadata": {
        "id": "Y70k60CStHxl"
      }
    },
    {
      "cell_type": "code",
      "source": [
        "# predict_proba() returns probabilities of a classification label\n",
        "clf.predict_proba(X_test[:5])"
      ],
      "metadata": {
        "colab": {
          "base_uri": "https://localhost:8080/"
        },
        "id": "EwUOZm8ytSeg",
        "outputId": "fb083bef-5121-4d47-c20e-9b372ed6af49"
      },
      "execution_count": null,
      "outputs": [
        {
          "output_type": "execute_result",
          "data": {
            "text/plain": [
              "array([[0.89, 0.11],\n",
              "       [0.49, 0.51],\n",
              "       [0.43, 0.57],\n",
              "       [0.84, 0.16],\n",
              "       [0.18, 0.82]])"
            ]
          },
          "metadata": {},
          "execution_count": 79
        }
      ]
    },
    {
      "cell_type": "code",
      "source": [
        "# Lets prerdict on the same data\n",
        "clf.predict(X_test[:5])"
      ],
      "metadata": {
        "colab": {
          "base_uri": "https://localhost:8080/"
        },
        "id": "ZDBnksEutdSa",
        "outputId": "cdadb28b-a03a-41cf-83f2-7205c7b819f5"
      },
      "execution_count": null,
      "outputs": [
        {
          "output_type": "execute_result",
          "data": {
            "text/plain": [
              "array([0, 1, 1, 0, 1])"
            ]
          },
          "metadata": {},
          "execution_count": 80
        }
      ]
    },
    {
      "cell_type": "markdown",
      "source": [
        "`predict()` can also be used for regression models"
      ],
      "metadata": {
        "id": "-M0hkON_t_xA"
      }
    },
    {
      "cell_type": "code",
      "source": [
        "housing_df.head()"
      ],
      "metadata": {
        "colab": {
          "base_uri": "https://localhost:8080/",
          "height": 206
        },
        "id": "bjHzl5c80DtE",
        "outputId": "b690d512-3864-4014-835f-87fd111eff07"
      },
      "execution_count": null,
      "outputs": [
        {
          "output_type": "execute_result",
          "data": {
            "text/plain": [
              "   MedInc  HouseAge  AveRooms  AveBedrms  Population  AveOccup  Latitude  \\\n",
              "0  8.3252      41.0  6.984127   1.023810       322.0  2.555556     37.88   \n",
              "1  8.3014      21.0  6.238137   0.971880      2401.0  2.109842     37.86   \n",
              "2  7.2574      52.0  8.288136   1.073446       496.0  2.802260     37.85   \n",
              "3  5.6431      52.0  5.817352   1.073059       558.0  2.547945     37.85   \n",
              "4  3.8462      52.0  6.281853   1.081081       565.0  2.181467     37.85   \n",
              "\n",
              "   Longitude  target  \n",
              "0    -122.23   4.526  \n",
              "1    -122.22   3.585  \n",
              "2    -122.24   3.521  \n",
              "3    -122.25   3.413  \n",
              "4    -122.25   3.422  "
            ],
            "text/html": [
              "\n",
              "  <div id=\"df-715db561-2ba9-48c4-906c-64f7fb728f13\">\n",
              "    <div class=\"colab-df-container\">\n",
              "      <div>\n",
              "<style scoped>\n",
              "    .dataframe tbody tr th:only-of-type {\n",
              "        vertical-align: middle;\n",
              "    }\n",
              "\n",
              "    .dataframe tbody tr th {\n",
              "        vertical-align: top;\n",
              "    }\n",
              "\n",
              "    .dataframe thead th {\n",
              "        text-align: right;\n",
              "    }\n",
              "</style>\n",
              "<table border=\"1\" class=\"dataframe\">\n",
              "  <thead>\n",
              "    <tr style=\"text-align: right;\">\n",
              "      <th></th>\n",
              "      <th>MedInc</th>\n",
              "      <th>HouseAge</th>\n",
              "      <th>AveRooms</th>\n",
              "      <th>AveBedrms</th>\n",
              "      <th>Population</th>\n",
              "      <th>AveOccup</th>\n",
              "      <th>Latitude</th>\n",
              "      <th>Longitude</th>\n",
              "      <th>target</th>\n",
              "    </tr>\n",
              "  </thead>\n",
              "  <tbody>\n",
              "    <tr>\n",
              "      <th>0</th>\n",
              "      <td>8.3252</td>\n",
              "      <td>41.0</td>\n",
              "      <td>6.984127</td>\n",
              "      <td>1.023810</td>\n",
              "      <td>322.0</td>\n",
              "      <td>2.555556</td>\n",
              "      <td>37.88</td>\n",
              "      <td>-122.23</td>\n",
              "      <td>4.526</td>\n",
              "    </tr>\n",
              "    <tr>\n",
              "      <th>1</th>\n",
              "      <td>8.3014</td>\n",
              "      <td>21.0</td>\n",
              "      <td>6.238137</td>\n",
              "      <td>0.971880</td>\n",
              "      <td>2401.0</td>\n",
              "      <td>2.109842</td>\n",
              "      <td>37.86</td>\n",
              "      <td>-122.22</td>\n",
              "      <td>3.585</td>\n",
              "    </tr>\n",
              "    <tr>\n",
              "      <th>2</th>\n",
              "      <td>7.2574</td>\n",
              "      <td>52.0</td>\n",
              "      <td>8.288136</td>\n",
              "      <td>1.073446</td>\n",
              "      <td>496.0</td>\n",
              "      <td>2.802260</td>\n",
              "      <td>37.85</td>\n",
              "      <td>-122.24</td>\n",
              "      <td>3.521</td>\n",
              "    </tr>\n",
              "    <tr>\n",
              "      <th>3</th>\n",
              "      <td>5.6431</td>\n",
              "      <td>52.0</td>\n",
              "      <td>5.817352</td>\n",
              "      <td>1.073059</td>\n",
              "      <td>558.0</td>\n",
              "      <td>2.547945</td>\n",
              "      <td>37.85</td>\n",
              "      <td>-122.25</td>\n",
              "      <td>3.413</td>\n",
              "    </tr>\n",
              "    <tr>\n",
              "      <th>4</th>\n",
              "      <td>3.8462</td>\n",
              "      <td>52.0</td>\n",
              "      <td>6.281853</td>\n",
              "      <td>1.081081</td>\n",
              "      <td>565.0</td>\n",
              "      <td>2.181467</td>\n",
              "      <td>37.85</td>\n",
              "      <td>-122.25</td>\n",
              "      <td>3.422</td>\n",
              "    </tr>\n",
              "  </tbody>\n",
              "</table>\n",
              "</div>\n",
              "      <button class=\"colab-df-convert\" onclick=\"convertToInteractive('df-715db561-2ba9-48c4-906c-64f7fb728f13')\"\n",
              "              title=\"Convert this dataframe to an interactive table.\"\n",
              "              style=\"display:none;\">\n",
              "        \n",
              "  <svg xmlns=\"http://www.w3.org/2000/svg\" height=\"24px\"viewBox=\"0 0 24 24\"\n",
              "       width=\"24px\">\n",
              "    <path d=\"M0 0h24v24H0V0z\" fill=\"none\"/>\n",
              "    <path d=\"M18.56 5.44l.94 2.06.94-2.06 2.06-.94-2.06-.94-.94-2.06-.94 2.06-2.06.94zm-11 1L8.5 8.5l.94-2.06 2.06-.94-2.06-.94L8.5 2.5l-.94 2.06-2.06.94zm10 10l.94 2.06.94-2.06 2.06-.94-2.06-.94-.94-2.06-.94 2.06-2.06.94z\"/><path d=\"M17.41 7.96l-1.37-1.37c-.4-.4-.92-.59-1.43-.59-.52 0-1.04.2-1.43.59L10.3 9.45l-7.72 7.72c-.78.78-.78 2.05 0 2.83L4 21.41c.39.39.9.59 1.41.59.51 0 1.02-.2 1.41-.59l7.78-7.78 2.81-2.81c.8-.78.8-2.07 0-2.86zM5.41 20L4 18.59l7.72-7.72 1.47 1.35L5.41 20z\"/>\n",
              "  </svg>\n",
              "      </button>\n",
              "      \n",
              "  <style>\n",
              "    .colab-df-container {\n",
              "      display:flex;\n",
              "      flex-wrap:wrap;\n",
              "      gap: 12px;\n",
              "    }\n",
              "\n",
              "    .colab-df-convert {\n",
              "      background-color: #E8F0FE;\n",
              "      border: none;\n",
              "      border-radius: 50%;\n",
              "      cursor: pointer;\n",
              "      display: none;\n",
              "      fill: #1967D2;\n",
              "      height: 32px;\n",
              "      padding: 0 0 0 0;\n",
              "      width: 32px;\n",
              "    }\n",
              "\n",
              "    .colab-df-convert:hover {\n",
              "      background-color: #E2EBFA;\n",
              "      box-shadow: 0px 1px 2px rgba(60, 64, 67, 0.3), 0px 1px 3px 1px rgba(60, 64, 67, 0.15);\n",
              "      fill: #174EA6;\n",
              "    }\n",
              "\n",
              "    [theme=dark] .colab-df-convert {\n",
              "      background-color: #3B4455;\n",
              "      fill: #D2E3FC;\n",
              "    }\n",
              "\n",
              "    [theme=dark] .colab-df-convert:hover {\n",
              "      background-color: #434B5C;\n",
              "      box-shadow: 0px 1px 3px 1px rgba(0, 0, 0, 0.15);\n",
              "      filter: drop-shadow(0px 1px 2px rgba(0, 0, 0, 0.3));\n",
              "      fill: #FFFFFF;\n",
              "    }\n",
              "  </style>\n",
              "\n",
              "      <script>\n",
              "        const buttonEl =\n",
              "          document.querySelector('#df-715db561-2ba9-48c4-906c-64f7fb728f13 button.colab-df-convert');\n",
              "        buttonEl.style.display =\n",
              "          google.colab.kernel.accessAllowed ? 'block' : 'none';\n",
              "\n",
              "        async function convertToInteractive(key) {\n",
              "          const element = document.querySelector('#df-715db561-2ba9-48c4-906c-64f7fb728f13');\n",
              "          const dataTable =\n",
              "            await google.colab.kernel.invokeFunction('convertToInteractive',\n",
              "                                                     [key], {});\n",
              "          if (!dataTable) return;\n",
              "\n",
              "          const docLinkHtml = 'Like what you see? Visit the ' +\n",
              "            '<a target=\"_blank\" href=https://colab.research.google.com/notebooks/data_table.ipynb>data table notebook</a>'\n",
              "            + ' to learn more about interactive tables.';\n",
              "          element.innerHTML = '';\n",
              "          dataTable['output_type'] = 'display_data';\n",
              "          await google.colab.output.renderOutput(dataTable, element);\n",
              "          const docLink = document.createElement('div');\n",
              "          docLink.innerHTML = docLinkHtml;\n",
              "          element.appendChild(docLink);\n",
              "        }\n",
              "      </script>\n",
              "    </div>\n",
              "  </div>\n",
              "  "
            ]
          },
          "metadata": {},
          "execution_count": 81
        }
      ]
    },
    {
      "cell_type": "code",
      "source": [
        "from sklearn.ensemble import RandomForestRegressor\n",
        "\n",
        "np.random.seed(42)\n",
        "\n",
        "X = housing_df.drop(\"target\",axis=1)\n",
        "y = housing_df[\"target\"]\n",
        "\n",
        "X_train,X_test,y_train,y_test = train_test_split(X,y,test_size=0.2)\n",
        "\n",
        "model = RandomForestRegressor(n_estimators=100)\n",
        "model.fit(X_train,y_train)\n",
        "\n",
        "y_preds = model.predict(X_test)\n",
        "y_preds"
      ],
      "metadata": {
        "colab": {
          "base_uri": "https://localhost:8080/"
        },
        "id": "sxOE7YXr0EoX",
        "outputId": "611f6a64-a5cc-480f-f602-0018115b3413"
      },
      "execution_count": null,
      "outputs": [
        {
          "output_type": "execute_result",
          "data": {
            "text/plain": [
              "array([0.49384  , 0.75494  , 4.9285964, ..., 4.8363785, 0.71782  ,\n",
              "       1.67901  ])"
            ]
          },
          "metadata": {},
          "execution_count": 82
        }
      ]
    },
    {
      "cell_type": "code",
      "source": [
        "y_preds[:10]"
      ],
      "metadata": {
        "colab": {
          "base_uri": "https://localhost:8080/"
        },
        "id": "voLK84O00bw6",
        "outputId": "4e47aef9-d219-4708-ff69-1a1a80892146"
      },
      "execution_count": null,
      "outputs": [
        {
          "output_type": "execute_result",
          "data": {
            "text/plain": [
              "array([0.49384  , 0.75494  , 4.9285964, 2.54029  , 2.33176  , 1.6549701,\n",
              "       2.34323  , 1.66182  , 2.47489  , 4.8344779])"
            ]
          },
          "metadata": {},
          "execution_count": 83
        }
      ]
    },
    {
      "cell_type": "code",
      "source": [
        "np.array(y_test[:10])"
      ],
      "metadata": {
        "colab": {
          "base_uri": "https://localhost:8080/"
        },
        "id": "fD3XJeWS1K1H",
        "outputId": "ef21c52d-ab24-4207-887c-1c420f46ec36"
      },
      "execution_count": null,
      "outputs": [
        {
          "output_type": "execute_result",
          "data": {
            "text/plain": [
              "array([0.477  , 0.458  , 5.00001, 2.186  , 2.78   , 1.587  , 1.982  ,\n",
              "       1.575  , 3.4    , 4.466  ])"
            ]
          },
          "metadata": {},
          "execution_count": 84
        }
      ]
    },
    {
      "cell_type": "code",
      "source": [
        "# Compare the predictions to the truth\n",
        "from sklearn.metrics import mean_absolute_error\n",
        "mean_absolute_error(y_test,y_preds) # On average how off is prediction from truth "
      ],
      "metadata": {
        "colab": {
          "base_uri": "https://localhost:8080/"
        },
        "id": "LoO2AePl1Q-N",
        "outputId": "f87772db-4329-46b5-8f99-5eb1a14421d3"
      },
      "execution_count": null,
      "outputs": [
        {
          "output_type": "execute_result",
          "data": {
            "text/plain": [
              "0.3265721842781009"
            ]
          },
          "metadata": {},
          "execution_count": 85
        }
      ]
    },
    {
      "cell_type": "code",
      "source": [
        "housing_df[\"target\"].head()"
      ],
      "metadata": {
        "colab": {
          "base_uri": "https://localhost:8080/"
        },
        "id": "uUVyWMff1XTP",
        "outputId": "19467f2c-4a1e-4854-b93e-cb72be372d1d"
      },
      "execution_count": null,
      "outputs": [
        {
          "output_type": "execute_result",
          "data": {
            "text/plain": [
              "0    4.526\n",
              "1    3.585\n",
              "2    3.521\n",
              "3    3.413\n",
              "4    3.422\n",
              "Name: target, dtype: float64"
            ]
          },
          "metadata": {},
          "execution_count": 86
        }
      ]
    },
    {
      "cell_type": "markdown",
      "source": [
        "# 4. Evaluating a machine learning mode\n",
        "Three ways to evaluate scikit learn models/estimators:\n",
        "  1. Estimators built in `score()` method\n",
        "  2. the `scoring` paramaters\n",
        "  3. problem-specific metric functions\n"
      ],
      "metadata": {
        "id": "SSbr4hvh14pe"
      }
    },
    {
      "cell_type": "markdown",
      "source": [
        "## 4.1 Evaluating a model with `score` method"
      ],
      "metadata": {
        "id": "az7ifbUFnqYK"
      }
    },
    {
      "cell_type": "code",
      "source": [
        "from sklearn.ensemble import RandomForestClassifier\n",
        "\n",
        "np.random.seed(42)\n",
        "\n",
        "# Create X and y\n",
        "X = heart_disease.drop(\"target\",axis=1)\n",
        "y=heart_disease[\"target\"]\n",
        "\n",
        "# create train/test\n",
        "X_train,X_test,y_train,y_test = train_test_split(X,y,test_size=0.2)\n",
        "\n",
        "# Create classifier model instance\n",
        "clf = RandomForestClassifier(n_estimators=100)\n",
        "\n",
        "# fit classifier to training data\n",
        "clf.fit(X_train,y_train)"
      ],
      "metadata": {
        "colab": {
          "base_uri": "https://localhost:8080/"
        },
        "id": "nsj_YU57n2qh",
        "outputId": "9ab7d4ce-d347-4e14-d3bc-4110aae39a92"
      },
      "execution_count": null,
      "outputs": [
        {
          "output_type": "execute_result",
          "data": {
            "text/plain": [
              "RandomForestClassifier()"
            ]
          },
          "metadata": {},
          "execution_count": 90
        }
      ]
    },
    {
      "cell_type": "code",
      "source": [
        "clf.score(X_test,y_test)"
      ],
      "metadata": {
        "colab": {
          "base_uri": "https://localhost:8080/"
        },
        "id": "-mTKy9VroRAc",
        "outputId": "389090a6-dc84-48d6-a86f-28fcbf41fdb3"
      },
      "execution_count": null,
      "outputs": [
        {
          "output_type": "execute_result",
          "data": {
            "text/plain": [
              "0.8524590163934426"
            ]
          },
          "metadata": {},
          "execution_count": 92
        }
      ]
    },
    {
      "cell_type": "markdown",
      "source": [
        "Lets use the `score()` method on our regression problem"
      ],
      "metadata": {
        "id": "zc35kuhYodgz"
      }
    },
    {
      "cell_type": "code",
      "source": [
        "from sklearn.ensemble import RandomForestRegressor\n",
        "\n",
        "np.random.seed(42)\n",
        "\n",
        "X = housing_df.drop(\"target\",axis=1)\n",
        "y = housing_df[\"target\"]\n",
        "\n",
        "X_train,X_test,y_train,y_test = train_test_split(X,y,test_size=0.2)\n",
        "\n",
        "model = RandomForestRegressor(n_estimators=100)\n",
        "model.fit(X_train,y_train)\n"
      ],
      "metadata": {
        "colab": {
          "base_uri": "https://localhost:8080/"
        },
        "id": "uzGvn1sZo9Eq",
        "outputId": "daad34d6-35d0-4b02-a6cb-8e5d56036a54"
      },
      "execution_count": null,
      "outputs": [
        {
          "output_type": "execute_result",
          "data": {
            "text/plain": [
              "RandomForestRegressor()"
            ]
          },
          "metadata": {},
          "execution_count": 93
        }
      ]
    },
    {
      "cell_type": "code",
      "source": [
        "model.score(X_test,y_test)"
      ],
      "metadata": {
        "colab": {
          "base_uri": "https://localhost:8080/"
        },
        "id": "80TyrHpFpHdC",
        "outputId": "60ef14a2-7405-4842-f2da-386d8e699fee"
      },
      "execution_count": null,
      "outputs": [
        {
          "output_type": "execute_result",
          "data": {
            "text/plain": [
              "0.8066196804802649"
            ]
          },
          "metadata": {},
          "execution_count": 94
        }
      ]
    },
    {
      "cell_type": "markdown",
      "source": [
        "## 4.2 evaluating a model using the `scoring` paramater"
      ],
      "metadata": {
        "id": "qpepRhbmpKb_"
      }
    },
    {
      "cell_type": "code",
      "source": [
        "from sklearn.model_selection import cross_val_score"
      ],
      "metadata": {
        "id": "bCtOwkrbqFte"
      },
      "execution_count": null,
      "outputs": []
    },
    {
      "cell_type": "code",
      "source": [
        "from sklearn.ensemble import RandomForestClassifier\n",
        "\n",
        "np.random.seed(42)\n",
        "\n",
        "# Create X and y\n",
        "X = heart_disease.drop(\"target\",axis=1)\n",
        "y=heart_disease[\"target\"]\n",
        "\n",
        "# create train/test\n",
        "X_train,X_test,y_train,y_test = train_test_split(X,y,test_size=0.2)\n",
        "\n",
        "# Create classifier model instance\n",
        "clf = RandomForestClassifier(n_estimators=100)\n",
        "\n",
        "# fit classifier to training data\n",
        "clf.fit(X_train,y_train)"
      ],
      "metadata": {
        "colab": {
          "base_uri": "https://localhost:8080/"
        },
        "id": "_GpI9NfBqKC5",
        "outputId": "b8f43531-9e6e-485c-c151-374bea385f88"
      },
      "execution_count": null,
      "outputs": [
        {
          "output_type": "execute_result",
          "data": {
            "text/plain": [
              "RandomForestClassifier()"
            ]
          },
          "metadata": {},
          "execution_count": 96
        }
      ]
    },
    {
      "cell_type": "code",
      "source": [
        "clf.score(X_test,y_test)"
      ],
      "metadata": {
        "colab": {
          "base_uri": "https://localhost:8080/"
        },
        "id": "rFsv9OxzqPf8",
        "outputId": "b653219e-f98d-43bd-a2c8-a94576ef9442"
      },
      "execution_count": null,
      "outputs": [
        {
          "output_type": "execute_result",
          "data": {
            "text/plain": [
              "0.8524590163934426"
            ]
          },
          "metadata": {},
          "execution_count": 97
        }
      ]
    },
    {
      "cell_type": "code",
      "source": [
        "cross_val_score(clf,X,y, cv=5)"
      ],
      "metadata": {
        "colab": {
          "base_uri": "https://localhost:8080/"
        },
        "id": "GsoxcW9NqTtI",
        "outputId": "fbf274f2-32ba-48c9-b386-83c6f05c49fd"
      },
      "execution_count": null,
      "outputs": [
        {
          "output_type": "execute_result",
          "data": {
            "text/plain": [
              "array([0.83606557, 0.8852459 , 0.7704918 , 0.8       , 0.8       ])"
            ]
          },
          "metadata": {},
          "execution_count": 99
        }
      ]
    },
    {
      "cell_type": "markdown",
      "source": [
        "## 4.2.1 Classification model evaluation metrics\n",
        "1. accuracy\n",
        "2. Area under ROC column\n",
        "3. confusion matrix\n",
        "4. Classification report"
      ],
      "metadata": {
        "id": "hLW0MXKcqV0T"
      }
    },
    {
      "cell_type": "markdown",
      "source": [
        "###**Accuracy**"
      ],
      "metadata": {
        "id": "XsR2aZlL1j0t"
      }
    },
    {
      "cell_type": "code",
      "source": [
        "from sklearn.model_selection import cross_val_score\n",
        "from sklearn.ensemble import RandomForestClassifier\n",
        "\n",
        "np.random.seed(42)\n",
        "\n",
        "# Create X and y\n",
        "X = heart_disease.drop(\"target\",axis=1)\n",
        "y=heart_disease[\"target\"]\n",
        "\n",
        "# create train/test\n",
        "X_train,X_test,y_train,y_test = train_test_split(X,y,test_size=0.2)\n",
        "\n",
        "# Create classifier model instance\n",
        "clf = RandomForestClassifier(n_estimators=100)\n",
        "\n",
        "# fit classifier to training data\n",
        "clf.fit(X_train,y_train)"
      ],
      "metadata": {
        "colab": {
          "base_uri": "https://localhost:8080/"
        },
        "id": "pQ-VhVMc1W92",
        "outputId": "0145949d-268d-414a-d144-713117c03b4a"
      },
      "execution_count": null,
      "outputs": [
        {
          "output_type": "execute_result",
          "data": {
            "text/plain": [
              "RandomForestClassifier()"
            ]
          },
          "metadata": {},
          "execution_count": 138
        }
      ]
    },
    {
      "cell_type": "code",
      "source": [
        "cross_val_score = cross_val_score(clf,X,y,cv=5)"
      ],
      "metadata": {
        "id": "yyxqR1Dj1fXY"
      },
      "execution_count": null,
      "outputs": []
    },
    {
      "cell_type": "code",
      "source": [
        "print(f\"Cross validated Accuracy score: {np.mean(cross_val_score)*100:.2f}%\") # mean accuracy of our model\n"
      ],
      "metadata": {
        "colab": {
          "base_uri": "https://localhost:8080/"
        },
        "id": "BfH8ZVil1r3L",
        "outputId": "87c0f44d-5c63-455a-f380-52222bb3d7b2"
      },
      "execution_count": null,
      "outputs": [
        {
          "output_type": "stream",
          "name": "stdout",
          "text": [
            "Cross validated Accuracy score: 81.16%\n"
          ]
        }
      ]
    },
    {
      "cell_type": "markdown",
      "source": [
        "###**Area under Recieve Ooperating Charicteristic Curve**\n",
        "* Area under curve (AUC)\n",
        "* ROC curve\n",
        "\n",
        "ROC curves are a comparison of a models true positive rate (tpr) versus a models false positive rate (fpr)\n",
        "\n",
        "* true positive: model predicts 1 when truth is 1\n",
        "* false positive: model predicts 1 when truth is 0\n",
        "\n",
        "* true negative: model preidicts 0 when truth is 0\n",
        "* false negative: model predicts 0 when truth is 1"
      ],
      "metadata": {
        "id": "qF8Lqz6l12hL"
      }
    },
    {
      "cell_type": "code",
      "source": [
        "# create train/test\n",
        "X_train,X_test,y_train,y_test = train_test_split(X,y,test_size=0.2)"
      ],
      "metadata": {
        "id": "eRmgJUe43N5i"
      },
      "execution_count": null,
      "outputs": []
    },
    {
      "cell_type": "code",
      "source": [
        "from sklearn.metrics import roc_curve\n",
        "\n",
        "# make predictions with probabilities\n",
        "y_probs = clf.predict_proba(X_test)\n",
        "\n",
        "y_probs[:10]\n"
      ],
      "metadata": {
        "colab": {
          "base_uri": "https://localhost:8080/"
        },
        "id": "Y_aOQ6mU2jJN",
        "outputId": "df2456b2-4e39-4f5e-9e75-c4f745a01409"
      },
      "execution_count": null,
      "outputs": [
        {
          "output_type": "execute_result",
          "data": {
            "text/plain": [
              "array([[0.94, 0.06],\n",
              "       [0.06, 0.94],\n",
              "       [0.34, 0.66],\n",
              "       [0.11, 0.89],\n",
              "       [0.06, 0.94],\n",
              "       [0.02, 0.98],\n",
              "       [0.05, 0.95],\n",
              "       [0.91, 0.09],\n",
              "       [0.85, 0.15],\n",
              "       [0.02, 0.98]])"
            ]
          },
          "metadata": {},
          "execution_count": 142
        }
      ]
    },
    {
      "cell_type": "code",
      "source": [
        " y_probs_positive = y_probs[:,1]\n",
        " y_probs_positive[:10]"
      ],
      "metadata": {
        "colab": {
          "base_uri": "https://localhost:8080/"
        },
        "id": "8_6HRQre3S91",
        "outputId": "18e1e60e-30bb-41a8-89bb-ec002c07b3bf"
      },
      "execution_count": null,
      "outputs": [
        {
          "output_type": "execute_result",
          "data": {
            "text/plain": [
              "array([0.06, 0.94, 0.66, 0.89, 0.94, 0.98, 0.95, 0.09, 0.15, 0.98])"
            ]
          },
          "metadata": {},
          "execution_count": 143
        }
      ]
    },
    {
      "cell_type": "code",
      "source": [
        "# calculate fpr, tpr and threshhold\n",
        "fpr, tpr, thresholds = roc_curve(y_test,y_probs_positive)"
      ],
      "metadata": {
        "id": "5NdnQZEO3gC9"
      },
      "execution_count": null,
      "outputs": []
    },
    {
      "cell_type": "code",
      "source": [
        "# Create a function for plotting ROC curves\n",
        "import matplotlib.pyplot as plt\n",
        "\n",
        "def plot_roc_curve(fpr,tpr):\n",
        "  \"\"\"\n",
        "  Plots a ROC curve rate given fpr and tpr of a model\n",
        "  \"\"\"\n",
        "  plt.plot(fpr,tpr,color=\"orange\",label=\"ROC\")\n",
        "  #plot line with no predictive power\n",
        "  plt.plot([0,1],[0,1],color=\"darkblue\",linestyle=\"--\",label=\"Guessing\")\n",
        "\n",
        "  plt.xlabel(\"False positive rate (FPR)\")\n",
        "  plt.xlabel(\"True positive rate (TPR)\")\n",
        "\n",
        "  plt.title(\"ROC Curve\")\n",
        "\n",
        "  plt.legend()\n",
        "  plt.show()\n"
      ],
      "metadata": {
        "id": "TqlwbGCl3qPq"
      },
      "execution_count": null,
      "outputs": []
    },
    {
      "cell_type": "code",
      "source": [
        "plot_roc_curve(fpr,tpr)"
      ],
      "metadata": {
        "colab": {
          "base_uri": "https://localhost:8080/",
          "height": 295
        },
        "id": "sQwOguqb4Emc",
        "outputId": "4b0b8354-fd25-4ecf-ad13-0a19870fd527"
      },
      "execution_count": null,
      "outputs": [
        {
          "output_type": "display_data",
          "data": {
            "text/plain": [
              "<Figure size 432x288 with 1 Axes>"
            ],
            "image/png": "[encoded data removed]"
          },
          "metadata": {
            "needs_background": "light"
          }
        }
      ]
    },
    {
      "cell_type": "code",
      "source": [
        "from sklearn.metrics import roc_auc_score\n",
        "roc_auc_score(y_test,y_probs_positive)"
      ],
      "metadata": {
        "colab": {
          "base_uri": "https://localhost:8080/"
        },
        "id": "NstDJ3Tb4T2E",
        "outputId": "20db9ade-5fd4-4c97-d2e5-24d05b008570"
      },
      "execution_count": null,
      "outputs": [
        {
          "output_type": "execute_result",
          "data": {
            "text/plain": [
              "0.9708791208791208"
            ]
          },
          "metadata": {},
          "execution_count": 147
        }
      ]
    },
    {
      "cell_type": "code",
      "source": [
        "# plot perfect ROC curve and AUC score\n",
        "\n",
        "fpr, tpr, thresholds = roc_curve(y_test,y_test)\n",
        "plot_roc_curve(fpr,tpr)"
      ],
      "metadata": {
        "colab": {
          "base_uri": "https://localhost:8080/",
          "height": 295
        },
        "id": "m13DMHk_5ISa",
        "outputId": "c138eb8c-634b-4b5d-d8f4-e05f1daaf1b9"
      },
      "execution_count": null,
      "outputs": [
        {
          "output_type": "display_data",
          "data": {
            "text/plain": [
              "<Figure size 432x288 with 1 Axes>"
            ],
            "image/png": "[encoded data removed]"
          },
          "metadata": {
            "needs_background": "light"
          }
        }
      ]
    },
    {
      "cell_type": "markdown",
      "source": [
        "###**Confusion Matrix**\n",
        "\n",
        "A confusion matrix is a quick way to compare the labels a model pricts and the actual labels it was supposed to predict\n",
        "\n"
      ],
      "metadata": {
        "id": "3Tyizskz5lNy"
      }
    },
    {
      "cell_type": "code",
      "source": [
        "from sklearn.metrics import confusion_matrix\n",
        "y_preds =  clf.predict(X_test)\n",
        "\n",
        "confusion_matrix(y_test,y_preds)"
      ],
      "metadata": {
        "colab": {
          "base_uri": "https://localhost:8080/"
        },
        "id": "JevzdGMF51-6",
        "outputId": "70258883-bcb7-414e-e7f8-e432227abc9d"
      },
      "execution_count": null,
      "outputs": [
        {
          "output_type": "execute_result",
          "data": {
            "text/plain": [
              "array([[25,  1],\n",
              "       [ 3, 32]])"
            ]
          },
          "metadata": {},
          "execution_count": 151
        }
      ]
    },
    {
      "cell_type": "code",
      "source": [
        "# Visualise confuction matrix with pd.crosstab()\n",
        "pd.crosstab(y_test,y_preds,rownames=[\"Actual Label\"],colnames=[\"Predicted Labels\"])"
      ],
      "metadata": {
        "colab": {
          "base_uri": "https://localhost:8080/",
          "height": 143
        },
        "id": "h15NpQBJ6CTr",
        "outputId": "41b9090e-a688-472f-fdbf-3e6a4091f2ae"
      },
      "execution_count": null,
      "outputs": [
        {
          "output_type": "execute_result",
          "data": {
            "text/plain": [
              "Predicted Labels   0   1\n",
              "Actual Label            \n",
              "0                 25   1\n",
              "1                  3  32"
            ],
            "text/html": [
              "\n",
              "  <div id=\"df-7682c2c3-2c88-4f25-94b3-e416416278a0\">\n",
              "    <div class=\"colab-df-container\">\n",
              "      <div>\n",
              "<style scoped>\n",
              "    .dataframe tbody tr th:only-of-type {\n",
              "        vertical-align: middle;\n",
              "    }\n",
              "\n",
              "    .dataframe tbody tr th {\n",
              "        vertical-align: top;\n",
              "    }\n",
              "\n",
              "    .dataframe thead th {\n",
              "        text-align: right;\n",
              "    }\n",
              "</style>\n",
              "<table border=\"1\" class=\"dataframe\">\n",
              "  <thead>\n",
              "    <tr style=\"text-align: right;\">\n",
              "      <th>Predicted Labels</th>\n",
              "      <th>0</th>\n",
              "      <th>1</th>\n",
              "    </tr>\n",
              "    <tr>\n",
              "      <th>Actual Label</th>\n",
              "      <th></th>\n",
              "      <th></th>\n",
              "    </tr>\n",
              "  </thead>\n",
              "  <tbody>\n",
              "    <tr>\n",
              "      <th>0</th>\n",
              "      <td>25</td>\n",
              "      <td>1</td>\n",
              "    </tr>\n",
              "    <tr>\n",
              "      <th>1</th>\n",
              "      <td>3</td>\n",
              "      <td>32</td>\n",
              "    </tr>\n",
              "  </tbody>\n",
              "</table>\n",
              "</div>\n",
              "      <button class=\"colab-df-convert\" onclick=\"convertToInteractive('df-7682c2c3-2c88-4f25-94b3-e416416278a0')\"\n",
              "              title=\"Convert this dataframe to an interactive table.\"\n",
              "              style=\"display:none;\">\n",
              "        \n",
              "  <svg xmlns=\"http://www.w3.org/2000/svg\" height=\"24px\"viewBox=\"0 0 24 24\"\n",
              "       width=\"24px\">\n",
              "    <path d=\"M0 0h24v24H0V0z\" fill=\"none\"/>\n",
              "    <path d=\"M18.56 5.44l.94 2.06.94-2.06 2.06-.94-2.06-.94-.94-2.06-.94 2.06-2.06.94zm-11 1L8.5 8.5l.94-2.06 2.06-.94-2.06-.94L8.5 2.5l-.94 2.06-2.06.94zm10 10l.94 2.06.94-2.06 2.06-.94-2.06-.94-.94-2.06-.94 2.06-2.06.94z\"/><path d=\"M17.41 7.96l-1.37-1.37c-.4-.4-.92-.59-1.43-.59-.52 0-1.04.2-1.43.59L10.3 9.45l-7.72 7.72c-.78.78-.78 2.05 0 2.83L4 21.41c.39.39.9.59 1.41.59.51 0 1.02-.2 1.41-.59l7.78-7.78 2.81-2.81c.8-.78.8-2.07 0-2.86zM5.41 20L4 18.59l7.72-7.72 1.47 1.35L5.41 20z\"/>\n",
              "  </svg>\n",
              "      </button>\n",
              "      \n",
              "  <style>\n",
              "    .colab-df-container {\n",
              "      display:flex;\n",
              "      flex-wrap:wrap;\n",
              "      gap: 12px;\n",
              "    }\n",
              "\n",
              "    .colab-df-convert {\n",
              "      background-color: #E8F0FE;\n",
              "      border: none;\n",
              "      border-radius: 50%;\n",
              "      cursor: pointer;\n",
              "      display: none;\n",
              "      fill: #1967D2;\n",
              "      height: 32px;\n",
              "      padding: 0 0 0 0;\n",
              "      width: 32px;\n",
              "    }\n",
              "\n",
              "    .colab-df-convert:hover {\n",
              "      background-color: #E2EBFA;\n",
              "      box-shadow: 0px 1px 2px rgba(60, 64, 67, 0.3), 0px 1px 3px 1px rgba(60, 64, 67, 0.15);\n",
              "      fill: #174EA6;\n",
              "    }\n",
              "\n",
              "    [theme=dark] .colab-df-convert {\n",
              "      background-color: #3B4455;\n",
              "      fill: #D2E3FC;\n",
              "    }\n",
              "\n",
              "    [theme=dark] .colab-df-convert:hover {\n",
              "      background-color: #434B5C;\n",
              "      box-shadow: 0px 1px 3px 1px rgba(0, 0, 0, 0.15);\n",
              "      filter: drop-shadow(0px 1px 2px rgba(0, 0, 0, 0.3));\n",
              "      fill: #FFFFFF;\n",
              "    }\n",
              "  </style>\n",
              "\n",
              "      <script>\n",
              "        const buttonEl =\n",
              "          document.querySelector('#df-7682c2c3-2c88-4f25-94b3-e416416278a0 button.colab-df-convert');\n",
              "        buttonEl.style.display =\n",
              "          google.colab.kernel.accessAllowed ? 'block' : 'none';\n",
              "\n",
              "        async function convertToInteractive(key) {\n",
              "          const element = document.querySelector('#df-7682c2c3-2c88-4f25-94b3-e416416278a0');\n",
              "          const dataTable =\n",
              "            await google.colab.kernel.invokeFunction('convertToInteractive',\n",
              "                                                     [key], {});\n",
              "          if (!dataTable) return;\n",
              "\n",
              "          const docLinkHtml = 'Like what you see? Visit the ' +\n",
              "            '<a target=\"_blank\" href=https://colab.research.google.com/notebooks/data_table.ipynb>data table notebook</a>'\n",
              "            + ' to learn more about interactive tables.';\n",
              "          element.innerHTML = '';\n",
              "          dataTable['output_type'] = 'display_data';\n",
              "          await google.colab.output.renderOutput(dataTable, element);\n",
              "          const docLink = document.createElement('div');\n",
              "          docLink.innerHTML = docLinkHtml;\n",
              "          element.appendChild(docLink);\n",
              "        }\n",
              "      </script>\n",
              "    </div>\n",
              "  </div>\n",
              "  "
            ]
          },
          "metadata": {},
          "execution_count": 152
        }
      ]
    },
    {
      "cell_type": "code",
      "source": [
        "# Make our ocnfusion matrix more visual with seaborns heatmap()\n",
        "import seaborn as sns\n",
        "\n",
        "#set font scale\n",
        "sns.set(font_scale=1.5)\n",
        "\n",
        "#create a confusion matrix\n",
        "conf_mat = confusion_matrix(y_test,y_preds)\n",
        "\n",
        "# plot using seaborn\n",
        "sns.heatmap(conf_mat)"
      ],
      "metadata": {
        "colab": {
          "base_uri": "https://localhost:8080/",
          "height": 293
        },
        "id": "KmRGgmkr6M6x",
        "outputId": "bdc7f75f-e5e3-4a8f-c476-64b792a5cc20"
      },
      "execution_count": null,
      "outputs": [
        {
          "output_type": "execute_result",
          "data": {
            "text/plain": [
              "<matplotlib.axes._subplots.AxesSubplot at 0x7f513e043a10>"
            ]
          },
          "metadata": {},
          "execution_count": 154
        },
        {
          "output_type": "display_data",
          "data": {
            "text/plain": [
              "<Figure size 432x288 with 2 Axes>"
            ],
            "image/png": "[encoded data removed]"
          },
          "metadata": {}
        }
      ]
    },
    {
      "cell_type": "markdown",
      "source": [
        "### Creating confusion matrix with scikit learn\n",
        "* from estimator - plot confusion matrix given stimator, data and label\n",
        "* from predictions - plot confusion matrix given true and predicted labels"
      ],
      "metadata": {
        "id": "Q4OsN-As6pgf"
      }
    },
    {
      "cell_type": "code",
      "source": [
        "from sklearn.metrics import ConfusionMatrixDisplay \n",
        "\n",
        "ConfusionMatrixDisplay.from_estimator(estimator=clf,X=X,y=y)"
      ],
      "metadata": {
        "colab": {
          "base_uri": "https://localhost:8080/",
          "height": 315
        },
        "id": "-bewUKRKDR0Z",
        "outputId": "ff9fbbae-00ac-4b58-c2e5-9934dd5bd9e2"
      },
      "execution_count": null,
      "outputs": [
        {
          "output_type": "execute_result",
          "data": {
            "text/plain": [
              "<sklearn.metrics._plot.confusion_matrix.ConfusionMatrixDisplay at 0x7f513e9d3210>"
            ]
          },
          "metadata": {},
          "execution_count": 155
        },
        {
          "output_type": "display_data",
          "data": {
            "text/plain": [
              "<Figure size 432x288 with 2 Axes>"
            ],
            "image/png": "[encoded data removed]"
          },
          "metadata": {}
        }
      ]
    },
    {
      "cell_type": "code",
      "source": [
        "ConfusionMatrixDisplay.from_predictions(y_true=y_test,y_pred=y_preds)"
      ],
      "metadata": {
        "colab": {
          "base_uri": "https://localhost:8080/",
          "height": 315
        },
        "id": "-5Zyr77LDl2_",
        "outputId": "8ab10fde-4b08-45ef-b947-c15692f4d59e"
      },
      "execution_count": null,
      "outputs": [
        {
          "output_type": "execute_result",
          "data": {
            "text/plain": [
              "<sklearn.metrics._plot.confusion_matrix.ConfusionMatrixDisplay at 0x7f513ef18710>"
            ]
          },
          "metadata": {},
          "execution_count": 158
        },
        {
          "output_type": "display_data",
          "data": {
            "text/plain": [
              "<Figure size 432x288 with 2 Axes>"
            ],
            "image/png": "[encoded data removed]"
          },
          "metadata": {}
        }
      ]
    },
    {
      "cell_type": "markdown",
      "source": [
        "###**Classification Report**"
      ],
      "metadata": {
        "id": "go0nYa-HDzOQ"
      }
    },
    {
      "cell_type": "code",
      "source": [
        "from sklearn.metrics import classification_report\n",
        "print(classification_report(y_test,y_preds))"
      ],
      "metadata": {
        "colab": {
          "base_uri": "https://localhost:8080/"
        },
        "id": "YA5o5Ik3E_G5",
        "outputId": "b0bbbd30-8617-431b-86dc-0675f86b1dc3"
      },
      "execution_count": null,
      "outputs": [
        {
          "output_type": "stream",
          "name": "stdout",
          "text": [
            "              precision    recall  f1-score   support\n",
            "\n",
            "           0       0.89      0.96      0.93        26\n",
            "           1       0.97      0.91      0.94        35\n",
            "\n",
            "    accuracy                           0.93        61\n",
            "   macro avg       0.93      0.94      0.93        61\n",
            "weighted avg       0.94      0.93      0.93        61\n",
            "\n"
          ]
        }
      ]
    },
    {
      "cell_type": "code",
      "source": [
        "# Where precision and recall becom valuable\n",
        "disease_true = np.zeros(10000)\n",
        "disease_true[0] = 1\n",
        "\n",
        "disease_preds = np.zeros(10000)\n",
        "\n",
        "pd.DataFrame(classification_report(disease_true,disease_preds,output_dict=True))"
      ],
      "metadata": {
        "colab": {
          "base_uri": "https://localhost:8080/",
          "height": 299
        },
        "id": "gSTOpKSKFDzW",
        "outputId": "8021bdee-a426-40c5-cdde-242c6defd220"
      },
      "execution_count": null,
      "outputs": [
        {
          "output_type": "stream",
          "name": "stderr",
          "text": [
            "/usr/local/lib/python3.7/dist-packages/sklearn/metrics/_classification.py:1318: UndefinedMetricWarning: Precision and F-score are ill-defined and being set to 0.0 in labels with no predicted samples. Use `zero_division` parameter to control this behavior.\n",
            "  _warn_prf(average, modifier, msg_start, len(result))\n",
            "/usr/local/lib/python3.7/dist-packages/sklearn/metrics/_classification.py:1318: UndefinedMetricWarning: Precision and F-score are ill-defined and being set to 0.0 in labels with no predicted samples. Use `zero_division` parameter to control this behavior.\n",
            "  _warn_prf(average, modifier, msg_start, len(result))\n",
            "/usr/local/lib/python3.7/dist-packages/sklearn/metrics/_classification.py:1318: UndefinedMetricWarning: Precision and F-score are ill-defined and being set to 0.0 in labels with no predicted samples. Use `zero_division` parameter to control this behavior.\n",
            "  _warn_prf(average, modifier, msg_start, len(result))\n"
          ]
        },
        {
          "output_type": "execute_result",
          "data": {
            "text/plain": [
              "                  0.0  1.0  accuracy     macro avg  weighted avg\n",
              "precision     0.99990  0.0    0.9999      0.499950       0.99980\n",
              "recall        1.00000  0.0    0.9999      0.500000       0.99990\n",
              "f1-score      0.99995  0.0    0.9999      0.499975       0.99985\n",
              "support    9999.00000  1.0    0.9999  10000.000000   10000.00000"
            ],
            "text/html": [
              "\n",
              "  <div id=\"df-3709d1c6-e063-4280-9763-dd226edfd1a8\">\n",
              "    <div class=\"colab-df-container\">\n",
              "      <div>\n",
              "<style scoped>\n",
              "    .dataframe tbody tr th:only-of-type {\n",
              "        vertical-align: middle;\n",
              "    }\n",
              "\n",
              "    .dataframe tbody tr th {\n",
              "        vertical-align: top;\n",
              "    }\n",
              "\n",
              "    .dataframe thead th {\n",
              "        text-align: right;\n",
              "    }\n",
              "</style>\n",
              "<table border=\"1\" class=\"dataframe\">\n",
              "  <thead>\n",
              "    <tr style=\"text-align: right;\">\n",
              "      <th></th>\n",
              "      <th>0.0</th>\n",
              "      <th>1.0</th>\n",
              "      <th>accuracy</th>\n",
              "      <th>macro avg</th>\n",
              "      <th>weighted avg</th>\n",
              "    </tr>\n",
              "  </thead>\n",
              "  <tbody>\n",
              "    <tr>\n",
              "      <th>precision</th>\n",
              "      <td>0.99990</td>\n",
              "      <td>0.0</td>\n",
              "      <td>0.9999</td>\n",
              "      <td>0.499950</td>\n",
              "      <td>0.99980</td>\n",
              "    </tr>\n",
              "    <tr>\n",
              "      <th>recall</th>\n",
              "      <td>1.00000</td>\n",
              "      <td>0.0</td>\n",
              "      <td>0.9999</td>\n",
              "      <td>0.500000</td>\n",
              "      <td>0.99990</td>\n",
              "    </tr>\n",
              "    <tr>\n",
              "      <th>f1-score</th>\n",
              "      <td>0.99995</td>\n",
              "      <td>0.0</td>\n",
              "      <td>0.9999</td>\n",
              "      <td>0.499975</td>\n",
              "      <td>0.99985</td>\n",
              "    </tr>\n",
              "    <tr>\n",
              "      <th>support</th>\n",
              "      <td>9999.00000</td>\n",
              "      <td>1.0</td>\n",
              "      <td>0.9999</td>\n",
              "      <td>10000.000000</td>\n",
              "      <td>10000.00000</td>\n",
              "    </tr>\n",
              "  </tbody>\n",
              "</table>\n",
              "</div>\n",
              "      <button class=\"colab-df-convert\" onclick=\"convertToInteractive('df-3709d1c6-e063-4280-9763-dd226edfd1a8')\"\n",
              "              title=\"Convert this dataframe to an interactive table.\"\n",
              "              style=\"display:none;\">\n",
              "        \n",
              "  <svg xmlns=\"http://www.w3.org/2000/svg\" height=\"24px\"viewBox=\"0 0 24 24\"\n",
              "       width=\"24px\">\n",
              "    <path d=\"M0 0h24v24H0V0z\" fill=\"none\"/>\n",
              "    <path d=\"M18.56 5.44l.94 2.06.94-2.06 2.06-.94-2.06-.94-.94-2.06-.94 2.06-2.06.94zm-11 1L8.5 8.5l.94-2.06 2.06-.94-2.06-.94L8.5 2.5l-.94 2.06-2.06.94zm10 10l.94 2.06.94-2.06 2.06-.94-2.06-.94-.94-2.06-.94 2.06-2.06.94z\"/><path d=\"M17.41 7.96l-1.37-1.37c-.4-.4-.92-.59-1.43-.59-.52 0-1.04.2-1.43.59L10.3 9.45l-7.72 7.72c-.78.78-.78 2.05 0 2.83L4 21.41c.39.39.9.59 1.41.59.51 0 1.02-.2 1.41-.59l7.78-7.78 2.81-2.81c.8-.78.8-2.07 0-2.86zM5.41 20L4 18.59l7.72-7.72 1.47 1.35L5.41 20z\"/>\n",
              "  </svg>\n",
              "      </button>\n",
              "      \n",
              "  <style>\n",
              "    .colab-df-container {\n",
              "      display:flex;\n",
              "      flex-wrap:wrap;\n",
              "      gap: 12px;\n",
              "    }\n",
              "\n",
              "    .colab-df-convert {\n",
              "      background-color: #E8F0FE;\n",
              "      border: none;\n",
              "      border-radius: 50%;\n",
              "      cursor: pointer;\n",
              "      display: none;\n",
              "      fill: #1967D2;\n",
              "      height: 32px;\n",
              "      padding: 0 0 0 0;\n",
              "      width: 32px;\n",
              "    }\n",
              "\n",
              "    .colab-df-convert:hover {\n",
              "      background-color: #E2EBFA;\n",
              "      box-shadow: 0px 1px 2px rgba(60, 64, 67, 0.3), 0px 1px 3px 1px rgba(60, 64, 67, 0.15);\n",
              "      fill: #174EA6;\n",
              "    }\n",
              "\n",
              "    [theme=dark] .colab-df-convert {\n",
              "      background-color: #3B4455;\n",
              "      fill: #D2E3FC;\n",
              "    }\n",
              "\n",
              "    [theme=dark] .colab-df-convert:hover {\n",
              "      background-color: #434B5C;\n",
              "      box-shadow: 0px 1px 3px 1px rgba(0, 0, 0, 0.15);\n",
              "      filter: drop-shadow(0px 1px 2px rgba(0, 0, 0, 0.3));\n",
              "      fill: #FFFFFF;\n",
              "    }\n",
              "  </style>\n",
              "\n",
              "      <script>\n",
              "        const buttonEl =\n",
              "          document.querySelector('#df-3709d1c6-e063-4280-9763-dd226edfd1a8 button.colab-df-convert');\n",
              "        buttonEl.style.display =\n",
              "          google.colab.kernel.accessAllowed ? 'block' : 'none';\n",
              "\n",
              "        async function convertToInteractive(key) {\n",
              "          const element = document.querySelector('#df-3709d1c6-e063-4280-9763-dd226edfd1a8');\n",
              "          const dataTable =\n",
              "            await google.colab.kernel.invokeFunction('convertToInteractive',\n",
              "                                                     [key], {});\n",
              "          if (!dataTable) return;\n",
              "\n",
              "          const docLinkHtml = 'Like what you see? Visit the ' +\n",
              "            '<a target=\"_blank\" href=https://colab.research.google.com/notebooks/data_table.ipynb>data table notebook</a>'\n",
              "            + ' to learn more about interactive tables.';\n",
              "          element.innerHTML = '';\n",
              "          dataTable['output_type'] = 'display_data';\n",
              "          await google.colab.output.renderOutput(dataTable, element);\n",
              "          const docLink = document.createElement('div');\n",
              "          docLink.innerHTML = docLinkHtml;\n",
              "          element.appendChild(docLink);\n",
              "        }\n",
              "      </script>\n",
              "    </div>\n",
              "  </div>\n",
              "  "
            ]
          },
          "metadata": {},
          "execution_count": 163
        }
      ]
    },
    {
      "cell_type": "markdown",
      "source": [
        "### Classification metrics\n",
        "* **Accuracy** is a good measure to start with if all classes are balanced (i.e same amount of samples are labeled 0 or 1)\n",
        "* **precision** and **recall** become more important when classes are imbalanced\n",
        "* if false positive predictions are worse than false negaitves aim for **higher precision**\n",
        "* if false negative predictions are worse than false positives , aim for **high recall**\n",
        "* F1 score is a combination of precision and recall"
      ],
      "metadata": {
        "id": "EU6D4KOuGQe2"
      }
    },
    {
      "cell_type": "markdown",
      "source": [
        "## 4.2.2 Regression model evaluation metrics\n",
        "Focus:\n",
        "1. R^2 (pronounces r squared) or coefficient of determination\n",
        "2. Mean absolute errore\n",
        "3. Mean squared error\n"
      ],
      "metadata": {
        "id": "Y8XZpBVtHWXp"
      }
    },
    {
      "cell_type": "code",
      "source": [
        "from sklearn.ensemble import RandomForestRegressor\n",
        "\n",
        "np.random.seed(42)\n",
        "\n",
        "X = housing_df.drop(\"target\",axis=1)\n",
        "y = housing_df[\"target\"]\n",
        "\n",
        "X_train,X_test,y_train,y_test = train_test_split(X,y,test_size=0.2)\n",
        "\n",
        "model = RandomForestRegressor(n_estimators=100)\n",
        "model.fit(X_train,y_train)\n"
      ],
      "metadata": {
        "colab": {
          "base_uri": "https://localhost:8080/"
        },
        "id": "ET8d7m4zHfNK",
        "outputId": "a3b0dcc2-62c0-46f3-9c51-a8ac50c3493f"
      },
      "execution_count": null,
      "outputs": [
        {
          "output_type": "execute_result",
          "data": {
            "text/plain": [
              "RandomForestRegressor()"
            ]
          },
          "metadata": {},
          "execution_count": 164
        }
      ]
    },
    {
      "cell_type": "code",
      "source": [
        "model.score(X_test,y_test)"
      ],
      "metadata": {
        "colab": {
          "base_uri": "https://localhost:8080/"
        },
        "id": "t5TjV8FfH9YV",
        "outputId": "7e143cdc-7998-4271-d4e9-bdccb8174dca"
      },
      "execution_count": null,
      "outputs": [
        {
          "output_type": "execute_result",
          "data": {
            "text/plain": [
              "0.8066196804802649"
            ]
          },
          "metadata": {},
          "execution_count": 166
        }
      ]
    },
    {
      "cell_type": "code",
      "source": [
        "from sklearn.metrics import r2_score\n",
        "\n",
        "#fill an array with y_test mean\n",
        "y_test_mean = np.full(len(y_test),y_test.mean())"
      ],
      "metadata": {
        "id": "FLCsWwMoIGST"
      },
      "execution_count": null,
      "outputs": []
    },
    {
      "cell_type": "code",
      "source": [
        "r2_score(y_test,y_test_mean)"
      ],
      "metadata": {
        "colab": {
          "base_uri": "https://localhost:8080/"
        },
        "id": "H-uNmjb0IReK",
        "outputId": "c0391bd2-7e55-42d4-95bc-bf7f62a934e8"
      },
      "execution_count": null,
      "outputs": [
        {
          "output_type": "execute_result",
          "data": {
            "text/plain": [
              "0.0"
            ]
          },
          "metadata": {},
          "execution_count": 171
        }
      ]
    },
    {
      "cell_type": "markdown",
      "source": [
        "###**Mean absolute error**\n",
        "\n",
        "MAE is average of the absolute differences between predictions and actual values\n",
        "\n",
        "it gives you an idea of how wrong your models predictions are"
      ],
      "metadata": {
        "id": "pLjOBcdmIk57"
      }
    },
    {
      "cell_type": "code",
      "source": [
        "#MAE\n",
        "from sklearn.metrics import mean_absolute_error\n",
        "y_preds = model.predict(X_test)\n",
        "mae = mean_absolute_error(y_test,y_preds)\n",
        "mae"
      ],
      "metadata": {
        "colab": {
          "base_uri": "https://localhost:8080/"
        },
        "id": "X2awtv0MJL1U",
        "outputId": "a6ec157f-a524-4266-994e-23b2d4fd2efc"
      },
      "execution_count": null,
      "outputs": [
        {
          "output_type": "execute_result",
          "data": {
            "text/plain": [
              "0.3265721842781009"
            ]
          },
          "metadata": {},
          "execution_count": 173
        }
      ]
    },
    {
      "cell_type": "code",
      "source": [
        "df = pd.DataFrame(data={\"actual values\":y_test,\"predicted values\":y_preds})\n",
        "\n",
        "df[\"differences\"] = df[\"predicted values\"] - df[\"actual values\"]\n",
        "df.head()"
      ],
      "metadata": {
        "colab": {
          "base_uri": "https://localhost:8080/",
          "height": 206
        },
        "id": "O4auVIqgJbde",
        "outputId": "8c4fb6dc-f4e1-43a4-9ec7-3b6be2e2b75e"
      },
      "execution_count": null,
      "outputs": [
        {
          "output_type": "execute_result",
          "data": {
            "text/plain": [
              "       actual values  predicted values  differences\n",
              "20046        0.47700          0.493840     0.016840\n",
              "3024         0.45800          0.754940     0.296940\n",
              "15663        5.00001          4.928596    -0.071414\n",
              "20484        2.18600          2.540290     0.354290\n",
              "9814         2.78000          2.331760    -0.448240"
            ],
            "text/html": [
              "\n",
              "  <div id=\"df-011fb6b7-5a6f-48c0-b9e8-a267d3f0d852\">\n",
              "    <div class=\"colab-df-container\">\n",
              "      <div>\n",
              "<style scoped>\n",
              "    .dataframe tbody tr th:only-of-type {\n",
              "        vertical-align: middle;\n",
              "    }\n",
              "\n",
              "    .dataframe tbody tr th {\n",
              "        vertical-align: top;\n",
              "    }\n",
              "\n",
              "    .dataframe thead th {\n",
              "        text-align: right;\n",
              "    }\n",
              "</style>\n",
              "<table border=\"1\" class=\"dataframe\">\n",
              "  <thead>\n",
              "    <tr style=\"text-align: right;\">\n",
              "      <th></th>\n",
              "      <th>actual values</th>\n",
              "      <th>predicted values</th>\n",
              "      <th>differences</th>\n",
              "    </tr>\n",
              "  </thead>\n",
              "  <tbody>\n",
              "    <tr>\n",
              "      <th>20046</th>\n",
              "      <td>0.47700</td>\n",
              "      <td>0.493840</td>\n",
              "      <td>0.016840</td>\n",
              "    </tr>\n",
              "    <tr>\n",
              "      <th>3024</th>\n",
              "      <td>0.45800</td>\n",
              "      <td>0.754940</td>\n",
              "      <td>0.296940</td>\n",
              "    </tr>\n",
              "    <tr>\n",
              "      <th>15663</th>\n",
              "      <td>5.00001</td>\n",
              "      <td>4.928596</td>\n",
              "      <td>-0.071414</td>\n",
              "    </tr>\n",
              "    <tr>\n",
              "      <th>20484</th>\n",
              "      <td>2.18600</td>\n",
              "      <td>2.540290</td>\n",
              "      <td>0.354290</td>\n",
              "    </tr>\n",
              "    <tr>\n",
              "      <th>9814</th>\n",
              "      <td>2.78000</td>\n",
              "      <td>2.331760</td>\n",
              "      <td>-0.448240</td>\n",
              "    </tr>\n",
              "  </tbody>\n",
              "</table>\n",
              "</div>\n",
              "      <button class=\"colab-df-convert\" onclick=\"convertToInteractive('df-011fb6b7-5a6f-48c0-b9e8-a267d3f0d852')\"\n",
              "              title=\"Convert this dataframe to an interactive table.\"\n",
              "              style=\"display:none;\">\n",
              "        \n",
              "  <svg xmlns=\"http://www.w3.org/2000/svg\" height=\"24px\"viewBox=\"0 0 24 24\"\n",
              "       width=\"24px\">\n",
              "    <path d=\"M0 0h24v24H0V0z\" fill=\"none\"/>\n",
              "    <path d=\"M18.56 5.44l.94 2.06.94-2.06 2.06-.94-2.06-.94-.94-2.06-.94 2.06-2.06.94zm-11 1L8.5 8.5l.94-2.06 2.06-.94-2.06-.94L8.5 2.5l-.94 2.06-2.06.94zm10 10l.94 2.06.94-2.06 2.06-.94-2.06-.94-.94-2.06-.94 2.06-2.06.94z\"/><path d=\"M17.41 7.96l-1.37-1.37c-.4-.4-.92-.59-1.43-.59-.52 0-1.04.2-1.43.59L10.3 9.45l-7.72 7.72c-.78.78-.78 2.05 0 2.83L4 21.41c.39.39.9.59 1.41.59.51 0 1.02-.2 1.41-.59l7.78-7.78 2.81-2.81c.8-.78.8-2.07 0-2.86zM5.41 20L4 18.59l7.72-7.72 1.47 1.35L5.41 20z\"/>\n",
              "  </svg>\n",
              "      </button>\n",
              "      \n",
              "  <style>\n",
              "    .colab-df-container {\n",
              "      display:flex;\n",
              "      flex-wrap:wrap;\n",
              "      gap: 12px;\n",
              "    }\n",
              "\n",
              "    .colab-df-convert {\n",
              "      background-color: #E8F0FE;\n",
              "      border: none;\n",
              "      border-radius: 50%;\n",
              "      cursor: pointer;\n",
              "      display: none;\n",
              "      fill: #1967D2;\n",
              "      height: 32px;\n",
              "      padding: 0 0 0 0;\n",
              "      width: 32px;\n",
              "    }\n",
              "\n",
              "    .colab-df-convert:hover {\n",
              "      background-color: #E2EBFA;\n",
              "      box-shadow: 0px 1px 2px rgba(60, 64, 67, 0.3), 0px 1px 3px 1px rgba(60, 64, 67, 0.15);\n",
              "      fill: #174EA6;\n",
              "    }\n",
              "\n",
              "    [theme=dark] .colab-df-convert {\n",
              "      background-color: #3B4455;\n",
              "      fill: #D2E3FC;\n",
              "    }\n",
              "\n",
              "    [theme=dark] .colab-df-convert:hover {\n",
              "      background-color: #434B5C;\n",
              "      box-shadow: 0px 1px 3px 1px rgba(0, 0, 0, 0.15);\n",
              "      filter: drop-shadow(0px 1px 2px rgba(0, 0, 0, 0.3));\n",
              "      fill: #FFFFFF;\n",
              "    }\n",
              "  </style>\n",
              "\n",
              "      <script>\n",
              "        const buttonEl =\n",
              "          document.querySelector('#df-011fb6b7-5a6f-48c0-b9e8-a267d3f0d852 button.colab-df-convert');\n",
              "        buttonEl.style.display =\n",
              "          google.colab.kernel.accessAllowed ? 'block' : 'none';\n",
              "\n",
              "        async function convertToInteractive(key) {\n",
              "          const element = document.querySelector('#df-011fb6b7-5a6f-48c0-b9e8-a267d3f0d852');\n",
              "          const dataTable =\n",
              "            await google.colab.kernel.invokeFunction('convertToInteractive',\n",
              "                                                     [key], {});\n",
              "          if (!dataTable) return;\n",
              "\n",
              "          const docLinkHtml = 'Like what you see? Visit the ' +\n",
              "            '<a target=\"_blank\" href=https://colab.research.google.com/notebooks/data_table.ipynb>data table notebook</a>'\n",
              "            + ' to learn more about interactive tables.';\n",
              "          element.innerHTML = '';\n",
              "          dataTable['output_type'] = 'display_data';\n",
              "          await google.colab.output.renderOutput(dataTable, element);\n",
              "          const docLink = document.createElement('div');\n",
              "          docLink.innerHTML = docLinkHtml;\n",
              "          element.appendChild(docLink);\n",
              "        }\n",
              "      </script>\n",
              "    </div>\n",
              "  </div>\n",
              "  "
            ]
          },
          "metadata": {},
          "execution_count": 174
        }
      ]
    },
    {
      "cell_type": "code",
      "source": [
        "# MAE using formulas and differences\n",
        "\n",
        "np.abs(df[\"differences\"]).mean()"
      ],
      "metadata": {
        "colab": {
          "base_uri": "https://localhost:8080/"
        },
        "id": "VblAGz8DKDSH",
        "outputId": "8de1d11d-fd00-4e2b-db64-1a4e1c021ec7"
      },
      "execution_count": null,
      "outputs": [
        {
          "output_type": "execute_result",
          "data": {
            "text/plain": [
              "0.3265721842781009"
            ]
          },
          "metadata": {},
          "execution_count": 178
        }
      ]
    },
    {
      "cell_type": "markdown",
      "source": [
        "### **Mean Squared Error**\n",
        "\n",
        "MSE is the mean of the square of the errors between actual and predicted values"
      ],
      "metadata": {
        "id": "UcH6aqcUKGwY"
      }
    },
    {
      "cell_type": "code",
      "source": [
        "from sklearn.metrics import mean_squared_error\n",
        "\n",
        "y_preds = model.predict(X_test)\n",
        "mse = mean_squared_error(y_test,y_preds)\n",
        "mse"
      ],
      "metadata": {
        "colab": {
          "base_uri": "https://localhost:8080/"
        },
        "id": "3Vm6oiH3KTr6",
        "outputId": "0c70d64f-7318-4efd-fe76-b6dc52d8267e"
      },
      "execution_count": null,
      "outputs": [
        {
          "output_type": "execute_result",
          "data": {
            "text/plain": [
              "0.2534073069137548"
            ]
          },
          "metadata": {},
          "execution_count": 180
        }
      ]
    },
    {
      "cell_type": "code",
      "source": [
        "np.square(np.abs(df[\"differences\"])).mean()"
      ],
      "metadata": {
        "colab": {
          "base_uri": "https://localhost:8080/"
        },
        "id": "C3exK3r5Kjv9",
        "outputId": "31f981ce-9895-4aef-d759-01bf2eaa26d1"
      },
      "execution_count": null,
      "outputs": [
        {
          "output_type": "execute_result",
          "data": {
            "text/plain": [
              "0.2534073069137548"
            ]
          },
          "metadata": {},
          "execution_count": 186
        }
      ]
    },
    {
      "cell_type": "code",
      "source": [
        "df[\"squared_differences\"] = np.square(df[\"differences\"])\n",
        "df"
      ],
      "metadata": {
        "colab": {
          "base_uri": "https://localhost:8080/",
          "height": 424
        },
        "id": "5owYZ66kKmNp",
        "outputId": "7cf3eaa9-ff0c-4acb-9212-00097c9534a5"
      },
      "execution_count": null,
      "outputs": [
        {
          "output_type": "execute_result",
          "data": {
            "text/plain": [
              "       actual values  predicted values  differences  squared_differences\n",
              "20046        0.47700          0.493840     0.016840             0.000284\n",
              "3024         0.45800          0.754940     0.296940             0.088173\n",
              "15663        5.00001          4.928596    -0.071414             0.005100\n",
              "20484        2.18600          2.540290     0.354290             0.125521\n",
              "9814         2.78000          2.331760    -0.448240             0.200919\n",
              "...              ...               ...          ...                  ...\n",
              "15362        2.63300          2.220380    -0.412620             0.170255\n",
              "16623        2.66800          1.947760    -0.720240             0.518746\n",
              "18086        5.00001          4.836378    -0.163632             0.026775\n",
              "2144         0.72300          0.717820    -0.005180             0.000027\n",
              "3665         1.51500          1.679010     0.164010             0.026899\n",
              "\n",
              "[4128 rows x 4 columns]"
            ],
            "text/html": [
              "\n",
              "  <div id=\"df-c01c3ba0-f5dc-49f2-9a3c-dd3f21c1bee1\">\n",
              "    <div class=\"colab-df-container\">\n",
              "      <div>\n",
              "<style scoped>\n",
              "    .dataframe tbody tr th:only-of-type {\n",
              "        vertical-align: middle;\n",
              "    }\n",
              "\n",
              "    .dataframe tbody tr th {\n",
              "        vertical-align: top;\n",
              "    }\n",
              "\n",
              "    .dataframe thead th {\n",
              "        text-align: right;\n",
              "    }\n",
              "</style>\n",
              "<table border=\"1\" class=\"dataframe\">\n",
              "  <thead>\n",
              "    <tr style=\"text-align: right;\">\n",
              "      <th></th>\n",
              "      <th>actual values</th>\n",
              "      <th>predicted values</th>\n",
              "      <th>differences</th>\n",
              "      <th>squared_differences</th>\n",
              "    </tr>\n",
              "  </thead>\n",
              "  <tbody>\n",
              "    <tr>\n",
              "      <th>20046</th>\n",
              "      <td>0.47700</td>\n",
              "      <td>0.493840</td>\n",
              "      <td>0.016840</td>\n",
              "      <td>0.000284</td>\n",
              "    </tr>\n",
              "    <tr>\n",
              "      <th>3024</th>\n",
              "      <td>0.45800</td>\n",
              "      <td>0.754940</td>\n",
              "      <td>0.296940</td>\n",
              "      <td>0.088173</td>\n",
              "    </tr>\n",
              "    <tr>\n",
              "      <th>15663</th>\n",
              "      <td>5.00001</td>\n",
              "      <td>4.928596</td>\n",
              "      <td>-0.071414</td>\n",
              "      <td>0.005100</td>\n",
              "    </tr>\n",
              "    <tr>\n",
              "      <th>20484</th>\n",
              "      <td>2.18600</td>\n",
              "      <td>2.540290</td>\n",
              "      <td>0.354290</td>\n",
              "      <td>0.125521</td>\n",
              "    </tr>\n",
              "    <tr>\n",
              "      <th>9814</th>\n",
              "      <td>2.78000</td>\n",
              "      <td>2.331760</td>\n",
              "      <td>-0.448240</td>\n",
              "      <td>0.200919</td>\n",
              "    </tr>\n",
              "    <tr>\n",
              "      <th>...</th>\n",
              "      <td>...</td>\n",
              "      <td>...</td>\n",
              "      <td>...</td>\n",
              "      <td>...</td>\n",
              "    </tr>\n",
              "    <tr>\n",
              "      <th>15362</th>\n",
              "      <td>2.63300</td>\n",
              "      <td>2.220380</td>\n",
              "      <td>-0.412620</td>\n",
              "      <td>0.170255</td>\n",
              "    </tr>\n",
              "    <tr>\n",
              "      <th>16623</th>\n",
              "      <td>2.66800</td>\n",
              "      <td>1.947760</td>\n",
              "      <td>-0.720240</td>\n",
              "      <td>0.518746</td>\n",
              "    </tr>\n",
              "    <tr>\n",
              "      <th>18086</th>\n",
              "      <td>5.00001</td>\n",
              "      <td>4.836378</td>\n",
              "      <td>-0.163632</td>\n",
              "      <td>0.026775</td>\n",
              "    </tr>\n",
              "    <tr>\n",
              "      <th>2144</th>\n",
              "      <td>0.72300</td>\n",
              "      <td>0.717820</td>\n",
              "      <td>-0.005180</td>\n",
              "      <td>0.000027</td>\n",
              "    </tr>\n",
              "    <tr>\n",
              "      <th>3665</th>\n",
              "      <td>1.51500</td>\n",
              "      <td>1.679010</td>\n",
              "      <td>0.164010</td>\n",
              "      <td>0.026899</td>\n",
              "    </tr>\n",
              "  </tbody>\n",
              "</table>\n",
              "<p>4128 rows × 4 columns</p>\n",
              "</div>\n",
              "      <button class=\"colab-df-convert\" onclick=\"convertToInteractive('df-c01c3ba0-f5dc-49f2-9a3c-dd3f21c1bee1')\"\n",
              "              title=\"Convert this dataframe to an interactive table.\"\n",
              "              style=\"display:none;\">\n",
              "        \n",
              "  <svg xmlns=\"http://www.w3.org/2000/svg\" height=\"24px\"viewBox=\"0 0 24 24\"\n",
              "       width=\"24px\">\n",
              "    <path d=\"M0 0h24v24H0V0z\" fill=\"none\"/>\n",
              "    <path d=\"M18.56 5.44l.94 2.06.94-2.06 2.06-.94-2.06-.94-.94-2.06-.94 2.06-2.06.94zm-11 1L8.5 8.5l.94-2.06 2.06-.94-2.06-.94L8.5 2.5l-.94 2.06-2.06.94zm10 10l.94 2.06.94-2.06 2.06-.94-2.06-.94-.94-2.06-.94 2.06-2.06.94z\"/><path d=\"M17.41 7.96l-1.37-1.37c-.4-.4-.92-.59-1.43-.59-.52 0-1.04.2-1.43.59L10.3 9.45l-7.72 7.72c-.78.78-.78 2.05 0 2.83L4 21.41c.39.39.9.59 1.41.59.51 0 1.02-.2 1.41-.59l7.78-7.78 2.81-2.81c.8-.78.8-2.07 0-2.86zM5.41 20L4 18.59l7.72-7.72 1.47 1.35L5.41 20z\"/>\n",
              "  </svg>\n",
              "      </button>\n",
              "      \n",
              "  <style>\n",
              "    .colab-df-container {\n",
              "      display:flex;\n",
              "      flex-wrap:wrap;\n",
              "      gap: 12px;\n",
              "    }\n",
              "\n",
              "    .colab-df-convert {\n",
              "      background-color: #E8F0FE;\n",
              "      border: none;\n",
              "      border-radius: 50%;\n",
              "      cursor: pointer;\n",
              "      display: none;\n",
              "      fill: #1967D2;\n",
              "      height: 32px;\n",
              "      padding: 0 0 0 0;\n",
              "      width: 32px;\n",
              "    }\n",
              "\n",
              "    .colab-df-convert:hover {\n",
              "      background-color: #E2EBFA;\n",
              "      box-shadow: 0px 1px 2px rgba(60, 64, 67, 0.3), 0px 1px 3px 1px rgba(60, 64, 67, 0.15);\n",
              "      fill: #174EA6;\n",
              "    }\n",
              "\n",
              "    [theme=dark] .colab-df-convert {\n",
              "      background-color: #3B4455;\n",
              "      fill: #D2E3FC;\n",
              "    }\n",
              "\n",
              "    [theme=dark] .colab-df-convert:hover {\n",
              "      background-color: #434B5C;\n",
              "      box-shadow: 0px 1px 3px 1px rgba(0, 0, 0, 0.15);\n",
              "      filter: drop-shadow(0px 1px 2px rgba(0, 0, 0, 0.3));\n",
              "      fill: #FFFFFF;\n",
              "    }\n",
              "  </style>\n",
              "\n",
              "      <script>\n",
              "        const buttonEl =\n",
              "          document.querySelector('#df-c01c3ba0-f5dc-49f2-9a3c-dd3f21c1bee1 button.colab-df-convert');\n",
              "        buttonEl.style.display =\n",
              "          google.colab.kernel.accessAllowed ? 'block' : 'none';\n",
              "\n",
              "        async function convertToInteractive(key) {\n",
              "          const element = document.querySelector('#df-c01c3ba0-f5dc-49f2-9a3c-dd3f21c1bee1');\n",
              "          const dataTable =\n",
              "            await google.colab.kernel.invokeFunction('convertToInteractive',\n",
              "                                                     [key], {});\n",
              "          if (!dataTable) return;\n",
              "\n",
              "          const docLinkHtml = 'Like what you see? Visit the ' +\n",
              "            '<a target=\"_blank\" href=https://colab.research.google.com/notebooks/data_table.ipynb>data table notebook</a>'\n",
              "            + ' to learn more about interactive tables.';\n",
              "          element.innerHTML = '';\n",
              "          dataTable['output_type'] = 'display_data';\n",
              "          await google.colab.output.renderOutput(dataTable, element);\n",
              "          const docLink = document.createElement('div');\n",
              "          docLink.innerHTML = docLinkHtml;\n",
              "          element.appendChild(docLink);\n",
              "        }\n",
              "      </script>\n",
              "    </div>\n",
              "  </div>\n",
              "  "
            ]
          },
          "metadata": {},
          "execution_count": 188
        }
      ]
    },
    {
      "cell_type": "code",
      "source": [
        "df[\"squared_differences\"].mean()"
      ],
      "metadata": {
        "colab": {
          "base_uri": "https://localhost:8080/"
        },
        "id": "odSqNUOqLCCe",
        "outputId": "96296bc8-10fb-4445-f0d3-1c32287b554a"
      },
      "execution_count": null,
      "outputs": [
        {
          "output_type": "execute_result",
          "data": {
            "text/plain": [
              "0.2534073069137548"
            ]
          },
          "metadata": {},
          "execution_count": 191
        }
      ]
    },
    {
      "cell_type": "markdown",
      "source": [
        "### 4.2.3 Finally using the `scoring` paramater"
      ],
      "metadata": {
        "id": "a1-NwaYKLF8W"
      }
    },
    {
      "cell_type": "code",
      "source": [
        "from sklearn.model_selection import cross_val_score\n",
        "from sklearn.ensemble import RandomForestClassifier\n",
        "\n",
        "np.random.seed(42)\n",
        "\n",
        "# Create X and y\n",
        "X = heart_disease.drop(\"target\",axis=1)\n",
        "y=heart_disease[\"target\"]\n",
        "\n",
        "# create train/test\n",
        "X_train,X_test,y_train,y_test = train_test_split(X,y,test_size=0.2)\n",
        "\n",
        "# Create classifier model instance\n",
        "clf = RandomForestClassifier(n_estimators=100)\n",
        "\n",
        "# fit classifier to training data\n",
        "clf.fit(X_train,y_train)"
      ],
      "metadata": {
        "colab": {
          "base_uri": "https://localhost:8080/"
        },
        "id": "XpqYOJhUeUT3",
        "outputId": "238a5597-6577-42f7-bbbd-7fd06ccebe98"
      },
      "execution_count": 192,
      "outputs": [
        {
          "output_type": "execute_result",
          "data": {
            "text/plain": [
              "RandomForestClassifier()"
            ]
          },
          "metadata": {},
          "execution_count": 192
        }
      ]
    },
    {
      "cell_type": "code",
      "source": [
        "np.random.seed(42)\n",
        "\n",
        "# cross validation accuracy\n",
        "cv_acc = cross_val_score(clf,X,y,cv=5,scoring=None) # if scoring is none, estimators default scoring evaluation matrix is used which is (accuracy for classification models)\n",
        "cv_acc\n"
      ],
      "metadata": {
        "colab": {
          "base_uri": "https://localhost:8080/"
        },
        "id": "t2YHKmXaes39",
        "outputId": "391a1774-4d06-48d0-b351-e1b0a4dee236"
      },
      "execution_count": 197,
      "outputs": [
        {
          "output_type": "execute_result",
          "data": {
            "text/plain": [
              "array([0.81967213, 0.90163934, 0.83606557, 0.78333333, 0.78333333])"
            ]
          },
          "metadata": {},
          "execution_count": 197
        }
      ]
    },
    {
      "cell_type": "code",
      "source": [
        "# cross validation accuracy\n",
        "print(f\"Cross validated Accuracy score: {np.mean(cv_acc)*100:.2f}%\") # mean accuracy of our model\n"
      ],
      "metadata": {
        "colab": {
          "base_uri": "https://localhost:8080/"
        },
        "id": "gDqQ8qbPe3s0",
        "outputId": "29b76301-7c41-4746-9935-14345c4baff8"
      },
      "execution_count": 199,
      "outputs": [
        {
          "output_type": "stream",
          "name": "stdout",
          "text": [
            "Cross validated Accuracy score: 82.48%\n"
          ]
        }
      ]
    },
    {
      "cell_type": "code",
      "source": [
        "np.random.seed(42)\n",
        "\n",
        "# cross validation accuracy\n",
        "cv_acc = cross_val_score(clf,X,y,cv=5,scoring=\"accuracy\") # if scoring is none, estimators default scoring evaluation matrix is used which is (accuracy for classification models)\n",
        "print(f\"Cross validated Accuracy score: {np.mean(cv_acc)*100:.2f}%\") # mean accuracy of our model\n"
      ],
      "metadata": {
        "colab": {
          "base_uri": "https://localhost:8080/"
        },
        "id": "5wcRE9ANfblR",
        "outputId": "a09ba68a-25eb-4a40-8240-9407a6ee8d0a"
      },
      "execution_count": 201,
      "outputs": [
        {
          "output_type": "stream",
          "name": "stdout",
          "text": [
            "Cross validated Accuracy score: 82.48%\n"
          ]
        }
      ]
    },
    {
      "cell_type": "code",
      "source": [
        "# Precision\n",
        "np.random.seed(42)\n",
        "\n",
        "# cross validation Precision\n",
        "cv_precision = cross_val_score(clf,X,y,cv=5,scoring=\"precision\") # if scoring is none, estimators default scoring evaluation matrix is used which is (accuracy for classification models)\n",
        "print(f\"Cross validated precision score: {np.mean(cv_precision)*100:.2f}%\") # mean precision of our model\n"
      ],
      "metadata": {
        "colab": {
          "base_uri": "https://localhost:8080/"
        },
        "id": "hAr4jooffmRY",
        "outputId": "baaea24c-40a3-4a77-b72b-2e80facc6feb"
      },
      "execution_count": 206,
      "outputs": [
        {
          "output_type": "stream",
          "name": "stdout",
          "text": [
            "Cross validated precision score: 83.30%\n"
          ]
        }
      ]
    },
    {
      "cell_type": "code",
      "source": [
        "# Recall\n",
        "np.random.seed(42)\n",
        "\n",
        "# cross validation Recall\n",
        "cv_recall = cross_val_score(clf,X,y,cv=5,scoring=\"recall\") # if scoring is none, estimators default scoring evaluation matrix is used which is (accuracy for classification models)\n",
        "print(f\"Cross validated recall score: {np.mean(cv_recall)*100:.2f}%\") # mean recall of our model\n"
      ],
      "metadata": {
        "colab": {
          "base_uri": "https://localhost:8080/"
        },
        "id": "vIZFi-gFfspX",
        "outputId": "2431f06e-c0b7-404c-f00b-26a96b545709"
      },
      "execution_count": 207,
      "outputs": [
        {
          "output_type": "stream",
          "name": "stdout",
          "text": [
            "Cross validated recall score: 85.45%\n"
          ]
        }
      ]
    },
    {
      "cell_type": "markdown",
      "source": [
        "lets see `scoring` paramater for regression"
      ],
      "metadata": {
        "id": "I-dPN3zJgAAv"
      }
    },
    {
      "cell_type": "code",
      "source": [
        "from sklearn.ensemble import RandomForestRegressor\n",
        "\n",
        "np.random.seed(42)\n",
        "\n",
        "X = housing_df.drop(\"target\",axis=1)\n",
        "y = housing_df[\"target\"]\n",
        "\n",
        "X_train,X_test,y_train,y_test = train_test_split(X,y,test_size=0.2)\n",
        "\n",
        "model = RandomForestRegressor(n_estimators=100)\n",
        "model.fit(X_train,y_train)\n"
      ],
      "metadata": {
        "colab": {
          "base_uri": "https://localhost:8080/"
        },
        "id": "UXzbC9aNgMTt",
        "outputId": "b7e6b68c-a648-4064-99d5-b76642c4550a"
      },
      "execution_count": 208,
      "outputs": [
        {
          "output_type": "execute_result",
          "data": {
            "text/plain": [
              "RandomForestRegressor()"
            ]
          },
          "metadata": {},
          "execution_count": 208
        }
      ]
    },
    {
      "cell_type": "code",
      "source": [
        "np.random.seed(42)\n",
        "\n",
        "# cross validation accuracy\n",
        "cv_acc = cross_val_score(model,X,y,cv=5,scoring=None) # if scoring is none, estimators default scoring evaluation matrix is used which is (accuracy for classification models)\n",
        "\n",
        "# cross validation accuracy\n",
        "print(f\"Cross validated Accuracy score: {np.mean(cv_acc)*100:.2f}%\") # mean accuracy of our model\n"
      ],
      "metadata": {
        "colab": {
          "base_uri": "https://localhost:8080/"
        },
        "id": "EpCheYHogzDA",
        "outputId": "851b756c-05f7-4e6f-a081-ca914cdedeba"
      },
      "execution_count": 216,
      "outputs": [
        {
          "output_type": "stream",
          "name": "stdout",
          "text": [
            "Cross validated Accuracy score: 65.21%\n"
          ]
        }
      ]
    },
    {
      "cell_type": "code",
      "source": [
        "# MAE\n",
        "np.random.seed(42)\n",
        "\n",
        "# cross validation MAE\n",
        "cv_mae = cross_val_score(model,X,y,cv=5,scoring=\"neg_mean_absolute_error\") # if scoring is none, estimators default scoring evaluation matrix is used which is (accuracy for classification models)\n",
        "print(f\"Cross validated MAE score: {np.mean(cv_mae)*100:.2f}%\") # mean mae of our model\n"
      ],
      "metadata": {
        "colab": {
          "base_uri": "https://localhost:8080/"
        },
        "id": "YxwgOvZFgM22",
        "outputId": "6dca064b-0954-4f26-9b81-6eea6c94726f"
      },
      "execution_count": 218,
      "outputs": [
        {
          "output_type": "stream",
          "name": "stdout",
          "text": [
            "Cross validated MAE score: -46.62%\n"
          ]
        }
      ]
    },
    {
      "cell_type": "code",
      "source": [
        "# MSE\n",
        "np.random.seed(42)\n",
        "\n",
        "# cross validation MSE\n",
        "cv_mse = cross_val_score(model,X,y,cv=5,scoring=\"neg_mean_squared_error\") # if scoring is none, estimators default scoring evaluation matrix is used which is (accuracy for classification models)\n",
        "print(f\"Cross validated MSE score: {np.mean(cv_mse)*100:.2f}%\") # mean mse of our model\n"
      ],
      "metadata": {
        "colab": {
          "base_uri": "https://localhost:8080/"
        },
        "id": "J2xy-F2sgfhN",
        "outputId": "fdf01737-bf93-4840-974a-0fd53493314b"
      },
      "execution_count": 219,
      "outputs": [
        {
          "output_type": "stream",
          "name": "stdout",
          "text": [
            "Cross validated MSE score: -43.01%\n"
          ]
        }
      ]
    },
    {
      "cell_type": "markdown",
      "source": [
        "## 4.3 using different evaluation metrics as scikit learn functions\n",
        "3rd way to evaluate scikit learn ML models/estimators is to use the `sklearn.metrics` module"
      ],
      "metadata": {
        "id": "DX0RMa38g_9K"
      }
    },
    {
      "cell_type": "code",
      "source": [
        "from sklearn.metrics import accuracy_score, precision_score, recall_score, f1_score\n",
        "from sklearn.ensemble import RandomForestClassifier\n",
        "\n",
        "np.random.seed(42)\n",
        "\n",
        "# Create X and y\n",
        "X = heart_disease.drop(\"target\",axis=1)\n",
        "y=heart_disease[\"target\"]\n",
        "\n",
        "# create train/test\n",
        "X_train,X_test,y_train,y_test = train_test_split(X,y,test_size=0.2)\n",
        "\n",
        "# Create classifier model instance\n",
        "clf = RandomForestClassifier(n_estimators=100)\n",
        "\n",
        "# fit classifier to training data\n",
        "clf.fit(X_train,y_train)"
      ],
      "metadata": {
        "colab": {
          "base_uri": "https://localhost:8080/"
        },
        "id": "RFF5meY8i686",
        "outputId": "d5718f71-394a-409a-d8ce-30f6111c47b7"
      },
      "execution_count": 220,
      "outputs": [
        {
          "output_type": "execute_result",
          "data": {
            "text/plain": [
              "RandomForestClassifier()"
            ]
          },
          "metadata": {},
          "execution_count": 220
        }
      ]
    },
    {
      "cell_type": "markdown",
      "source": [
        "**Evaluations**"
      ],
      "metadata": {
        "id": "4QsJeErfjiPX"
      }
    },
    {
      "cell_type": "code",
      "source": [
        "accuracy_score(y_test,clf.predict(X_test))"
      ],
      "metadata": {
        "colab": {
          "base_uri": "https://localhost:8080/"
        },
        "id": "IizIcNJSjHYG",
        "outputId": "9f055da3-bcf6-4c6e-bd9c-3684c9f035c1"
      },
      "execution_count": 222,
      "outputs": [
        {
          "output_type": "execute_result",
          "data": {
            "text/plain": [
              "0.8524590163934426"
            ]
          },
          "metadata": {},
          "execution_count": 222
        }
      ]
    },
    {
      "cell_type": "code",
      "source": [
        "precision_score(y_test,clf.predict(X_test))"
      ],
      "metadata": {
        "colab": {
          "base_uri": "https://localhost:8080/"
        },
        "id": "G1OIAP7LjUA9",
        "outputId": "7c8dcc53-6ecd-4ff6-d47d-236e356618bc"
      },
      "execution_count": 223,
      "outputs": [
        {
          "output_type": "execute_result",
          "data": {
            "text/plain": [
              "0.8484848484848485"
            ]
          },
          "metadata": {},
          "execution_count": 223
        }
      ]
    },
    {
      "cell_type": "code",
      "source": [
        "recall_score(y_test,clf.predict(X_test))"
      ],
      "metadata": {
        "colab": {
          "base_uri": "https://localhost:8080/"
        },
        "id": "F_EVunOQjb7Z",
        "outputId": "378186dd-ea3e-4c62-a0dd-5e409ca2b6cf"
      },
      "execution_count": 224,
      "outputs": [
        {
          "output_type": "execute_result",
          "data": {
            "text/plain": [
              "0.875"
            ]
          },
          "metadata": {},
          "execution_count": 224
        }
      ]
    },
    {
      "cell_type": "code",
      "source": [
        "f1_score(y_test,clf.predict(X_test))"
      ],
      "metadata": {
        "colab": {
          "base_uri": "https://localhost:8080/"
        },
        "id": "nxJr7jN9jdIR",
        "outputId": "df05f755-ada7-4d53-f0b8-092e2eb362d0"
      },
      "execution_count": 225,
      "outputs": [
        {
          "output_type": "execute_result",
          "data": {
            "text/plain": [
              "0.8615384615384615"
            ]
          },
          "metadata": {},
          "execution_count": 225
        }
      ]
    },
    {
      "cell_type": "markdown",
      "source": [
        "## 5. Improving a model\n",
        "\n",
        "First predictions = baseline predictions\n",
        "\n",
        "First model = baseline model\n",
        "\n",
        "From a data perspective:\n",
        "* Could we collect more data? (more data, the better)\n",
        "* Could we improve our data \n",
        "\n",
        "From a model perspective:\n",
        "* Is there a better model we could use?\n",
        "* Could we improve the current model?\n",
        "\n",
        "Hyperparamters vs paramaters\n",
        "* Parameters = model find these patterns in data\n",
        "* Hyperparamaters = settings on a model you can adjust to (potentially) improve its ability to find patterns\n",
        "\n",
        "3 ways to adjust hyper params:\n",
        "* By hand\n",
        "* randomly with RandomSearchCV\n",
        "* Exhaustively with GridSearchCV"
      ],
      "metadata": {
        "id": "l6_UAe7gjd46"
      }
    },
    {
      "cell_type": "code",
      "source": [
        "from sklearn.ensemble import RandomForestClassifier\n",
        "\n",
        "\n",
        "clf = RandomForestClassifier(n_estimators=100)\n",
        "\n",
        "clf.get_params() # adjustable paramaters"
      ],
      "metadata": {
        "colab": {
          "base_uri": "https://localhost:8080/"
        },
        "id": "NDYVo-jyki8P",
        "outputId": "319b8733-ad4f-4525-a3cf-bf6cb19ff960"
      },
      "execution_count": 227,
      "outputs": [
        {
          "output_type": "execute_result",
          "data": {
            "text/plain": [
              "{'bootstrap': True,\n",
              " 'ccp_alpha': 0.0,\n",
              " 'class_weight': None,\n",
              " 'criterion': 'gini',\n",
              " 'max_depth': None,\n",
              " 'max_features': 'auto',\n",
              " 'max_leaf_nodes': None,\n",
              " 'max_samples': None,\n",
              " 'min_impurity_decrease': 0.0,\n",
              " 'min_samples_leaf': 1,\n",
              " 'min_samples_split': 2,\n",
              " 'min_weight_fraction_leaf': 0.0,\n",
              " 'n_estimators': 100,\n",
              " 'n_jobs': None,\n",
              " 'oob_score': False,\n",
              " 'random_state': None,\n",
              " 'verbose': 0,\n",
              " 'warm_start': False}"
            ]
          },
          "metadata": {},
          "execution_count": 227
        }
      ]
    },
    {
      "cell_type": "markdown",
      "source": [
        "## 5.1 tuning hyperparamters by hand\n",
        "\n",
        "Lets make 3 sets , training, valdation, test"
      ],
      "metadata": {
        "id": "U_C4ZfF_kuCk"
      }
    },
    {
      "cell_type": "markdown",
      "source": [
        "we are going to try and adjust:\n",
        "* `max_Deapth`\n",
        "* `max_features`\n",
        "* `mean_samples_leaf`\n",
        "* `min_samples_split`\n",
        "* `estimators`"
      ],
      "metadata": {
        "id": "181G7bTJlLZU"
      }
    },
    {
      "cell_type": "code",
      "source": [
        "def evaluate_preds(y_true,y_preds):\n",
        "  \"\"\"\n",
        "  performs evaluation comparison on y_true labels vs. y_preds labels\n",
        "  \"\"\"\n",
        "  accuracy = accuracy_score(y_true,y_preds)\n",
        "  precision =precision_score(y_true,y_preds)\n",
        "  recall = recall_score(y_true,y_preds)\n",
        "  f1= f1_score(y_true,y_preds)\n",
        "  metric_dict = {\"accuracy\":round(accuracy,2),\"precision\":round(precision,2),\"recall\":round(recall,2),\"f1\":round(f1,2)}\n",
        "  \n",
        "  return metric_dict"
      ],
      "metadata": {
        "id": "lwqDLBv1l1Ai"
      },
      "execution_count": 242,
      "outputs": []
    },
    {
      "cell_type": "code",
      "source": [
        "from sklearn.ensemble import RandomForestClassifier\n",
        "\n",
        "np.random.seed(42)\n",
        "\n",
        "# shuffle the data\n",
        "heart_disease_shuffled = heart_disease.sample(frac=1)\n",
        "\n",
        "# Create X and y\n",
        "X = heart_disease_shuffled.drop(\"target\",axis=1)\n",
        "y=heart_disease_shuffled[\"target\"]\n",
        "\n",
        "# split data into test, validation, train\n",
        "train_split = round(0.7*len(heart_disease_shuffled)) # 70% of data\n",
        "valid_split = round(train_split +0.15 *len(heart_disease_shuffled)) # 15% of data\n",
        "\n",
        "X_train,y_train = X[:train_split],y[:train_split]\n",
        "X_valid,y_valid = X[train_split:valid_split],y[train_split:valid_split]\n",
        "X_test, y_test = X[valid_split:],X[valid_split:]\n",
        "\n",
        "#len(X_train),len(X_valid),len(X_test)\n",
        "\n",
        "clf = RandomForestClassifier()\n",
        "clf.fit(X_train,y_train)\n",
        "\n",
        "# make baseline predictions\n",
        "y_preds = clf.predict(X_valid)\n",
        "\n",
        "# Evaluate classifier on validation set\n",
        "baseline_metrics = evaluate_preds(y_valid,y_preds)\n",
        "baseline_metrics"
      ],
      "metadata": {
        "colab": {
          "base_uri": "https://localhost:8080/"
        },
        "id": "5ylRpQwLmSat",
        "outputId": "23c39143-ec37-4e74-b48a-22be81de80b3"
      },
      "execution_count": 281,
      "outputs": [
        {
          "output_type": "execute_result",
          "data": {
            "text/plain": [
              "{'accuracy': 0.82, 'f1': 0.85, 'precision': 0.81, 'recall': 0.88}"
            ]
          },
          "metadata": {},
          "execution_count": 281
        }
      ]
    },
    {
      "cell_type": "code",
      "source": [
        "from sklearn.ensemble import RandomForestClassifier\n",
        "# Create second classifier with different hyper paramaters\n",
        "clf_2 = RandomForestClassifier(n_estimators=100)\n",
        "clf_2.fit(X_train,y_train)\n",
        "\n",
        "# make predictions\n",
        "y_preds_2 = clf_2.predict(X_valid)\n",
        "\n",
        "# Evaluate 2nd classifier on validation set\n",
        "clf_2_metrics = evaluate_preds(y_valid,y_preds_2)\n",
        "clf_2_metrics"
      ],
      "metadata": {
        "colab": {
          "base_uri": "https://localhost:8080/"
        },
        "id": "hGX9xYx-oQ3t",
        "outputId": "bc70e537-94c8-4f38-86d1-2f8b6e4035c7"
      },
      "execution_count": 282,
      "outputs": [
        {
          "output_type": "execute_result",
          "data": {
            "text/plain": [
              "{'accuracy': 0.84, 'f1': 0.86, 'precision': 0.85, 'recall': 0.88}"
            ]
          },
          "metadata": {},
          "execution_count": 282
        }
      ]
    },
    {
      "cell_type": "markdown",
      "source": [
        "## 5.2 Hyper paramter tuning with RandomisedSearchCV"
      ],
      "metadata": {
        "id": "6kiFtICPpKnu"
      }
    },
    {
      "cell_type": "code",
      "source": [
        "from sklearn.model_selection import RandomizedSearchCV\n",
        "from sklearn.ensemble import RandomForestClassifier\n",
        "\n",
        "np.random.seed(42)\n",
        "\n",
        "grid = {\"n_estimators\": [10, 100, 200, 500, 1000, 1200],\n",
        "        \"max_depth\": [None, 5, 10, 20, 30],\n",
        "        \"max_features\": [\"auto\", \"sqrt\"],\n",
        "        \"min_samples_split\": [2, 4, 6],\n",
        "        \"min_samples_leaf\": [1, 2, 4]}\n",
        "        \n",
        "from sklearn.model_selection import RandomizedSearchCV, train_test_split\n",
        "\n",
        "np.random.seed(42)\n",
        "\n",
        "# Split into X & y\n",
        "X = heart_disease.drop(\"target\", axis=1)\n",
        "y = heart_disease[\"target\"]\n",
        "\n",
        "# Split into train and test sets\n",
        "X_train, X_test, y_train, y_test = train_test_split(X, y, test_size=0.2)\n",
        "\n",
        "# Set n_jobs to -1 to use all cores (NOTE: n_jobs=-1 is broken as of 8 Dec 2019, using n_jobs=1 works)\n",
        "clf = RandomForestClassifier(n_jobs=1)\n",
        "\n",
        "# Setup RandomizedSearchCV\n",
        "rs_clf = RandomizedSearchCV(estimator=clf,\n",
        "                            param_distributions=grid,\n",
        "                            n_iter=20, # try 20 models total\n",
        "                            cv=5, # 5-fold cross-validation\n",
        "                            verbose=2) # print out results\n",
        "\n",
        "# Fit the RandomizedSearchCV version of clf\n",
        "rs_clf.fit(X_train, y_train);"
      ],
      "metadata": {
        "colab": {
          "base_uri": "https://localhost:8080/"
        },
        "id": "2tCdEcX5omVd",
        "outputId": "1f9c032a-2384-4938-e1bc-15f80fc62220"
      },
      "execution_count": 261,
      "outputs": [
        {
          "output_type": "stream",
          "name": "stdout",
          "text": [
            "Fitting 5 folds for each of 20 candidates, totalling 100 fits\n",
            "[CV] END max_depth=5, max_features=sqrt, min_samples_leaf=2, min_samples_split=6, n_estimators=1200; total time=   3.0s\n",
            "[CV] END max_depth=5, max_features=sqrt, min_samples_leaf=2, min_samples_split=6, n_estimators=1200; total time=   2.2s\n",
            "[CV] END max_depth=5, max_features=sqrt, min_samples_leaf=2, min_samples_split=6, n_estimators=1200; total time=   1.9s\n",
            "[CV] END max_depth=5, max_features=sqrt, min_samples_leaf=2, min_samples_split=6, n_estimators=1200; total time=   2.9s\n",
            "[CV] END max_depth=5, max_features=sqrt, min_samples_leaf=2, min_samples_split=6, n_estimators=1200; total time=   2.8s\n",
            "[CV] END max_depth=30, max_features=auto, min_samples_leaf=2, min_samples_split=4, n_estimators=100; total time=   0.3s\n",
            "[CV] END max_depth=30, max_features=auto, min_samples_leaf=2, min_samples_split=4, n_estimators=100; total time=   0.3s\n",
            "[CV] END max_depth=30, max_features=auto, min_samples_leaf=2, min_samples_split=4, n_estimators=100; total time=   0.3s\n",
            "[CV] END max_depth=30, max_features=auto, min_samples_leaf=2, min_samples_split=4, n_estimators=100; total time=   0.3s\n",
            "[CV] END max_depth=30, max_features=auto, min_samples_leaf=2, min_samples_split=4, n_estimators=100; total time=   0.3s\n",
            "[CV] END max_depth=10, max_features=sqrt, min_samples_leaf=2, min_samples_split=2, n_estimators=200; total time=   0.5s\n",
            "[CV] END max_depth=10, max_features=sqrt, min_samples_leaf=2, min_samples_split=2, n_estimators=200; total time=   0.5s\n",
            "[CV] END max_depth=10, max_features=sqrt, min_samples_leaf=2, min_samples_split=2, n_estimators=200; total time=   0.5s\n",
            "[CV] END max_depth=10, max_features=sqrt, min_samples_leaf=2, min_samples_split=2, n_estimators=200; total time=   0.5s\n",
            "[CV] END max_depth=10, max_features=sqrt, min_samples_leaf=2, min_samples_split=2, n_estimators=200; total time=   0.5s\n",
            "[CV] END max_depth=20, max_features=auto, min_samples_leaf=1, min_samples_split=6, n_estimators=100; total time=   0.3s\n",
            "[CV] END max_depth=20, max_features=auto, min_samples_leaf=1, min_samples_split=6, n_estimators=100; total time=   0.3s\n",
            "[CV] END max_depth=20, max_features=auto, min_samples_leaf=1, min_samples_split=6, n_estimators=100; total time=   0.3s\n",
            "[CV] END max_depth=20, max_features=auto, min_samples_leaf=1, min_samples_split=6, n_estimators=100; total time=   0.3s\n",
            "[CV] END max_depth=20, max_features=auto, min_samples_leaf=1, min_samples_split=6, n_estimators=100; total time=   0.3s\n",
            "[CV] END max_depth=5, max_features=sqrt, min_samples_leaf=1, min_samples_split=4, n_estimators=10; total time=   0.0s\n",
            "[CV] END max_depth=5, max_features=sqrt, min_samples_leaf=1, min_samples_split=4, n_estimators=10; total time=   0.0s\n",
            "[CV] END max_depth=5, max_features=sqrt, min_samples_leaf=1, min_samples_split=4, n_estimators=10; total time=   0.0s\n",
            "[CV] END max_depth=5, max_features=sqrt, min_samples_leaf=1, min_samples_split=4, n_estimators=10; total time=   0.0s\n",
            "[CV] END max_depth=5, max_features=sqrt, min_samples_leaf=1, min_samples_split=4, n_estimators=10; total time=   0.0s\n",
            "[CV] END max_depth=10, max_features=auto, min_samples_leaf=2, min_samples_split=4, n_estimators=10; total time=   0.0s\n",
            "[CV] END max_depth=10, max_features=auto, min_samples_leaf=2, min_samples_split=4, n_estimators=10; total time=   0.0s\n",
            "[CV] END max_depth=10, max_features=auto, min_samples_leaf=2, min_samples_split=4, n_estimators=10; total time=   0.0s\n",
            "[CV] END max_depth=10, max_features=auto, min_samples_leaf=2, min_samples_split=4, n_estimators=10; total time=   0.0s\n",
            "[CV] END max_depth=10, max_features=auto, min_samples_leaf=2, min_samples_split=4, n_estimators=10; total time=   0.0s\n",
            "[CV] END max_depth=None, max_features=sqrt, min_samples_leaf=2, min_samples_split=6, n_estimators=500; total time=   1.3s\n",
            "[CV] END max_depth=None, max_features=sqrt, min_samples_leaf=2, min_samples_split=6, n_estimators=500; total time=   1.7s\n",
            "[CV] END max_depth=None, max_features=sqrt, min_samples_leaf=2, min_samples_split=6, n_estimators=500; total time=   0.7s\n",
            "[CV] END max_depth=None, max_features=sqrt, min_samples_leaf=2, min_samples_split=6, n_estimators=500; total time=   0.7s\n",
            "[CV] END max_depth=None, max_features=sqrt, min_samples_leaf=2, min_samples_split=6, n_estimators=500; total time=   0.7s\n",
            "[CV] END max_depth=None, max_features=sqrt, min_samples_leaf=2, min_samples_split=6, n_estimators=200; total time=   0.3s\n",
            "[CV] END max_depth=None, max_features=sqrt, min_samples_leaf=2, min_samples_split=6, n_estimators=200; total time=   0.3s\n",
            "[CV] END max_depth=None, max_features=sqrt, min_samples_leaf=2, min_samples_split=6, n_estimators=200; total time=   0.3s\n",
            "[CV] END max_depth=None, max_features=sqrt, min_samples_leaf=2, min_samples_split=6, n_estimators=200; total time=   0.3s\n",
            "[CV] END max_depth=None, max_features=sqrt, min_samples_leaf=2, min_samples_split=6, n_estimators=200; total time=   0.3s\n",
            "[CV] END max_depth=10, max_features=auto, min_samples_leaf=4, min_samples_split=4, n_estimators=200; total time=   0.3s\n",
            "[CV] END max_depth=10, max_features=auto, min_samples_leaf=4, min_samples_split=4, n_estimators=200; total time=   0.3s\n",
            "[CV] END max_depth=10, max_features=auto, min_samples_leaf=4, min_samples_split=4, n_estimators=200; total time=   0.3s\n",
            "[CV] END max_depth=10, max_features=auto, min_samples_leaf=4, min_samples_split=4, n_estimators=200; total time=   0.3s\n",
            "[CV] END max_depth=10, max_features=auto, min_samples_leaf=4, min_samples_split=4, n_estimators=200; total time=   0.3s\n",
            "[CV] END max_depth=20, max_features=sqrt, min_samples_leaf=2, min_samples_split=4, n_estimators=1000; total time=   1.4s\n",
            "[CV] END max_depth=20, max_features=sqrt, min_samples_leaf=2, min_samples_split=4, n_estimators=1000; total time=   1.4s\n",
            "[CV] END max_depth=20, max_features=sqrt, min_samples_leaf=2, min_samples_split=4, n_estimators=1000; total time=   1.4s\n",
            "[CV] END max_depth=20, max_features=sqrt, min_samples_leaf=2, min_samples_split=4, n_estimators=1000; total time=   1.4s\n",
            "[CV] END max_depth=20, max_features=sqrt, min_samples_leaf=2, min_samples_split=4, n_estimators=1000; total time=   1.4s\n",
            "[CV] END max_depth=20, max_features=sqrt, min_samples_leaf=2, min_samples_split=2, n_estimators=1200; total time=   1.7s\n",
            "[CV] END max_depth=20, max_features=sqrt, min_samples_leaf=2, min_samples_split=2, n_estimators=1200; total time=   1.7s\n",
            "[CV] END max_depth=20, max_features=sqrt, min_samples_leaf=2, min_samples_split=2, n_estimators=1200; total time=   2.1s\n",
            "[CV] END max_depth=20, max_features=sqrt, min_samples_leaf=2, min_samples_split=2, n_estimators=1200; total time=   2.8s\n",
            "[CV] END max_depth=20, max_features=sqrt, min_samples_leaf=2, min_samples_split=2, n_estimators=1200; total time=   1.7s\n",
            "[CV] END max_depth=5, max_features=auto, min_samples_leaf=2, min_samples_split=4, n_estimators=1200; total time=   1.7s\n",
            "[CV] END max_depth=5, max_features=auto, min_samples_leaf=2, min_samples_split=4, n_estimators=1200; total time=   1.7s\n",
            "[CV] END max_depth=5, max_features=auto, min_samples_leaf=2, min_samples_split=4, n_estimators=1200; total time=   1.7s\n",
            "[CV] END max_depth=5, max_features=auto, min_samples_leaf=2, min_samples_split=4, n_estimators=1200; total time=   1.7s\n",
            "[CV] END max_depth=5, max_features=auto, min_samples_leaf=2, min_samples_split=4, n_estimators=1200; total time=   1.7s\n",
            "[CV] END max_depth=10, max_features=auto, min_samples_leaf=4, min_samples_split=6, n_estimators=100; total time=   0.1s\n",
            "[CV] END max_depth=10, max_features=auto, min_samples_leaf=4, min_samples_split=6, n_estimators=100; total time=   0.1s\n",
            "[CV] END max_depth=10, max_features=auto, min_samples_leaf=4, min_samples_split=6, n_estimators=100; total time=   0.1s\n",
            "[CV] END max_depth=10, max_features=auto, min_samples_leaf=4, min_samples_split=6, n_estimators=100; total time=   0.2s\n",
            "[CV] END max_depth=10, max_features=auto, min_samples_leaf=4, min_samples_split=6, n_estimators=100; total time=   0.2s\n",
            "[CV] END max_depth=5, max_features=sqrt, min_samples_leaf=4, min_samples_split=6, n_estimators=1200; total time=   1.7s\n",
            "[CV] END max_depth=5, max_features=sqrt, min_samples_leaf=4, min_samples_split=6, n_estimators=1200; total time=   1.7s\n",
            "[CV] END max_depth=5, max_features=sqrt, min_samples_leaf=4, min_samples_split=6, n_estimators=1200; total time=   1.7s\n",
            "[CV] END max_depth=5, max_features=sqrt, min_samples_leaf=4, min_samples_split=6, n_estimators=1200; total time=   1.7s\n",
            "[CV] END max_depth=5, max_features=sqrt, min_samples_leaf=4, min_samples_split=6, n_estimators=1200; total time=   1.7s\n",
            "[CV] END max_depth=None, max_features=auto, min_samples_leaf=2, min_samples_split=6, n_estimators=10; total time=   0.0s\n",
            "[CV] END max_depth=None, max_features=auto, min_samples_leaf=2, min_samples_split=6, n_estimators=10; total time=   0.0s\n",
            "[CV] END max_depth=None, max_features=auto, min_samples_leaf=2, min_samples_split=6, n_estimators=10; total time=   0.0s\n",
            "[CV] END max_depth=None, max_features=auto, min_samples_leaf=2, min_samples_split=6, n_estimators=10; total time=   0.0s\n",
            "[CV] END max_depth=None, max_features=auto, min_samples_leaf=2, min_samples_split=6, n_estimators=10; total time=   0.0s\n",
            "[CV] END max_depth=20, max_features=sqrt, min_samples_leaf=1, min_samples_split=2, n_estimators=500; total time=   0.7s\n",
            "[CV] END max_depth=20, max_features=sqrt, min_samples_leaf=1, min_samples_split=2, n_estimators=500; total time=   0.7s\n",
            "[CV] END max_depth=20, max_features=sqrt, min_samples_leaf=1, min_samples_split=2, n_estimators=500; total time=   0.7s\n",
            "[CV] END max_depth=20, max_features=sqrt, min_samples_leaf=1, min_samples_split=2, n_estimators=500; total time=   0.7s\n",
            "[CV] END max_depth=20, max_features=sqrt, min_samples_leaf=1, min_samples_split=2, n_estimators=500; total time=   0.7s\n",
            "[CV] END max_depth=10, max_features=auto, min_samples_leaf=2, min_samples_split=6, n_estimators=100; total time=   0.2s\n",
            "[CV] END max_depth=10, max_features=auto, min_samples_leaf=2, min_samples_split=6, n_estimators=100; total time=   0.1s\n",
            "[CV] END max_depth=10, max_features=auto, min_samples_leaf=2, min_samples_split=6, n_estimators=100; total time=   0.1s\n",
            "[CV] END max_depth=10, max_features=auto, min_samples_leaf=2, min_samples_split=6, n_estimators=100; total time=   0.2s\n",
            "[CV] END max_depth=10, max_features=auto, min_samples_leaf=2, min_samples_split=6, n_estimators=100; total time=   0.1s\n",
            "[CV] END max_depth=10, max_features=auto, min_samples_leaf=4, min_samples_split=4, n_estimators=100; total time=   0.1s\n",
            "[CV] END max_depth=10, max_features=auto, min_samples_leaf=4, min_samples_split=4, n_estimators=100; total time=   0.1s\n",
            "[CV] END max_depth=10, max_features=auto, min_samples_leaf=4, min_samples_split=4, n_estimators=100; total time=   0.2s\n",
            "[CV] END max_depth=10, max_features=auto, min_samples_leaf=4, min_samples_split=4, n_estimators=100; total time=   0.1s\n",
            "[CV] END max_depth=10, max_features=auto, min_samples_leaf=4, min_samples_split=4, n_estimators=100; total time=   0.1s\n",
            "[CV] END max_depth=10, max_features=sqrt, min_samples_leaf=1, min_samples_split=2, n_estimators=500; total time=   0.7s\n",
            "[CV] END max_depth=10, max_features=sqrt, min_samples_leaf=1, min_samples_split=2, n_estimators=500; total time=   0.7s\n",
            "[CV] END max_depth=10, max_features=sqrt, min_samples_leaf=1, min_samples_split=2, n_estimators=500; total time=   0.7s\n",
            "[CV] END max_depth=10, max_features=sqrt, min_samples_leaf=1, min_samples_split=2, n_estimators=500; total time=   0.7s\n",
            "[CV] END max_depth=10, max_features=sqrt, min_samples_leaf=1, min_samples_split=2, n_estimators=500; total time=   0.7s\n",
            "[CV] END max_depth=None, max_features=auto, min_samples_leaf=2, min_samples_split=2, n_estimators=500; total time=   0.7s\n",
            "[CV] END max_depth=None, max_features=auto, min_samples_leaf=2, min_samples_split=2, n_estimators=500; total time=   0.7s\n",
            "[CV] END max_depth=None, max_features=auto, min_samples_leaf=2, min_samples_split=2, n_estimators=500; total time=   0.7s\n",
            "[CV] END max_depth=None, max_features=auto, min_samples_leaf=2, min_samples_split=2, n_estimators=500; total time=   0.7s\n",
            "[CV] END max_depth=None, max_features=auto, min_samples_leaf=2, min_samples_split=2, n_estimators=500; total time=   0.7s\n"
          ]
        }
      ]
    },
    {
      "cell_type": "code",
      "source": [
        "rs_clf.best_params_"
      ],
      "metadata": {
        "colab": {
          "base_uri": "https://localhost:8080/"
        },
        "id": "vj-VM9cmo-ai",
        "outputId": "d9b822d6-a3e4-4356-8d06-f2a67af53fef"
      },
      "execution_count": 264,
      "outputs": [
        {
          "output_type": "execute_result",
          "data": {
            "text/plain": [
              "{'max_depth': 10,\n",
              " 'max_features': 'auto',\n",
              " 'min_samples_leaf': 4,\n",
              " 'min_samples_split': 4,\n",
              " 'n_estimators': 200}"
            ]
          },
          "metadata": {},
          "execution_count": 264
        }
      ]
    },
    {
      "cell_type": "code",
      "source": [
        "# predict on the test data\n",
        "rs_y_preds = rs_clf.predict(X_test)\n",
        "\n",
        "# evaluate the predictions\n",
        "rs_metrics = evaluate_preds(y_test,rs_y_preds)\n",
        "rs_metrics\n"
      ],
      "metadata": {
        "colab": {
          "base_uri": "https://localhost:8080/"
        },
        "id": "YSD5VwPOtHMJ",
        "outputId": "c0e17518-79be-4aa7-8ebe-776d9dcc7322"
      },
      "execution_count": 270,
      "outputs": [
        {
          "output_type": "execute_result",
          "data": {
            "text/plain": [
              "{'accuracy': 0.85, 'f1': 0.86, 'precision': 0.85, 'recall': 0.88}"
            ]
          },
          "metadata": {},
          "execution_count": 270
        }
      ]
    },
    {
      "cell_type": "markdown",
      "source": [
        "## 5.3 Hyperparamter tuning with GridSearchCV\n",
        "\n",
        "Brute force search , will go through every option"
      ],
      "metadata": {
        "id": "5teHY8ywtOXQ"
      }
    },
    {
      "cell_type": "code",
      "source": [
        "grid"
      ],
      "metadata": {
        "colab": {
          "base_uri": "https://localhost:8080/"
        },
        "id": "KhkTJ2WjtqSp",
        "outputId": "a3b26109-1b0f-442a-9730-16f378259130"
      },
      "execution_count": 272,
      "outputs": [
        {
          "output_type": "execute_result",
          "data": {
            "text/plain": [
              "{'max_depth': [None, 5, 10, 20, 30],\n",
              " 'max_features': ['auto', 'sqrt'],\n",
              " 'min_samples_leaf': [1, 2, 4],\n",
              " 'min_samples_split': [2, 4, 6],\n",
              " 'n_estimators': [10, 100, 200, 500, 1000, 1200]}"
            ]
          },
          "metadata": {},
          "execution_count": 272
        }
      ]
    },
    {
      "cell_type": "code",
      "source": [
        "grid_2 = {'n_estimators': [1200, 1500, 2000],\n",
        "          'max_depth': [None, 5, 10],\n",
        "          'max_features': ['auto', 'sqrt'],\n",
        "          'min_samples_split': [4, 6],\n",
        "          'min_samples_leaf': [1, 2]}"
      ],
      "metadata": {
        "id": "_b5sC0nTtsE4"
      },
      "execution_count": 273,
      "outputs": []
    },
    {
      "cell_type": "code",
      "source": [
        "from sklearn.model_selection import GridSearchCV, train_test_split\n",
        "\n",
        "np.random.seed(42)\n",
        "\n",
        "# Split into X & y\n",
        "X = heart_disease.drop(\"target\", axis=1)\n",
        "y = heart_disease[\"target\"]\n",
        "\n",
        "# Split into train and test sets\n",
        "X_train, X_test, y_train, y_test = train_test_split(X, y, test_size=0.2)\n",
        "\n",
        "# Set n_jobs to -1 to use all cores (NOTE: n_jobs=-1 is broken as of 8 Dec 2019, using n_jobs=1 works)\n",
        "clf = RandomForestClassifier(n_jobs=1)\n",
        "\n",
        "# Setup GridSearchCV\n",
        "gs_clf = GridSearchCV(estimator=clf,\n",
        "                      param_grid=grid_2,\n",
        "                      cv=5, # 5-fold cross-validation\n",
        "                      verbose=2) # print out progress\n",
        "\n",
        "# Fit the RandomizedSearchCV version of clf\n",
        "gs_clf.fit(X_train, y_train);"
      ],
      "metadata": {
        "colab": {
          "base_uri": "https://localhost:8080/"
        },
        "id": "94SOu2FQt4_h",
        "outputId": "8199f119-bd0c-4bb4-c885-66986dd445a2"
      },
      "execution_count": 274,
      "outputs": [
        {
          "output_type": "stream",
          "name": "stdout",
          "text": [
            "Fitting 5 folds for each of 72 candidates, totalling 360 fits\n",
            "[CV] END max_depth=None, max_features=auto, min_samples_leaf=1, min_samples_split=4, n_estimators=1200; total time=   3.1s\n",
            "[CV] END max_depth=None, max_features=auto, min_samples_leaf=1, min_samples_split=4, n_estimators=1200; total time=   3.1s\n",
            "[CV] END max_depth=None, max_features=auto, min_samples_leaf=1, min_samples_split=4, n_estimators=1200; total time=   3.1s\n",
            "[CV] END max_depth=None, max_features=auto, min_samples_leaf=1, min_samples_split=4, n_estimators=1200; total time=   1.8s\n",
            "[CV] END max_depth=None, max_features=auto, min_samples_leaf=1, min_samples_split=4, n_estimators=1200; total time=   1.7s\n",
            "[CV] END max_depth=None, max_features=auto, min_samples_leaf=1, min_samples_split=4, n_estimators=1500; total time=   2.1s\n",
            "[CV] END max_depth=None, max_features=auto, min_samples_leaf=1, min_samples_split=4, n_estimators=1500; total time=   2.1s\n",
            "[CV] END max_depth=None, max_features=auto, min_samples_leaf=1, min_samples_split=4, n_estimators=1500; total time=   2.1s\n",
            "[CV] END max_depth=None, max_features=auto, min_samples_leaf=1, min_samples_split=4, n_estimators=1500; total time=   2.1s\n",
            "[CV] END max_depth=None, max_features=auto, min_samples_leaf=1, min_samples_split=4, n_estimators=1500; total time=   3.7s\n",
            "[CV] END max_depth=None, max_features=auto, min_samples_leaf=1, min_samples_split=4, n_estimators=2000; total time=   7.3s\n",
            "[CV] END max_depth=None, max_features=auto, min_samples_leaf=1, min_samples_split=4, n_estimators=2000; total time=   5.2s\n",
            "[CV] END max_depth=None, max_features=auto, min_samples_leaf=1, min_samples_split=4, n_estimators=2000; total time=   5.2s\n",
            "[CV] END max_depth=None, max_features=auto, min_samples_leaf=1, min_samples_split=4, n_estimators=2000; total time=   5.1s\n",
            "[CV] END max_depth=None, max_features=auto, min_samples_leaf=1, min_samples_split=4, n_estimators=2000; total time=   5.5s\n",
            "[CV] END max_depth=None, max_features=auto, min_samples_leaf=1, min_samples_split=6, n_estimators=1200; total time=   3.1s\n",
            "[CV] END max_depth=None, max_features=auto, min_samples_leaf=1, min_samples_split=6, n_estimators=1200; total time=   3.1s\n",
            "[CV] END max_depth=None, max_features=auto, min_samples_leaf=1, min_samples_split=6, n_estimators=1200; total time=   2.8s\n",
            "[CV] END max_depth=None, max_features=auto, min_samples_leaf=1, min_samples_split=6, n_estimators=1200; total time=   1.7s\n",
            "[CV] END max_depth=None, max_features=auto, min_samples_leaf=1, min_samples_split=6, n_estimators=1200; total time=   2.1s\n",
            "[CV] END max_depth=None, max_features=auto, min_samples_leaf=1, min_samples_split=6, n_estimators=1500; total time=   3.6s\n",
            "[CV] END max_depth=None, max_features=auto, min_samples_leaf=1, min_samples_split=6, n_estimators=1500; total time=   3.8s\n",
            "[CV] END max_depth=None, max_features=auto, min_samples_leaf=1, min_samples_split=6, n_estimators=1500; total time=   3.5s\n",
            "[CV] END max_depth=None, max_features=auto, min_samples_leaf=1, min_samples_split=6, n_estimators=1500; total time=   2.2s\n",
            "[CV] END max_depth=None, max_features=auto, min_samples_leaf=1, min_samples_split=6, n_estimators=1500; total time=   2.1s\n",
            "[CV] END max_depth=None, max_features=auto, min_samples_leaf=1, min_samples_split=6, n_estimators=2000; total time=   2.8s\n",
            "[CV] END max_depth=None, max_features=auto, min_samples_leaf=1, min_samples_split=6, n_estimators=2000; total time=   2.8s\n",
            "[CV] END max_depth=None, max_features=auto, min_samples_leaf=1, min_samples_split=6, n_estimators=2000; total time=   2.8s\n",
            "[CV] END max_depth=None, max_features=auto, min_samples_leaf=1, min_samples_split=6, n_estimators=2000; total time=   2.8s\n",
            "[CV] END max_depth=None, max_features=auto, min_samples_leaf=1, min_samples_split=6, n_estimators=2000; total time=   2.8s\n",
            "[CV] END max_depth=None, max_features=auto, min_samples_leaf=2, min_samples_split=4, n_estimators=1200; total time=   1.7s\n",
            "[CV] END max_depth=None, max_features=auto, min_samples_leaf=2, min_samples_split=4, n_estimators=1200; total time=   1.7s\n",
            "[CV] END max_depth=None, max_features=auto, min_samples_leaf=2, min_samples_split=4, n_estimators=1200; total time=   1.8s\n",
            "[CV] END max_depth=None, max_features=auto, min_samples_leaf=2, min_samples_split=4, n_estimators=1200; total time=   1.7s\n",
            "[CV] END max_depth=None, max_features=auto, min_samples_leaf=2, min_samples_split=4, n_estimators=1200; total time=   1.7s\n",
            "[CV] END max_depth=None, max_features=auto, min_samples_leaf=2, min_samples_split=4, n_estimators=1500; total time=   2.2s\n",
            "[CV] END max_depth=None, max_features=auto, min_samples_leaf=2, min_samples_split=4, n_estimators=1500; total time=   2.7s\n",
            "[CV] END max_depth=None, max_features=auto, min_samples_leaf=2, min_samples_split=4, n_estimators=1500; total time=   2.5s\n",
            "[CV] END max_depth=None, max_features=auto, min_samples_leaf=2, min_samples_split=4, n_estimators=1500; total time=   2.6s\n",
            "[CV] END max_depth=None, max_features=auto, min_samples_leaf=2, min_samples_split=4, n_estimators=1500; total time=   2.4s\n",
            "[CV] END max_depth=None, max_features=auto, min_samples_leaf=2, min_samples_split=4, n_estimators=2000; total time=   4.2s\n",
            "[CV] END max_depth=None, max_features=auto, min_samples_leaf=2, min_samples_split=4, n_estimators=2000; total time=   6.9s\n",
            "[CV] END max_depth=None, max_features=auto, min_samples_leaf=2, min_samples_split=4, n_estimators=2000; total time=   5.9s\n",
            "[CV] END max_depth=None, max_features=auto, min_samples_leaf=2, min_samples_split=4, n_estimators=2000; total time=   5.1s\n",
            "[CV] END max_depth=None, max_features=auto, min_samples_leaf=2, min_samples_split=4, n_estimators=2000; total time=   5.1s\n",
            "[CV] END max_depth=None, max_features=auto, min_samples_leaf=2, min_samples_split=6, n_estimators=1200; total time=   3.0s\n",
            "[CV] END max_depth=None, max_features=auto, min_samples_leaf=2, min_samples_split=6, n_estimators=1200; total time=   1.8s\n",
            "[CV] END max_depth=None, max_features=auto, min_samples_leaf=2, min_samples_split=6, n_estimators=1200; total time=   1.7s\n",
            "[CV] END max_depth=None, max_features=auto, min_samples_leaf=2, min_samples_split=6, n_estimators=1200; total time=   1.7s\n",
            "[CV] END max_depth=None, max_features=auto, min_samples_leaf=2, min_samples_split=6, n_estimators=1200; total time=   1.7s\n",
            "[CV] END max_depth=None, max_features=auto, min_samples_leaf=2, min_samples_split=6, n_estimators=1500; total time=   2.1s\n",
            "[CV] END max_depth=None, max_features=auto, min_samples_leaf=2, min_samples_split=6, n_estimators=1500; total time=   2.1s\n",
            "[CV] END max_depth=None, max_features=auto, min_samples_leaf=2, min_samples_split=6, n_estimators=1500; total time=   2.2s\n",
            "[CV] END max_depth=None, max_features=auto, min_samples_leaf=2, min_samples_split=6, n_estimators=1500; total time=   2.1s\n",
            "[CV] END max_depth=None, max_features=auto, min_samples_leaf=2, min_samples_split=6, n_estimators=1500; total time=   2.1s\n",
            "[CV] END max_depth=None, max_features=auto, min_samples_leaf=2, min_samples_split=6, n_estimators=2000; total time=   2.8s\n",
            "[CV] END max_depth=None, max_features=auto, min_samples_leaf=2, min_samples_split=6, n_estimators=2000; total time=   4.7s\n",
            "[CV] END max_depth=None, max_features=auto, min_samples_leaf=2, min_samples_split=6, n_estimators=2000; total time=   3.8s\n",
            "[CV] END max_depth=None, max_features=auto, min_samples_leaf=2, min_samples_split=6, n_estimators=2000; total time=   2.8s\n",
            "[CV] END max_depth=None, max_features=auto, min_samples_leaf=2, min_samples_split=6, n_estimators=2000; total time=   2.9s\n",
            "[CV] END max_depth=None, max_features=sqrt, min_samples_leaf=1, min_samples_split=4, n_estimators=1200; total time=   1.7s\n",
            "[CV] END max_depth=None, max_features=sqrt, min_samples_leaf=1, min_samples_split=4, n_estimators=1200; total time=   1.7s\n",
            "[CV] END max_depth=None, max_features=sqrt, min_samples_leaf=1, min_samples_split=4, n_estimators=1200; total time=   1.7s\n",
            "[CV] END max_depth=None, max_features=sqrt, min_samples_leaf=1, min_samples_split=4, n_estimators=1200; total time=   1.7s\n",
            "[CV] END max_depth=None, max_features=sqrt, min_samples_leaf=1, min_samples_split=4, n_estimators=1200; total time=   1.8s\n",
            "[CV] END max_depth=None, max_features=sqrt, min_samples_leaf=1, min_samples_split=4, n_estimators=1500; total time=   2.1s\n",
            "[CV] END max_depth=None, max_features=sqrt, min_samples_leaf=1, min_samples_split=4, n_estimators=1500; total time=   2.1s\n",
            "[CV] END max_depth=None, max_features=sqrt, min_samples_leaf=1, min_samples_split=4, n_estimators=1500; total time=   2.1s\n",
            "[CV] END max_depth=None, max_features=sqrt, min_samples_leaf=1, min_samples_split=4, n_estimators=1500; total time=   2.1s\n",
            "[CV] END max_depth=None, max_features=sqrt, min_samples_leaf=1, min_samples_split=4, n_estimators=1500; total time=   2.1s\n",
            "[CV] END max_depth=None, max_features=sqrt, min_samples_leaf=1, min_samples_split=4, n_estimators=2000; total time=   2.9s\n",
            "[CV] END max_depth=None, max_features=sqrt, min_samples_leaf=1, min_samples_split=4, n_estimators=2000; total time=   2.9s\n",
            "[CV] END max_depth=None, max_features=sqrt, min_samples_leaf=1, min_samples_split=4, n_estimators=2000; total time=   2.8s\n",
            "[CV] END max_depth=None, max_features=sqrt, min_samples_leaf=1, min_samples_split=4, n_estimators=2000; total time=   2.8s\n",
            "[CV] END max_depth=None, max_features=sqrt, min_samples_leaf=1, min_samples_split=4, n_estimators=2000; total time=   2.9s\n",
            "[CV] END max_depth=None, max_features=sqrt, min_samples_leaf=1, min_samples_split=6, n_estimators=1200; total time=   1.7s\n",
            "[CV] END max_depth=None, max_features=sqrt, min_samples_leaf=1, min_samples_split=6, n_estimators=1200; total time=   1.7s\n",
            "[CV] END max_depth=None, max_features=sqrt, min_samples_leaf=1, min_samples_split=6, n_estimators=1200; total time=   1.7s\n",
            "[CV] END max_depth=None, max_features=sqrt, min_samples_leaf=1, min_samples_split=6, n_estimators=1200; total time=   1.7s\n",
            "[CV] END max_depth=None, max_features=sqrt, min_samples_leaf=1, min_samples_split=6, n_estimators=1200; total time=   2.0s\n",
            "[CV] END max_depth=None, max_features=sqrt, min_samples_leaf=1, min_samples_split=6, n_estimators=1500; total time=   2.7s\n",
            "[CV] END max_depth=None, max_features=sqrt, min_samples_leaf=1, min_samples_split=6, n_estimators=1500; total time=   2.2s\n",
            "[CV] END max_depth=None, max_features=sqrt, min_samples_leaf=1, min_samples_split=6, n_estimators=1500; total time=   2.1s\n",
            "[CV] END max_depth=None, max_features=sqrt, min_samples_leaf=1, min_samples_split=6, n_estimators=1500; total time=   2.1s\n",
            "[CV] END max_depth=None, max_features=sqrt, min_samples_leaf=1, min_samples_split=6, n_estimators=1500; total time=   2.1s\n",
            "[CV] END max_depth=None, max_features=sqrt, min_samples_leaf=1, min_samples_split=6, n_estimators=2000; total time=   2.8s\n",
            "[CV] END max_depth=None, max_features=sqrt, min_samples_leaf=1, min_samples_split=6, n_estimators=2000; total time=   2.9s\n",
            "[CV] END max_depth=None, max_features=sqrt, min_samples_leaf=1, min_samples_split=6, n_estimators=2000; total time=   2.9s\n",
            "[CV] END max_depth=None, max_features=sqrt, min_samples_leaf=1, min_samples_split=6, n_estimators=2000; total time=   2.9s\n",
            "[CV] END max_depth=None, max_features=sqrt, min_samples_leaf=1, min_samples_split=6, n_estimators=2000; total time=   2.9s\n",
            "[CV] END max_depth=None, max_features=sqrt, min_samples_leaf=2, min_samples_split=4, n_estimators=1200; total time=   1.7s\n",
            "[CV] END max_depth=None, max_features=sqrt, min_samples_leaf=2, min_samples_split=4, n_estimators=1200; total time=   1.7s\n",
            "[CV] END max_depth=None, max_features=sqrt, min_samples_leaf=2, min_samples_split=4, n_estimators=1200; total time=   1.7s\n",
            "[CV] END max_depth=None, max_features=sqrt, min_samples_leaf=2, min_samples_split=4, n_estimators=1200; total time=   1.7s\n",
            "[CV] END max_depth=None, max_features=sqrt, min_samples_leaf=2, min_samples_split=4, n_estimators=1200; total time=   1.7s\n",
            "[CV] END max_depth=None, max_features=sqrt, min_samples_leaf=2, min_samples_split=4, n_estimators=1500; total time=   2.1s\n",
            "[CV] END max_depth=None, max_features=sqrt, min_samples_leaf=2, min_samples_split=4, n_estimators=1500; total time=   2.1s\n",
            "[CV] END max_depth=None, max_features=sqrt, min_samples_leaf=2, min_samples_split=4, n_estimators=1500; total time=   2.1s\n",
            "[CV] END max_depth=None, max_features=sqrt, min_samples_leaf=2, min_samples_split=4, n_estimators=1500; total time=   2.1s\n",
            "[CV] END max_depth=None, max_features=sqrt, min_samples_leaf=2, min_samples_split=4, n_estimators=1500; total time=   2.1s\n",
            "[CV] END max_depth=None, max_features=sqrt, min_samples_leaf=2, min_samples_split=4, n_estimators=2000; total time=   2.9s\n",
            "[CV] END max_depth=None, max_features=sqrt, min_samples_leaf=2, min_samples_split=4, n_estimators=2000; total time=   2.8s\n",
            "[CV] END max_depth=None, max_features=sqrt, min_samples_leaf=2, min_samples_split=4, n_estimators=2000; total time=   2.8s\n",
            "[CV] END max_depth=None, max_features=sqrt, min_samples_leaf=2, min_samples_split=4, n_estimators=2000; total time=   2.8s\n",
            "[CV] END max_depth=None, max_features=sqrt, min_samples_leaf=2, min_samples_split=4, n_estimators=2000; total time=   2.9s\n",
            "[CV] END max_depth=None, max_features=sqrt, min_samples_leaf=2, min_samples_split=6, n_estimators=1200; total time=   1.7s\n",
            "[CV] END max_depth=None, max_features=sqrt, min_samples_leaf=2, min_samples_split=6, n_estimators=1200; total time=   1.7s\n",
            "[CV] END max_depth=None, max_features=sqrt, min_samples_leaf=2, min_samples_split=6, n_estimators=1200; total time=   1.7s\n",
            "[CV] END max_depth=None, max_features=sqrt, min_samples_leaf=2, min_samples_split=6, n_estimators=1200; total time=   1.8s\n",
            "[CV] END max_depth=None, max_features=sqrt, min_samples_leaf=2, min_samples_split=6, n_estimators=1200; total time=   1.7s\n",
            "[CV] END max_depth=None, max_features=sqrt, min_samples_leaf=2, min_samples_split=6, n_estimators=1500; total time=   2.1s\n",
            "[CV] END max_depth=None, max_features=sqrt, min_samples_leaf=2, min_samples_split=6, n_estimators=1500; total time=   2.1s\n",
            "[CV] END max_depth=None, max_features=sqrt, min_samples_leaf=2, min_samples_split=6, n_estimators=1500; total time=   2.1s\n",
            "[CV] END max_depth=None, max_features=sqrt, min_samples_leaf=2, min_samples_split=6, n_estimators=1500; total time=   2.1s\n",
            "[CV] END max_depth=None, max_features=sqrt, min_samples_leaf=2, min_samples_split=6, n_estimators=1500; total time=   2.1s\n",
            "[CV] END max_depth=None, max_features=sqrt, min_samples_leaf=2, min_samples_split=6, n_estimators=2000; total time=   2.8s\n",
            "[CV] END max_depth=None, max_features=sqrt, min_samples_leaf=2, min_samples_split=6, n_estimators=2000; total time=   2.9s\n",
            "[CV] END max_depth=None, max_features=sqrt, min_samples_leaf=2, min_samples_split=6, n_estimators=2000; total time=   2.9s\n",
            "[CV] END max_depth=None, max_features=sqrt, min_samples_leaf=2, min_samples_split=6, n_estimators=2000; total time=   2.8s\n",
            "[CV] END max_depth=None, max_features=sqrt, min_samples_leaf=2, min_samples_split=6, n_estimators=2000; total time=   2.8s\n",
            "[CV] END max_depth=5, max_features=auto, min_samples_leaf=1, min_samples_split=4, n_estimators=1200; total time=   1.7s\n",
            "[CV] END max_depth=5, max_features=auto, min_samples_leaf=1, min_samples_split=4, n_estimators=1200; total time=   1.7s\n",
            "[CV] END max_depth=5, max_features=auto, min_samples_leaf=1, min_samples_split=4, n_estimators=1200; total time=   1.7s\n",
            "[CV] END max_depth=5, max_features=auto, min_samples_leaf=1, min_samples_split=4, n_estimators=1200; total time=   1.7s\n",
            "[CV] END max_depth=5, max_features=auto, min_samples_leaf=1, min_samples_split=4, n_estimators=1200; total time=   1.7s\n",
            "[CV] END max_depth=5, max_features=auto, min_samples_leaf=1, min_samples_split=4, n_estimators=1500; total time=   2.1s\n",
            "[CV] END max_depth=5, max_features=auto, min_samples_leaf=1, min_samples_split=4, n_estimators=1500; total time=   2.2s\n",
            "[CV] END max_depth=5, max_features=auto, min_samples_leaf=1, min_samples_split=4, n_estimators=1500; total time=   2.9s\n",
            "[CV] END max_depth=5, max_features=auto, min_samples_leaf=1, min_samples_split=4, n_estimators=1500; total time=   2.1s\n",
            "[CV] END max_depth=5, max_features=auto, min_samples_leaf=1, min_samples_split=4, n_estimators=1500; total time=   2.1s\n",
            "[CV] END max_depth=5, max_features=auto, min_samples_leaf=1, min_samples_split=4, n_estimators=2000; total time=   2.8s\n",
            "[CV] END max_depth=5, max_features=auto, min_samples_leaf=1, min_samples_split=4, n_estimators=2000; total time=   2.8s\n",
            "[CV] END max_depth=5, max_features=auto, min_samples_leaf=1, min_samples_split=4, n_estimators=2000; total time=   2.8s\n",
            "[CV] END max_depth=5, max_features=auto, min_samples_leaf=1, min_samples_split=4, n_estimators=2000; total time=   3.4s\n",
            "[CV] END max_depth=5, max_features=auto, min_samples_leaf=1, min_samples_split=4, n_estimators=2000; total time=   3.4s\n",
            "[CV] END max_depth=5, max_features=auto, min_samples_leaf=1, min_samples_split=6, n_estimators=1200; total time=   2.0s\n",
            "[CV] END max_depth=5, max_features=auto, min_samples_leaf=1, min_samples_split=6, n_estimators=1200; total time=   1.9s\n",
            "[CV] END max_depth=5, max_features=auto, min_samples_leaf=1, min_samples_split=6, n_estimators=1200; total time=   2.0s\n",
            "[CV] END max_depth=5, max_features=auto, min_samples_leaf=1, min_samples_split=6, n_estimators=1200; total time=   3.1s\n",
            "[CV] END max_depth=5, max_features=auto, min_samples_leaf=1, min_samples_split=6, n_estimators=1200; total time=   3.7s\n",
            "[CV] END max_depth=5, max_features=auto, min_samples_leaf=1, min_samples_split=6, n_estimators=1500; total time=   3.7s\n",
            "[CV] END max_depth=5, max_features=auto, min_samples_leaf=1, min_samples_split=6, n_estimators=1500; total time=   2.1s\n",
            "[CV] END max_depth=5, max_features=auto, min_samples_leaf=1, min_samples_split=6, n_estimators=1500; total time=   2.1s\n",
            "[CV] END max_depth=5, max_features=auto, min_samples_leaf=1, min_samples_split=6, n_estimators=1500; total time=   3.0s\n",
            "[CV] END max_depth=5, max_features=auto, min_samples_leaf=1, min_samples_split=6, n_estimators=1500; total time=   3.8s\n",
            "[CV] END max_depth=5, max_features=auto, min_samples_leaf=1, min_samples_split=6, n_estimators=2000; total time=   4.4s\n",
            "[CV] END max_depth=5, max_features=auto, min_samples_leaf=1, min_samples_split=6, n_estimators=2000; total time=   2.9s\n",
            "[CV] END max_depth=5, max_features=auto, min_samples_leaf=1, min_samples_split=6, n_estimators=2000; total time=   4.3s\n",
            "[CV] END max_depth=5, max_features=auto, min_samples_leaf=1, min_samples_split=6, n_estimators=2000; total time=   3.5s\n",
            "[CV] END max_depth=5, max_features=auto, min_samples_leaf=1, min_samples_split=6, n_estimators=2000; total time=   3.5s\n",
            "[CV] END max_depth=5, max_features=auto, min_samples_leaf=2, min_samples_split=4, n_estimators=1200; total time=   2.5s\n",
            "[CV] END max_depth=5, max_features=auto, min_samples_leaf=2, min_samples_split=4, n_estimators=1200; total time=   3.1s\n",
            "[CV] END max_depth=5, max_features=auto, min_samples_leaf=2, min_samples_split=4, n_estimators=1200; total time=   3.0s\n",
            "[CV] END max_depth=5, max_features=auto, min_samples_leaf=2, min_samples_split=4, n_estimators=1200; total time=   2.5s\n",
            "[CV] END max_depth=5, max_features=auto, min_samples_leaf=2, min_samples_split=4, n_estimators=1200; total time=   1.7s\n",
            "[CV] END max_depth=5, max_features=auto, min_samples_leaf=2, min_samples_split=4, n_estimators=1500; total time=   2.9s\n",
            "[CV] END max_depth=5, max_features=auto, min_samples_leaf=2, min_samples_split=4, n_estimators=1500; total time=   4.4s\n",
            "[CV] END max_depth=5, max_features=auto, min_samples_leaf=2, min_samples_split=4, n_estimators=1500; total time=   3.8s\n",
            "[CV] END max_depth=5, max_features=auto, min_samples_leaf=2, min_samples_split=4, n_estimators=1500; total time=   2.2s\n",
            "[CV] END max_depth=5, max_features=auto, min_samples_leaf=2, min_samples_split=4, n_estimators=1500; total time=   2.1s\n",
            "[CV] END max_depth=5, max_features=auto, min_samples_leaf=2, min_samples_split=4, n_estimators=2000; total time=   2.8s\n",
            "[CV] END max_depth=5, max_features=auto, min_samples_leaf=2, min_samples_split=4, n_estimators=2000; total time=   2.8s\n",
            "[CV] END max_depth=5, max_features=auto, min_samples_leaf=2, min_samples_split=4, n_estimators=2000; total time=   2.8s\n",
            "[CV] END max_depth=5, max_features=auto, min_samples_leaf=2, min_samples_split=4, n_estimators=2000; total time=   2.8s\n",
            "[CV] END max_depth=5, max_features=auto, min_samples_leaf=2, min_samples_split=4, n_estimators=2000; total time=   4.6s\n",
            "[CV] END max_depth=5, max_features=auto, min_samples_leaf=2, min_samples_split=6, n_estimators=1200; total time=   2.8s\n",
            "[CV] END max_depth=5, max_features=auto, min_samples_leaf=2, min_samples_split=6, n_estimators=1200; total time=   3.0s\n",
            "[CV] END max_depth=5, max_features=auto, min_samples_leaf=2, min_samples_split=6, n_estimators=1200; total time=   2.8s\n",
            "[CV] END max_depth=5, max_features=auto, min_samples_leaf=2, min_samples_split=6, n_estimators=1200; total time=   3.0s\n",
            "[CV] END max_depth=5, max_features=auto, min_samples_leaf=2, min_samples_split=6, n_estimators=1200; total time=   4.5s\n",
            "[CV] END max_depth=5, max_features=auto, min_samples_leaf=2, min_samples_split=6, n_estimators=1500; total time=   6.4s\n",
            "[CV] END max_depth=5, max_features=auto, min_samples_leaf=2, min_samples_split=6, n_estimators=1500; total time=   4.8s\n",
            "[CV] END max_depth=5, max_features=auto, min_samples_leaf=2, min_samples_split=6, n_estimators=1500; total time=   3.8s\n",
            "[CV] END max_depth=5, max_features=auto, min_samples_leaf=2, min_samples_split=6, n_estimators=1500; total time=   3.4s\n",
            "[CV] END max_depth=5, max_features=auto, min_samples_leaf=2, min_samples_split=6, n_estimators=1500; total time=   2.1s\n",
            "[CV] END max_depth=5, max_features=auto, min_samples_leaf=2, min_samples_split=6, n_estimators=2000; total time=   2.9s\n",
            "[CV] END max_depth=5, max_features=auto, min_samples_leaf=2, min_samples_split=6, n_estimators=2000; total time=   2.8s\n",
            "[CV] END max_depth=5, max_features=auto, min_samples_leaf=2, min_samples_split=6, n_estimators=2000; total time=   2.8s\n",
            "[CV] END max_depth=5, max_features=auto, min_samples_leaf=2, min_samples_split=6, n_estimators=2000; total time=   2.8s\n",
            "[CV] END max_depth=5, max_features=auto, min_samples_leaf=2, min_samples_split=6, n_estimators=2000; total time=   2.8s\n",
            "[CV] END max_depth=5, max_features=sqrt, min_samples_leaf=1, min_samples_split=4, n_estimators=1200; total time=   1.7s\n",
            "[CV] END max_depth=5, max_features=sqrt, min_samples_leaf=1, min_samples_split=4, n_estimators=1200; total time=   1.7s\n",
            "[CV] END max_depth=5, max_features=sqrt, min_samples_leaf=1, min_samples_split=4, n_estimators=1200; total time=   1.7s\n",
            "[CV] END max_depth=5, max_features=sqrt, min_samples_leaf=1, min_samples_split=4, n_estimators=1200; total time=   1.8s\n",
            "[CV] END max_depth=5, max_features=sqrt, min_samples_leaf=1, min_samples_split=4, n_estimators=1200; total time=   1.7s\n",
            "[CV] END max_depth=5, max_features=sqrt, min_samples_leaf=1, min_samples_split=4, n_estimators=1500; total time=   2.1s\n",
            "[CV] END max_depth=5, max_features=sqrt, min_samples_leaf=1, min_samples_split=4, n_estimators=1500; total time=   2.1s\n",
            "[CV] END max_depth=5, max_features=sqrt, min_samples_leaf=1, min_samples_split=4, n_estimators=1500; total time=   2.1s\n",
            "[CV] END max_depth=5, max_features=sqrt, min_samples_leaf=1, min_samples_split=4, n_estimators=1500; total time=   2.1s\n",
            "[CV] END max_depth=5, max_features=sqrt, min_samples_leaf=1, min_samples_split=4, n_estimators=1500; total time=   2.1s\n",
            "[CV] END max_depth=5, max_features=sqrt, min_samples_leaf=1, min_samples_split=4, n_estimators=2000; total time=   2.8s\n",
            "[CV] END max_depth=5, max_features=sqrt, min_samples_leaf=1, min_samples_split=4, n_estimators=2000; total time=   2.8s\n",
            "[CV] END max_depth=5, max_features=sqrt, min_samples_leaf=1, min_samples_split=4, n_estimators=2000; total time=   2.8s\n",
            "[CV] END max_depth=5, max_features=sqrt, min_samples_leaf=1, min_samples_split=4, n_estimators=2000; total time=   2.8s\n",
            "[CV] END max_depth=5, max_features=sqrt, min_samples_leaf=1, min_samples_split=4, n_estimators=2000; total time=   2.8s\n",
            "[CV] END max_depth=5, max_features=sqrt, min_samples_leaf=1, min_samples_split=6, n_estimators=1200; total time=   1.7s\n",
            "[CV] END max_depth=5, max_features=sqrt, min_samples_leaf=1, min_samples_split=6, n_estimators=1200; total time=   1.7s\n",
            "[CV] END max_depth=5, max_features=sqrt, min_samples_leaf=1, min_samples_split=6, n_estimators=1200; total time=   1.7s\n",
            "[CV] END max_depth=5, max_features=sqrt, min_samples_leaf=1, min_samples_split=6, n_estimators=1200; total time=   1.7s\n",
            "[CV] END max_depth=5, max_features=sqrt, min_samples_leaf=1, min_samples_split=6, n_estimators=1200; total time=   1.7s\n",
            "[CV] END max_depth=5, max_features=sqrt, min_samples_leaf=1, min_samples_split=6, n_estimators=1500; total time=   2.2s\n",
            "[CV] END max_depth=5, max_features=sqrt, min_samples_leaf=1, min_samples_split=6, n_estimators=1500; total time=   2.1s\n",
            "[CV] END max_depth=5, max_features=sqrt, min_samples_leaf=1, min_samples_split=6, n_estimators=1500; total time=   2.1s\n",
            "[CV] END max_depth=5, max_features=sqrt, min_samples_leaf=1, min_samples_split=6, n_estimators=1500; total time=   2.1s\n",
            "[CV] END max_depth=5, max_features=sqrt, min_samples_leaf=1, min_samples_split=6, n_estimators=1500; total time=   3.9s\n",
            "[CV] END max_depth=5, max_features=sqrt, min_samples_leaf=1, min_samples_split=6, n_estimators=2000; total time=   2.8s\n",
            "[CV] END max_depth=5, max_features=sqrt, min_samples_leaf=1, min_samples_split=6, n_estimators=2000; total time=   2.8s\n",
            "[CV] END max_depth=5, max_features=sqrt, min_samples_leaf=1, min_samples_split=6, n_estimators=2000; total time=   2.8s\n",
            "[CV] END max_depth=5, max_features=sqrt, min_samples_leaf=1, min_samples_split=6, n_estimators=2000; total time=   2.9s\n",
            "[CV] END max_depth=5, max_features=sqrt, min_samples_leaf=1, min_samples_split=6, n_estimators=2000; total time=   2.8s\n",
            "[CV] END max_depth=5, max_features=sqrt, min_samples_leaf=2, min_samples_split=4, n_estimators=1200; total time=   1.7s\n",
            "[CV] END max_depth=5, max_features=sqrt, min_samples_leaf=2, min_samples_split=4, n_estimators=1200; total time=   1.7s\n",
            "[CV] END max_depth=5, max_features=sqrt, min_samples_leaf=2, min_samples_split=4, n_estimators=1200; total time=   1.7s\n",
            "[CV] END max_depth=5, max_features=sqrt, min_samples_leaf=2, min_samples_split=4, n_estimators=1200; total time=   1.7s\n",
            "[CV] END max_depth=5, max_features=sqrt, min_samples_leaf=2, min_samples_split=4, n_estimators=1200; total time=   1.7s\n",
            "[CV] END max_depth=5, max_features=sqrt, min_samples_leaf=2, min_samples_split=4, n_estimators=1500; total time=   2.1s\n",
            "[CV] END max_depth=5, max_features=sqrt, min_samples_leaf=2, min_samples_split=4, n_estimators=1500; total time=   2.1s\n",
            "[CV] END max_depth=5, max_features=sqrt, min_samples_leaf=2, min_samples_split=4, n_estimators=1500; total time=   2.1s\n",
            "[CV] END max_depth=5, max_features=sqrt, min_samples_leaf=2, min_samples_split=4, n_estimators=1500; total time=   2.5s\n",
            "[CV] END max_depth=5, max_features=sqrt, min_samples_leaf=2, min_samples_split=4, n_estimators=1500; total time=   2.7s\n",
            "[CV] END max_depth=5, max_features=sqrt, min_samples_leaf=2, min_samples_split=4, n_estimators=2000; total time=   2.9s\n",
            "[CV] END max_depth=5, max_features=sqrt, min_samples_leaf=2, min_samples_split=4, n_estimators=2000; total time=   2.8s\n",
            "[CV] END max_depth=5, max_features=sqrt, min_samples_leaf=2, min_samples_split=4, n_estimators=2000; total time=   2.8s\n",
            "[CV] END max_depth=5, max_features=sqrt, min_samples_leaf=2, min_samples_split=4, n_estimators=2000; total time=   2.8s\n",
            "[CV] END max_depth=5, max_features=sqrt, min_samples_leaf=2, min_samples_split=4, n_estimators=2000; total time=   2.9s\n",
            "[CV] END max_depth=5, max_features=sqrt, min_samples_leaf=2, min_samples_split=6, n_estimators=1200; total time=   1.7s\n",
            "[CV] END max_depth=5, max_features=sqrt, min_samples_leaf=2, min_samples_split=6, n_estimators=1200; total time=   1.7s\n",
            "[CV] END max_depth=5, max_features=sqrt, min_samples_leaf=2, min_samples_split=6, n_estimators=1200; total time=   1.6s\n",
            "[CV] END max_depth=5, max_features=sqrt, min_samples_leaf=2, min_samples_split=6, n_estimators=1200; total time=   1.7s\n",
            "[CV] END max_depth=5, max_features=sqrt, min_samples_leaf=2, min_samples_split=6, n_estimators=1200; total time=   1.7s\n",
            "[CV] END max_depth=5, max_features=sqrt, min_samples_leaf=2, min_samples_split=6, n_estimators=1500; total time=   2.1s\n",
            "[CV] END max_depth=5, max_features=sqrt, min_samples_leaf=2, min_samples_split=6, n_estimators=1500; total time=   2.1s\n",
            "[CV] END max_depth=5, max_features=sqrt, min_samples_leaf=2, min_samples_split=6, n_estimators=1500; total time=   2.1s\n",
            "[CV] END max_depth=5, max_features=sqrt, min_samples_leaf=2, min_samples_split=6, n_estimators=1500; total time=   2.1s\n",
            "[CV] END max_depth=5, max_features=sqrt, min_samples_leaf=2, min_samples_split=6, n_estimators=1500; total time=   2.1s\n",
            "[CV] END max_depth=5, max_features=sqrt, min_samples_leaf=2, min_samples_split=6, n_estimators=2000; total time=   2.8s\n",
            "[CV] END max_depth=5, max_features=sqrt, min_samples_leaf=2, min_samples_split=6, n_estimators=2000; total time=   2.8s\n",
            "[CV] END max_depth=5, max_features=sqrt, min_samples_leaf=2, min_samples_split=6, n_estimators=2000; total time=   2.8s\n",
            "[CV] END max_depth=5, max_features=sqrt, min_samples_leaf=2, min_samples_split=6, n_estimators=2000; total time=   2.8s\n",
            "[CV] END max_depth=5, max_features=sqrt, min_samples_leaf=2, min_samples_split=6, n_estimators=2000; total time=   2.9s\n",
            "[CV] END max_depth=10, max_features=auto, min_samples_leaf=1, min_samples_split=4, n_estimators=1200; total time=   1.7s\n",
            "[CV] END max_depth=10, max_features=auto, min_samples_leaf=1, min_samples_split=4, n_estimators=1200; total time=   1.7s\n",
            "[CV] END max_depth=10, max_features=auto, min_samples_leaf=1, min_samples_split=4, n_estimators=1200; total time=   1.7s\n",
            "[CV] END max_depth=10, max_features=auto, min_samples_leaf=1, min_samples_split=4, n_estimators=1200; total time=   1.7s\n",
            "[CV] END max_depth=10, max_features=auto, min_samples_leaf=1, min_samples_split=4, n_estimators=1200; total time=   1.7s\n",
            "[CV] END max_depth=10, max_features=auto, min_samples_leaf=1, min_samples_split=4, n_estimators=1500; total time=   2.1s\n",
            "[CV] END max_depth=10, max_features=auto, min_samples_leaf=1, min_samples_split=4, n_estimators=1500; total time=   2.1s\n",
            "[CV] END max_depth=10, max_features=auto, min_samples_leaf=1, min_samples_split=4, n_estimators=1500; total time=   2.1s\n",
            "[CV] END max_depth=10, max_features=auto, min_samples_leaf=1, min_samples_split=4, n_estimators=1500; total time=   2.2s\n",
            "[CV] END max_depth=10, max_features=auto, min_samples_leaf=1, min_samples_split=4, n_estimators=1500; total time=   2.1s\n",
            "[CV] END max_depth=10, max_features=auto, min_samples_leaf=1, min_samples_split=4, n_estimators=2000; total time=   2.9s\n",
            "[CV] END max_depth=10, max_features=auto, min_samples_leaf=1, min_samples_split=4, n_estimators=2000; total time=   2.8s\n",
            "[CV] END max_depth=10, max_features=auto, min_samples_leaf=1, min_samples_split=4, n_estimators=2000; total time=   2.8s\n",
            "[CV] END max_depth=10, max_features=auto, min_samples_leaf=1, min_samples_split=4, n_estimators=2000; total time=   2.8s\n",
            "[CV] END max_depth=10, max_features=auto, min_samples_leaf=1, min_samples_split=4, n_estimators=2000; total time=   2.8s\n",
            "[CV] END max_depth=10, max_features=auto, min_samples_leaf=1, min_samples_split=6, n_estimators=1200; total time=   1.7s\n",
            "[CV] END max_depth=10, max_features=auto, min_samples_leaf=1, min_samples_split=6, n_estimators=1200; total time=   1.7s\n",
            "[CV] END max_depth=10, max_features=auto, min_samples_leaf=1, min_samples_split=6, n_estimators=1200; total time=   1.7s\n",
            "[CV] END max_depth=10, max_features=auto, min_samples_leaf=1, min_samples_split=6, n_estimators=1200; total time=   1.7s\n",
            "[CV] END max_depth=10, max_features=auto, min_samples_leaf=1, min_samples_split=6, n_estimators=1200; total time=   1.7s\n",
            "[CV] END max_depth=10, max_features=auto, min_samples_leaf=1, min_samples_split=6, n_estimators=1500; total time=   2.2s\n",
            "[CV] END max_depth=10, max_features=auto, min_samples_leaf=1, min_samples_split=6, n_estimators=1500; total time=   2.1s\n",
            "[CV] END max_depth=10, max_features=auto, min_samples_leaf=1, min_samples_split=6, n_estimators=1500; total time=   2.1s\n",
            "[CV] END max_depth=10, max_features=auto, min_samples_leaf=1, min_samples_split=6, n_estimators=1500; total time=   2.1s\n",
            "[CV] END max_depth=10, max_features=auto, min_samples_leaf=1, min_samples_split=6, n_estimators=1500; total time=   2.1s\n",
            "[CV] END max_depth=10, max_features=auto, min_samples_leaf=1, min_samples_split=6, n_estimators=2000; total time=   2.8s\n",
            "[CV] END max_depth=10, max_features=auto, min_samples_leaf=1, min_samples_split=6, n_estimators=2000; total time=   2.8s\n",
            "[CV] END max_depth=10, max_features=auto, min_samples_leaf=1, min_samples_split=6, n_estimators=2000; total time=   2.9s\n",
            "[CV] END max_depth=10, max_features=auto, min_samples_leaf=1, min_samples_split=6, n_estimators=2000; total time=   2.9s\n",
            "[CV] END max_depth=10, max_features=auto, min_samples_leaf=1, min_samples_split=6, n_estimators=2000; total time=   2.8s\n",
            "[CV] END max_depth=10, max_features=auto, min_samples_leaf=2, min_samples_split=4, n_estimators=1200; total time=   1.7s\n",
            "[CV] END max_depth=10, max_features=auto, min_samples_leaf=2, min_samples_split=4, n_estimators=1200; total time=   1.7s\n",
            "[CV] END max_depth=10, max_features=auto, min_samples_leaf=2, min_samples_split=4, n_estimators=1200; total time=   1.7s\n",
            "[CV] END max_depth=10, max_features=auto, min_samples_leaf=2, min_samples_split=4, n_estimators=1200; total time=   1.7s\n",
            "[CV] END max_depth=10, max_features=auto, min_samples_leaf=2, min_samples_split=4, n_estimators=1200; total time=   1.7s\n",
            "[CV] END max_depth=10, max_features=auto, min_samples_leaf=2, min_samples_split=4, n_estimators=1500; total time=   2.1s\n",
            "[CV] END max_depth=10, max_features=auto, min_samples_leaf=2, min_samples_split=4, n_estimators=1500; total time=   2.1s\n",
            "[CV] END max_depth=10, max_features=auto, min_samples_leaf=2, min_samples_split=4, n_estimators=1500; total time=   2.1s\n",
            "[CV] END max_depth=10, max_features=auto, min_samples_leaf=2, min_samples_split=4, n_estimators=1500; total time=   2.2s\n",
            "[CV] END max_depth=10, max_features=auto, min_samples_leaf=2, min_samples_split=4, n_estimators=1500; total time=   2.1s\n",
            "[CV] END max_depth=10, max_features=auto, min_samples_leaf=2, min_samples_split=4, n_estimators=2000; total time=   2.8s\n",
            "[CV] END max_depth=10, max_features=auto, min_samples_leaf=2, min_samples_split=4, n_estimators=2000; total time=   2.8s\n",
            "[CV] END max_depth=10, max_features=auto, min_samples_leaf=2, min_samples_split=4, n_estimators=2000; total time=   2.8s\n",
            "[CV] END max_depth=10, max_features=auto, min_samples_leaf=2, min_samples_split=4, n_estimators=2000; total time=   2.8s\n",
            "[CV] END max_depth=10, max_features=auto, min_samples_leaf=2, min_samples_split=4, n_estimators=2000; total time=   2.8s\n",
            "[CV] END max_depth=10, max_features=auto, min_samples_leaf=2, min_samples_split=6, n_estimators=1200; total time=   1.7s\n",
            "[CV] END max_depth=10, max_features=auto, min_samples_leaf=2, min_samples_split=6, n_estimators=1200; total time=   1.8s\n",
            "[CV] END max_depth=10, max_features=auto, min_samples_leaf=2, min_samples_split=6, n_estimators=1200; total time=   1.7s\n",
            "[CV] END max_depth=10, max_features=auto, min_samples_leaf=2, min_samples_split=6, n_estimators=1200; total time=   1.7s\n",
            "[CV] END max_depth=10, max_features=auto, min_samples_leaf=2, min_samples_split=6, n_estimators=1200; total time=   1.7s\n",
            "[CV] END max_depth=10, max_features=auto, min_samples_leaf=2, min_samples_split=6, n_estimators=1500; total time=   2.1s\n",
            "[CV] END max_depth=10, max_features=auto, min_samples_leaf=2, min_samples_split=6, n_estimators=1500; total time=   2.1s\n",
            "[CV] END max_depth=10, max_features=auto, min_samples_leaf=2, min_samples_split=6, n_estimators=1500; total time=   2.1s\n",
            "[CV] END max_depth=10, max_features=auto, min_samples_leaf=2, min_samples_split=6, n_estimators=1500; total time=   2.1s\n",
            "[CV] END max_depth=10, max_features=auto, min_samples_leaf=2, min_samples_split=6, n_estimators=1500; total time=   2.1s\n",
            "[CV] END max_depth=10, max_features=auto, min_samples_leaf=2, min_samples_split=6, n_estimators=2000; total time=   2.8s\n",
            "[CV] END max_depth=10, max_features=auto, min_samples_leaf=2, min_samples_split=6, n_estimators=2000; total time=   2.9s\n",
            "[CV] END max_depth=10, max_features=auto, min_samples_leaf=2, min_samples_split=6, n_estimators=2000; total time=   2.8s\n",
            "[CV] END max_depth=10, max_features=auto, min_samples_leaf=2, min_samples_split=6, n_estimators=2000; total time=   2.8s\n",
            "[CV] END max_depth=10, max_features=auto, min_samples_leaf=2, min_samples_split=6, n_estimators=2000; total time=   2.8s\n",
            "[CV] END max_depth=10, max_features=sqrt, min_samples_leaf=1, min_samples_split=4, n_estimators=1200; total time=   1.7s\n",
            "[CV] END max_depth=10, max_features=sqrt, min_samples_leaf=1, min_samples_split=4, n_estimators=1200; total time=   1.7s\n",
            "[CV] END max_depth=10, max_features=sqrt, min_samples_leaf=1, min_samples_split=4, n_estimators=1200; total time=   1.7s\n",
            "[CV] END max_depth=10, max_features=sqrt, min_samples_leaf=1, min_samples_split=4, n_estimators=1200; total time=   1.7s\n",
            "[CV] END max_depth=10, max_features=sqrt, min_samples_leaf=1, min_samples_split=4, n_estimators=1200; total time=   1.7s\n",
            "[CV] END max_depth=10, max_features=sqrt, min_samples_leaf=1, min_samples_split=4, n_estimators=1500; total time=   2.1s\n",
            "[CV] END max_depth=10, max_features=sqrt, min_samples_leaf=1, min_samples_split=4, n_estimators=1500; total time=   2.1s\n",
            "[CV] END max_depth=10, max_features=sqrt, min_samples_leaf=1, min_samples_split=4, n_estimators=1500; total time=   2.1s\n",
            "[CV] END max_depth=10, max_features=sqrt, min_samples_leaf=1, min_samples_split=4, n_estimators=1500; total time=   2.2s\n",
            "[CV] END max_depth=10, max_features=sqrt, min_samples_leaf=1, min_samples_split=4, n_estimators=1500; total time=   2.1s\n",
            "[CV] END max_depth=10, max_features=sqrt, min_samples_leaf=1, min_samples_split=4, n_estimators=2000; total time=   2.8s\n",
            "[CV] END max_depth=10, max_features=sqrt, min_samples_leaf=1, min_samples_split=4, n_estimators=2000; total time=   2.8s\n",
            "[CV] END max_depth=10, max_features=sqrt, min_samples_leaf=1, min_samples_split=4, n_estimators=2000; total time=   2.8s\n",
            "[CV] END max_depth=10, max_features=sqrt, min_samples_leaf=1, min_samples_split=4, n_estimators=2000; total time=   2.8s\n",
            "[CV] END max_depth=10, max_features=sqrt, min_samples_leaf=1, min_samples_split=4, n_estimators=2000; total time=   2.9s\n",
            "[CV] END max_depth=10, max_features=sqrt, min_samples_leaf=1, min_samples_split=6, n_estimators=1200; total time=   1.7s\n",
            "[CV] END max_depth=10, max_features=sqrt, min_samples_leaf=1, min_samples_split=6, n_estimators=1200; total time=   1.7s\n",
            "[CV] END max_depth=10, max_features=sqrt, min_samples_leaf=1, min_samples_split=6, n_estimators=1200; total time=   1.8s\n",
            "[CV] END max_depth=10, max_features=sqrt, min_samples_leaf=1, min_samples_split=6, n_estimators=1200; total time=   1.7s\n",
            "[CV] END max_depth=10, max_features=sqrt, min_samples_leaf=1, min_samples_split=6, n_estimators=1200; total time=   1.7s\n",
            "[CV] END max_depth=10, max_features=sqrt, min_samples_leaf=1, min_samples_split=6, n_estimators=1500; total time=   2.1s\n",
            "[CV] END max_depth=10, max_features=sqrt, min_samples_leaf=1, min_samples_split=6, n_estimators=1500; total time=   2.1s\n",
            "[CV] END max_depth=10, max_features=sqrt, min_samples_leaf=1, min_samples_split=6, n_estimators=1500; total time=   2.1s\n",
            "[CV] END max_depth=10, max_features=sqrt, min_samples_leaf=1, min_samples_split=6, n_estimators=1500; total time=   2.1s\n",
            "[CV] END max_depth=10, max_features=sqrt, min_samples_leaf=1, min_samples_split=6, n_estimators=1500; total time=   2.1s\n",
            "[CV] END max_depth=10, max_features=sqrt, min_samples_leaf=1, min_samples_split=6, n_estimators=2000; total time=   2.8s\n",
            "[CV] END max_depth=10, max_features=sqrt, min_samples_leaf=1, min_samples_split=6, n_estimators=2000; total time=   2.9s\n",
            "[CV] END max_depth=10, max_features=sqrt, min_samples_leaf=1, min_samples_split=6, n_estimators=2000; total time=   3.0s\n",
            "[CV] END max_depth=10, max_features=sqrt, min_samples_leaf=1, min_samples_split=6, n_estimators=2000; total time=   2.8s\n",
            "[CV] END max_depth=10, max_features=sqrt, min_samples_leaf=1, min_samples_split=6, n_estimators=2000; total time=   2.8s\n",
            "[CV] END max_depth=10, max_features=sqrt, min_samples_leaf=2, min_samples_split=4, n_estimators=1200; total time=   1.7s\n",
            "[CV] END max_depth=10, max_features=sqrt, min_samples_leaf=2, min_samples_split=4, n_estimators=1200; total time=   1.7s\n",
            "[CV] END max_depth=10, max_features=sqrt, min_samples_leaf=2, min_samples_split=4, n_estimators=1200; total time=   1.7s\n",
            "[CV] END max_depth=10, max_features=sqrt, min_samples_leaf=2, min_samples_split=4, n_estimators=1200; total time=   1.7s\n",
            "[CV] END max_depth=10, max_features=sqrt, min_samples_leaf=2, min_samples_split=4, n_estimators=1200; total time=   1.7s\n",
            "[CV] END max_depth=10, max_features=sqrt, min_samples_leaf=2, min_samples_split=4, n_estimators=1500; total time=   2.1s\n",
            "[CV] END max_depth=10, max_features=sqrt, min_samples_leaf=2, min_samples_split=4, n_estimators=1500; total time=   2.1s\n",
            "[CV] END max_depth=10, max_features=sqrt, min_samples_leaf=2, min_samples_split=4, n_estimators=1500; total time=   2.2s\n",
            "[CV] END max_depth=10, max_features=sqrt, min_samples_leaf=2, min_samples_split=4, n_estimators=1500; total time=   2.1s\n",
            "[CV] END max_depth=10, max_features=sqrt, min_samples_leaf=2, min_samples_split=4, n_estimators=1500; total time=   2.1s\n",
            "[CV] END max_depth=10, max_features=sqrt, min_samples_leaf=2, min_samples_split=4, n_estimators=2000; total time=   2.8s\n",
            "[CV] END max_depth=10, max_features=sqrt, min_samples_leaf=2, min_samples_split=4, n_estimators=2000; total time=   2.8s\n",
            "[CV] END max_depth=10, max_features=sqrt, min_samples_leaf=2, min_samples_split=4, n_estimators=2000; total time=   2.8s\n",
            "[CV] END max_depth=10, max_features=sqrt, min_samples_leaf=2, min_samples_split=4, n_estimators=2000; total time=   2.8s\n",
            "[CV] END max_depth=10, max_features=sqrt, min_samples_leaf=2, min_samples_split=4, n_estimators=2000; total time=   2.9s\n",
            "[CV] END max_depth=10, max_features=sqrt, min_samples_leaf=2, min_samples_split=6, n_estimators=1200; total time=   1.7s\n",
            "[CV] END max_depth=10, max_features=sqrt, min_samples_leaf=2, min_samples_split=6, n_estimators=1200; total time=   1.7s\n",
            "[CV] END max_depth=10, max_features=sqrt, min_samples_leaf=2, min_samples_split=6, n_estimators=1200; total time=   1.7s\n",
            "[CV] END max_depth=10, max_features=sqrt, min_samples_leaf=2, min_samples_split=6, n_estimators=1200; total time=   1.7s\n",
            "[CV] END max_depth=10, max_features=sqrt, min_samples_leaf=2, min_samples_split=6, n_estimators=1200; total time=   1.7s\n",
            "[CV] END max_depth=10, max_features=sqrt, min_samples_leaf=2, min_samples_split=6, n_estimators=1500; total time=   2.1s\n",
            "[CV] END max_depth=10, max_features=sqrt, min_samples_leaf=2, min_samples_split=6, n_estimators=1500; total time=   2.1s\n",
            "[CV] END max_depth=10, max_features=sqrt, min_samples_leaf=2, min_samples_split=6, n_estimators=1500; total time=   2.1s\n",
            "[CV] END max_depth=10, max_features=sqrt, min_samples_leaf=2, min_samples_split=6, n_estimators=1500; total time=   2.1s\n",
            "[CV] END max_depth=10, max_features=sqrt, min_samples_leaf=2, min_samples_split=6, n_estimators=1500; total time=   2.1s\n",
            "[CV] END max_depth=10, max_features=sqrt, min_samples_leaf=2, min_samples_split=6, n_estimators=2000; total time=   2.9s\n",
            "[CV] END max_depth=10, max_features=sqrt, min_samples_leaf=2, min_samples_split=6, n_estimators=2000; total time=   2.8s\n",
            "[CV] END max_depth=10, max_features=sqrt, min_samples_leaf=2, min_samples_split=6, n_estimators=2000; total time=   2.8s\n",
            "[CV] END max_depth=10, max_features=sqrt, min_samples_leaf=2, min_samples_split=6, n_estimators=2000; total time=   2.8s\n",
            "[CV] END max_depth=10, max_features=sqrt, min_samples_leaf=2, min_samples_split=6, n_estimators=2000; total time=   2.8s\n"
          ]
        }
      ]
    },
    {
      "cell_type": "code",
      "source": [
        "# Max predictions with the GridSearchCV classifier\n",
        "gs_y_preds = gs_clf.predict(X_test)\n",
        "\n",
        "# Evaluate the predictions\n",
        "gs_metrics = evaluate_preds(y_test, gs_y_preds)"
      ],
      "metadata": {
        "id": "n89D2ti-uIEl"
      },
      "execution_count": 276,
      "outputs": []
    },
    {
      "cell_type": "markdown",
      "source": [
        "Lets compare our different models metrics"
      ],
      "metadata": {
        "id": "Vp72Xl_PuN4V"
      }
    },
    {
      "cell_type": "code",
      "source": [
        "compare_metrics = pd.DataFrame({\"baseline\": baseline_metrics,\n",
        "                                \"clf_2\": clf_2_metrics,\n",
        "                                \"random search\": rs_metrics,\n",
        "                                \"grid search\": gs_metrics})\n",
        "compare_metrics.plot.bar(figsize=(10, 8));"
      ],
      "metadata": {
        "colab": {
          "base_uri": "https://localhost:8080/",
          "height": 550
        },
        "id": "qCxG_5JCuYzq",
        "outputId": "9f4b3ec1-3922-4262-bce9-f5aff7aef2df"
      },
      "execution_count": 283,
      "outputs": [
        {
          "output_type": "display_data",
          "data": {
            "text/plain": [
              "<Figure size 720x576 with 1 Axes>"
            ],
            "image/png": "[encoded data removed]"
          },
          "metadata": {}
        }
      ]
    },
    {
      "cell_type": "markdown",
      "source": [
        "## 6.  Saving  and loading trained machine learning models"
      ],
      "metadata": {
        "id": "Y1uMNg61vUro"
      }
    },
    {
      "cell_type": "code",
      "source": [
        "import pickle\n",
        "\n",
        "# Save an existing model to file\n",
        "pickle.dump(gs_clf, open(\"gs_random_forest_model_1.pkl\", \"wb\"))"
      ],
      "metadata": {
        "id": "WAtk8j6cveu_"
      },
      "execution_count": 284,
      "outputs": []
    },
    {
      "cell_type": "code",
      "source": [
        "# Load a saved model\n",
        "loaded_pickle_model = pickle.load(open(\"gs_random_forest_model_1.pkl\", \"rb\"))"
      ],
      "metadata": {
        "id": "pffB_K4UvoOW"
      },
      "execution_count": 285,
      "outputs": []
    },
    {
      "cell_type": "code",
      "source": [
        "# Make predictions and evaluate the loaded model\n",
        "pickle_y_preds = loaded_pickle_model.predict(X_test)\n",
        "evaluate_preds(y_test, pickle_y_preds)"
      ],
      "metadata": {
        "id": "ooZ7W2rZvpmd"
      },
      "execution_count": 286,
      "outputs": []
    }
  ]
}